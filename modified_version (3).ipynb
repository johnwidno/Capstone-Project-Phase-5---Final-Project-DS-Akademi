{
 "cells": [
  {
   "cell_type": "markdown",
   "id": "IpjUlbpAtUKp",
   "metadata": {
    "id": "IpjUlbpAtUKp"
   },
   "source": [
    "# Predictive Modeling: Donor Retention in Non-Profit Organizations"
   ]
  },
  {
   "cell_type": "markdown",
   "id": "kJpw65S7-aTQ",
   "metadata": {
    "id": "kJpw65S7-aTQ"
   },
   "source": [
    "## Introduction\n",
    "Non-Profit Organizations (NPOs) play a vital role in social, educational, and economic development, but some, especially in underdeveloped countries like Haiti, rely heavily on gut instinct and traditional methods to make decisions, which leads to poor donor retention, ineffective communication, weak donor interaction, and unsuccessful campaigns.\n",
    "Since NPOs rely heavily on fundraising, understanding donor behavior is a must, as one of the major challenges NPOs face is maintaining donor engagement and loyalty over time.\n",
    "\n",
    "The primary objective of this project is to showcase the importance of using data to make informed decisions in NPOs.\n",
    "For that purpose, the project aims to analyze donor behavior and categorize donors for a random and fictitious organization. The insights gained throughout this analysis will foster the use of data and machine learning in decision-making, which can therefore help NPOs design more effective fundraising and communication strategies, ultimately enhancing their ability to sustain and grow their initiatives.\n",
    "\n",
    "To achieve this, we use the  [Donor Data](https://www.kaggle.com/datasets/maheshpandey87/donor-data/data) from Kaggle, which comprises six tables detailing donors, donations, campaigns, project results, and engagement activities. These data provide a comprehensive view of donor interactions and contributions, forming the basis for our analysis."
   ]
  },
  {
   "cell_type": "markdown",
   "id": "YAmNdHu8tS4y",
   "metadata": {
    "id": "YAmNdHu8tS4y"
   },
   "source": [
    " ## Methodology\n",
    " #### **Exploratory data Analysis**\n",
    " - data preparation\n",
    " - business understanding\n",
    " - data understanding\n",
    " #### **Major questions**\n",
    "These questions deepen our grasp of the business and data context, steering the analysis toward the NPO’s core concerns and enabling a thorough exploration of donor dynamics.\n",
    "\n",
    "This part is crucial, as it serves as a compass that guides our analysis and helps address stakeholders' concerns or uncover relevant information.\n",
    "#### **Modeling**\n",
    "\"\"'''''\n",
    "#### **Model Evaluation**\n",
    "#### **Recommendations**\n",
    "#### **Contact information**\n",
    "the contact information of the two data scientist who work on this project is provided.\n",
    "\n",
    "NB: The scientist colaborated equally on this project.\n",
    "- name\n",
    "- email\n",
    "- phone number\n",
    "- LinkedIn\n"
   ]
  },
  {
   "cell_type": "markdown",
   "id": "d3e6c625-5dd7-4914-9ea0-4f6565536697",
   "metadata": {
    "id": "d3e6c625-5dd7-4914-9ea0-4f6565536697"
   },
   "source": [
    "## EDA – Exploratory Data Analysis"
   ]
  },
  {
   "cell_type": "markdown",
   "id": "71ab86e1-3070-4e05-9976-545f7634584a",
   "metadata": {
    "id": "71ab86e1-3070-4e05-9976-545f7634584a"
   },
   "source": [
    "### Data preparation"
   ]
  },
  {
   "cell_type": "markdown",
   "id": "_R435S_ch-ti",
   "metadata": {
    "id": "_R435S_ch-ti"
   },
   "source": [
    "**Libraries importation**"
   ]
  },
  {
   "cell_type": "code",
   "execution_count": 7,
   "id": "0985c05b-68a3-4e8e-a9cf-210a3dc5f3c7",
   "metadata": {
    "id": "0985c05b-68a3-4e8e-a9cf-210a3dc5f3c7"
   },
   "outputs": [],
   "source": [
    "import pandas as pd\n",
    "from sklearn.model_selection import train_test_split, GridSearchCV\n",
    "from sklearn.preprocessing import LabelEncoder, OneHotEncoder, StandardScaler\n",
    "from sklearn.metrics import roc_auc_score, f1_score, recall_score, accuracy_score, confusion_matrix, classification_report\n",
    "from sklearn.linear_model import LogisticRegression\n",
    "from sklearn.ensemble import RandomForestClassifier\n",
    "#from xgboost import XGBClassifier\n",
    "\n",
    "import matplotlib.pyplot as plt\n",
    "import seaborn as sns\n",
    "\n",
    "\n",
    "\n",
    "\n",
    "\n",
    "donors= pd.read_csv('Dataset/donors.csv')\n",
    "campaigns= pd.read_csv('Dataset/campaigns.csv')\n",
    "donations= pd.read_csv('Dataset/donations_linked.csv')\n",
    "engagement_history= pd.read_csv('Dataset/engagement_history.csv')\n",
    "engagement_outcomes =pd.read_csv('Dataset/engagement_outcomes.csv')\n",
    "impact= pd.read_csv('Dataset/impact.csv')"
   ]
  },
  {
   "cell_type": "code",
   "execution_count": 8,
   "id": "e526bfbb-9e00-429b-9681-e1f60674fb1d",
   "metadata": {},
   "outputs": [
    {
     "name": "stdout",
     "output_type": "stream",
     "text": [
      "Number of Donors 4891 \n",
      "Number donations 17840 \n",
      "Number of Campaigns 10 \n",
      "Engagement_history 24238 \n",
      "Impact 50\n"
     ]
    }
   ],
   "source": [
    "print(f\"Number of Donors\" ,donors.shape[0] ,\"\\nNumber donations\", donations.shape[0],\n",
    "     \"\\nNumber of Campaigns\", campaigns.shape[0], \"\\nEngagement_history\",engagement_history.shape[0],\"\\nImpact\",impact.shape[0])"
   ]
  },
  {
   "cell_type": "code",
   "execution_count": null,
   "id": "79321589-08f8-4e1e-91c8-abcecd397d87",
   "metadata": {},
   "outputs": [],
   "source": []
  },
  {
   "cell_type": "markdown",
   "id": "300fafad-eae5-4498-8cd5-a9689e4f806d",
   "metadata": {
    "id": "300fafad-eae5-4498-8cd5-a9689e4f806d"
   },
   "source": [
    "**Merging all Tables**"
   ]
  },
  {
   "cell_type": "code",
   "execution_count": 10,
   "id": "101188fb-1996-45f4-b093-6a49fd4a444c",
   "metadata": {
    "id": "101188fb-1996-45f4-b093-6a49fd4a444c"
   },
   "outputs": [],
   "source": [
    "Donors_donations= pd.merge(donors,donations , on='DonorID', how='left')\n",
    "Donors_donations_Campaigns= pd.merge(Donors_donations, campaigns, on='CampaignID', how='left')\n",
    "Donors_donations_Campaigns_engagement_history =pd.merge(Donors_donations_Campaigns, engagement_history, on='DonorID',  how='left')\n",
    "Donors_donations_Campaigns_engagement_history_impacts =pd.merge(Donors_donations_Campaigns_engagement_history,impact, on ='CampaignID', how='left')"
   ]
  },
  {
   "cell_type": "markdown",
   "id": "yRq8YktlnLgW",
   "metadata": {
    "id": "yRq8YktlnLgW"
   },
   "source": [
    "Comment: there are 7 tables in the dataset, we merge 6 of them because donors.csv and donations.csv are the same tables."
   ]
  },
  {
   "cell_type": "code",
   "execution_count": 12,
   "id": "ac1372fd-42a5-419b-a5e0-09cca61000f2",
   "metadata": {
    "id": "ac1372fd-42a5-419b-a5e0-09cca61000f2"
   },
   "outputs": [],
   "source": [
    "# all tables are merged into one\n",
    "df= Donors_donations_Campaigns_engagement_history_impacts\n"
   ]
  },
  {
   "cell_type": "code",
   "execution_count": 13,
   "id": "06128b9b-6680-488e-bd46-7d2141d64495",
   "metadata": {
    "colab": {
     "base_uri": "https://localhost:8080/",
     "height": 313
    },
    "id": "06128b9b-6680-488e-bd46-7d2141d64495",
    "outputId": "1ad720ec-4bfe-4d4e-be8d-7aab12d66909"
   },
   "outputs": [
    {
     "data": {
      "text/html": [
       "<div>\n",
       "<style scoped>\n",
       "    .dataframe tbody tr th:only-of-type {\n",
       "        vertical-align: middle;\n",
       "    }\n",
       "\n",
       "    .dataframe tbody tr th {\n",
       "        vertical-align: top;\n",
       "    }\n",
       "\n",
       "    .dataframe thead th {\n",
       "        text-align: right;\n",
       "    }\n",
       "</style>\n",
       "<table border=\"1\" class=\"dataframe\">\n",
       "  <thead>\n",
       "    <tr style=\"text-align: right;\">\n",
       "      <th></th>\n",
       "      <th>DonorID</th>\n",
       "      <th>Age</th>\n",
       "      <th>Gender</th>\n",
       "      <th>Location</th>\n",
       "      <th>JoinDate</th>\n",
       "      <th>DonationID</th>\n",
       "      <th>DonationDate</th>\n",
       "      <th>Amount</th>\n",
       "      <th>CampaignID</th>\n",
       "      <th>CampaignName</th>\n",
       "      <th>StartDate</th>\n",
       "      <th>EndDate</th>\n",
       "      <th>TargetAmount</th>\n",
       "      <th>ActualAmount</th>\n",
       "      <th>Channel</th>\n",
       "      <th>Date</th>\n",
       "      <th>EngagementOutcome</th>\n",
       "      <th>ImpactType</th>\n",
       "      <th>Value</th>\n",
       "      <th>Cost</th>\n",
       "    </tr>\n",
       "  </thead>\n",
       "  <tbody>\n",
       "    <tr>\n",
       "      <th>0</th>\n",
       "      <td>DNR00001</td>\n",
       "      <td>56</td>\n",
       "      <td>Male</td>\n",
       "      <td>QLD</td>\n",
       "      <td>2020-10-03 22:59:27.552825</td>\n",
       "      <td>DNT002656</td>\n",
       "      <td>2015-06-16</td>\n",
       "      <td>124.99</td>\n",
       "      <td>CAMP005</td>\n",
       "      <td>Youth Initiative 005</td>\n",
       "      <td>59:27.6</td>\n",
       "      <td>59:27.6</td>\n",
       "      <td>54063.32</td>\n",
       "      <td>62346.29</td>\n",
       "      <td>Social Media</td>\n",
       "      <td>27/12/2022</td>\n",
       "      <td>Not Reached</td>\n",
       "      <td>Workshops Delivered</td>\n",
       "      <td>31.0</td>\n",
       "      <td>100.0</td>\n",
       "    </tr>\n",
       "    <tr>\n",
       "      <th>1</th>\n",
       "      <td>DNR00001</td>\n",
       "      <td>56</td>\n",
       "      <td>Male</td>\n",
       "      <td>QLD</td>\n",
       "      <td>2020-10-03 22:59:27.552825</td>\n",
       "      <td>DNT002656</td>\n",
       "      <td>2015-06-16</td>\n",
       "      <td>124.99</td>\n",
       "      <td>CAMP005</td>\n",
       "      <td>Youth Initiative 005</td>\n",
       "      <td>59:27.6</td>\n",
       "      <td>59:27.6</td>\n",
       "      <td>54063.32</td>\n",
       "      <td>62346.29</td>\n",
       "      <td>Social Media</td>\n",
       "      <td>27/12/2022</td>\n",
       "      <td>Not Reached</td>\n",
       "      <td>Youth Reached</td>\n",
       "      <td>851.0</td>\n",
       "      <td>25.0</td>\n",
       "    </tr>\n",
       "    <tr>\n",
       "      <th>2</th>\n",
       "      <td>DNR00001</td>\n",
       "      <td>56</td>\n",
       "      <td>Male</td>\n",
       "      <td>QLD</td>\n",
       "      <td>2020-10-03 22:59:27.552825</td>\n",
       "      <td>DNT002656</td>\n",
       "      <td>2015-06-16</td>\n",
       "      <td>124.99</td>\n",
       "      <td>CAMP005</td>\n",
       "      <td>Youth Initiative 005</td>\n",
       "      <td>59:27.6</td>\n",
       "      <td>59:27.6</td>\n",
       "      <td>54063.32</td>\n",
       "      <td>62346.29</td>\n",
       "      <td>Social Media</td>\n",
       "      <td>27/12/2022</td>\n",
       "      <td>Not Reached</td>\n",
       "      <td>Volunteers Engaged</td>\n",
       "      <td>450.0</td>\n",
       "      <td>25.0</td>\n",
       "    </tr>\n",
       "    <tr>\n",
       "      <th>3</th>\n",
       "      <td>DNR00001</td>\n",
       "      <td>56</td>\n",
       "      <td>Male</td>\n",
       "      <td>QLD</td>\n",
       "      <td>2020-10-03 22:59:27.552825</td>\n",
       "      <td>DNT002656</td>\n",
       "      <td>2015-06-16</td>\n",
       "      <td>124.99</td>\n",
       "      <td>CAMP005</td>\n",
       "      <td>Youth Initiative 005</td>\n",
       "      <td>59:27.6</td>\n",
       "      <td>59:27.6</td>\n",
       "      <td>54063.32</td>\n",
       "      <td>62346.29</td>\n",
       "      <td>Social Media</td>\n",
       "      <td>27/12/2022</td>\n",
       "      <td>Not Reached</td>\n",
       "      <td>Training Sessions</td>\n",
       "      <td>100.0</td>\n",
       "      <td>75.0</td>\n",
       "    </tr>\n",
       "    <tr>\n",
       "      <th>4</th>\n",
       "      <td>DNR00001</td>\n",
       "      <td>56</td>\n",
       "      <td>Male</td>\n",
       "      <td>QLD</td>\n",
       "      <td>2020-10-03 22:59:27.552825</td>\n",
       "      <td>DNT002656</td>\n",
       "      <td>2015-06-16</td>\n",
       "      <td>124.99</td>\n",
       "      <td>CAMP005</td>\n",
       "      <td>Youth Initiative 005</td>\n",
       "      <td>59:27.6</td>\n",
       "      <td>59:27.6</td>\n",
       "      <td>54063.32</td>\n",
       "      <td>62346.29</td>\n",
       "      <td>Social Media</td>\n",
       "      <td>27/12/2022</td>\n",
       "      <td>Not Reached</td>\n",
       "      <td>Mentorship Hours</td>\n",
       "      <td>406.0</td>\n",
       "      <td>35.0</td>\n",
       "    </tr>\n",
       "  </tbody>\n",
       "</table>\n",
       "</div>"
      ],
      "text/plain": [
       "    DonorID  Age Gender Location                    JoinDate DonationID  \\\n",
       "0  DNR00001   56   Male      QLD  2020-10-03 22:59:27.552825  DNT002656   \n",
       "1  DNR00001   56   Male      QLD  2020-10-03 22:59:27.552825  DNT002656   \n",
       "2  DNR00001   56   Male      QLD  2020-10-03 22:59:27.552825  DNT002656   \n",
       "3  DNR00001   56   Male      QLD  2020-10-03 22:59:27.552825  DNT002656   \n",
       "4  DNR00001   56   Male      QLD  2020-10-03 22:59:27.552825  DNT002656   \n",
       "\n",
       "  DonationDate  Amount CampaignID          CampaignName StartDate  EndDate  \\\n",
       "0   2015-06-16  124.99    CAMP005  Youth Initiative 005   59:27.6  59:27.6   \n",
       "1   2015-06-16  124.99    CAMP005  Youth Initiative 005   59:27.6  59:27.6   \n",
       "2   2015-06-16  124.99    CAMP005  Youth Initiative 005   59:27.6  59:27.6   \n",
       "3   2015-06-16  124.99    CAMP005  Youth Initiative 005   59:27.6  59:27.6   \n",
       "4   2015-06-16  124.99    CAMP005  Youth Initiative 005   59:27.6  59:27.6   \n",
       "\n",
       "   TargetAmount  ActualAmount       Channel        Date EngagementOutcome  \\\n",
       "0      54063.32      62346.29  Social Media  27/12/2022       Not Reached   \n",
       "1      54063.32      62346.29  Social Media  27/12/2022       Not Reached   \n",
       "2      54063.32      62346.29  Social Media  27/12/2022       Not Reached   \n",
       "3      54063.32      62346.29  Social Media  27/12/2022       Not Reached   \n",
       "4      54063.32      62346.29  Social Media  27/12/2022       Not Reached   \n",
       "\n",
       "            ImpactType  Value   Cost  \n",
       "0  Workshops Delivered   31.0  100.0  \n",
       "1        Youth Reached  851.0   25.0  \n",
       "2   Volunteers Engaged  450.0   25.0  \n",
       "3    Training Sessions  100.0   75.0  \n",
       "4     Mentorship Hours  406.0   35.0  "
      ]
     },
     "execution_count": 13,
     "metadata": {},
     "output_type": "execute_result"
    }
   ],
   "source": [
    "# the merged tables\n",
    "df.head()\n"
   ]
  },
  {
   "cell_type": "code",
   "execution_count": 14,
   "id": "df37b795-77f6-49e1-b0cf-955161c1e9a5",
   "metadata": {},
   "outputs": [
    {
     "name": "stdout",
     "output_type": "stream",
     "text": [
      "Number of Records 440083\n"
     ]
    }
   ],
   "source": [
    "print( 'Number of Records',df.shape[0])"
   ]
  },
  {
   "cell_type": "markdown",
   "id": "pDsEqVw1uE-8",
   "metadata": {
    "id": "pDsEqVw1uE-8"
   },
   "source": [
    "**Check for null or missing values**"
   ]
  },
  {
   "cell_type": "code",
   "execution_count": 16,
   "id": "73ab93dd-8088-4514-b30f-4fb48175ba28",
   "metadata": {},
   "outputs": [
    {
     "data": {
      "text/plain": [
       "StartDate            638\n",
       "CampaignID           638\n",
       "Value                638\n",
       "ImpactType           638\n",
       "ActualAmount         638\n",
       "TargetAmount         638\n",
       "EndDate              638\n",
       "CampaignName         638\n",
       "Cost                 638\n",
       "Amount               638\n",
       "DonationDate         638\n",
       "DonationID           638\n",
       "Age                    0\n",
       "JoinDate               0\n",
       "Channel                0\n",
       "Date                   0\n",
       "EngagementOutcome      0\n",
       "Location               0\n",
       "Gender                 0\n",
       "DonorID                0\n",
       "dtype: int64"
      ]
     },
     "execution_count": 16,
     "metadata": {},
     "output_type": "execute_result"
    }
   ],
   "source": [
    "df.isnull().sum().sort_values(ascending=False)"
   ]
  },
  {
   "cell_type": "code",
   "execution_count": 17,
   "id": "a714f3ff-7b53-4831-aa2a-303da5391385",
   "metadata": {
    "id": "a714f3ff-7b53-4831-aa2a-303da5391385"
   },
   "outputs": [],
   "source": [
    "# drop rows with null values\n",
    "df[df.isnull().any(axis=1)]\n",
    "df = df.dropna(subset=['DonationID'])"
   ]
  },
  {
   "cell_type": "markdown",
   "id": "k6SPEIPCu-WK",
   "metadata": {
    "id": "k6SPEIPCu-WK"
   },
   "source": [
    "**Dealing with Duplicates values**"
   ]
  },
  {
   "cell_type": "code",
   "execution_count": 19,
   "id": "6744d8d5-de4e-4ac3-b67b-686983b86f08",
   "metadata": {
    "colab": {
     "base_uri": "https://localhost:8080/"
    },
    "id": "6744d8d5-de4e-4ac3-b67b-686983b86f08",
    "outputId": "1f8f3d69-426d-4116-8b93-3a0ff996e4e1"
   },
   "outputs": [
    {
     "name": "stdout",
     "output_type": "stream",
     "text": [
      "Number of duplicate rows before dropping: 205\n",
      "Number of duplicate rows after dropping: 0\n"
     ]
    }
   ],
   "source": [
    "# drop rows with duplicates\n",
    "duplicates = df[df.duplicated()]\n",
    "print(\"Number of duplicate rows before dropping:\", duplicates.shape[0])\n",
    "df = df.drop_duplicates()\n",
    "print(\"Number of duplicate rows after dropping:\", df.duplicated().sum())\n",
    "# Dropping rows duplicate donation ID\n",
    "df = df.drop_duplicates(subset=['DonationID'])"
   ]
  },
  {
   "cell_type": "markdown",
   "id": "iBNvmTxiQlkv",
   "metadata": {
    "id": "iBNvmTxiQlkv"
   },
   "source": [
    "Comment: Dropping duplicated DonationID rows is a must since we don't want to consider the same donation many time, which would biased our analysis."
   ]
  },
  {
   "cell_type": "code",
   "execution_count": 21,
   "id": "137846c1-0045-49c3-88d9-72dd5e488cec",
   "metadata": {
    "id": "137846c1-0045-49c3-88d9-72dd5e488cec"
   },
   "outputs": [
    {
     "data": {
      "text/plain": [
       "DonorID              0\n",
       "ImpactType           0\n",
       "EngagementOutcome    0\n",
       "Date                 0\n",
       "Channel              0\n",
       "ActualAmount         0\n",
       "TargetAmount         0\n",
       "EndDate              0\n",
       "StartDate            0\n",
       "CampaignName         0\n",
       "CampaignID           0\n",
       "Amount               0\n",
       "DonationDate         0\n",
       "DonationID           0\n",
       "JoinDate             0\n",
       "Location             0\n",
       "Gender               0\n",
       "Age                  0\n",
       "Value                0\n",
       "Cost                 0\n",
       "dtype: int64"
      ]
     },
     "execution_count": 21,
     "metadata": {},
     "output_type": "execute_result"
    }
   ],
   "source": [
    "\n",
    " df.isnull().sum().sort_values()"
   ]
  },
  {
   "cell_type": "markdown",
   "id": "48X_fFDkwG4J",
   "metadata": {
    "id": "48X_fFDkwG4J"
   },
   "source": [
    "**Reformating the dataframe**"
   ]
  },
  {
   "cell_type": "code",
   "execution_count": 23,
   "id": "lGyjbQahmeLH",
   "metadata": {
    "colab": {
     "base_uri": "https://localhost:8080/",
     "height": 313
    },
    "id": "lGyjbQahmeLH",
    "outputId": "2da4f2f6-fd93-4ae9-ac94-c7766483dcbd"
   },
   "outputs": [
    {
     "data": {
      "text/html": [
       "<div>\n",
       "<style scoped>\n",
       "    .dataframe tbody tr th:only-of-type {\n",
       "        vertical-align: middle;\n",
       "    }\n",
       "\n",
       "    .dataframe tbody tr th {\n",
       "        vertical-align: top;\n",
       "    }\n",
       "\n",
       "    .dataframe thead th {\n",
       "        text-align: right;\n",
       "    }\n",
       "</style>\n",
       "<table border=\"1\" class=\"dataframe\">\n",
       "  <thead>\n",
       "    <tr style=\"text-align: right;\">\n",
       "      <th></th>\n",
       "      <th>DonorID</th>\n",
       "      <th>Age</th>\n",
       "      <th>Gender</th>\n",
       "      <th>Location</th>\n",
       "      <th>JoinDate</th>\n",
       "      <th>DonationID</th>\n",
       "      <th>DonationDate</th>\n",
       "      <th>Amount</th>\n",
       "      <th>CampaignID</th>\n",
       "      <th>CampaignName</th>\n",
       "      <th>StartDate</th>\n",
       "      <th>EndDate</th>\n",
       "      <th>TargetAmount</th>\n",
       "      <th>ActualAmount</th>\n",
       "      <th>Channel</th>\n",
       "      <th>Date</th>\n",
       "      <th>EngagementOutcome</th>\n",
       "      <th>ImpactType</th>\n",
       "      <th>Value</th>\n",
       "      <th>Cost</th>\n",
       "    </tr>\n",
       "  </thead>\n",
       "  <tbody>\n",
       "    <tr>\n",
       "      <th>0</th>\n",
       "      <td>DNR00001</td>\n",
       "      <td>56</td>\n",
       "      <td>Male</td>\n",
       "      <td>QLD</td>\n",
       "      <td>2020-10-03 22:59:27.552825</td>\n",
       "      <td>DNT002656</td>\n",
       "      <td>2015-06-16</td>\n",
       "      <td>124.99</td>\n",
       "      <td>CAMP005</td>\n",
       "      <td>Youth Initiative 005</td>\n",
       "      <td>59:27.6</td>\n",
       "      <td>59:27.6</td>\n",
       "      <td>54063.32</td>\n",
       "      <td>62346.29</td>\n",
       "      <td>Social Media</td>\n",
       "      <td>27/12/2022</td>\n",
       "      <td>Not Reached</td>\n",
       "      <td>Workshops Delivered</td>\n",
       "      <td>31.0</td>\n",
       "      <td>100.0</td>\n",
       "    </tr>\n",
       "    <tr>\n",
       "      <th>45</th>\n",
       "      <td>DNR00001</td>\n",
       "      <td>56</td>\n",
       "      <td>Male</td>\n",
       "      <td>QLD</td>\n",
       "      <td>2020-10-03 22:59:27.552825</td>\n",
       "      <td>DNT011160</td>\n",
       "      <td>2021-11-20</td>\n",
       "      <td>124.46</td>\n",
       "      <td>CAMP003</td>\n",
       "      <td>Youth Initiative 003</td>\n",
       "      <td>59:27.6</td>\n",
       "      <td>59:27.6</td>\n",
       "      <td>38582.41</td>\n",
       "      <td>33179.39</td>\n",
       "      <td>Social Media</td>\n",
       "      <td>27/12/2022</td>\n",
       "      <td>Not Reached</td>\n",
       "      <td>Workshops Delivered</td>\n",
       "      <td>19.0</td>\n",
       "      <td>100.0</td>\n",
       "    </tr>\n",
       "    <tr>\n",
       "      <th>90</th>\n",
       "      <td>DNR00001</td>\n",
       "      <td>56</td>\n",
       "      <td>Male</td>\n",
       "      <td>QLD</td>\n",
       "      <td>2020-10-03 22:59:27.552825</td>\n",
       "      <td>DNT012124</td>\n",
       "      <td>2017-09-14</td>\n",
       "      <td>128.22</td>\n",
       "      <td>CAMP010</td>\n",
       "      <td>Youth Initiative 010</td>\n",
       "      <td>59:27.6</td>\n",
       "      <td>59:27.6</td>\n",
       "      <td>50455.82</td>\n",
       "      <td>54176.99</td>\n",
       "      <td>Social Media</td>\n",
       "      <td>27/12/2022</td>\n",
       "      <td>Not Reached</td>\n",
       "      <td>Workshops Delivered</td>\n",
       "      <td>40.0</td>\n",
       "      <td>100.0</td>\n",
       "    </tr>\n",
       "    <tr>\n",
       "      <th>135</th>\n",
       "      <td>DNR00002</td>\n",
       "      <td>25</td>\n",
       "      <td>Male</td>\n",
       "      <td>ACT</td>\n",
       "      <td>2015-11-01 22:59:27.552825</td>\n",
       "      <td>DNT001904</td>\n",
       "      <td>2020-04-17</td>\n",
       "      <td>175.96</td>\n",
       "      <td>CAMP008</td>\n",
       "      <td>Youth Initiative 008</td>\n",
       "      <td>59:27.6</td>\n",
       "      <td>59:27.6</td>\n",
       "      <td>98200.79</td>\n",
       "      <td>102566.77</td>\n",
       "      <td>Newsletter</td>\n",
       "      <td>9/09/2023</td>\n",
       "      <td>Not Reached</td>\n",
       "      <td>Workshops Delivered</td>\n",
       "      <td>85.0</td>\n",
       "      <td>100.0</td>\n",
       "    </tr>\n",
       "    <tr>\n",
       "      <th>150</th>\n",
       "      <td>DNR00002</td>\n",
       "      <td>25</td>\n",
       "      <td>Male</td>\n",
       "      <td>ACT</td>\n",
       "      <td>2015-11-01 22:59:27.552825</td>\n",
       "      <td>DNT011974</td>\n",
       "      <td>2017-01-19</td>\n",
       "      <td>35.31</td>\n",
       "      <td>CAMP006</td>\n",
       "      <td>Youth Initiative 006</td>\n",
       "      <td>59:27.6</td>\n",
       "      <td>59:27.6</td>\n",
       "      <td>33193.34</td>\n",
       "      <td>39159.84</td>\n",
       "      <td>Newsletter</td>\n",
       "      <td>9/09/2023</td>\n",
       "      <td>Not Reached</td>\n",
       "      <td>Workshops Delivered</td>\n",
       "      <td>25.0</td>\n",
       "      <td>100.0</td>\n",
       "    </tr>\n",
       "  </tbody>\n",
       "</table>\n",
       "</div>"
      ],
      "text/plain": [
       "      DonorID  Age Gender Location                    JoinDate DonationID  \\\n",
       "0    DNR00001   56   Male      QLD  2020-10-03 22:59:27.552825  DNT002656   \n",
       "45   DNR00001   56   Male      QLD  2020-10-03 22:59:27.552825  DNT011160   \n",
       "90   DNR00001   56   Male      QLD  2020-10-03 22:59:27.552825  DNT012124   \n",
       "135  DNR00002   25   Male      ACT  2015-11-01 22:59:27.552825  DNT001904   \n",
       "150  DNR00002   25   Male      ACT  2015-11-01 22:59:27.552825  DNT011974   \n",
       "\n",
       "    DonationDate  Amount CampaignID          CampaignName StartDate  EndDate  \\\n",
       "0     2015-06-16  124.99    CAMP005  Youth Initiative 005   59:27.6  59:27.6   \n",
       "45    2021-11-20  124.46    CAMP003  Youth Initiative 003   59:27.6  59:27.6   \n",
       "90    2017-09-14  128.22    CAMP010  Youth Initiative 010   59:27.6  59:27.6   \n",
       "135   2020-04-17  175.96    CAMP008  Youth Initiative 008   59:27.6  59:27.6   \n",
       "150   2017-01-19   35.31    CAMP006  Youth Initiative 006   59:27.6  59:27.6   \n",
       "\n",
       "     TargetAmount  ActualAmount       Channel        Date EngagementOutcome  \\\n",
       "0        54063.32      62346.29  Social Media  27/12/2022       Not Reached   \n",
       "45       38582.41      33179.39  Social Media  27/12/2022       Not Reached   \n",
       "90       50455.82      54176.99  Social Media  27/12/2022       Not Reached   \n",
       "135      98200.79     102566.77    Newsletter   9/09/2023       Not Reached   \n",
       "150      33193.34      39159.84    Newsletter   9/09/2023       Not Reached   \n",
       "\n",
       "              ImpactType  Value   Cost  \n",
       "0    Workshops Delivered   31.0  100.0  \n",
       "45   Workshops Delivered   19.0  100.0  \n",
       "90   Workshops Delivered   40.0  100.0  \n",
       "135  Workshops Delivered   85.0  100.0  \n",
       "150  Workshops Delivered   25.0  100.0  "
      ]
     },
     "execution_count": 23,
     "metadata": {},
     "output_type": "execute_result"
    }
   ],
   "source": [
    "df.head()"
   ]
  },
  {
   "cell_type": "markdown",
   "id": "1d57bc6c-c92b-497a-9faa-609f6a091ff4",
   "metadata": {
    "id": "1d57bc6c-c92b-497a-9faa-609f6a091ff4"
   },
   "source": [
    "**Table's shape**"
   ]
  },
  {
   "cell_type": "code",
   "execution_count": 25,
   "id": "30570790-6421-4fdb-97ed-d78e2bba9a3d",
   "metadata": {},
   "outputs": [
    {
     "data": {
      "text/plain": [
       "(17840, 20)"
      ]
     },
     "execution_count": 25,
     "metadata": {},
     "output_type": "execute_result"
    }
   ],
   "source": [
    "# Run the code in this cell to see table after cleaning\n",
    "df.shape"
   ]
  },
  {
   "cell_type": "markdown",
   "id": "bc44c25c-1955-4740-8733-2d5bb5930188",
   "metadata": {},
   "source": [
    "**Fix the dates Format**"
   ]
  },
  {
   "cell_type": "code",
   "execution_count": 27,
   "id": "z8DrmuyQL6u8",
   "metadata": {
    "id": "z8DrmuyQL6u8"
   },
   "outputs": [
    {
     "name": "stderr",
     "output_type": "stream",
     "text": [
      "C:\\Users\\teach\\AppData\\Local\\Temp\\ipykernel_2148\\2295606328.py:2: UserWarning: Parsing dates in %d/%m/%Y format when dayfirst=False (the default) was specified. Pass `dayfirst=True` or specify a format to silence this warning.\n",
      "  df['Date'] = pd.to_datetime(df['Date'])\n"
     ]
    },
    {
     "data": {
      "text/html": [
       "<div>\n",
       "<style scoped>\n",
       "    .dataframe tbody tr th:only-of-type {\n",
       "        vertical-align: middle;\n",
       "    }\n",
       "\n",
       "    .dataframe tbody tr th {\n",
       "        vertical-align: top;\n",
       "    }\n",
       "\n",
       "    .dataframe thead th {\n",
       "        text-align: right;\n",
       "    }\n",
       "</style>\n",
       "<table border=\"1\" class=\"dataframe\">\n",
       "  <thead>\n",
       "    <tr style=\"text-align: right;\">\n",
       "      <th></th>\n",
       "      <th>DonorID</th>\n",
       "      <th>Age</th>\n",
       "      <th>Gender</th>\n",
       "      <th>Location</th>\n",
       "      <th>JoinDate</th>\n",
       "      <th>DonationID</th>\n",
       "      <th>DonationDate</th>\n",
       "      <th>Amount</th>\n",
       "      <th>CampaignID</th>\n",
       "      <th>CampaignName</th>\n",
       "      <th>StartDate</th>\n",
       "      <th>EndDate</th>\n",
       "      <th>TargetAmount</th>\n",
       "      <th>ActualAmount</th>\n",
       "      <th>Channel</th>\n",
       "      <th>Date</th>\n",
       "      <th>EngagementOutcome</th>\n",
       "      <th>ImpactType</th>\n",
       "      <th>Value</th>\n",
       "      <th>Cost</th>\n",
       "    </tr>\n",
       "  </thead>\n",
       "  <tbody>\n",
       "    <tr>\n",
       "      <th>0</th>\n",
       "      <td>DNR00001</td>\n",
       "      <td>56</td>\n",
       "      <td>Male</td>\n",
       "      <td>QLD</td>\n",
       "      <td>2020-10-03 22:59:27.552825</td>\n",
       "      <td>DNT002656</td>\n",
       "      <td>2015-06-16</td>\n",
       "      <td>124.99</td>\n",
       "      <td>CAMP005</td>\n",
       "      <td>Youth Initiative 005</td>\n",
       "      <td>59:27.6</td>\n",
       "      <td>59:27.6</td>\n",
       "      <td>54063.32</td>\n",
       "      <td>62346.29</td>\n",
       "      <td>Social Media</td>\n",
       "      <td>2022-12-27</td>\n",
       "      <td>Not Reached</td>\n",
       "      <td>Workshops Delivered</td>\n",
       "      <td>31.0</td>\n",
       "      <td>100.0</td>\n",
       "    </tr>\n",
       "    <tr>\n",
       "      <th>45</th>\n",
       "      <td>DNR00001</td>\n",
       "      <td>56</td>\n",
       "      <td>Male</td>\n",
       "      <td>QLD</td>\n",
       "      <td>2020-10-03 22:59:27.552825</td>\n",
       "      <td>DNT011160</td>\n",
       "      <td>2021-11-20</td>\n",
       "      <td>124.46</td>\n",
       "      <td>CAMP003</td>\n",
       "      <td>Youth Initiative 003</td>\n",
       "      <td>59:27.6</td>\n",
       "      <td>59:27.6</td>\n",
       "      <td>38582.41</td>\n",
       "      <td>33179.39</td>\n",
       "      <td>Social Media</td>\n",
       "      <td>2022-12-27</td>\n",
       "      <td>Not Reached</td>\n",
       "      <td>Workshops Delivered</td>\n",
       "      <td>19.0</td>\n",
       "      <td>100.0</td>\n",
       "    </tr>\n",
       "    <tr>\n",
       "      <th>90</th>\n",
       "      <td>DNR00001</td>\n",
       "      <td>56</td>\n",
       "      <td>Male</td>\n",
       "      <td>QLD</td>\n",
       "      <td>2020-10-03 22:59:27.552825</td>\n",
       "      <td>DNT012124</td>\n",
       "      <td>2017-09-14</td>\n",
       "      <td>128.22</td>\n",
       "      <td>CAMP010</td>\n",
       "      <td>Youth Initiative 010</td>\n",
       "      <td>59:27.6</td>\n",
       "      <td>59:27.6</td>\n",
       "      <td>50455.82</td>\n",
       "      <td>54176.99</td>\n",
       "      <td>Social Media</td>\n",
       "      <td>2022-12-27</td>\n",
       "      <td>Not Reached</td>\n",
       "      <td>Workshops Delivered</td>\n",
       "      <td>40.0</td>\n",
       "      <td>100.0</td>\n",
       "    </tr>\n",
       "    <tr>\n",
       "      <th>135</th>\n",
       "      <td>DNR00002</td>\n",
       "      <td>25</td>\n",
       "      <td>Male</td>\n",
       "      <td>ACT</td>\n",
       "      <td>2015-11-01 22:59:27.552825</td>\n",
       "      <td>DNT001904</td>\n",
       "      <td>2020-04-17</td>\n",
       "      <td>175.96</td>\n",
       "      <td>CAMP008</td>\n",
       "      <td>Youth Initiative 008</td>\n",
       "      <td>59:27.6</td>\n",
       "      <td>59:27.6</td>\n",
       "      <td>98200.79</td>\n",
       "      <td>102566.77</td>\n",
       "      <td>Newsletter</td>\n",
       "      <td>2023-09-09</td>\n",
       "      <td>Not Reached</td>\n",
       "      <td>Workshops Delivered</td>\n",
       "      <td>85.0</td>\n",
       "      <td>100.0</td>\n",
       "    </tr>\n",
       "    <tr>\n",
       "      <th>150</th>\n",
       "      <td>DNR00002</td>\n",
       "      <td>25</td>\n",
       "      <td>Male</td>\n",
       "      <td>ACT</td>\n",
       "      <td>2015-11-01 22:59:27.552825</td>\n",
       "      <td>DNT011974</td>\n",
       "      <td>2017-01-19</td>\n",
       "      <td>35.31</td>\n",
       "      <td>CAMP006</td>\n",
       "      <td>Youth Initiative 006</td>\n",
       "      <td>59:27.6</td>\n",
       "      <td>59:27.6</td>\n",
       "      <td>33193.34</td>\n",
       "      <td>39159.84</td>\n",
       "      <td>Newsletter</td>\n",
       "      <td>2023-09-09</td>\n",
       "      <td>Not Reached</td>\n",
       "      <td>Workshops Delivered</td>\n",
       "      <td>25.0</td>\n",
       "      <td>100.0</td>\n",
       "    </tr>\n",
       "  </tbody>\n",
       "</table>\n",
       "</div>"
      ],
      "text/plain": [
       "      DonorID  Age Gender Location                   JoinDate DonationID  \\\n",
       "0    DNR00001   56   Male      QLD 2020-10-03 22:59:27.552825  DNT002656   \n",
       "45   DNR00001   56   Male      QLD 2020-10-03 22:59:27.552825  DNT011160   \n",
       "90   DNR00001   56   Male      QLD 2020-10-03 22:59:27.552825  DNT012124   \n",
       "135  DNR00002   25   Male      ACT 2015-11-01 22:59:27.552825  DNT001904   \n",
       "150  DNR00002   25   Male      ACT 2015-11-01 22:59:27.552825  DNT011974   \n",
       "\n",
       "    DonationDate  Amount CampaignID          CampaignName StartDate  EndDate  \\\n",
       "0     2015-06-16  124.99    CAMP005  Youth Initiative 005   59:27.6  59:27.6   \n",
       "45    2021-11-20  124.46    CAMP003  Youth Initiative 003   59:27.6  59:27.6   \n",
       "90    2017-09-14  128.22    CAMP010  Youth Initiative 010   59:27.6  59:27.6   \n",
       "135   2020-04-17  175.96    CAMP008  Youth Initiative 008   59:27.6  59:27.6   \n",
       "150   2017-01-19   35.31    CAMP006  Youth Initiative 006   59:27.6  59:27.6   \n",
       "\n",
       "     TargetAmount  ActualAmount       Channel       Date EngagementOutcome  \\\n",
       "0        54063.32      62346.29  Social Media 2022-12-27       Not Reached   \n",
       "45       38582.41      33179.39  Social Media 2022-12-27       Not Reached   \n",
       "90       50455.82      54176.99  Social Media 2022-12-27       Not Reached   \n",
       "135      98200.79     102566.77    Newsletter 2023-09-09       Not Reached   \n",
       "150      33193.34      39159.84    Newsletter 2023-09-09       Not Reached   \n",
       "\n",
       "              ImpactType  Value   Cost  \n",
       "0    Workshops Delivered   31.0  100.0  \n",
       "45   Workshops Delivered   19.0  100.0  \n",
       "90   Workshops Delivered   40.0  100.0  \n",
       "135  Workshops Delivered   85.0  100.0  \n",
       "150  Workshops Delivered   25.0  100.0  "
      ]
     },
     "execution_count": 27,
     "metadata": {},
     "output_type": "execute_result"
    }
   ],
   "source": [
    "df['JoinDate'] = pd.to_datetime(df['JoinDate'])\n",
    "df['Date'] = pd.to_datetime(df['Date'])\n",
    "# Reformater en chaîne de caractères avec\n",
    "\n",
    "df.head()\n"
   ]
  },
  {
   "cell_type": "markdown",
   "id": "585f9eb9-6013-4a0c-b213-a96f0e958b78",
   "metadata": {},
   "source": [
    "**Remove unneccesary columns**"
   ]
  },
  {
   "cell_type": "code",
   "execution_count": 29,
   "id": "75c24bf8-cebe-4bd1-ac9f-71fa0aa61988",
   "metadata": {},
   "outputs": [],
   "source": [
    "df = df.drop(['StartDate', 'EndDate'], axis=1)"
   ]
  },
  {
   "cell_type": "code",
   "execution_count": 30,
   "id": "88d5b244-18f3-4c75-878a-ab31d5572730",
   "metadata": {},
   "outputs": [
    {
     "data": {
      "text/html": [
       "<div>\n",
       "<style scoped>\n",
       "    .dataframe tbody tr th:only-of-type {\n",
       "        vertical-align: middle;\n",
       "    }\n",
       "\n",
       "    .dataframe tbody tr th {\n",
       "        vertical-align: top;\n",
       "    }\n",
       "\n",
       "    .dataframe thead th {\n",
       "        text-align: right;\n",
       "    }\n",
       "</style>\n",
       "<table border=\"1\" class=\"dataframe\">\n",
       "  <thead>\n",
       "    <tr style=\"text-align: right;\">\n",
       "      <th></th>\n",
       "      <th>DonorID</th>\n",
       "      <th>Age</th>\n",
       "      <th>Gender</th>\n",
       "      <th>Location</th>\n",
       "      <th>JoinDate</th>\n",
       "      <th>DonationID</th>\n",
       "      <th>DonationDate</th>\n",
       "      <th>Amount</th>\n",
       "      <th>CampaignID</th>\n",
       "      <th>CampaignName</th>\n",
       "      <th>TargetAmount</th>\n",
       "      <th>ActualAmount</th>\n",
       "      <th>Channel</th>\n",
       "      <th>Date</th>\n",
       "      <th>EngagementOutcome</th>\n",
       "      <th>ImpactType</th>\n",
       "      <th>Value</th>\n",
       "      <th>Cost</th>\n",
       "    </tr>\n",
       "  </thead>\n",
       "  <tbody>\n",
       "    <tr>\n",
       "      <th>0</th>\n",
       "      <td>DNR00001</td>\n",
       "      <td>56</td>\n",
       "      <td>Male</td>\n",
       "      <td>QLD</td>\n",
       "      <td>2020-10-03 22:59:27.552825</td>\n",
       "      <td>DNT002656</td>\n",
       "      <td>2015-06-16</td>\n",
       "      <td>124.99</td>\n",
       "      <td>CAMP005</td>\n",
       "      <td>Youth Initiative 005</td>\n",
       "      <td>54063.32</td>\n",
       "      <td>62346.29</td>\n",
       "      <td>Social Media</td>\n",
       "      <td>2022-12-27</td>\n",
       "      <td>Not Reached</td>\n",
       "      <td>Workshops Delivered</td>\n",
       "      <td>31.0</td>\n",
       "      <td>100.0</td>\n",
       "    </tr>\n",
       "    <tr>\n",
       "      <th>45</th>\n",
       "      <td>DNR00001</td>\n",
       "      <td>56</td>\n",
       "      <td>Male</td>\n",
       "      <td>QLD</td>\n",
       "      <td>2020-10-03 22:59:27.552825</td>\n",
       "      <td>DNT011160</td>\n",
       "      <td>2021-11-20</td>\n",
       "      <td>124.46</td>\n",
       "      <td>CAMP003</td>\n",
       "      <td>Youth Initiative 003</td>\n",
       "      <td>38582.41</td>\n",
       "      <td>33179.39</td>\n",
       "      <td>Social Media</td>\n",
       "      <td>2022-12-27</td>\n",
       "      <td>Not Reached</td>\n",
       "      <td>Workshops Delivered</td>\n",
       "      <td>19.0</td>\n",
       "      <td>100.0</td>\n",
       "    </tr>\n",
       "    <tr>\n",
       "      <th>90</th>\n",
       "      <td>DNR00001</td>\n",
       "      <td>56</td>\n",
       "      <td>Male</td>\n",
       "      <td>QLD</td>\n",
       "      <td>2020-10-03 22:59:27.552825</td>\n",
       "      <td>DNT012124</td>\n",
       "      <td>2017-09-14</td>\n",
       "      <td>128.22</td>\n",
       "      <td>CAMP010</td>\n",
       "      <td>Youth Initiative 010</td>\n",
       "      <td>50455.82</td>\n",
       "      <td>54176.99</td>\n",
       "      <td>Social Media</td>\n",
       "      <td>2022-12-27</td>\n",
       "      <td>Not Reached</td>\n",
       "      <td>Workshops Delivered</td>\n",
       "      <td>40.0</td>\n",
       "      <td>100.0</td>\n",
       "    </tr>\n",
       "    <tr>\n",
       "      <th>135</th>\n",
       "      <td>DNR00002</td>\n",
       "      <td>25</td>\n",
       "      <td>Male</td>\n",
       "      <td>ACT</td>\n",
       "      <td>2015-11-01 22:59:27.552825</td>\n",
       "      <td>DNT001904</td>\n",
       "      <td>2020-04-17</td>\n",
       "      <td>175.96</td>\n",
       "      <td>CAMP008</td>\n",
       "      <td>Youth Initiative 008</td>\n",
       "      <td>98200.79</td>\n",
       "      <td>102566.77</td>\n",
       "      <td>Newsletter</td>\n",
       "      <td>2023-09-09</td>\n",
       "      <td>Not Reached</td>\n",
       "      <td>Workshops Delivered</td>\n",
       "      <td>85.0</td>\n",
       "      <td>100.0</td>\n",
       "    </tr>\n",
       "    <tr>\n",
       "      <th>150</th>\n",
       "      <td>DNR00002</td>\n",
       "      <td>25</td>\n",
       "      <td>Male</td>\n",
       "      <td>ACT</td>\n",
       "      <td>2015-11-01 22:59:27.552825</td>\n",
       "      <td>DNT011974</td>\n",
       "      <td>2017-01-19</td>\n",
       "      <td>35.31</td>\n",
       "      <td>CAMP006</td>\n",
       "      <td>Youth Initiative 006</td>\n",
       "      <td>33193.34</td>\n",
       "      <td>39159.84</td>\n",
       "      <td>Newsletter</td>\n",
       "      <td>2023-09-09</td>\n",
       "      <td>Not Reached</td>\n",
       "      <td>Workshops Delivered</td>\n",
       "      <td>25.0</td>\n",
       "      <td>100.0</td>\n",
       "    </tr>\n",
       "  </tbody>\n",
       "</table>\n",
       "</div>"
      ],
      "text/plain": [
       "      DonorID  Age Gender Location                   JoinDate DonationID  \\\n",
       "0    DNR00001   56   Male      QLD 2020-10-03 22:59:27.552825  DNT002656   \n",
       "45   DNR00001   56   Male      QLD 2020-10-03 22:59:27.552825  DNT011160   \n",
       "90   DNR00001   56   Male      QLD 2020-10-03 22:59:27.552825  DNT012124   \n",
       "135  DNR00002   25   Male      ACT 2015-11-01 22:59:27.552825  DNT001904   \n",
       "150  DNR00002   25   Male      ACT 2015-11-01 22:59:27.552825  DNT011974   \n",
       "\n",
       "    DonationDate  Amount CampaignID          CampaignName  TargetAmount  \\\n",
       "0     2015-06-16  124.99    CAMP005  Youth Initiative 005      54063.32   \n",
       "45    2021-11-20  124.46    CAMP003  Youth Initiative 003      38582.41   \n",
       "90    2017-09-14  128.22    CAMP010  Youth Initiative 010      50455.82   \n",
       "135   2020-04-17  175.96    CAMP008  Youth Initiative 008      98200.79   \n",
       "150   2017-01-19   35.31    CAMP006  Youth Initiative 006      33193.34   \n",
       "\n",
       "     ActualAmount       Channel       Date EngagementOutcome  \\\n",
       "0        62346.29  Social Media 2022-12-27       Not Reached   \n",
       "45       33179.39  Social Media 2022-12-27       Not Reached   \n",
       "90       54176.99  Social Media 2022-12-27       Not Reached   \n",
       "135     102566.77    Newsletter 2023-09-09       Not Reached   \n",
       "150      39159.84    Newsletter 2023-09-09       Not Reached   \n",
       "\n",
       "              ImpactType  Value   Cost  \n",
       "0    Workshops Delivered   31.0  100.0  \n",
       "45   Workshops Delivered   19.0  100.0  \n",
       "90   Workshops Delivered   40.0  100.0  \n",
       "135  Workshops Delivered   85.0  100.0  \n",
       "150  Workshops Delivered   25.0  100.0  "
      ]
     },
     "execution_count": 30,
     "metadata": {},
     "output_type": "execute_result"
    }
   ],
   "source": [
    "df.head()"
   ]
  },
  {
   "cell_type": "code",
   "execution_count": 31,
   "id": "b160daa3-5fec-4f5e-8aa0-e0b03f8624cd",
   "metadata": {
    "id": "b160daa3-5fec-4f5e-8aa0-e0b03f8624cd"
   },
   "outputs": [],
   "source": [
    "# after cleaning we save the  merged dataset\n",
    "df.to_csv('Data.csv',index=0)"
   ]
  },
  {
   "cell_type": "markdown",
   "id": "0634956f-bcdc-4c5b-8752-5a2cb2da53c3",
   "metadata": {},
   "source": [
    "**Explore basic statistics for numerical features (mean, median, min, max)**"
   ]
  },
  {
   "cell_type": "code",
   "execution_count": 33,
   "id": "1927b361-4959-4651-aa56-51e0fcbda157",
   "metadata": {},
   "outputs": [
    {
     "data": {
      "text/html": [
       "<div>\n",
       "<style scoped>\n",
       "    .dataframe tbody tr th:only-of-type {\n",
       "        vertical-align: middle;\n",
       "    }\n",
       "\n",
       "    .dataframe tbody tr th {\n",
       "        vertical-align: top;\n",
       "    }\n",
       "\n",
       "    .dataframe thead th {\n",
       "        text-align: right;\n",
       "    }\n",
       "</style>\n",
       "<table border=\"1\" class=\"dataframe\">\n",
       "  <thead>\n",
       "    <tr style=\"text-align: right;\">\n",
       "      <th></th>\n",
       "      <th>Age</th>\n",
       "      <th>JoinDate</th>\n",
       "      <th>Amount</th>\n",
       "      <th>TargetAmount</th>\n",
       "      <th>ActualAmount</th>\n",
       "      <th>Date</th>\n",
       "      <th>Value</th>\n",
       "      <th>Cost</th>\n",
       "    </tr>\n",
       "  </thead>\n",
       "  <tbody>\n",
       "    <tr>\n",
       "      <th>count</th>\n",
       "      <td>17840.00</td>\n",
       "      <td>17840</td>\n",
       "      <td>17840.00</td>\n",
       "      <td>17840.00</td>\n",
       "      <td>17840.00</td>\n",
       "      <td>17840</td>\n",
       "      <td>17840.00</td>\n",
       "      <td>17840.0</td>\n",
       "    </tr>\n",
       "    <tr>\n",
       "      <th>mean</th>\n",
       "      <td>48.44</td>\n",
       "      <td>2019-10-26 01:02:47.732196864</td>\n",
       "      <td>110.24</td>\n",
       "      <td>62092.24</td>\n",
       "      <td>59866.38</td>\n",
       "      <td>2023-02-25 02:59:26.098654720</td>\n",
       "      <td>33.52</td>\n",
       "      <td>100.0</td>\n",
       "    </tr>\n",
       "    <tr>\n",
       "      <th>min</th>\n",
       "      <td>18.00</td>\n",
       "      <td>2015-04-23 22:59:27.552825</td>\n",
       "      <td>10.00</td>\n",
       "      <td>33193.34</td>\n",
       "      <td>33179.39</td>\n",
       "      <td>2022-07-25 00:00:00</td>\n",
       "      <td>19.00</td>\n",
       "      <td>100.0</td>\n",
       "    </tr>\n",
       "    <tr>\n",
       "      <th>25%</th>\n",
       "      <td>33.00</td>\n",
       "      <td>2017-08-20 22:59:27.552825088</td>\n",
       "      <td>38.90</td>\n",
       "      <td>49248.12</td>\n",
       "      <td>44689.69</td>\n",
       "      <td>2022-09-22 00:00:00</td>\n",
       "      <td>24.00</td>\n",
       "      <td>100.0</td>\n",
       "    </tr>\n",
       "    <tr>\n",
       "      <th>50%</th>\n",
       "      <td>48.00</td>\n",
       "      <td>2019-10-27 22:59:27.552825088</td>\n",
       "      <td>79.15</td>\n",
       "      <td>58107.99</td>\n",
       "      <td>57113.83</td>\n",
       "      <td>2022-12-12 00:00:00</td>\n",
       "      <td>25.00</td>\n",
       "      <td>100.0</td>\n",
       "    </tr>\n",
       "    <tr>\n",
       "      <th>75%</th>\n",
       "      <td>64.00</td>\n",
       "      <td>2022-01-08 22:59:27.552825088</td>\n",
       "      <td>147.52</td>\n",
       "      <td>69723.66</td>\n",
       "      <td>68170.79</td>\n",
       "      <td>2023-05-22 00:00:00</td>\n",
       "      <td>37.00</td>\n",
       "      <td>100.0</td>\n",
       "    </tr>\n",
       "    <tr>\n",
       "      <th>max</th>\n",
       "      <td>79.00</td>\n",
       "      <td>2024-04-18 22:59:27.552825</td>\n",
       "      <td>930.72</td>\n",
       "      <td>98304.41</td>\n",
       "      <td>102566.77</td>\n",
       "      <td>2025-04-17 00:00:00</td>\n",
       "      <td>85.00</td>\n",
       "      <td>100.0</td>\n",
       "    </tr>\n",
       "    <tr>\n",
       "      <th>std</th>\n",
       "      <td>17.85</td>\n",
       "      <td>NaN</td>\n",
       "      <td>100.75</td>\n",
       "      <td>21218.57</td>\n",
       "      <td>19216.03</td>\n",
       "      <td>NaN</td>\n",
       "      <td>18.27</td>\n",
       "      <td>0.0</td>\n",
       "    </tr>\n",
       "  </tbody>\n",
       "</table>\n",
       "</div>"
      ],
      "text/plain": [
       "            Age                       JoinDate    Amount  TargetAmount  \\\n",
       "count  17840.00                          17840  17840.00      17840.00   \n",
       "mean      48.44  2019-10-26 01:02:47.732196864    110.24      62092.24   \n",
       "min       18.00     2015-04-23 22:59:27.552825     10.00      33193.34   \n",
       "25%       33.00  2017-08-20 22:59:27.552825088     38.90      49248.12   \n",
       "50%       48.00  2019-10-27 22:59:27.552825088     79.15      58107.99   \n",
       "75%       64.00  2022-01-08 22:59:27.552825088    147.52      69723.66   \n",
       "max       79.00     2024-04-18 22:59:27.552825    930.72      98304.41   \n",
       "std       17.85                            NaN    100.75      21218.57   \n",
       "\n",
       "       ActualAmount                           Date     Value     Cost  \n",
       "count      17840.00                          17840  17840.00  17840.0  \n",
       "mean       59866.38  2023-02-25 02:59:26.098654720     33.52    100.0  \n",
       "min        33179.39            2022-07-25 00:00:00     19.00    100.0  \n",
       "25%        44689.69            2022-09-22 00:00:00     24.00    100.0  \n",
       "50%        57113.83            2022-12-12 00:00:00     25.00    100.0  \n",
       "75%        68170.79            2023-05-22 00:00:00     37.00    100.0  \n",
       "max       102566.77            2025-04-17 00:00:00     85.00    100.0  \n",
       "std        19216.03                            NaN     18.27      0.0  "
      ]
     },
     "execution_count": 33,
     "metadata": {},
     "output_type": "execute_result"
    }
   ],
   "source": [
    "df.describe().round(2)"
   ]
  },
  {
   "cell_type": "markdown",
   "id": "08XE7cJYFb2F",
   "metadata": {
    "id": "08XE7cJYFb2F"
   },
   "source": [
    "### Business understanding\n",
    "\n",
    "In today’s fast-evolving fundraising landscape, nonprofit organisations face growing pressure to engage supporters meaningfully, demonstrate their impact, and build trust through transparency. Traditional, instinct-driven approaches no longer meet modern donor expectations\n",
    "\n",
    "Adopting a data-informed approach is not just a technical upgrade—it’s a cultural shift that aligns mission, message, and measurement. With the right mindset and existing tools, even small organisations can use data to boost engagement and impact.\n",
    "\n",
    "Delivering measurable change increasingly depends on how well nonprofits engage and retain supporters. As donor expectations rise and attention spans shrink, sustaining long-term relationships becomes a major challenge.[McKinsey Global Institute](https://www.mckinsey.com/capabilities/growth-marketing-and-sales/our-insights/five-facts-how-customer-analytics-boosts-corporate-performance) says that data-driven organisations are 23 times more likely to acquire customers, 6 times as likely to retain customers and 19 times as likely to be profitable, showing the importance of including data in decision making.\n",
    "\n",
    "Our objectives focus on helping NPO'S reduce donor churn, strengthen their  relationships with donors, and improve alignment between fundraising and impact, with data driven analysis. We aim to help them engage donors and inspire new strategies for attraction and retention.\n",
    "\n",
    "\n",
    "\n",
    "\n",
    "\n"
   ]
  },
  {
   "cell_type": "markdown",
   "id": "mfk5egLimVHF",
   "metadata": {
    "id": "mfk5egLimVHF"
   },
   "source": [
    "### Data Understanding\n",
    "A synthetic dataset was created to reflect the operational characteristics of a nonprofit organisation, focused on youth and community welfare. It includes relational tables for donors, donations, campaigns, impact outcomes, and engagement activities. These tables are structured to support a complete engagement analysis from start to finish.\n",
    "\n",
    "Although the data is fictitious, it reflects realistic patterns based on [sector](https://www2.fundsforngos.org/) / [research](https://virtuous.org/resources/resource-center/). These patterns include donor attrition, variations in donation behavior, and inconsistent campaign performance (Virtuous, 2024). The goal is to encourage the use of data in nonprofit environments and to provide the NPO community with a clear example of what a data-informed approach can accomplish. This simulation allows for open analysis while maintaining privacy and ethical standards.\n",
    "\n",
    "The structure of the dataset makes it possible to demonstrate how nonprofit engagement can be improved through analytics without relying on sensitive real-world data.\n"
   ]
  },
  {
   "cell_type": "markdown",
   "id": "V5jg7EO2z6v7",
   "metadata": {
    "id": "V5jg7EO2z6v7"
   },
   "source": [
    "## Major questions\n",
    "this section is a follow up of the two previous sections. it builds our business and data understanding and allow us to leverage the data to get meaningful and pertinent information."
   ]
  },
  {
   "cell_type": "markdown",
   "id": "qFXw5ppxKO8i",
   "metadata": {
    "id": "qFXw5ppxKO8i"
   },
   "source": [
    "**How many time donors are likely to donate ?**"
   ]
  },
  {
   "cell_type": "code",
   "execution_count": 38,
   "id": "JSbSaVluOuyx",
   "metadata": {
    "colab": {
     "base_uri": "https://localhost:8080/",
     "height": 314
    },
    "id": "JSbSaVluOuyx",
    "outputId": "fbddf81a-558c-41e8-cb36-756646e7a1cd"
   },
   "outputs": [
    {
     "data": {
      "image/png": "[encoded data removed]",
      "text/plain": [
       "<Figure size 800x400 with 1 Axes>"
      ]
     },
     "metadata": {},
     "output_type": "display_data"
    }
   ],
   "source": [
    "# import necessary library\n",
    "import matplotlib.pyplot as plt\n",
    "import seaborn as sns\n",
    "\n",
    "# Group by DonorID to get donation count\n",
    "donation_counts = donations.groupby('DonorID')['DonationID'].count()\n",
    "\n",
    "# Plot\n",
    "plt.figure(figsize=(8, 4))\n",
    "sns.histplot(donation_counts, bins=20, kde=False, color='green')\n",
    "plt.title('Number of Donations per Donor')\n",
    "plt.xlabel('Number of Unique Donations')\n",
    "plt.ylabel('Number of Donors')\n",
    "plt.tight_layout()\n",
    "plt.show()"
   ]
  },
  {
   "cell_type": "code",
   "execution_count": 39,
   "id": "aea4cd80-0f86-4130-8918-8a08d84fbc7a",
   "metadata": {},
   "outputs": [
    {
     "data": {
      "image/png": "[encoded data removed]",
      "text/plain": [
       "<Figure size 1000x500 with 2 Axes>"
      ]
     },
     "metadata": {},
     "output_type": "display_data"
    },
    {
     "data": {
      "text/plain": [
       "Gender\n",
       "Female    663950.26\n",
       "Male      657135.77\n",
       "Other     645596.74\n",
       "Name: Amount, dtype: float64"
      ]
     },
     "execution_count": 39,
     "metadata": {},
     "output_type": "execute_result"
    }
   ],
   "source": [
    "donation_by_gender = df.groupby('Gender')['Amount'].sum()\n",
    "\n",
    "# Kalkile total donation tout ansanm\n",
    "total_donation = df['Amount'].count()\n",
    "\n",
    "# subplots (2 graf)\n",
    "fig, axes = plt.subplots(1, 2, figsize=(10, 5))\n",
    "\n",
    "# 1️ Bar chart  donation by gender\n",
    "donation_by_gender.plot(kind='bar', ax=axes[0], color=['#1f77b4', '#ff7f0e'])\n",
    "axes[0].set_title('Total Donation pa Gender')\n",
    "axes[0].set_xlabel('Gender')\n",
    "axes[0].set_ylabel('Donation')\n",
    "axes[0].grid(axis='y', linestyle='--', alpha=0.7)\n",
    "\n",
    "# 2️ Pie chart \n",
    "donation_by_gender.plot(kind='pie', autopct='%1.1f%%', ax=axes[1], ylabel='', colors=['#1f77b4', '#ff7f0e'])\n",
    "axes[1].set_title(f'Share pa Gender (Total: {total_donation})')\n",
    "\n",
    "\n",
    "plt.tight_layout()\n",
    "plt.show()\n",
    "donation_by_gender"
   ]
  },
  {
   "cell_type": "markdown",
   "id": "Y5YUsutSOMgZ",
   "metadata": {
    "id": "Y5YUsutSOMgZ"
   },
   "source": [
    "Comment: Most donors donates around 2 to 4 times.\n",
    "We can observe that the Number of Donors decreases For higher number of donations, showing moderate donor retention.\n",
    "\n",
    "\n",
    "\n"
   ]
  },
  {
   "cell_type": "markdown",
   "id": "pKMox1CscH2U",
   "metadata": {
    "id": "pKMox1CscH2U"
   },
   "source": [
    "**How has donor retention evolved over time ?**"
   ]
  },
  {
   "cell_type": "code",
   "execution_count": 42,
   "id": "HtUsgdDDW-5i",
   "metadata": {
    "colab": {
     "base_uri": "https://localhost:8080/",
     "height": 376
    },
    "id": "HtUsgdDDW-5i",
    "outputId": "cf76a031-6f7a-4c8a-e35b-d8b2ba797b0a"
   },
   "outputs": [
    {
     "name": "stderr",
     "output_type": "stream",
     "text": [
      "C:\\Users\\teach\\AppData\\Local\\Temp\\ipykernel_2148\\112954652.py:2: UserWarning: Parsing dates in %Y-%m-%d format when dayfirst=True was specified. Pass `dayfirst=False` or specify a format to silence this warning.\n",
      "  df['DonationDate'] = pd.to_datetime(df['DonationDate'], dayfirst=True)\n"
     ]
    },
    {
     "data": {
      "image/png": "[encoded data removed]",
      "text/plain": [
       "<Figure size 1000x600 with 1 Axes>"
      ]
     },
     "metadata": {},
     "output_type": "display_data"
    }
   ],
   "source": [
    "# conversion\n",
    "df['DonationDate'] = pd.to_datetime(df['DonationDate'], dayfirst=True)\n",
    "\n",
    "# Extract donation year\n",
    "df['DonationYear'] = df['DonationDate'].dt.year\n",
    "years = sorted(df['DonationYear'].unique())\n",
    "retention_stats = []\n",
    "\n",
    "for i in range(len(years) -1 ):\n",
    "    year_current = years[i]\n",
    "    year_next = years[i + 1]\n",
    "\n",
    "    donors_current = set(df[df['DonationYear'] == year_current]['DonorID'])\n",
    "    donors_next = set(df[df['DonationYear'] == year_next]['DonorID'])\n",
    "\n",
    "    retained_donors = donors_current & donors_next\n",
    "    retention_rate = len(retained_donors) / len(donors_current) * 100 if donors_current else 0\n",
    "\n",
    "    retention_stats.append({\n",
    "        \"From Year\": year_current,\n",
    "        \"To Year\": year_next,\n",
    "        \"Donors in Year\": len(donors_current),\n",
    "        \"Retained Donors\": len(retained_donors),\n",
    "        \"Retention Rate (%)\": round(retention_rate, 2)\n",
    "    })\n",
    "\n",
    "retention_df = pd.DataFrame(retention_stats)\n",
    "\n",
    "# Exclude the last year from the plot as it has incomplete data\n",
    "retention_df_plot = retention_df[:-1]\n",
    "\n",
    "plt.figure(figsize=(10, 6))\n",
    "plt.plot(retention_df_plot[\"From Year\"].astype(str), retention_df_plot[\"Retention Rate (%)\"], marker='o',  color = \"red\", linewidth=2)\n",
    "plt.title(\"Year-over-Year Donor Retention Rate (Excluding Incomplete Year)\", fontsize=14)\n",
    "plt.xlabel(\"From Year\", fontsize=12)\n",
    "plt.ylabel(\"Retention Rate (%)\", fontsize=12)\n",
    "plt.xticks(rotation=45)\n",
    "plt.grid(True)\n",
    "plt.tight_layout()\n",
    "plt.show()"
   ]
  },
  {
   "cell_type": "markdown",
   "id": "m6HZYF0-Xdz5",
   "metadata": {
    "id": "m6HZYF0-Xdz5"
   },
   "source": [
    "Comment: This line graph illustrates the percentage of donors retained from one year to the next over a ten-year period. While retention fluctuates around  30%, occasional dips highlight the importance of targeted re-engagement strategies and sustained communication with donor segments."
   ]
  },
  {
   "cell_type": "markdown",
   "id": "8FExHyJJLo_9",
   "metadata": {
    "id": "8FExHyJJLo_9"
   },
   "source": [
    "**How can the different type of donors be classified ?**\n"
   ]
  },
  {
   "cell_type": "code",
   "execution_count": 45,
   "id": "fv3Lav8LMM6n",
   "metadata": {
    "colab": {
     "base_uri": "https://localhost:8080/",
     "height": 363
    },
    "id": "fv3Lav8LMM6n",
    "outputId": "930273d1-ed7d-4ada-e3db-a5d9742e3f53"
   },
   "outputs": [
    {
     "data": {
      "text/html": [
       "<div>\n",
       "<style scoped>\n",
       "    .dataframe tbody tr th:only-of-type {\n",
       "        vertical-align: middle;\n",
       "    }\n",
       "\n",
       "    .dataframe tbody tr th {\n",
       "        vertical-align: top;\n",
       "    }\n",
       "\n",
       "    .dataframe thead th {\n",
       "        text-align: right;\n",
       "    }\n",
       "</style>\n",
       "<table border=\"1\" class=\"dataframe\">\n",
       "  <thead>\n",
       "    <tr style=\"text-align: right;\">\n",
       "      <th></th>\n",
       "      <th>Segment</th>\n",
       "      <th>Count</th>\n",
       "    </tr>\n",
       "  </thead>\n",
       "  <tbody>\n",
       "    <tr>\n",
       "      <th>0</th>\n",
       "      <td>Loyal Donors</td>\n",
       "      <td>1659</td>\n",
       "    </tr>\n",
       "    <tr>\n",
       "      <th>1</th>\n",
       "      <td>Lapsed but Valuable</td>\n",
       "      <td>990</td>\n",
       "    </tr>\n",
       "    <tr>\n",
       "      <th>2</th>\n",
       "      <td>At Risk</td>\n",
       "      <td>683</td>\n",
       "    </tr>\n",
       "    <tr>\n",
       "      <th>3</th>\n",
       "      <td>Low Frequency</td>\n",
       "      <td>494</td>\n",
       "    </tr>\n",
       "    <tr>\n",
       "      <th>4</th>\n",
       "      <td>Misc Donors</td>\n",
       "      <td>394</td>\n",
       "    </tr>\n",
       "    <tr>\n",
       "      <th>5</th>\n",
       "      <td>Lost or Inactive</td>\n",
       "      <td>375</td>\n",
       "    </tr>\n",
       "    <tr>\n",
       "      <th>6</th>\n",
       "      <td>Champions</td>\n",
       "      <td>135</td>\n",
       "    </tr>\n",
       "    <tr>\n",
       "      <th>7</th>\n",
       "      <td>Never Donated</td>\n",
       "      <td>122</td>\n",
       "    </tr>\n",
       "    <tr>\n",
       "      <th>8</th>\n",
       "      <td>New Donors</td>\n",
       "      <td>20</td>\n",
       "    </tr>\n",
       "    <tr>\n",
       "      <th>9</th>\n",
       "      <td>High Value Potentials</td>\n",
       "      <td>19</td>\n",
       "    </tr>\n",
       "  </tbody>\n",
       "</table>\n",
       "</div>"
      ],
      "text/plain": [
       "                 Segment  Count\n",
       "0           Loyal Donors   1659\n",
       "1    Lapsed but Valuable    990\n",
       "2                At Risk    683\n",
       "3          Low Frequency    494\n",
       "4            Misc Donors    394\n",
       "5       Lost or Inactive    375\n",
       "6              Champions    135\n",
       "7          Never Donated    122\n",
       "8             New Donors     20\n",
       "9  High Value Potentials     19"
      ]
     },
     "execution_count": 45,
     "metadata": {},
     "output_type": "execute_result"
    }
   ],
   "source": [
    "import numpy as np\n",
    "\n",
    "# Convert donation date to datetime\n",
    "df['DonationDate'] = pd.to_datetime(df['DonationDate'])\n",
    "\n",
    "# Create donor-level summary\n",
    "today = pd.to_datetime('today')\n",
    "donor_summary = df.groupby('DonorID').agg(\n",
    "    FirstDonationDate=('DonationDate', 'min'),\n",
    "    LastDonationDate=('DonationDate', 'max'),\n",
    "    Frequency=('DonationID', 'count'),\n",
    "    Monetary=('Amount', 'sum')\n",
    ").reset_index()\n",
    "donor_summary['Recency'] = (today - donor_summary['LastDonationDate']).dt.days\n",
    "\n",
    "# Merge with full donor list\n",
    "donor_full_summary = pd.merge(donors[['DonorID']], donor_summary, on='DonorID', how='left')\n",
    "donor_full_summary['Recency'] = donor_full_summary['Recency'].fillna(np.inf)\n",
    "donor_full_summary['Frequency'] = donor_full_summary['Frequency'].fillna(0)\n",
    "donor_full_summary['Monetary'] = donor_full_summary['Monetary'].fillna(0)\n",
    "# Assign segments\n",
    "def assign_segment(row):\n",
    "    r = row['Recency']\n",
    "    f = row['Frequency']\n",
    "    m = row['Monetary']\n",
    "\n",
    "    if np.isinf(r) or pd.isna(r):\n",
    "        return 'Never Donated'\n",
    "    elif r <= 365 and f == 1:\n",
    "        return 'New Donors'\n",
    "    elif r <= 365 and f >= 4 and m >= 750:\n",
    "        return 'Champions'\n",
    "    elif r <= 1095 and f >= 4:\n",
    "        return 'Loyal Donors'\n",
    "    elif r <= 1095 and 2 <= f <= 4 and m >= 750:\n",
    "        return 'High Value Potentials'\n",
    "    elif r > 1095 and f >= 2 and m >= 250:\n",
    "        return 'Lapsed but Valuable'\n",
    "    elif 365 < r <= 1095 and f >= 2:\n",
    "        return 'At Risk'\n",
    "    elif r > 1095 and f == 1:\n",
    "        return 'Lost or Inactive'\n",
    "    elif f <= 2 and m < 250:\n",
    "        return 'Low Frequency'\n",
    "    else:\n",
    "        return 'Misc Donors'\n",
    "\n",
    "donor_full_summary['Segment'] = donor_full_summary.apply(assign_segment, axis=1)\n",
    "\n",
    "# Return segment summary for confirmation\n",
    "segment_summary = donor_full_summary['Segment'].value_counts().reset_index()\n",
    "segment_summary.columns = ['Segment', 'Count']\n",
    "segment_summary"
   ]
  },
  {
   "cell_type": "code",
   "execution_count": 46,
   "id": "-UYQ0gG0OVTb",
   "metadata": {
    "colab": {
     "base_uri": "https://localhost:8080/",
     "height": 425
    },
    "id": "-UYQ0gG0OVTb",
    "outputId": "d0a107ed-f356-4f36-cbaf-02b1064089dc"
   },
   "outputs": [
    {
     "name": "stderr",
     "output_type": "stream",
     "text": [
      "C:\\Users\\teach\\AppData\\Local\\Temp\\ipykernel_2148\\4202684907.py:2: FutureWarning: \n",
      "\n",
      "Passing `palette` without assigning `hue` is deprecated and will be removed in v0.14.0. Assign the `x` variable to `hue` and set `legend=False` for the same effect.\n",
      "\n",
      "  sns.barplot(x='Segment', y='Count', data=segment_summary, palette='viridis')\n"
     ]
    },
    {
     "data": {
      "image/png": "[encoded data removed]",
      "text/plain": [
       "<Figure size 1200x600 with 1 Axes>"
      ]
     },
     "metadata": {},
     "output_type": "display_data"
    }
   ],
   "source": [
    "plt.figure(figsize=(12, 6))\n",
    "sns.barplot(x='Segment', y='Count', data=segment_summary, palette='viridis')\n",
    "plt.title('Distribution of Donor Segments', fontsize=14)\n",
    "plt.xlabel('Donor Segment', fontsize=12)\n",
    "plt.ylabel('Number of Donors', fontsize=12)\n",
    "plt.xticks(rotation=45, ha='right')\n",
    "plt.tight_layout()\n",
    "plt.show()"
   ]
  },
  {
   "cell_type": "markdown",
   "id": "nlgGgKU_NCul",
   "metadata": {
    "id": "nlgGgKU_NCul"
   },
   "source": [
    "**How are the different categories of donors engaged?**"
   ]
  },
  {
   "cell_type": "code",
   "execution_count": 48,
   "id": "ik4so3zWOg3K",
   "metadata": {
    "colab": {
     "base_uri": "https://localhost:8080/",
     "height": 316
    },
    "id": "ik4so3zWOg3K",
    "outputId": "1257fd88-c56c-491c-b1f5-3a201eeeacc9"
   },
   "outputs": [
    {
     "data": {
      "image/png": "[encoded data removed]",
      "text/plain": [
       "<Figure size 1200x600 with 1 Axes>"
      ]
     },
     "metadata": {},
     "output_type": "display_data"
    }
   ],
   "source": [
    "engagements_outcomes = engagement_history.merge(donor_full_summary[['DonorID', 'Segment']], on='DonorID', how='left')\n",
    "\n",
    "# Create a countplot showing outcomes across segments\n",
    "plt.figure(figsize=(12, 6))\n",
    "sns.countplot(data=engagements_outcomes, x='EngagementOutcome', hue='Segment', palette='husl')\n",
    "plt.title('Engagement Outcomes by Donor Segment')\n",
    "plt.xlabel('Engagement Outcome')\n",
    "plt.ylabel('Number of Engagements')\n",
    "plt.xticks(rotation=0)\n",
    "plt.legend(title='Segment', bbox_to_anchor=(1.05, 1), loc='upper left')\n",
    "plt.tight_layout()\n",
    "plt.show()"
   ]
  },
  {
   "cell_type": "markdown",
   "id": "N8HwRW1lOu24",
   "metadata": {
    "id": "N8HwRW1lOu24"
   },
   "source": [
    "## Modeling"
   ]
  },
  {
   "cell_type": "markdown",
   "id": "cd3c9686-9226-4931-ae5e-6a3cb9a91eb6",
   "metadata": {},
   "source": [
    "#### ==========================================================================================\n",
    "**Feature Engineering**"
   ]
  },
  {
   "cell_type": "code",
   "execution_count": 51,
   "id": "ab473012-25c5-410f-b291-c5e01d72f9ce",
   "metadata": {},
   "outputs": [],
   "source": [
    "# Donor tenure (days between first join and latest donation)\n",
    "df['DonorTenure'] = (df['DonationDate'] - df['JoinDate']).dt.days.abs()\n"
   ]
  },
  {
   "cell_type": "code",
   "execution_count": 52,
   "id": "633cd2be-aa5c-4da3-b036-e11a89d6d132",
   "metadata": {},
   "outputs": [
    {
     "data": {
      "text/html": [
       "<div>\n",
       "<style scoped>\n",
       "    .dataframe tbody tr th:only-of-type {\n",
       "        vertical-align: middle;\n",
       "    }\n",
       "\n",
       "    .dataframe tbody tr th {\n",
       "        vertical-align: top;\n",
       "    }\n",
       "\n",
       "    .dataframe thead th {\n",
       "        text-align: right;\n",
       "    }\n",
       "</style>\n",
       "<table border=\"1\" class=\"dataframe\">\n",
       "  <thead>\n",
       "    <tr style=\"text-align: right;\">\n",
       "      <th></th>\n",
       "      <th>DonorID</th>\n",
       "      <th>Age</th>\n",
       "      <th>Gender</th>\n",
       "      <th>Location</th>\n",
       "      <th>JoinDate</th>\n",
       "      <th>DonationID</th>\n",
       "      <th>DonationDate</th>\n",
       "      <th>Amount</th>\n",
       "      <th>CampaignID</th>\n",
       "      <th>CampaignName</th>\n",
       "      <th>...</th>\n",
       "      <th>ActualAmount</th>\n",
       "      <th>Channel</th>\n",
       "      <th>Date</th>\n",
       "      <th>EngagementOutcome</th>\n",
       "      <th>ImpactType</th>\n",
       "      <th>Value</th>\n",
       "      <th>Cost</th>\n",
       "      <th>DonationYear</th>\n",
       "      <th>DonorTenure</th>\n",
       "      <th>CampaignSuccessRatio</th>\n",
       "    </tr>\n",
       "  </thead>\n",
       "  <tbody>\n",
       "    <tr>\n",
       "      <th>0</th>\n",
       "      <td>DNR00001</td>\n",
       "      <td>56</td>\n",
       "      <td>Male</td>\n",
       "      <td>QLD</td>\n",
       "      <td>2020-10-03 22:59:27.552825</td>\n",
       "      <td>DNT002656</td>\n",
       "      <td>2015-06-16</td>\n",
       "      <td>124.99</td>\n",
       "      <td>CAMP005</td>\n",
       "      <td>Youth Initiative 005</td>\n",
       "      <td>...</td>\n",
       "      <td>62346.29</td>\n",
       "      <td>Social Media</td>\n",
       "      <td>2022-12-27</td>\n",
       "      <td>Not Reached</td>\n",
       "      <td>Workshops Delivered</td>\n",
       "      <td>31.0</td>\n",
       "      <td>100.0</td>\n",
       "      <td>2015</td>\n",
       "      <td>1937</td>\n",
       "      <td>1.153209</td>\n",
       "    </tr>\n",
       "    <tr>\n",
       "      <th>45</th>\n",
       "      <td>DNR00001</td>\n",
       "      <td>56</td>\n",
       "      <td>Male</td>\n",
       "      <td>QLD</td>\n",
       "      <td>2020-10-03 22:59:27.552825</td>\n",
       "      <td>DNT011160</td>\n",
       "      <td>2021-11-20</td>\n",
       "      <td>124.46</td>\n",
       "      <td>CAMP003</td>\n",
       "      <td>Youth Initiative 003</td>\n",
       "      <td>...</td>\n",
       "      <td>33179.39</td>\n",
       "      <td>Social Media</td>\n",
       "      <td>2022-12-27</td>\n",
       "      <td>Not Reached</td>\n",
       "      <td>Workshops Delivered</td>\n",
       "      <td>19.0</td>\n",
       "      <td>100.0</td>\n",
       "      <td>2021</td>\n",
       "      <td>412</td>\n",
       "      <td>0.859962</td>\n",
       "    </tr>\n",
       "    <tr>\n",
       "      <th>90</th>\n",
       "      <td>DNR00001</td>\n",
       "      <td>56</td>\n",
       "      <td>Male</td>\n",
       "      <td>QLD</td>\n",
       "      <td>2020-10-03 22:59:27.552825</td>\n",
       "      <td>DNT012124</td>\n",
       "      <td>2017-09-14</td>\n",
       "      <td>128.22</td>\n",
       "      <td>CAMP010</td>\n",
       "      <td>Youth Initiative 010</td>\n",
       "      <td>...</td>\n",
       "      <td>54176.99</td>\n",
       "      <td>Social Media</td>\n",
       "      <td>2022-12-27</td>\n",
       "      <td>Not Reached</td>\n",
       "      <td>Workshops Delivered</td>\n",
       "      <td>40.0</td>\n",
       "      <td>100.0</td>\n",
       "      <td>2017</td>\n",
       "      <td>1116</td>\n",
       "      <td>1.073751</td>\n",
       "    </tr>\n",
       "    <tr>\n",
       "      <th>135</th>\n",
       "      <td>DNR00002</td>\n",
       "      <td>25</td>\n",
       "      <td>Male</td>\n",
       "      <td>ACT</td>\n",
       "      <td>2015-11-01 22:59:27.552825</td>\n",
       "      <td>DNT001904</td>\n",
       "      <td>2020-04-17</td>\n",
       "      <td>175.96</td>\n",
       "      <td>CAMP008</td>\n",
       "      <td>Youth Initiative 008</td>\n",
       "      <td>...</td>\n",
       "      <td>102566.77</td>\n",
       "      <td>Newsletter</td>\n",
       "      <td>2023-09-09</td>\n",
       "      <td>Not Reached</td>\n",
       "      <td>Workshops Delivered</td>\n",
       "      <td>85.0</td>\n",
       "      <td>100.0</td>\n",
       "      <td>2020</td>\n",
       "      <td>1628</td>\n",
       "      <td>1.044460</td>\n",
       "    </tr>\n",
       "    <tr>\n",
       "      <th>150</th>\n",
       "      <td>DNR00002</td>\n",
       "      <td>25</td>\n",
       "      <td>Male</td>\n",
       "      <td>ACT</td>\n",
       "      <td>2015-11-01 22:59:27.552825</td>\n",
       "      <td>DNT011974</td>\n",
       "      <td>2017-01-19</td>\n",
       "      <td>35.31</td>\n",
       "      <td>CAMP006</td>\n",
       "      <td>Youth Initiative 006</td>\n",
       "      <td>...</td>\n",
       "      <td>39159.84</td>\n",
       "      <td>Newsletter</td>\n",
       "      <td>2023-09-09</td>\n",
       "      <td>Not Reached</td>\n",
       "      <td>Workshops Delivered</td>\n",
       "      <td>25.0</td>\n",
       "      <td>100.0</td>\n",
       "      <td>2017</td>\n",
       "      <td>444</td>\n",
       "      <td>1.179750</td>\n",
       "    </tr>\n",
       "    <tr>\n",
       "      <th>...</th>\n",
       "      <td>...</td>\n",
       "      <td>...</td>\n",
       "      <td>...</td>\n",
       "      <td>...</td>\n",
       "      <td>...</td>\n",
       "      <td>...</td>\n",
       "      <td>...</td>\n",
       "      <td>...</td>\n",
       "      <td>...</td>\n",
       "      <td>...</td>\n",
       "      <td>...</td>\n",
       "      <td>...</td>\n",
       "      <td>...</td>\n",
       "      <td>...</td>\n",
       "      <td>...</td>\n",
       "      <td>...</td>\n",
       "      <td>...</td>\n",
       "      <td>...</td>\n",
       "      <td>...</td>\n",
       "      <td>...</td>\n",
       "      <td>...</td>\n",
       "    </tr>\n",
       "    <tr>\n",
       "      <th>439963</th>\n",
       "      <td>DNR04888</td>\n",
       "      <td>53</td>\n",
       "      <td>Other</td>\n",
       "      <td>QLD</td>\n",
       "      <td>2015-10-09 22:59:27.552825</td>\n",
       "      <td>DNT017601</td>\n",
       "      <td>2021-11-19</td>\n",
       "      <td>139.03</td>\n",
       "      <td>CAMP010</td>\n",
       "      <td>Youth Initiative 010</td>\n",
       "      <td>...</td>\n",
       "      <td>54176.99</td>\n",
       "      <td>Phone Call</td>\n",
       "      <td>2023-08-21</td>\n",
       "      <td>Engaged</td>\n",
       "      <td>Workshops Delivered</td>\n",
       "      <td>40.0</td>\n",
       "      <td>100.0</td>\n",
       "      <td>2021</td>\n",
       "      <td>2232</td>\n",
       "      <td>1.073751</td>\n",
       "    </tr>\n",
       "    <tr>\n",
       "      <th>439983</th>\n",
       "      <td>DNR04889</td>\n",
       "      <td>30</td>\n",
       "      <td>Female</td>\n",
       "      <td>TAS</td>\n",
       "      <td>2019-10-27 22:59:27.552825</td>\n",
       "      <td>DNT010655</td>\n",
       "      <td>2025-01-01</td>\n",
       "      <td>31.40</td>\n",
       "      <td>CAMP004</td>\n",
       "      <td>Youth Initiative 004</td>\n",
       "      <td>...</td>\n",
       "      <td>56117.36</td>\n",
       "      <td>Email</td>\n",
       "      <td>2023-07-09</td>\n",
       "      <td>Engaged</td>\n",
       "      <td>Workshops Delivered</td>\n",
       "      <td>27.0</td>\n",
       "      <td>100.0</td>\n",
       "      <td>2025</td>\n",
       "      <td>1892</td>\n",
       "      <td>1.139482</td>\n",
       "    </tr>\n",
       "    <tr>\n",
       "      <th>440003</th>\n",
       "      <td>DNR04889</td>\n",
       "      <td>30</td>\n",
       "      <td>Female</td>\n",
       "      <td>TAS</td>\n",
       "      <td>2019-10-27 22:59:27.552825</td>\n",
       "      <td>DNT015750</td>\n",
       "      <td>2017-07-11</td>\n",
       "      <td>93.17</td>\n",
       "      <td>CAMP010</td>\n",
       "      <td>Youth Initiative 010</td>\n",
       "      <td>...</td>\n",
       "      <td>54176.99</td>\n",
       "      <td>Email</td>\n",
       "      <td>2023-07-09</td>\n",
       "      <td>Engaged</td>\n",
       "      <td>Workshops Delivered</td>\n",
       "      <td>40.0</td>\n",
       "      <td>100.0</td>\n",
       "      <td>2017</td>\n",
       "      <td>839</td>\n",
       "      <td>1.073751</td>\n",
       "    </tr>\n",
       "    <tr>\n",
       "      <th>440023</th>\n",
       "      <td>DNR04890</td>\n",
       "      <td>65</td>\n",
       "      <td>Female</td>\n",
       "      <td>ACT</td>\n",
       "      <td>2024-03-12 22:59:27.552825</td>\n",
       "      <td>DNT017336</td>\n",
       "      <td>2021-04-21</td>\n",
       "      <td>20.75</td>\n",
       "      <td>CAMP006</td>\n",
       "      <td>Youth Initiative 006</td>\n",
       "      <td>...</td>\n",
       "      <td>39159.84</td>\n",
       "      <td>Social Media</td>\n",
       "      <td>2023-02-25</td>\n",
       "      <td>Engaged</td>\n",
       "      <td>Workshops Delivered</td>\n",
       "      <td>25.0</td>\n",
       "      <td>100.0</td>\n",
       "      <td>2021</td>\n",
       "      <td>1057</td>\n",
       "      <td>1.179750</td>\n",
       "    </tr>\n",
       "    <tr>\n",
       "      <th>440043</th>\n",
       "      <td>DNR04891</td>\n",
       "      <td>30</td>\n",
       "      <td>Female</td>\n",
       "      <td>WA</td>\n",
       "      <td>2023-11-28 22:59:27.552825</td>\n",
       "      <td>DNT017280</td>\n",
       "      <td>2017-07-29</td>\n",
       "      <td>79.82</td>\n",
       "      <td>CAMP004</td>\n",
       "      <td>Youth Initiative 004</td>\n",
       "      <td>...</td>\n",
       "      <td>56117.36</td>\n",
       "      <td>Phone Call</td>\n",
       "      <td>2022-07-27</td>\n",
       "      <td>Unsubscribed</td>\n",
       "      <td>Workshops Delivered</td>\n",
       "      <td>27.0</td>\n",
       "      <td>100.0</td>\n",
       "      <td>2017</td>\n",
       "      <td>2314</td>\n",
       "      <td>1.139482</td>\n",
       "    </tr>\n",
       "  </tbody>\n",
       "</table>\n",
       "<p>17840 rows × 21 columns</p>\n",
       "</div>"
      ],
      "text/plain": [
       "         DonorID  Age  Gender Location                   JoinDate DonationID  \\\n",
       "0       DNR00001   56    Male      QLD 2020-10-03 22:59:27.552825  DNT002656   \n",
       "45      DNR00001   56    Male      QLD 2020-10-03 22:59:27.552825  DNT011160   \n",
       "90      DNR00001   56    Male      QLD 2020-10-03 22:59:27.552825  DNT012124   \n",
       "135     DNR00002   25    Male      ACT 2015-11-01 22:59:27.552825  DNT001904   \n",
       "150     DNR00002   25    Male      ACT 2015-11-01 22:59:27.552825  DNT011974   \n",
       "...          ...  ...     ...      ...                        ...        ...   \n",
       "439963  DNR04888   53   Other      QLD 2015-10-09 22:59:27.552825  DNT017601   \n",
       "439983  DNR04889   30  Female      TAS 2019-10-27 22:59:27.552825  DNT010655   \n",
       "440003  DNR04889   30  Female      TAS 2019-10-27 22:59:27.552825  DNT015750   \n",
       "440023  DNR04890   65  Female      ACT 2024-03-12 22:59:27.552825  DNT017336   \n",
       "440043  DNR04891   30  Female       WA 2023-11-28 22:59:27.552825  DNT017280   \n",
       "\n",
       "       DonationDate  Amount CampaignID          CampaignName  ...  \\\n",
       "0        2015-06-16  124.99    CAMP005  Youth Initiative 005  ...   \n",
       "45       2021-11-20  124.46    CAMP003  Youth Initiative 003  ...   \n",
       "90       2017-09-14  128.22    CAMP010  Youth Initiative 010  ...   \n",
       "135      2020-04-17  175.96    CAMP008  Youth Initiative 008  ...   \n",
       "150      2017-01-19   35.31    CAMP006  Youth Initiative 006  ...   \n",
       "...             ...     ...        ...                   ...  ...   \n",
       "439963   2021-11-19  139.03    CAMP010  Youth Initiative 010  ...   \n",
       "439983   2025-01-01   31.40    CAMP004  Youth Initiative 004  ...   \n",
       "440003   2017-07-11   93.17    CAMP010  Youth Initiative 010  ...   \n",
       "440023   2021-04-21   20.75    CAMP006  Youth Initiative 006  ...   \n",
       "440043   2017-07-29   79.82    CAMP004  Youth Initiative 004  ...   \n",
       "\n",
       "        ActualAmount       Channel       Date EngagementOutcome  \\\n",
       "0           62346.29  Social Media 2022-12-27       Not Reached   \n",
       "45          33179.39  Social Media 2022-12-27       Not Reached   \n",
       "90          54176.99  Social Media 2022-12-27       Not Reached   \n",
       "135        102566.77    Newsletter 2023-09-09       Not Reached   \n",
       "150         39159.84    Newsletter 2023-09-09       Not Reached   \n",
       "...              ...           ...        ...               ...   \n",
       "439963      54176.99    Phone Call 2023-08-21           Engaged   \n",
       "439983      56117.36         Email 2023-07-09           Engaged   \n",
       "440003      54176.99         Email 2023-07-09           Engaged   \n",
       "440023      39159.84  Social Media 2023-02-25           Engaged   \n",
       "440043      56117.36    Phone Call 2022-07-27      Unsubscribed   \n",
       "\n",
       "                 ImpactType Value   Cost  DonationYear  DonorTenure  \\\n",
       "0       Workshops Delivered  31.0  100.0          2015         1937   \n",
       "45      Workshops Delivered  19.0  100.0          2021          412   \n",
       "90      Workshops Delivered  40.0  100.0          2017         1116   \n",
       "135     Workshops Delivered  85.0  100.0          2020         1628   \n",
       "150     Workshops Delivered  25.0  100.0          2017          444   \n",
       "...                     ...   ...    ...           ...          ...   \n",
       "439963  Workshops Delivered  40.0  100.0          2021         2232   \n",
       "439983  Workshops Delivered  27.0  100.0          2025         1892   \n",
       "440003  Workshops Delivered  40.0  100.0          2017          839   \n",
       "440023  Workshops Delivered  25.0  100.0          2021         1057   \n",
       "440043  Workshops Delivered  27.0  100.0          2017         2314   \n",
       "\n",
       "        CampaignSuccessRatio  \n",
       "0                   1.153209  \n",
       "45                  0.859962  \n",
       "90                  1.073751  \n",
       "135                 1.044460  \n",
       "150                 1.179750  \n",
       "...                      ...  \n",
       "439963              1.073751  \n",
       "439983              1.139482  \n",
       "440003              1.073751  \n",
       "440023              1.179750  \n",
       "440043              1.139482  \n",
       "\n",
       "[17840 rows x 21 columns]"
      ]
     },
     "execution_count": 52,
     "metadata": {},
     "output_type": "execute_result"
    }
   ],
   "source": [
    "# Campaign success ratio\n",
    "df['CampaignSuccessRatio'] = df['ActualAmount'] / df['TargetAmount']\n",
    "df"
   ]
  },
  {
   "cell_type": "code",
   "execution_count": 183,
   "id": "088b05b0-2354-45f6-b22e-bda8bbd69576",
   "metadata": {},
   "outputs": [],
   "source": [
    "dataset = df.groupby('DonorID').agg({\n",
    "    'Age':'first',\n",
    "    'Gender':'first',\n",
    "    'Location':'first',\n",
    "   'JoinDate':'first',\n",
    "   'Amount':['sum','mean','count'],\n",
    "   'Channel': lambda x: x.mode()[0],\n",
    "    'EngagementOutcome': lambda x: x.mode()[0]\n",
    "}).reset_index()\n",
    "dataset.columns = ['DonorID','Age','Gender','Location','JoinDate','TotalAmount','AvgAmount','DonationCount','FavChannel','FavEngagementOutcome']\n",
    "\n",
    " #2. Créer les cibles\n",
    "# ------------------------------\n",
    "# Target 1: Donateur fidèle (1 si a fait un don dans les 12 derniers mois)\n",
    "# target 2: Montant futur moyen d'un don (régression)\n",
    "# Ici on simule\n",
    "dataset['FutureDonation'] = np.random.randint(0,2,size=len(dataset))\n",
    "dataset['FutureAmount'] = np.where(dataset['FutureDonation']==1,\n",
    "                                   np.random.uniform(10,500,size=len(dataset)),\n",
    "                                   0)\n"
   ]
  },
  {
   "cell_type": "code",
   "execution_count": 204,
   "id": "9e609d88-7f61-468d-9a59-6d3988fc4c78",
   "metadata": {},
   "outputs": [
    {
     "name": "stdout",
     "output_type": "stream",
     "text": [
      "Précision Classification (probabilité de don futur): 0.4748427672955975\n",
      "RMSE Régression (montant futur): 151.03129002336235\n"
     ]
    }
   ],
   "source": [
    "import pandas as pd\n",
    "from sklearn.model_selection import train_test_split\n",
    "from sklearn.preprocessing import OneHotEncoder, StandardScaler\n",
    "from sklearn.compose import ColumnTransformer\n",
    "from sklearn.pipeline import Pipeline\n",
    "from sklearn.ensemble import RandomForestClassifier, RandomForestRegressor\n",
    "from sklearn.metrics import accuracy_score, mean_squared_error\n",
    "import numpy as np\n",
    "\n",
    "\n",
    "# Exemple de colonnes\n",
    "features = ['Age','Gender','Location','TotalAmount','DonationCount','FavChannel','FavEngagementOutcome']\n",
    "X = dataset[features]\n",
    "y_class = dataset['FutureDonation']  # pour prédire si le donateur fera un futur don\n",
    "y_reg = dataset['FutureAmount']      # pour prédire le montant\n",
    "\n",
    "# Séparer train et test\n",
    "X_train, X_test, y_train_class, y_test_class, y_train_reg, y_test_reg = train_test_split(\n",
    "    X, y_class, y_reg, test_size=0.2, random_state=42\n",
    ")\n",
    "\n",
    "# Préparation des colonnes\n",
    "numeric_features = ['Age','TotalAmount','DonationCount']\n",
    "categorical_features = ['Gender','Location','FavChannel']\n",
    "\n",
    "preprocessor = ColumnTransformer([\n",
    "    ('num', StandardScaler(), numeric_features),\n",
    "    ('cat', OneHotEncoder(handle_unknown='ignore'), categorical_features)\n",
    "])\n",
    "\n",
    "# ----------------- Modèle Classification -----------------\n",
    "clf_pipeline = Pipeline([\n",
    "    ('preprocessor', preprocessor),\n",
    "    ('classifier', RandomForestClassifier(n_estimators=100, random_state=42))\n",
    "])\n",
    "clf_pipeline.fit(X_train, y_train_class)\n",
    "\n",
    "y_pred_class = clf_pipeline.predict(X_test)\n",
    "accuracy = accuracy_score(y_test_class, y_pred_class)\n",
    "print(\"Précision Classification (probabilité de don futur):\", accuracy)\n",
    "\n",
    "# ----------------- Modèle Régression -----------------\n",
    "# On prédit le montant uniquement pour ceux qui feront un don\n",
    "mask = y_train_reg > 0\n",
    "reg_pipeline = Pipeline([\n",
    "    ('preprocessor', preprocessor),\n",
    "    ('regressor', RandomForestRegressor(n_estimators=100, random_state=42))\n",
    "])\n",
    "reg_pipeline.fit(X_train[mask], y_train_reg[mask])\n",
    "\n",
    "# Tester sur les donateurs qui feront un don\n",
    "mask_test = y_test_reg > 0\n",
    "y_pred_reg = reg_pipeline.predict(X_test[mask_test])\n",
    "rmse = np.sqrt(mean_squared_error(y_test_reg[mask_test], y_pred_reg))\n",
    "print(\"RMSE Régression (montant futur):\", rmse)\n"
   ]
  },
  {
   "cell_type": "markdown",
   "id": "t9nLEjsZOwpf",
   "metadata": {
    "id": "t9nLEjsZOwpf"
   },
   "source": [
    "## Model Evaluation"
   ]
  },
  {
   "cell_type": "code",
   "execution_count": 213,
   "id": "21795203-9e40-447c-a116-e63761015808",
   "metadata": {},
   "outputs": [
    {
     "name": "stdout",
     "output_type": "stream",
     "text": [
      "Accuracy: 0.46331236897274636\n",
      "ROC-AUC: 0.462560747992675\n",
      "Confusion Matrix:\n",
      " [[215 243]\n",
      " [269 227]]\n"
     ]
    }
   ],
   "source": [
    "from sklearn.metrics import accuracy_score, roc_auc_score, confusion_matrix\n",
    "\n",
    "# Prédictions sur le test set\n",
    "y_pred_class = clf_pipeline.predict(X_test)\n",
    "y_pred_proba = clf_pipeline.predict_proba(X_test)[:,1]\n",
    "\n",
    "# Accuracy\n",
    "accuracy = accuracy_score(y_test_class, y_pred_class)\n",
    "print(\"Accuracy:\", accuracy)\n",
    "\n",
    "# ROC-AUC\n",
    "roc_auc = roc_auc_score(y_test_class, y_pred_proba)\n",
    "print(\"ROC-AUC:\", roc_auc)\n",
    "\n",
    "# Confusion matrix\n",
    "cm = confusion_matrix(y_test_class, y_pred_class)\n",
    "print(\"Confusion Matrix:\\n\", cm)\n"
   ]
  },
  {
   "cell_type": "markdown",
   "id": "4823aa95-0809-43f2-b68f-86f0d604fdd5",
   "metadata": {},
   "source": [
    "**Prédire la probabilité qu’un donateur fasse un futur don → classification binaire**"
   ]
  },
  {
   "cell_type": "code",
   "execution_count": 206,
   "id": "c0a8f7aa-4593-4da1-8ba4-4db35fc86267",
   "metadata": {},
   "outputs": [
    {
     "name": "stdout",
     "output_type": "stream",
     "text": [
      "Probabilité de futur don: 0.55\n",
      "Montant futur attendu: 241.88 €\n"
     ]
    }
   ],
   "source": [
    "# Exemple de nouvelle donnée d'un donateur\n",
    "new_donor = pd.DataFrame({\n",
    "    'Age': [35],\n",
    "    'Gender': ['Male'],\n",
    "    'Location': ['QLD'],\n",
    "    'TotalAmount': [250],\n",
    "    'DonationCount': [10],\n",
    "    'FavChannel': ['email']\n",
    "})\n",
    "\n",
    "# Prédiction probabilité de futur don\n",
    "prob_don = clf_pipeline.predict_proba(new_donor)[:,1][0]\n",
    "print(f\"Probabilité de futur don: {prob_don:.2f}\")\n",
    "\n",
    "# Prédiction montant futur (même si le donateur ne donnera pas forcément, on peut prédire le montant)\n",
    "future_amount = reg_pipeline.predict(new_donor)[0]\n",
    "print(f\"Montant futur attendu: {future_amount:.2f} €\")\n"
   ]
  },
  {
   "cell_type": "markdown",
   "id": "-UfIayCKUKzq",
   "metadata": {
    "id": "-UfIayCKUKzq"
   },
   "source": [
    "## Recommendations"
   ]
  },
  {
   "cell_type": "markdown",
   "id": "9eO42qsOt47b",
   "metadata": {
    "id": "9eO42qsOt47b"
   },
   "source": [
    "## Contact information"
   ]
  },
  {
   "cell_type": "markdown",
   "id": "8ZbkcWTuulf6",
   "metadata": {
    "id": "8ZbkcWTuulf6"
   },
   "source": [
    "Bellow: The Contact Information Of the Two Data scientist in charge of the project."
   ]
  },
  {
   "cell_type": "markdown",
   "id": "KhRLz8kMt1fp",
   "metadata": {
    "id": "KhRLz8kMt1fp"
   },
   "source": [
    "- First Name: Haender Michael\n",
    "\n",
    "- Last Name : Jean Louis\n",
    "\n",
    "- Email     : michaelhaenderjeanlouis@gmail.com\n",
    "\n",
    "- Phone     : +509 41 75 0264\n",
    "\n",
    "- LinkedIn  : https://www.linkedin.com/in/michael-haender-jean-louis-4b7320316?utm_source=share&utm_campaign=share_via&utm_content=profile&utm_medium=ios_app\n"
   ]
  },
  {
   "cell_type": "markdown",
   "id": "EeRTdqUTt66w",
   "metadata": {
    "id": "EeRTdqUTt66w"
   },
   "source": [
    "- First Name  : John Widno\n",
    "- Last Name   : DORCY\n",
    "- Email       : dorcyjohnwidno97@gmail.com\n",
    "- Phone       : +509 38 05 8388\n",
    "- LinkedIn    : https://www.linkedin.com/in/john-widno-dorcy-19399a216/\n"
   ]
  },
  {
   "cell_type": "markdown",
   "id": "GX46csIwufn0",
   "metadata": {
    "id": "GX46csIwufn0"
   },
   "source": [
    "For further inquiries, feedback, or collaboration on this analysis, feel free to reach out."
   ]
  }
 ],
 "metadata": {
  "colab": {
   "provenance": []
  },
  "kernelspec": {
   "display_name": "Python [conda env:base] *",
   "language": "python",
   "name": "conda-base-py"
  },
  "language_info": {
   "codemirror_mode": {
    "name": "ipython",
    "version": 3
   },
   "file_extension": ".py",
   "mimetype": "text/x-python",
   "name": "python",
   "nbconvert_exporter": "python",
   "pygments_lexer": "ipython3",
   "version": "3.12.7"
  }
 },
 "nbformat": 4,
 "nbformat_minor": 5
}
