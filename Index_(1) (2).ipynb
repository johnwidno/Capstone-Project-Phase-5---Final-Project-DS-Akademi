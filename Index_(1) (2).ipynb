{
  "cells": [
    {
      "cell_type": "markdown",
      "source": [
        "# Predictive Modeling: Donor Retention in Non-Profit Organizations"
      ],
      "metadata": {
        "id": "IpjUlbpAtUKp"
      },
      "id": "IpjUlbpAtUKp"
    },
    {
      "cell_type": "markdown",
      "source": [
        "## Introduction\n",
        "Non-Profit Organizations (NPOs) play a vital role in social, educational, and economic development, but they rely heavily on fundraising, which makes understanding donor behavior critical, as one of the major challenges NPOs face is maintaining donor engagement and loyalty over time.\n",
        "\n",
        "\n",
        "This project aims to tackle this issue by analyzing donor behavior to identify both loyal and at-risk donors. The insights gained will support NPOs in designing more effective fundraising and communication strategies, ultimately enhancing their ability to sustain and grow their initiatives.\n",
        "\n",
        "To achieve this, we use the [Donor Data](https://www.kaggle.com/datasets/maheshpandey87/donor-data/data)\n",
        "from Kaggle, which comprises six tables detailing donors, donations, campaigns, project results, and engagement activities. These data provide a comprehensive view of donor interactions and contributions, forming the basis for our analysis."
      ],
      "metadata": {
        "id": "kJpw65S7-aTQ"
      },
      "id": "kJpw65S7-aTQ"
    },
    {
      "cell_type": "markdown",
      "source": [
        " ## Methodology\n",
        " #### **Exploratory data Analysis**\n",
        " - data preparation\n",
        " - business understanding\n",
        " - data understanding\n",
        " #### **Major questions**\n",
        "These questions deepen our grasp of the business and data context, steering the analysis toward the NPO’s core concerns and enabling a thorough exploration of donor dynamics.\n",
        "\n",
        "This part is crucial, as it serves as a compass that guides our analysis and helps address stakeholders' concerns or uncover relevant information.\n",
        "#### **Modeling**\n",
        "\"\"'''''\n",
        "#### **Model Evaluation**\n",
        "### **Recommendations**\n",
        "### **References**\n",
        "#### **Contact information**\n",
        "the contact information of the two data scientist who work on this project is provided.\n",
        "The scientist colaborated equally on this project.\n",
        "- name\n",
        "- email\n",
        "- phone number\n",
        "- LinkedIn\n"
      ],
      "metadata": {
        "id": "YAmNdHu8tS4y"
      },
      "id": "YAmNdHu8tS4y"
    },
    {
      "cell_type": "markdown",
      "id": "d3e6c625-5dd7-4914-9ea0-4f6565536697",
      "metadata": {
        "id": "d3e6c625-5dd7-4914-9ea0-4f6565536697"
      },
      "source": [
        "## EDA – Exploratory Data Analysis"
      ]
    },
    {
      "cell_type": "markdown",
      "id": "71ab86e1-3070-4e05-9976-545f7634584a",
      "metadata": {
        "id": "71ab86e1-3070-4e05-9976-545f7634584a"
      },
      "source": [
        "### Data preparation"
      ]
    },
    {
      "cell_type": "markdown",
      "source": [
        "**Libraries importation**"
      ],
      "metadata": {
        "id": "_R435S_ch-ti"
      },
      "id": "_R435S_ch-ti"
    },
    {
      "cell_type": "code",
      "execution_count": 1,
      "id": "0985c05b-68a3-4e8e-a9cf-210a3dc5f3c7",
      "metadata": {
        "id": "0985c05b-68a3-4e8e-a9cf-210a3dc5f3c7"
      },
      "outputs": [],
      "source": [
        "import pandas as pd\n",
        "donors= pd.read_csv('donors.csv')\n",
        "campaigns= pd.read_csv('campaigns.csv')\n",
        "donations= pd.read_csv('donations_linked.csv')\n",
        "engagement_history= pd.read_csv('engagement_history.csv')\n",
        "engagement_outcomes =pd.read_csv('engagement_outcomes.csv')\n",
        "impact= pd.read_csv('impact.csv')"
      ]
    },
    {
      "cell_type": "markdown",
      "id": "300fafad-eae5-4498-8cd5-a9689e4f806d",
      "metadata": {
        "id": "300fafad-eae5-4498-8cd5-a9689e4f806d"
      },
      "source": [
        "**Merging all Tables**"
      ]
    },
    {
      "cell_type": "code",
      "execution_count": 2,
      "id": "101188fb-1996-45f4-b093-6a49fd4a444c",
      "metadata": {
        "id": "101188fb-1996-45f4-b093-6a49fd4a444c"
      },
      "outputs": [],
      "source": [
        "Donors_donations= pd.merge(donors,donations , on='DonorID', how='left')\n",
        "Donors_donations_Campaigns= pd.merge(Donors_donations, campaigns, on='CampaignID', how='left')\n",
        "Donors_donations_Campaigns_engagement_history =pd.merge(Donors_donations_Campaigns, engagement_history, on='DonorID',  how='left')\n",
        "Donors_donations_Campaigns_engagement_history_impacts =pd.merge(Donors_donations_Campaigns_engagement_history,impact, on ='CampaignID', how='left')"
      ]
    },
    {
      "cell_type": "markdown",
      "source": [
        "comment: there are 7 tablesin the dataset, we merge 6 of them because donors.csv and donations.csv are the same tables."
      ],
      "metadata": {
        "id": "yRq8YktlnLgW"
      },
      "id": "yRq8YktlnLgW"
    },
    {
      "cell_type": "code",
      "execution_count": 3,
      "id": "ac1372fd-42a5-419b-a5e0-09cca61000f2",
      "metadata": {
        "id": "ac1372fd-42a5-419b-a5e0-09cca61000f2"
      },
      "outputs": [],
      "source": [
        "# all tables are merged into one\n",
        "df=Donors_donations_Campaigns_engagement_history_impacts"
      ]
    },
    {
      "cell_type": "code",
      "execution_count": 4,
      "id": "06128b9b-6680-488e-bd46-7d2141d64495",
      "metadata": {
        "id": "06128b9b-6680-488e-bd46-7d2141d64495",
        "outputId": "03ff7931-e16a-4a5f-e7fa-6e343b9feaea",
        "colab": {
          "base_uri": "https://localhost:8080/",
          "height": 313
        }
      },
      "outputs": [
        {
          "output_type": "execute_result",
          "data": {
            "text/plain": [
              "    DonorID  Age Gender Location                    JoinDate DonationID  \\\n",
              "0  DNR00001   56   Male      QLD  2020-10-03 22:59:27.552825  DNT002656   \n",
              "1  DNR00001   56   Male      QLD  2020-10-03 22:59:27.552825  DNT002656   \n",
              "2  DNR00001   56   Male      QLD  2020-10-03 22:59:27.552825  DNT002656   \n",
              "3  DNR00001   56   Male      QLD  2020-10-03 22:59:27.552825  DNT002656   \n",
              "4  DNR00001   56   Male      QLD  2020-10-03 22:59:27.552825  DNT002656   \n",
              "\n",
              "  DonationDate  Amount CampaignID          CampaignName StartDate  EndDate  \\\n",
              "0   2015-06-16  124.99    CAMP005  Youth Initiative 005   59:27.6  59:27.6   \n",
              "1   2015-06-16  124.99    CAMP005  Youth Initiative 005   59:27.6  59:27.6   \n",
              "2   2015-06-16  124.99    CAMP005  Youth Initiative 005   59:27.6  59:27.6   \n",
              "3   2015-06-16  124.99    CAMP005  Youth Initiative 005   59:27.6  59:27.6   \n",
              "4   2015-06-16  124.99    CAMP005  Youth Initiative 005   59:27.6  59:27.6   \n",
              "\n",
              "   TargetAmount  ActualAmount       Channel        Date EngagementOutcome  \\\n",
              "0      54063.32      62346.29  Social Media  27/12/2022       Not Reached   \n",
              "1      54063.32      62346.29  Social Media  27/12/2022       Not Reached   \n",
              "2      54063.32      62346.29  Social Media  27/12/2022       Not Reached   \n",
              "3      54063.32      62346.29  Social Media  27/12/2022       Not Reached   \n",
              "4      54063.32      62346.29  Social Media  27/12/2022       Not Reached   \n",
              "\n",
              "            ImpactType  Value   Cost  \n",
              "0  Workshops Delivered   31.0  100.0  \n",
              "1        Youth Reached  851.0   25.0  \n",
              "2   Volunteers Engaged  450.0   25.0  \n",
              "3    Training Sessions  100.0   75.0  \n",
              "4     Mentorship Hours  406.0   35.0  "
            ],
            "text/html": [
              "\n",
              "  <div id=\"df-f9280b50-ffe2-4d0a-86ab-e7b2c6f53b32\" class=\"colab-df-container\">\n",
              "    <div>\n",
              "<style scoped>\n",
              "    .dataframe tbody tr th:only-of-type {\n",
              "        vertical-align: middle;\n",
              "    }\n",
              "\n",
              "    .dataframe tbody tr th {\n",
              "        vertical-align: top;\n",
              "    }\n",
              "\n",
              "    .dataframe thead th {\n",
              "        text-align: right;\n",
              "    }\n",
              "</style>\n",
              "<table border=\"1\" class=\"dataframe\">\n",
              "  <thead>\n",
              "    <tr style=\"text-align: right;\">\n",
              "      <th></th>\n",
              "      <th>DonorID</th>\n",
              "      <th>Age</th>\n",
              "      <th>Gender</th>\n",
              "      <th>Location</th>\n",
              "      <th>JoinDate</th>\n",
              "      <th>DonationID</th>\n",
              "      <th>DonationDate</th>\n",
              "      <th>Amount</th>\n",
              "      <th>CampaignID</th>\n",
              "      <th>CampaignName</th>\n",
              "      <th>StartDate</th>\n",
              "      <th>EndDate</th>\n",
              "      <th>TargetAmount</th>\n",
              "      <th>ActualAmount</th>\n",
              "      <th>Channel</th>\n",
              "      <th>Date</th>\n",
              "      <th>EngagementOutcome</th>\n",
              "      <th>ImpactType</th>\n",
              "      <th>Value</th>\n",
              "      <th>Cost</th>\n",
              "    </tr>\n",
              "  </thead>\n",
              "  <tbody>\n",
              "    <tr>\n",
              "      <th>0</th>\n",
              "      <td>DNR00001</td>\n",
              "      <td>56</td>\n",
              "      <td>Male</td>\n",
              "      <td>QLD</td>\n",
              "      <td>2020-10-03 22:59:27.552825</td>\n",
              "      <td>DNT002656</td>\n",
              "      <td>2015-06-16</td>\n",
              "      <td>124.99</td>\n",
              "      <td>CAMP005</td>\n",
              "      <td>Youth Initiative 005</td>\n",
              "      <td>59:27.6</td>\n",
              "      <td>59:27.6</td>\n",
              "      <td>54063.32</td>\n",
              "      <td>62346.29</td>\n",
              "      <td>Social Media</td>\n",
              "      <td>27/12/2022</td>\n",
              "      <td>Not Reached</td>\n",
              "      <td>Workshops Delivered</td>\n",
              "      <td>31.0</td>\n",
              "      <td>100.0</td>\n",
              "    </tr>\n",
              "    <tr>\n",
              "      <th>1</th>\n",
              "      <td>DNR00001</td>\n",
              "      <td>56</td>\n",
              "      <td>Male</td>\n",
              "      <td>QLD</td>\n",
              "      <td>2020-10-03 22:59:27.552825</td>\n",
              "      <td>DNT002656</td>\n",
              "      <td>2015-06-16</td>\n",
              "      <td>124.99</td>\n",
              "      <td>CAMP005</td>\n",
              "      <td>Youth Initiative 005</td>\n",
              "      <td>59:27.6</td>\n",
              "      <td>59:27.6</td>\n",
              "      <td>54063.32</td>\n",
              "      <td>62346.29</td>\n",
              "      <td>Social Media</td>\n",
              "      <td>27/12/2022</td>\n",
              "      <td>Not Reached</td>\n",
              "      <td>Youth Reached</td>\n",
              "      <td>851.0</td>\n",
              "      <td>25.0</td>\n",
              "    </tr>\n",
              "    <tr>\n",
              "      <th>2</th>\n",
              "      <td>DNR00001</td>\n",
              "      <td>56</td>\n",
              "      <td>Male</td>\n",
              "      <td>QLD</td>\n",
              "      <td>2020-10-03 22:59:27.552825</td>\n",
              "      <td>DNT002656</td>\n",
              "      <td>2015-06-16</td>\n",
              "      <td>124.99</td>\n",
              "      <td>CAMP005</td>\n",
              "      <td>Youth Initiative 005</td>\n",
              "      <td>59:27.6</td>\n",
              "      <td>59:27.6</td>\n",
              "      <td>54063.32</td>\n",
              "      <td>62346.29</td>\n",
              "      <td>Social Media</td>\n",
              "      <td>27/12/2022</td>\n",
              "      <td>Not Reached</td>\n",
              "      <td>Volunteers Engaged</td>\n",
              "      <td>450.0</td>\n",
              "      <td>25.0</td>\n",
              "    </tr>\n",
              "    <tr>\n",
              "      <th>3</th>\n",
              "      <td>DNR00001</td>\n",
              "      <td>56</td>\n",
              "      <td>Male</td>\n",
              "      <td>QLD</td>\n",
              "      <td>2020-10-03 22:59:27.552825</td>\n",
              "      <td>DNT002656</td>\n",
              "      <td>2015-06-16</td>\n",
              "      <td>124.99</td>\n",
              "      <td>CAMP005</td>\n",
              "      <td>Youth Initiative 005</td>\n",
              "      <td>59:27.6</td>\n",
              "      <td>59:27.6</td>\n",
              "      <td>54063.32</td>\n",
              "      <td>62346.29</td>\n",
              "      <td>Social Media</td>\n",
              "      <td>27/12/2022</td>\n",
              "      <td>Not Reached</td>\n",
              "      <td>Training Sessions</td>\n",
              "      <td>100.0</td>\n",
              "      <td>75.0</td>\n",
              "    </tr>\n",
              "    <tr>\n",
              "      <th>4</th>\n",
              "      <td>DNR00001</td>\n",
              "      <td>56</td>\n",
              "      <td>Male</td>\n",
              "      <td>QLD</td>\n",
              "      <td>2020-10-03 22:59:27.552825</td>\n",
              "      <td>DNT002656</td>\n",
              "      <td>2015-06-16</td>\n",
              "      <td>124.99</td>\n",
              "      <td>CAMP005</td>\n",
              "      <td>Youth Initiative 005</td>\n",
              "      <td>59:27.6</td>\n",
              "      <td>59:27.6</td>\n",
              "      <td>54063.32</td>\n",
              "      <td>62346.29</td>\n",
              "      <td>Social Media</td>\n",
              "      <td>27/12/2022</td>\n",
              "      <td>Not Reached</td>\n",
              "      <td>Mentorship Hours</td>\n",
              "      <td>406.0</td>\n",
              "      <td>35.0</td>\n",
              "    </tr>\n",
              "  </tbody>\n",
              "</table>\n",
              "</div>\n",
              "    <div class=\"colab-df-buttons\">\n",
              "\n",
              "  <div class=\"colab-df-container\">\n",
              "    <button class=\"colab-df-convert\" onclick=\"convertToInteractive('df-f9280b50-ffe2-4d0a-86ab-e7b2c6f53b32')\"\n",
              "            title=\"Convert this dataframe to an interactive table.\"\n",
              "            style=\"display:none;\">\n",
              "\n",
              "  <svg xmlns=\"http://www.w3.org/2000/svg\" height=\"24px\" viewBox=\"0 -960 960 960\">\n",
              "    <path d=\"M120-120v-720h720v720H120Zm60-500h600v-160H180v160Zm220 220h160v-160H400v160Zm0 220h160v-160H400v160ZM180-400h160v-160H180v160Zm440 0h160v-160H620v160ZM180-180h160v-160H180v160Zm440 0h160v-160H620v160Z\"/>\n",
              "  </svg>\n",
              "    </button>\n",
              "\n",
              "  <style>\n",
              "    .colab-df-container {\n",
              "      display:flex;\n",
              "      gap: 12px;\n",
              "    }\n",
              "\n",
              "    .colab-df-convert {\n",
              "      background-color: #E8F0FE;\n",
              "      border: none;\n",
              "      border-radius: 50%;\n",
              "      cursor: pointer;\n",
              "      display: none;\n",
              "      fill: #1967D2;\n",
              "      height: 32px;\n",
              "      padding: 0 0 0 0;\n",
              "      width: 32px;\n",
              "    }\n",
              "\n",
              "    .colab-df-convert:hover {\n",
              "      background-color: #E2EBFA;\n",
              "      box-shadow: 0px 1px 2px rgba(60, 64, 67, 0.3), 0px 1px 3px 1px rgba(60, 64, 67, 0.15);\n",
              "      fill: #174EA6;\n",
              "    }\n",
              "\n",
              "    .colab-df-buttons div {\n",
              "      margin-bottom: 4px;\n",
              "    }\n",
              "\n",
              "    [theme=dark] .colab-df-convert {\n",
              "      background-color: #3B4455;\n",
              "      fill: #D2E3FC;\n",
              "    }\n",
              "\n",
              "    [theme=dark] .colab-df-convert:hover {\n",
              "      background-color: #434B5C;\n",
              "      box-shadow: 0px 1px 3px 1px rgba(0, 0, 0, 0.15);\n",
              "      filter: drop-shadow(0px 1px 2px rgba(0, 0, 0, 0.3));\n",
              "      fill: #FFFFFF;\n",
              "    }\n",
              "  </style>\n",
              "\n",
              "    <script>\n",
              "      const buttonEl =\n",
              "        document.querySelector('#df-f9280b50-ffe2-4d0a-86ab-e7b2c6f53b32 button.colab-df-convert');\n",
              "      buttonEl.style.display =\n",
              "        google.colab.kernel.accessAllowed ? 'block' : 'none';\n",
              "\n",
              "      async function convertToInteractive(key) {\n",
              "        const element = document.querySelector('#df-f9280b50-ffe2-4d0a-86ab-e7b2c6f53b32');\n",
              "        const dataTable =\n",
              "          await google.colab.kernel.invokeFunction('convertToInteractive',\n",
              "                                                    [key], {});\n",
              "        if (!dataTable) return;\n",
              "\n",
              "        const docLinkHtml = 'Like what you see? Visit the ' +\n",
              "          '<a target=\"_blank\" href=https://colab.research.google.com/notebooks/data_table.ipynb>data table notebook</a>'\n",
              "          + ' to learn more about interactive tables.';\n",
              "        element.innerHTML = '';\n",
              "        dataTable['output_type'] = 'display_data';\n",
              "        await google.colab.output.renderOutput(dataTable, element);\n",
              "        const docLink = document.createElement('div');\n",
              "        docLink.innerHTML = docLinkHtml;\n",
              "        element.appendChild(docLink);\n",
              "      }\n",
              "    </script>\n",
              "  </div>\n",
              "\n",
              "\n",
              "    <div id=\"df-83e9df91-e29d-404f-9f96-479dc1bd4082\">\n",
              "      <button class=\"colab-df-quickchart\" onclick=\"quickchart('df-83e9df91-e29d-404f-9f96-479dc1bd4082')\"\n",
              "                title=\"Suggest charts\"\n",
              "                style=\"display:none;\">\n",
              "\n",
              "<svg xmlns=\"http://www.w3.org/2000/svg\" height=\"24px\"viewBox=\"0 0 24 24\"\n",
              "     width=\"24px\">\n",
              "    <g>\n",
              "        <path d=\"M19 3H5c-1.1 0-2 .9-2 2v14c0 1.1.9 2 2 2h14c1.1 0 2-.9 2-2V5c0-1.1-.9-2-2-2zM9 17H7v-7h2v7zm4 0h-2V7h2v10zm4 0h-2v-4h2v4z\"/>\n",
              "    </g>\n",
              "</svg>\n",
              "      </button>\n",
              "\n",
              "<style>\n",
              "  .colab-df-quickchart {\n",
              "      --bg-color: #E8F0FE;\n",
              "      --fill-color: #1967D2;\n",
              "      --hover-bg-color: #E2EBFA;\n",
              "      --hover-fill-color: #174EA6;\n",
              "      --disabled-fill-color: #AAA;\n",
              "      --disabled-bg-color: #DDD;\n",
              "  }\n",
              "\n",
              "  [theme=dark] .colab-df-quickchart {\n",
              "      --bg-color: #3B4455;\n",
              "      --fill-color: #D2E3FC;\n",
              "      --hover-bg-color: #434B5C;\n",
              "      --hover-fill-color: #FFFFFF;\n",
              "      --disabled-bg-color: #3B4455;\n",
              "      --disabled-fill-color: #666;\n",
              "  }\n",
              "\n",
              "  .colab-df-quickchart {\n",
              "    background-color: var(--bg-color);\n",
              "    border: none;\n",
              "    border-radius: 50%;\n",
              "    cursor: pointer;\n",
              "    display: none;\n",
              "    fill: var(--fill-color);\n",
              "    height: 32px;\n",
              "    padding: 0;\n",
              "    width: 32px;\n",
              "  }\n",
              "\n",
              "  .colab-df-quickchart:hover {\n",
              "    background-color: var(--hover-bg-color);\n",
              "    box-shadow: 0 1px 2px rgba(60, 64, 67, 0.3), 0 1px 3px 1px rgba(60, 64, 67, 0.15);\n",
              "    fill: var(--button-hover-fill-color);\n",
              "  }\n",
              "\n",
              "  .colab-df-quickchart-complete:disabled,\n",
              "  .colab-df-quickchart-complete:disabled:hover {\n",
              "    background-color: var(--disabled-bg-color);\n",
              "    fill: var(--disabled-fill-color);\n",
              "    box-shadow: none;\n",
              "  }\n",
              "\n",
              "  .colab-df-spinner {\n",
              "    border: 2px solid var(--fill-color);\n",
              "    border-color: transparent;\n",
              "    border-bottom-color: var(--fill-color);\n",
              "    animation:\n",
              "      spin 1s steps(1) infinite;\n",
              "  }\n",
              "\n",
              "  @keyframes spin {\n",
              "    0% {\n",
              "      border-color: transparent;\n",
              "      border-bottom-color: var(--fill-color);\n",
              "      border-left-color: var(--fill-color);\n",
              "    }\n",
              "    20% {\n",
              "      border-color: transparent;\n",
              "      border-left-color: var(--fill-color);\n",
              "      border-top-color: var(--fill-color);\n",
              "    }\n",
              "    30% {\n",
              "      border-color: transparent;\n",
              "      border-left-color: var(--fill-color);\n",
              "      border-top-color: var(--fill-color);\n",
              "      border-right-color: var(--fill-color);\n",
              "    }\n",
              "    40% {\n",
              "      border-color: transparent;\n",
              "      border-right-color: var(--fill-color);\n",
              "      border-top-color: var(--fill-color);\n",
              "    }\n",
              "    60% {\n",
              "      border-color: transparent;\n",
              "      border-right-color: var(--fill-color);\n",
              "    }\n",
              "    80% {\n",
              "      border-color: transparent;\n",
              "      border-right-color: var(--fill-color);\n",
              "      border-bottom-color: var(--fill-color);\n",
              "    }\n",
              "    90% {\n",
              "      border-color: transparent;\n",
              "      border-bottom-color: var(--fill-color);\n",
              "    }\n",
              "  }\n",
              "</style>\n",
              "\n",
              "      <script>\n",
              "        async function quickchart(key) {\n",
              "          const quickchartButtonEl =\n",
              "            document.querySelector('#' + key + ' button');\n",
              "          quickchartButtonEl.disabled = true;  // To prevent multiple clicks.\n",
              "          quickchartButtonEl.classList.add('colab-df-spinner');\n",
              "          try {\n",
              "            const charts = await google.colab.kernel.invokeFunction(\n",
              "                'suggestCharts', [key], {});\n",
              "          } catch (error) {\n",
              "            console.error('Error during call to suggestCharts:', error);\n",
              "          }\n",
              "          quickchartButtonEl.classList.remove('colab-df-spinner');\n",
              "          quickchartButtonEl.classList.add('colab-df-quickchart-complete');\n",
              "        }\n",
              "        (() => {\n",
              "          let quickchartButtonEl =\n",
              "            document.querySelector('#df-83e9df91-e29d-404f-9f96-479dc1bd4082 button');\n",
              "          quickchartButtonEl.style.display =\n",
              "            google.colab.kernel.accessAllowed ? 'block' : 'none';\n",
              "        })();\n",
              "      </script>\n",
              "    </div>\n",
              "\n",
              "    </div>\n",
              "  </div>\n"
            ],
            "application/vnd.google.colaboratory.intrinsic+json": {
              "type": "dataframe",
              "variable_name": "df"
            }
          },
          "metadata": {},
          "execution_count": 4
        }
      ],
      "source": [
        "# the merged table\n",
        "df.head()"
      ]
    },
    {
      "cell_type": "markdown",
      "id": "1d57bc6c-c92b-497a-9faa-609f6a091ff4",
      "metadata": {
        "id": "1d57bc6c-c92b-497a-9faa-609f6a091ff4"
      },
      "source": [
        "**Table's shape**"
      ]
    },
    {
      "cell_type": "code",
      "source": [
        "df.shape"
      ],
      "metadata": {
        "colab": {
          "base_uri": "https://localhost:8080/"
        },
        "id": "7QF6JCiSulgN",
        "outputId": "ca33842d-2a42-449c-be94-f55d350ffe53"
      },
      "id": "7QF6JCiSulgN",
      "execution_count": 5,
      "outputs": [
        {
          "output_type": "execute_result",
          "data": {
            "text/plain": [
              "(440083, 20)"
            ]
          },
          "metadata": {},
          "execution_count": 5
        }
      ]
    },
    {
      "cell_type": "markdown",
      "source": [
        "**Null values**"
      ],
      "metadata": {
        "id": "pDsEqVw1uE-8"
      },
      "id": "pDsEqVw1uE-8"
    },
    {
      "cell_type": "code",
      "execution_count": 6,
      "id": "a714f3ff-7b53-4831-aa2a-303da5391385",
      "metadata": {
        "id": "a714f3ff-7b53-4831-aa2a-303da5391385"
      },
      "outputs": [],
      "source": [
        "# drop rows with null values\n",
        "df[df.isnull().any(axis=1)]\n",
        "df = df.dropna(subset=['DonationID'])"
      ]
    },
    {
      "cell_type": "markdown",
      "source": [
        "**Duplicates**"
      ],
      "metadata": {
        "id": "k6SPEIPCu-WK"
      },
      "id": "k6SPEIPCu-WK"
    },
    {
      "cell_type": "code",
      "execution_count": 7,
      "id": "6744d8d5-de4e-4ac3-b67b-686983b86f08",
      "metadata": {
        "id": "6744d8d5-de4e-4ac3-b67b-686983b86f08",
        "outputId": "1933c56f-d248-4ee6-87f0-9bb23e5b1048",
        "colab": {
          "base_uri": "https://localhost:8080/"
        }
      },
      "outputs": [
        {
          "output_type": "stream",
          "name": "stdout",
          "text": [
            "Duplicate rows: 205\n"
          ]
        }
      ],
      "source": [
        "# drop rows with duplicates\n",
        "duplicates = df[df.duplicated()]\n",
        "print(\"Duplicate rows:\", duplicates.shape[0])"
      ]
    },
    {
      "cell_type": "code",
      "execution_count": 8,
      "id": "137846c1-0045-49c3-88d9-72dd5e488cec",
      "metadata": {
        "id": "137846c1-0045-49c3-88d9-72dd5e488cec"
      },
      "outputs": [],
      "source": [
        "# to verify run the following code\n",
        "# df.isnull().sum().sort_values(ascending=False)"
      ]
    },
    {
      "cell_type": "markdown",
      "source": [
        "**Reformating**"
      ],
      "metadata": {
        "id": "48X_fFDkwG4J"
      },
      "id": "48X_fFDkwG4J"
    },
    {
      "cell_type": "code",
      "execution_count": 9,
      "id": "6a44cca6-2a64-415d-993a-9478e83dd37d",
      "metadata": {
        "id": "6a44cca6-2a64-415d-993a-9478e83dd37d",
        "outputId": "2d18f681-6f7d-48e9-e16b-677d4b0c0ef3",
        "colab": {
          "base_uri": "https://localhost:8080/"
        }
      },
      "outputs": [
        {
          "output_type": "stream",
          "name": "stderr",
          "text": [
            "/tmp/ipython-input-2582752045.py:2: SettingWithCopyWarning: \n",
            "A value is trying to be set on a copy of a slice from a DataFrame.\n",
            "Try using .loc[row_indexer,col_indexer] = value instead\n",
            "\n",
            "See the caveats in the documentation: https://pandas.pydata.org/pandas-docs/stable/user_guide/indexing.html#returning-a-view-versus-a-copy\n",
            "  df['JoinDate'] = pd.to_datetime(df['JoinDate'])\n",
            "/tmp/ipython-input-2582752045.py:3: SettingWithCopyWarning: \n",
            "A value is trying to be set on a copy of a slice from a DataFrame.\n",
            "Try using .loc[row_indexer,col_indexer] = value instead\n",
            "\n",
            "See the caveats in the documentation: https://pandas.pydata.org/pandas-docs/stable/user_guide/indexing.html#returning-a-view-versus-a-copy\n",
            "  df['JoinDate'] = df['JoinDate'].dt.date\n"
          ]
        }
      ],
      "source": [
        "# reformat rows for better data management.\n",
        "df['JoinDate'] = pd.to_datetime(df['JoinDate'])\n",
        "df['JoinDate'] = df['JoinDate'].dt.date\n"
      ]
    },
    {
      "cell_type": "code",
      "execution_count": 10,
      "id": "b160daa3-5fec-4f5e-8aa0-e0b03f8624cd",
      "metadata": {
        "id": "b160daa3-5fec-4f5e-8aa0-e0b03f8624cd"
      },
      "outputs": [],
      "source": [
        "# after cleaning we save the  merged dataset\n",
        "df.to_csv('Data.csv',index=0)"
      ]
    },
    {
      "cell_type": "markdown",
      "source": [
        "### Business understanding\n",
        "\n",
        "In today’s fast-evolving fundraising landscape, nonprofit organisations face growing pressure to engage supporters meaningfully, demonstrate impact, and build trust through transparency. Traditional, instinct-driven approaches no longer meet modern donor expectations\n",
        "\n",
        "Adopting a data-informed approach is not just a technical upgrade—it’s a cultural shift that aligns mission, message, and measurement. With the right mindset and existing tools, even small organisations can use data to boost engagement and impact (Analytics for Good Institute, 2020).\n",
        "\n",
        "Delivering measurable change increasingly depends on how well nonprofits engage and retain supporters. As donor expectations rise and attention spans shrink, sustaining long-term relationships becomes a major challenge (Fundraise, 2024). Data-driven organisations are up to three times more likely to achieve mission-aligned growth and build lasting trust (McKinsey & Company, 2021).\n",
        "\n",
        "Our objectives focus on reducing donor churn, strengthening relationships, and improving alignment between fundraising and impact. We aim to engage donors and inspire new strategies for attraction and retention and show data inpired Analysis and modeling in the context of NPOs.\n",
        "\n",
        "\n",
        "\n",
        "\n",
        "\n"
      ],
      "metadata": {
        "id": "08XE7cJYFb2F"
      },
      "id": "08XE7cJYFb2F"
    },
    {
      "cell_type": "markdown",
      "source": [
        "### Data Understanding\n",
        "A synthetic dataset was created to reflect the operational characteristics of a nonprofit focused on youth and community welfare. It includes relational tables for donors, donations, campaigns, impact outcomes, and engagement activities. These tables are structured to support a complete engagement analysis from start to finish.\n",
        "\n",
        "Although the data is fictitious, it reflects realistic patterns based on sector research. These patterns include donor attrition, variations in donation behavior, and inconsistent campaign performance (Virtuous, 2024). The goal is to encourage the use of data in nonprofit environments and to provide the NPO community with a clear example of what a data-informed approach can accomplish. This simulation allows for open analysis while maintaining privacy and ethical standards.\n",
        "\n",
        "The structure of the dataset makes it possible to demonstrate how nonprofit engagement can be improved through analytics without relying on sensitive real-world data.\n"
      ],
      "metadata": {
        "id": "mfk5egLimVHF"
      },
      "id": "mfk5egLimVHF"
    },
    {
      "cell_type": "markdown",
      "source": [
        "## Major questions\n",
        "this section is a follow up of the two previous sections. it builds our business and data understanding and allow us to leverage the data to get meaningful and pertinent information."
      ],
      "metadata": {
        "id": "V5jg7EO2z6v7"
      },
      "id": "V5jg7EO2z6v7"
    },
    {
      "cell_type": "markdown",
      "source": [
        "\"\"\" 3 aspects for this analysis"
      ],
      "metadata": {
        "id": "ReW3JXmqFyAa"
      },
      "id": "ReW3JXmqFyAa"
    },
    {
      "cell_type": "code",
      "source": [
        "df.head()"
      ],
      "metadata": {
        "colab": {
          "base_uri": "https://localhost:8080/",
          "height": 313
        },
        "id": "hd_laYc2GtFD",
        "outputId": "ff727204-858b-4e6f-9656-a3ae181393b4"
      },
      "id": "hd_laYc2GtFD",
      "execution_count": 13,
      "outputs": [
        {
          "output_type": "execute_result",
          "data": {
            "text/plain": [
              "    DonorID  Age Gender Location    JoinDate DonationID DonationDate  Amount  \\\n",
              "0  DNR00001   56   Male      QLD  2020-10-03  DNT002656   2015-06-16  124.99   \n",
              "1  DNR00001   56   Male      QLD  2020-10-03  DNT002656   2015-06-16  124.99   \n",
              "2  DNR00001   56   Male      QLD  2020-10-03  DNT002656   2015-06-16  124.99   \n",
              "3  DNR00001   56   Male      QLD  2020-10-03  DNT002656   2015-06-16  124.99   \n",
              "4  DNR00001   56   Male      QLD  2020-10-03  DNT002656   2015-06-16  124.99   \n",
              "\n",
              "  CampaignID          CampaignName StartDate  EndDate  TargetAmount  \\\n",
              "0    CAMP005  Youth Initiative 005   59:27.6  59:27.6      54063.32   \n",
              "1    CAMP005  Youth Initiative 005   59:27.6  59:27.6      54063.32   \n",
              "2    CAMP005  Youth Initiative 005   59:27.6  59:27.6      54063.32   \n",
              "3    CAMP005  Youth Initiative 005   59:27.6  59:27.6      54063.32   \n",
              "4    CAMP005  Youth Initiative 005   59:27.6  59:27.6      54063.32   \n",
              "\n",
              "   ActualAmount       Channel        Date EngagementOutcome  \\\n",
              "0      62346.29  Social Media  27/12/2022       Not Reached   \n",
              "1      62346.29  Social Media  27/12/2022       Not Reached   \n",
              "2      62346.29  Social Media  27/12/2022       Not Reached   \n",
              "3      62346.29  Social Media  27/12/2022       Not Reached   \n",
              "4      62346.29  Social Media  27/12/2022       Not Reached   \n",
              "\n",
              "            ImpactType  Value   Cost  \n",
              "0  Workshops Delivered   31.0  100.0  \n",
              "1        Youth Reached  851.0   25.0  \n",
              "2   Volunteers Engaged  450.0   25.0  \n",
              "3    Training Sessions  100.0   75.0  \n",
              "4     Mentorship Hours  406.0   35.0  "
            ],
            "text/html": [
              "\n",
              "  <div id=\"df-239eda7e-03b5-44a8-add8-d795f3375520\" class=\"colab-df-container\">\n",
              "    <div>\n",
              "<style scoped>\n",
              "    .dataframe tbody tr th:only-of-type {\n",
              "        vertical-align: middle;\n",
              "    }\n",
              "\n",
              "    .dataframe tbody tr th {\n",
              "        vertical-align: top;\n",
              "    }\n",
              "\n",
              "    .dataframe thead th {\n",
              "        text-align: right;\n",
              "    }\n",
              "</style>\n",
              "<table border=\"1\" class=\"dataframe\">\n",
              "  <thead>\n",
              "    <tr style=\"text-align: right;\">\n",
              "      <th></th>\n",
              "      <th>DonorID</th>\n",
              "      <th>Age</th>\n",
              "      <th>Gender</th>\n",
              "      <th>Location</th>\n",
              "      <th>JoinDate</th>\n",
              "      <th>DonationID</th>\n",
              "      <th>DonationDate</th>\n",
              "      <th>Amount</th>\n",
              "      <th>CampaignID</th>\n",
              "      <th>CampaignName</th>\n",
              "      <th>StartDate</th>\n",
              "      <th>EndDate</th>\n",
              "      <th>TargetAmount</th>\n",
              "      <th>ActualAmount</th>\n",
              "      <th>Channel</th>\n",
              "      <th>Date</th>\n",
              "      <th>EngagementOutcome</th>\n",
              "      <th>ImpactType</th>\n",
              "      <th>Value</th>\n",
              "      <th>Cost</th>\n",
              "    </tr>\n",
              "  </thead>\n",
              "  <tbody>\n",
              "    <tr>\n",
              "      <th>0</th>\n",
              "      <td>DNR00001</td>\n",
              "      <td>56</td>\n",
              "      <td>Male</td>\n",
              "      <td>QLD</td>\n",
              "      <td>2020-10-03</td>\n",
              "      <td>DNT002656</td>\n",
              "      <td>2015-06-16</td>\n",
              "      <td>124.99</td>\n",
              "      <td>CAMP005</td>\n",
              "      <td>Youth Initiative 005</td>\n",
              "      <td>59:27.6</td>\n",
              "      <td>59:27.6</td>\n",
              "      <td>54063.32</td>\n",
              "      <td>62346.29</td>\n",
              "      <td>Social Media</td>\n",
              "      <td>27/12/2022</td>\n",
              "      <td>Not Reached</td>\n",
              "      <td>Workshops Delivered</td>\n",
              "      <td>31.0</td>\n",
              "      <td>100.0</td>\n",
              "    </tr>\n",
              "    <tr>\n",
              "      <th>1</th>\n",
              "      <td>DNR00001</td>\n",
              "      <td>56</td>\n",
              "      <td>Male</td>\n",
              "      <td>QLD</td>\n",
              "      <td>2020-10-03</td>\n",
              "      <td>DNT002656</td>\n",
              "      <td>2015-06-16</td>\n",
              "      <td>124.99</td>\n",
              "      <td>CAMP005</td>\n",
              "      <td>Youth Initiative 005</td>\n",
              "      <td>59:27.6</td>\n",
              "      <td>59:27.6</td>\n",
              "      <td>54063.32</td>\n",
              "      <td>62346.29</td>\n",
              "      <td>Social Media</td>\n",
              "      <td>27/12/2022</td>\n",
              "      <td>Not Reached</td>\n",
              "      <td>Youth Reached</td>\n",
              "      <td>851.0</td>\n",
              "      <td>25.0</td>\n",
              "    </tr>\n",
              "    <tr>\n",
              "      <th>2</th>\n",
              "      <td>DNR00001</td>\n",
              "      <td>56</td>\n",
              "      <td>Male</td>\n",
              "      <td>QLD</td>\n",
              "      <td>2020-10-03</td>\n",
              "      <td>DNT002656</td>\n",
              "      <td>2015-06-16</td>\n",
              "      <td>124.99</td>\n",
              "      <td>CAMP005</td>\n",
              "      <td>Youth Initiative 005</td>\n",
              "      <td>59:27.6</td>\n",
              "      <td>59:27.6</td>\n",
              "      <td>54063.32</td>\n",
              "      <td>62346.29</td>\n",
              "      <td>Social Media</td>\n",
              "      <td>27/12/2022</td>\n",
              "      <td>Not Reached</td>\n",
              "      <td>Volunteers Engaged</td>\n",
              "      <td>450.0</td>\n",
              "      <td>25.0</td>\n",
              "    </tr>\n",
              "    <tr>\n",
              "      <th>3</th>\n",
              "      <td>DNR00001</td>\n",
              "      <td>56</td>\n",
              "      <td>Male</td>\n",
              "      <td>QLD</td>\n",
              "      <td>2020-10-03</td>\n",
              "      <td>DNT002656</td>\n",
              "      <td>2015-06-16</td>\n",
              "      <td>124.99</td>\n",
              "      <td>CAMP005</td>\n",
              "      <td>Youth Initiative 005</td>\n",
              "      <td>59:27.6</td>\n",
              "      <td>59:27.6</td>\n",
              "      <td>54063.32</td>\n",
              "      <td>62346.29</td>\n",
              "      <td>Social Media</td>\n",
              "      <td>27/12/2022</td>\n",
              "      <td>Not Reached</td>\n",
              "      <td>Training Sessions</td>\n",
              "      <td>100.0</td>\n",
              "      <td>75.0</td>\n",
              "    </tr>\n",
              "    <tr>\n",
              "      <th>4</th>\n",
              "      <td>DNR00001</td>\n",
              "      <td>56</td>\n",
              "      <td>Male</td>\n",
              "      <td>QLD</td>\n",
              "      <td>2020-10-03</td>\n",
              "      <td>DNT002656</td>\n",
              "      <td>2015-06-16</td>\n",
              "      <td>124.99</td>\n",
              "      <td>CAMP005</td>\n",
              "      <td>Youth Initiative 005</td>\n",
              "      <td>59:27.6</td>\n",
              "      <td>59:27.6</td>\n",
              "      <td>54063.32</td>\n",
              "      <td>62346.29</td>\n",
              "      <td>Social Media</td>\n",
              "      <td>27/12/2022</td>\n",
              "      <td>Not Reached</td>\n",
              "      <td>Mentorship Hours</td>\n",
              "      <td>406.0</td>\n",
              "      <td>35.0</td>\n",
              "    </tr>\n",
              "  </tbody>\n",
              "</table>\n",
              "</div>\n",
              "    <div class=\"colab-df-buttons\">\n",
              "\n",
              "  <div class=\"colab-df-container\">\n",
              "    <button class=\"colab-df-convert\" onclick=\"convertToInteractive('df-239eda7e-03b5-44a8-add8-d795f3375520')\"\n",
              "            title=\"Convert this dataframe to an interactive table.\"\n",
              "            style=\"display:none;\">\n",
              "\n",
              "  <svg xmlns=\"http://www.w3.org/2000/svg\" height=\"24px\" viewBox=\"0 -960 960 960\">\n",
              "    <path d=\"M120-120v-720h720v720H120Zm60-500h600v-160H180v160Zm220 220h160v-160H400v160Zm0 220h160v-160H400v160ZM180-400h160v-160H180v160Zm440 0h160v-160H620v160ZM180-180h160v-160H180v160Zm440 0h160v-160H620v160Z\"/>\n",
              "  </svg>\n",
              "    </button>\n",
              "\n",
              "  <style>\n",
              "    .colab-df-container {\n",
              "      display:flex;\n",
              "      gap: 12px;\n",
              "    }\n",
              "\n",
              "    .colab-df-convert {\n",
              "      background-color: #E8F0FE;\n",
              "      border: none;\n",
              "      border-radius: 50%;\n",
              "      cursor: pointer;\n",
              "      display: none;\n",
              "      fill: #1967D2;\n",
              "      height: 32px;\n",
              "      padding: 0 0 0 0;\n",
              "      width: 32px;\n",
              "    }\n",
              "\n",
              "    .colab-df-convert:hover {\n",
              "      background-color: #E2EBFA;\n",
              "      box-shadow: 0px 1px 2px rgba(60, 64, 67, 0.3), 0px 1px 3px 1px rgba(60, 64, 67, 0.15);\n",
              "      fill: #174EA6;\n",
              "    }\n",
              "\n",
              "    .colab-df-buttons div {\n",
              "      margin-bottom: 4px;\n",
              "    }\n",
              "\n",
              "    [theme=dark] .colab-df-convert {\n",
              "      background-color: #3B4455;\n",
              "      fill: #D2E3FC;\n",
              "    }\n",
              "\n",
              "    [theme=dark] .colab-df-convert:hover {\n",
              "      background-color: #434B5C;\n",
              "      box-shadow: 0px 1px 3px 1px rgba(0, 0, 0, 0.15);\n",
              "      filter: drop-shadow(0px 1px 2px rgba(0, 0, 0, 0.3));\n",
              "      fill: #FFFFFF;\n",
              "    }\n",
              "  </style>\n",
              "\n",
              "    <script>\n",
              "      const buttonEl =\n",
              "        document.querySelector('#df-239eda7e-03b5-44a8-add8-d795f3375520 button.colab-df-convert');\n",
              "      buttonEl.style.display =\n",
              "        google.colab.kernel.accessAllowed ? 'block' : 'none';\n",
              "\n",
              "      async function convertToInteractive(key) {\n",
              "        const element = document.querySelector('#df-239eda7e-03b5-44a8-add8-d795f3375520');\n",
              "        const dataTable =\n",
              "          await google.colab.kernel.invokeFunction('convertToInteractive',\n",
              "                                                    [key], {});\n",
              "        if (!dataTable) return;\n",
              "\n",
              "        const docLinkHtml = 'Like what you see? Visit the ' +\n",
              "          '<a target=\"_blank\" href=https://colab.research.google.com/notebooks/data_table.ipynb>data table notebook</a>'\n",
              "          + ' to learn more about interactive tables.';\n",
              "        element.innerHTML = '';\n",
              "        dataTable['output_type'] = 'display_data';\n",
              "        await google.colab.output.renderOutput(dataTable, element);\n",
              "        const docLink = document.createElement('div');\n",
              "        docLink.innerHTML = docLinkHtml;\n",
              "        element.appendChild(docLink);\n",
              "      }\n",
              "    </script>\n",
              "  </div>\n",
              "\n",
              "\n",
              "    <div id=\"df-eb5d6bc6-918e-4e9d-8f0c-70df476ad895\">\n",
              "      <button class=\"colab-df-quickchart\" onclick=\"quickchart('df-eb5d6bc6-918e-4e9d-8f0c-70df476ad895')\"\n",
              "                title=\"Suggest charts\"\n",
              "                style=\"display:none;\">\n",
              "\n",
              "<svg xmlns=\"http://www.w3.org/2000/svg\" height=\"24px\"viewBox=\"0 0 24 24\"\n",
              "     width=\"24px\">\n",
              "    <g>\n",
              "        <path d=\"M19 3H5c-1.1 0-2 .9-2 2v14c0 1.1.9 2 2 2h14c1.1 0 2-.9 2-2V5c0-1.1-.9-2-2-2zM9 17H7v-7h2v7zm4 0h-2V7h2v10zm4 0h-2v-4h2v4z\"/>\n",
              "    </g>\n",
              "</svg>\n",
              "      </button>\n",
              "\n",
              "<style>\n",
              "  .colab-df-quickchart {\n",
              "      --bg-color: #E8F0FE;\n",
              "      --fill-color: #1967D2;\n",
              "      --hover-bg-color: #E2EBFA;\n",
              "      --hover-fill-color: #174EA6;\n",
              "      --disabled-fill-color: #AAA;\n",
              "      --disabled-bg-color: #DDD;\n",
              "  }\n",
              "\n",
              "  [theme=dark] .colab-df-quickchart {\n",
              "      --bg-color: #3B4455;\n",
              "      --fill-color: #D2E3FC;\n",
              "      --hover-bg-color: #434B5C;\n",
              "      --hover-fill-color: #FFFFFF;\n",
              "      --disabled-bg-color: #3B4455;\n",
              "      --disabled-fill-color: #666;\n",
              "  }\n",
              "\n",
              "  .colab-df-quickchart {\n",
              "    background-color: var(--bg-color);\n",
              "    border: none;\n",
              "    border-radius: 50%;\n",
              "    cursor: pointer;\n",
              "    display: none;\n",
              "    fill: var(--fill-color);\n",
              "    height: 32px;\n",
              "    padding: 0;\n",
              "    width: 32px;\n",
              "  }\n",
              "\n",
              "  .colab-df-quickchart:hover {\n",
              "    background-color: var(--hover-bg-color);\n",
              "    box-shadow: 0 1px 2px rgba(60, 64, 67, 0.3), 0 1px 3px 1px rgba(60, 64, 67, 0.15);\n",
              "    fill: var(--button-hover-fill-color);\n",
              "  }\n",
              "\n",
              "  .colab-df-quickchart-complete:disabled,\n",
              "  .colab-df-quickchart-complete:disabled:hover {\n",
              "    background-color: var(--disabled-bg-color);\n",
              "    fill: var(--disabled-fill-color);\n",
              "    box-shadow: none;\n",
              "  }\n",
              "\n",
              "  .colab-df-spinner {\n",
              "    border: 2px solid var(--fill-color);\n",
              "    border-color: transparent;\n",
              "    border-bottom-color: var(--fill-color);\n",
              "    animation:\n",
              "      spin 1s steps(1) infinite;\n",
              "  }\n",
              "\n",
              "  @keyframes spin {\n",
              "    0% {\n",
              "      border-color: transparent;\n",
              "      border-bottom-color: var(--fill-color);\n",
              "      border-left-color: var(--fill-color);\n",
              "    }\n",
              "    20% {\n",
              "      border-color: transparent;\n",
              "      border-left-color: var(--fill-color);\n",
              "      border-top-color: var(--fill-color);\n",
              "    }\n",
              "    30% {\n",
              "      border-color: transparent;\n",
              "      border-left-color: var(--fill-color);\n",
              "      border-top-color: var(--fill-color);\n",
              "      border-right-color: var(--fill-color);\n",
              "    }\n",
              "    40% {\n",
              "      border-color: transparent;\n",
              "      border-right-color: var(--fill-color);\n",
              "      border-top-color: var(--fill-color);\n",
              "    }\n",
              "    60% {\n",
              "      border-color: transparent;\n",
              "      border-right-color: var(--fill-color);\n",
              "    }\n",
              "    80% {\n",
              "      border-color: transparent;\n",
              "      border-right-color: var(--fill-color);\n",
              "      border-bottom-color: var(--fill-color);\n",
              "    }\n",
              "    90% {\n",
              "      border-color: transparent;\n",
              "      border-bottom-color: var(--fill-color);\n",
              "    }\n",
              "  }\n",
              "</style>\n",
              "\n",
              "      <script>\n",
              "        async function quickchart(key) {\n",
              "          const quickchartButtonEl =\n",
              "            document.querySelector('#' + key + ' button');\n",
              "          quickchartButtonEl.disabled = true;  // To prevent multiple clicks.\n",
              "          quickchartButtonEl.classList.add('colab-df-spinner');\n",
              "          try {\n",
              "            const charts = await google.colab.kernel.invokeFunction(\n",
              "                'suggestCharts', [key], {});\n",
              "          } catch (error) {\n",
              "            console.error('Error during call to suggestCharts:', error);\n",
              "          }\n",
              "          quickchartButtonEl.classList.remove('colab-df-spinner');\n",
              "          quickchartButtonEl.classList.add('colab-df-quickchart-complete');\n",
              "        }\n",
              "        (() => {\n",
              "          let quickchartButtonEl =\n",
              "            document.querySelector('#df-eb5d6bc6-918e-4e9d-8f0c-70df476ad895 button');\n",
              "          quickchartButtonEl.style.display =\n",
              "            google.colab.kernel.accessAllowed ? 'block' : 'none';\n",
              "        })();\n",
              "      </script>\n",
              "    </div>\n",
              "\n",
              "    </div>\n",
              "  </div>\n"
            ],
            "application/vnd.google.colaboratory.intrinsic+json": {
              "type": "dataframe",
              "variable_name": "df"
            }
          },
          "metadata": {},
          "execution_count": 13
        }
      ]
    },
    {
      "cell_type": "markdown",
      "source": [
        "\"\"\" Comparaison of campaign to outcomes.\n",
        "Comparaison between outcomes and channel\n",
        "maybe I can do those two stuff with a stack bar chart ?\n",
        "\n",
        "to understand engagement we should counts donations and responses\n",
        "look at how frequently donors interact"
      ],
      "metadata": {
        "id": "mU1rLqBeHVzk"
      },
      "id": "mU1rLqBeHVzk"
    },
    {
      "cell_type": "markdown",
      "source": [
        "**How many time a donors is likely to donate**"
      ],
      "metadata": {
        "id": "qFXw5ppxKO8i"
      },
      "id": "qFXw5ppxKO8i"
    },
    {
      "cell_type": "code",
      "source": [
        "# Group by DonorID to get donation count\n",
        "donation_counts = donations.groupby('DonorID')['DonationID'].count()\n",
        "\n",
        "\n",
        "\"\"\" this will later be transformed into a code cell\n",
        "\n",
        "**Plot distribution**\n",
        "plt.figure(figsize=(8, 4))\n",
        "sns.histplot(donation_counts, bins=20, kde=False, color='blue')\n",
        "plt.title('Number of Donations per Donor')\n",
        "plt.xlabel('Donation Count')\n",
        "plt.ylabel('Number of Donors')\n",
        "plt.tight_layout()\n",
        "plt.show()"
      ],
      "metadata": {
        "id": "JSbSaVluOuyx"
      },
      "id": "JSbSaVluOuyx",
      "execution_count": null,
      "outputs": []
    },
    {
      "cell_type": "markdown",
      "source": [
        "ki pousantak done ki te bay nan premye ane an ki kontinye nan res yo ?\n",
        "How much donors do we have per year?\n",
        "year over year ( donor retention rate)"
      ],
      "metadata": {
        "id": "MLjAIx_8LaNm"
      },
      "id": "MLjAIx_8LaNm"
    },
    {
      "cell_type": "code",
      "source": [
        "# what are the donor retention rate by year ?\n",
        " Convert donation date to datetime\n",
        "donations['DonationDate'] = pd.to_datetime(donations['DonationDate'])\n",
        "\n",
        "# Create donor-level summary\n",
        "today = pd.to_datetime('today')\n",
        "donor_summary = donations.groupby('DonorID').agg(\n",
        "    FirstDonationDate=('DonationDate', 'min'),\n",
        "    LastDonationDate=('DonationDate', 'max'),\n",
        "    Frequency=('DonationID', 'count'),\n",
        "    Monetary=('Amount', 'sum')\n",
        ").reset_index()\n",
        "donor_summary['Recency'] = (today - donor_summary['LastDonationDate']).dt.days\n",
        "\n",
        "# Merge with full donor list\n",
        "donor_full_summary = pd.merge(donors[['DonorID']], donor_summary, on='DonorID', how='left')\n",
        "donor_full_summary['Recency'] = donor_full_summary['Recency'].fillna(np.inf)\n",
        "donor_full_summary['Frequency'] = donor_full_summary['Frequency'].fillna(0)\n",
        "donor_full_summary['Monetary'] = donor_full_summary['Monetary'].fillna(0)\n",
        "\n",
        "# Assign segments\n",
        "def assign_segment(row):\n",
        "    r = row['Recency']\n",
        "    f = row['Frequency']\n",
        "    m = row['Monetary']\n",
        "\n",
        "    if np.isinf(r) or pd.isna(r):\n",
        "        return 'Never Donated'\n",
        "    elif r <= 365 and f == 1:\n",
        "        return 'New Donors'\n",
        "    elif r <= 365 and f >= 4 and m >= 750:\n",
        "        return 'Champions'\n",
        "    elif r <= 1095 and f >= 4:\n",
        "        return 'Loyal Donors'\n",
        "    elif r <= 1095 and 2 <= f <= 4 and m >= 750:\n",
        "        return 'High Value Potentials'\n",
        "    elif r > 1095 and f >= 2 and m >= 250:\n",
        "        return 'Lapsed but Valuable'\n",
        "    elif 365 < r <= 1095 and f >= 2:\n",
        "        return 'At Risk'\n",
        "    elif r > 1095 and f == 1:\n",
        "        return 'Lost or Inactive'\n",
        "    elif f <= 2 and m < 250:\n",
        "        return 'Low Frequency'\n",
        "    else:\n",
        "        return 'Misc Donors'\n",
        "\n",
        "donor_full_summary['Segment'] = donor_full_summary.apply(assign_segment, axis=1)\n",
        "\n",
        "# Return segment summary for confirmation\n",
        "segment_summary = donor_full_summary['Segment'].value_counts().reset_index()\n",
        "segment_summary.columns = ['Segment', 'Count']\n",
        "segment_summary"
      ],
      "metadata": {
        "id": "bsR5d5wrOqnX"
      },
      "id": "bsR5d5wrOqnX",
      "execution_count": null,
      "outputs": []
    },
    {
      "cell_type": "code",
      "source": [
        "df.ImpactType.value_counts()"
      ],
      "metadata": {
        "colab": {
          "base_uri": "https://localhost:8080/",
          "height": 272
        },
        "id": "vWFQYdZlH-27",
        "outputId": "0d3be1b9-e46f-4f73-da49-8a20e44f8c9a"
      },
      "id": "vWFQYdZlH-27",
      "execution_count": 19,
      "outputs": [
        {
          "output_type": "execute_result",
          "data": {
            "text/plain": [
              "ImpactType\n",
              "Workshops Delivered    87889\n",
              "Youth Reached          87889\n",
              "Volunteers Engaged     87889\n",
              "Training Sessions      87889\n",
              "Mentorship Hours       87889\n",
              "Name: count, dtype: int64"
            ],
            "text/html": [
              "<div>\n",
              "<style scoped>\n",
              "    .dataframe tbody tr th:only-of-type {\n",
              "        vertical-align: middle;\n",
              "    }\n",
              "\n",
              "    .dataframe tbody tr th {\n",
              "        vertical-align: top;\n",
              "    }\n",
              "\n",
              "    .dataframe thead th {\n",
              "        text-align: right;\n",
              "    }\n",
              "</style>\n",
              "<table border=\"1\" class=\"dataframe\">\n",
              "  <thead>\n",
              "    <tr style=\"text-align: right;\">\n",
              "      <th></th>\n",
              "      <th>count</th>\n",
              "    </tr>\n",
              "    <tr>\n",
              "      <th>ImpactType</th>\n",
              "      <th></th>\n",
              "    </tr>\n",
              "  </thead>\n",
              "  <tbody>\n",
              "    <tr>\n",
              "      <th>Workshops Delivered</th>\n",
              "      <td>87889</td>\n",
              "    </tr>\n",
              "    <tr>\n",
              "      <th>Youth Reached</th>\n",
              "      <td>87889</td>\n",
              "    </tr>\n",
              "    <tr>\n",
              "      <th>Volunteers Engaged</th>\n",
              "      <td>87889</td>\n",
              "    </tr>\n",
              "    <tr>\n",
              "      <th>Training Sessions</th>\n",
              "      <td>87889</td>\n",
              "    </tr>\n",
              "    <tr>\n",
              "      <th>Mentorship Hours</th>\n",
              "      <td>87889</td>\n",
              "    </tr>\n",
              "  </tbody>\n",
              "</table>\n",
              "</div><br><label><b>dtype:</b> int64</label>"
            ]
          },
          "metadata": {},
          "execution_count": 19
        }
      ]
    },
    {
      "cell_type": "code",
      "source": [
        "df.Channel.value_counts()"
      ],
      "metadata": {
        "colab": {
          "base_uri": "https://localhost:8080/",
          "height": 272
        },
        "id": "bdfO0MsYGkv6",
        "outputId": "277d2bf4-e73e-405f-cbc5-60874c5ee6f9"
      },
      "id": "bdfO0MsYGkv6",
      "execution_count": 17,
      "outputs": [
        {
          "output_type": "execute_result",
          "data": {
            "text/plain": [
              "Channel\n",
              "Email           98430\n",
              "Phone Call      89280\n",
              "Newsletter      86760\n",
              "Social Media    86750\n",
              "Event           78225\n",
              "Name: count, dtype: int64"
            ],
            "text/html": [
              "<div>\n",
              "<style scoped>\n",
              "    .dataframe tbody tr th:only-of-type {\n",
              "        vertical-align: middle;\n",
              "    }\n",
              "\n",
              "    .dataframe tbody tr th {\n",
              "        vertical-align: top;\n",
              "    }\n",
              "\n",
              "    .dataframe thead th {\n",
              "        text-align: right;\n",
              "    }\n",
              "</style>\n",
              "<table border=\"1\" class=\"dataframe\">\n",
              "  <thead>\n",
              "    <tr style=\"text-align: right;\">\n",
              "      <th></th>\n",
              "      <th>count</th>\n",
              "    </tr>\n",
              "    <tr>\n",
              "      <th>Channel</th>\n",
              "      <th></th>\n",
              "    </tr>\n",
              "  </thead>\n",
              "  <tbody>\n",
              "    <tr>\n",
              "      <th>Email</th>\n",
              "      <td>98430</td>\n",
              "    </tr>\n",
              "    <tr>\n",
              "      <th>Phone Call</th>\n",
              "      <td>89280</td>\n",
              "    </tr>\n",
              "    <tr>\n",
              "      <th>Newsletter</th>\n",
              "      <td>86760</td>\n",
              "    </tr>\n",
              "    <tr>\n",
              "      <th>Social Media</th>\n",
              "      <td>86750</td>\n",
              "    </tr>\n",
              "    <tr>\n",
              "      <th>Event</th>\n",
              "      <td>78225</td>\n",
              "    </tr>\n",
              "  </tbody>\n",
              "</table>\n",
              "</div><br><label><b>dtype:</b> int64</label>"
            ]
          },
          "metadata": {},
          "execution_count": 17
        }
      ]
    },
    {
      "cell_type": "markdown",
      "source": [
        "## Recommendations"
      ],
      "metadata": {
        "id": "-UfIayCKUKzq"
      },
      "id": "-UfIayCKUKzq"
    },
    {
      "cell_type": "markdown",
      "source": [
        "## References\n",
        "- Analytics for Good Institute. (2020). Data science for social impact: Challenges and strategies in the nonprofit sector. https://analyticsforgood.org/reports\n",
        "\n",
        "- Analytics for Good Institute. (2020). Data science for social impact: Challenges and strategies in the nonprofit sector. https://analyticsforgood.org/reports\n",
        "\n",
        "- Funraise. (2024). The state of nonprofit engagement. https://www.funraise.org\n",
        "\n",
        "- Virtuous. (2024). State of nonprofit donor experience. https://www.virtuous.org/resources"
      ],
      "metadata": {
        "id": "ZiMAyu3tqD2N"
      },
      "id": "ZiMAyu3tqD2N"
    },
    {
      "cell_type": "markdown",
      "source": [
        "## Contact information"
      ],
      "metadata": {
        "id": "9eO42qsOt47b"
      },
      "id": "9eO42qsOt47b"
    },
    {
      "cell_type": "markdown",
      "source": [
        "Above: The Contact Information Of the Two Data scientist in charge of the project."
      ],
      "metadata": {
        "id": "8ZbkcWTuulf6"
      },
      "id": "8ZbkcWTuulf6"
    },
    {
      "cell_type": "markdown",
      "source": [
        "- First Name: Haender Michael\n",
        "\n",
        "- Last Name: Jean Louis\n",
        "\n",
        "- Email: michaelhaenderjeanlouis@gmail.com\n",
        "\n",
        "- Phone Number: +509 41 75 0264\n",
        "\n",
        "- LinkedIn: https://www.linkedin.com/in/michael-haender-jean-louis-4b7320316?utm_source=share&utm_campaign=share_via&utm_content=profile&utm_medium=ios_app\n"
      ],
      "metadata": {
        "id": "KhRLz8kMt1fp"
      },
      "id": "KhRLz8kMt1fp"
    },
    {
      "cell_type": "markdown",
      "source": [
        "- First Name:\n",
        "- Last Name :\n",
        "- Enail\n",
        "- Phone Number:\n",
        "- LinkedIn\n"
      ],
      "metadata": {
        "id": "EeRTdqUTt66w"
      },
      "id": "EeRTdqUTt66w"
    },
    {
      "cell_type": "markdown",
      "source": [
        "For further inquiries, feedback, or collaboration on this analysis, feel free to reach out."
      ],
      "metadata": {
        "id": "GX46csIwufn0"
      },
      "id": "GX46csIwufn0"
    }
  ],
  "metadata": {
    "kernelspec": {
      "display_name": "Python [conda env:base] *",
      "language": "python",
      "name": "conda-base-py"
    },
    "language_info": {
      "codemirror_mode": {
        "name": "ipython",
        "version": 3
      },
      "file_extension": ".py",
      "mimetype": "text/x-python",
      "name": "python",
      "nbconvert_exporter": "python",
      "pygments_lexer": "ipython3",
      "version": "3.12.7"
    },
    "colab": {
      "provenance": []
    }
  },
  "nbformat": 4,
  "nbformat_minor": 5
}