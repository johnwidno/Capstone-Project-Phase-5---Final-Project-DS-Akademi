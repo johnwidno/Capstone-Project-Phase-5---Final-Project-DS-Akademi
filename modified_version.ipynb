{
<<<<<<< HEAD
 "cells": [
  {
   "cell_type": "markdown",
   "id": "IpjUlbpAtUKp",
   "metadata": {
    "id": "IpjUlbpAtUKp"
   },
   "source": [
    "# Predictive Modeling: Donor Retention in Non-Profit Organizations"
   ]
  },
  {
   "cell_type": "markdown",
   "id": "kJpw65S7-aTQ",
   "metadata": {
    "id": "kJpw65S7-aTQ"
   },
   "source": [
    "## Introduction\n",
    "Non-Profit Organizations (NPOs) play a vital role in social, educational, and economic development, but some, especially in underdeveloped countries like Haiti, rely heavily on gut instinct and traditional methods to make decisions, which leads to poor donor retention, ineffective communication, weak donor interaction, and unsuccessful campaigns.\n",
    "Since NPOs rely heavily on fundraising, understanding donor behavior is a must, as one of the major challenges NPOs face is maintaining donor engagement and loyalty over time.\n",
    "\n",
    "The primary objective of this project is to showcase the importance of using data to make informed decisions in NPOs.\n",
    "For that purpose, the project aims to analyze donor behavior and categorize donors for a random and fictitious organization. The insights gained throughout this analysis will foster the use of data and machine learning in decision-making, which can therefore help NPOs design more effective fundraising and communication strategies, ultimately enhancing their ability to sustain and grow their initiatives.\n",
    "\n",
    "To achieve this, we use the  [Donor Data](https://www.kaggle.com/datasets/maheshpandey87/donor-data/data) from Kaggle, which comprises six tables detailing donors, donations, campaigns, project results, and engagement activities. These data provide a comprehensive view of donor interactions and contributions, forming the basis for our analysis."
   ]
  },
  {
   "cell_type": "markdown",
   "id": "YAmNdHu8tS4y",
   "metadata": {
    "id": "YAmNdHu8tS4y"
   },
   "source": [
    " ## Methodology\n",
    " #### **Exploratory data Analysis**\n",
    " - data preparation\n",
    " - business understanding\n",
    " - data understanding\n",
    " #### **Major questions**\n",
    "These questions deepen our grasp of the business and data context, steering the analysis toward the NPO’s core concerns and enabling a thorough exploration of donor dynamics.\n",
    "\n",
    "This part is crucial, as it serves as a compass that guides our analysis and helps address stakeholders' concerns or uncover relevant information.\n",
    "#### **Modeling**\n",
    "\"\"'''''\n",
    "#### **Model Evaluation**\n",
    "#### **Recommendations**\n",
    "#### **Contact information**\n",
    "the contact information of the two data scientist who work on this project is provided.\n",
    "\n",
    "NB: The scientist colaborated equally on this project.\n",
    "- name\n",
    "- email\n",
    "- phone number\n",
    "- LinkedIn\n"
   ]
  },
  {
   "cell_type": "markdown",
   "id": "d3e6c625-5dd7-4914-9ea0-4f6565536697",
   "metadata": {
    "id": "d3e6c625-5dd7-4914-9ea0-4f6565536697"
   },
   "source": [
    "## EDA – Exploratory Data Analysis"
   ]
  },
  {
   "cell_type": "markdown",
   "id": "71ab86e1-3070-4e05-9976-545f7634584a",
   "metadata": {
    "id": "71ab86e1-3070-4e05-9976-545f7634584a"
   },
   "source": [
    "### Data preparation"
   ]
  },
  {
   "cell_type": "markdown",
   "id": "_R435S_ch-ti",
   "metadata": {
    "id": "_R435S_ch-ti"
   },
   "source": [
    "**Libraries importation**"
   ]
  },
  {
   "cell_type": "code",
   "execution_count": 7,
   "id": "0985c05b-68a3-4e8e-a9cf-210a3dc5f3c7",
   "metadata": {
    "id": "0985c05b-68a3-4e8e-a9cf-210a3dc5f3c7"
   },
   "outputs": [],
   "source": [
    "import pandas as pd\n",
    "from sklearn.model_selection import train_test_split, GridSearchCV\n",
    "from sklearn.preprocessing import LabelEncoder, OneHotEncoder, StandardScaler\n",
    "from sklearn.metrics import roc_auc_score, f1_score, recall_score, accuracy_score, confusion_matrix, classification_report\n",
    "from sklearn.linear_model import LogisticRegression\n",
    "from sklearn.ensemble import RandomForestClassifier\n",
    "#from xgboost import XGBClassifier\n",
    "\n",
    "import matplotlib.pyplot as plt\n",
    "import seaborn as sns\n",
    "\n",
    "\n",
    "\n",
    "\n",
    "\n",
    "donors= pd.read_csv('Dataset/donors.csv')\n",
    "campaigns= pd.read_csv('Dataset/campaigns.csv')\n",
    "donations= pd.read_csv('Dataset/donations_linked.csv')\n",
    "engagement_history= pd.read_csv('Dataset/engagement_history.csv')\n",
    "engagement_outcomes =pd.read_csv('Dataset/engagement_outcomes.csv')\n",
    "impact= pd.read_csv('Dataset/impact.csv')"
   ]
  },
  {
   "cell_type": "code",
   "execution_count": 8,
   "id": "e526bfbb-9e00-429b-9681-e1f60674fb1d",
   "metadata": {},
   "outputs": [
    {
     "name": "stdout",
     "output_type": "stream",
     "text": [
      "Number of Donors 4891 \n",
      "Number donations 17840 \n",
      "Number of Campaigns 10 \n",
      "Engagement_history 24238 \n",
      "Impact 50\n"
     ]
    }
   ],
   "source": [
    "print(f\"Number of Donors\" ,donors.shape[0] ,\"\\nNumber donations\", donations.shape[0],\n",
    "     \"\\nNumber of Campaigns\", campaigns.shape[0], \"\\nEngagement_history\",engagement_history.shape[0],\"\\nImpact\",impact.shape[0])"
   ]
  },
  {
   "cell_type": "code",
   "execution_count": null,
   "id": "79321589-08f8-4e1e-91c8-abcecd397d87",
   "metadata": {},
   "outputs": [],
   "source": []
  },
  {
   "cell_type": "markdown",
   "id": "300fafad-eae5-4498-8cd5-a9689e4f806d",
   "metadata": {
    "id": "300fafad-eae5-4498-8cd5-a9689e4f806d"
   },
   "source": [
    "**Merging all Tables**"
   ]
  },
  {
   "cell_type": "code",
   "execution_count": 10,
   "id": "101188fb-1996-45f4-b093-6a49fd4a444c",
   "metadata": {
    "id": "101188fb-1996-45f4-b093-6a49fd4a444c"
   },
   "outputs": [],
   "source": [
    "Donors_donations= pd.merge(donors,donations , on='DonorID', how='left')\n",
    "Donors_donations_Campaigns= pd.merge(Donors_donations, campaigns, on='CampaignID', how='left')\n",
    "Donors_donations_Campaigns_engagement_history =pd.merge(Donors_donations_Campaigns, engagement_history, on='DonorID',  how='left')\n",
    "Donors_donations_Campaigns_engagement_history_impacts =pd.merge(Donors_donations_Campaigns_engagement_history,impact, on ='CampaignID', how='left')"
   ]
  },
  {
   "cell_type": "markdown",
   "id": "yRq8YktlnLgW",
   "metadata": {
    "id": "yRq8YktlnLgW"
   },
   "source": [
    "Comment: there are 7 tables in the dataset, we merge 6 of them because donors.csv and donations.csv are the same tables."
   ]
  },
  {
   "cell_type": "code",
   "execution_count": 12,
   "id": "ac1372fd-42a5-419b-a5e0-09cca61000f2",
   "metadata": {
    "id": "ac1372fd-42a5-419b-a5e0-09cca61000f2"
   },
   "outputs": [],
   "source": [
    "# all tables are merged into one\n",
    "df= Donors_donations_Campaigns_engagement_history_impacts\n"
   ]
  },
  {
   "cell_type": "code",
   "execution_count": 13,
   "id": "06128b9b-6680-488e-bd46-7d2141d64495",
   "metadata": {
    "colab": {
     "base_uri": "https://localhost:8080/",
     "height": 313
    },
    "id": "06128b9b-6680-488e-bd46-7d2141d64495",
    "outputId": "1ad720ec-4bfe-4d4e-be8d-7aab12d66909"
   },
   "outputs": [
    {
     "data": {
      "text/html": [
       "<div>\n",
       "<style scoped>\n",
       "    .dataframe tbody tr th:only-of-type {\n",
       "        vertical-align: middle;\n",
       "    }\n",
       "\n",
       "    .dataframe tbody tr th {\n",
       "        vertical-align: top;\n",
       "    }\n",
       "\n",
       "    .dataframe thead th {\n",
       "        text-align: right;\n",
       "    }\n",
       "</style>\n",
       "<table border=\"1\" class=\"dataframe\">\n",
       "  <thead>\n",
       "    <tr style=\"text-align: right;\">\n",
       "      <th></th>\n",
       "      <th>DonorID</th>\n",
       "      <th>Age</th>\n",
       "      <th>Gender</th>\n",
       "      <th>Location</th>\n",
       "      <th>JoinDate</th>\n",
       "      <th>DonationID</th>\n",
       "      <th>DonationDate</th>\n",
       "      <th>Amount</th>\n",
       "      <th>CampaignID</th>\n",
       "      <th>CampaignName</th>\n",
       "      <th>StartDate</th>\n",
       "      <th>EndDate</th>\n",
       "      <th>TargetAmount</th>\n",
       "      <th>ActualAmount</th>\n",
       "      <th>Channel</th>\n",
       "      <th>Date</th>\n",
       "      <th>EngagementOutcome</th>\n",
       "      <th>ImpactType</th>\n",
       "      <th>Value</th>\n",
       "      <th>Cost</th>\n",
       "    </tr>\n",
       "  </thead>\n",
       "  <tbody>\n",
       "    <tr>\n",
       "      <th>0</th>\n",
       "      <td>DNR00001</td>\n",
       "      <td>56</td>\n",
       "      <td>Male</td>\n",
       "      <td>QLD</td>\n",
       "      <td>2020-10-03 22:59:27.552825</td>\n",
       "      <td>DNT002656</td>\n",
       "      <td>2015-06-16</td>\n",
       "      <td>124.99</td>\n",
       "      <td>CAMP005</td>\n",
       "      <td>Youth Initiative 005</td>\n",
       "      <td>59:27.6</td>\n",
       "      <td>59:27.6</td>\n",
       "      <td>54063.32</td>\n",
       "      <td>62346.29</td>\n",
       "      <td>Social Media</td>\n",
       "      <td>27/12/2022</td>\n",
       "      <td>Not Reached</td>\n",
       "      <td>Workshops Delivered</td>\n",
       "      <td>31.0</td>\n",
       "      <td>100.0</td>\n",
       "    </tr>\n",
       "    <tr>\n",
       "      <th>1</th>\n",
       "      <td>DNR00001</td>\n",
       "      <td>56</td>\n",
       "      <td>Male</td>\n",
       "      <td>QLD</td>\n",
       "      <td>2020-10-03 22:59:27.552825</td>\n",
       "      <td>DNT002656</td>\n",
       "      <td>2015-06-16</td>\n",
       "      <td>124.99</td>\n",
       "      <td>CAMP005</td>\n",
       "      <td>Youth Initiative 005</td>\n",
       "      <td>59:27.6</td>\n",
       "      <td>59:27.6</td>\n",
       "      <td>54063.32</td>\n",
       "      <td>62346.29</td>\n",
       "      <td>Social Media</td>\n",
       "      <td>27/12/2022</td>\n",
       "      <td>Not Reached</td>\n",
       "      <td>Youth Reached</td>\n",
       "      <td>851.0</td>\n",
       "      <td>25.0</td>\n",
       "    </tr>\n",
       "    <tr>\n",
       "      <th>2</th>\n",
       "      <td>DNR00001</td>\n",
       "      <td>56</td>\n",
       "      <td>Male</td>\n",
       "      <td>QLD</td>\n",
       "      <td>2020-10-03 22:59:27.552825</td>\n",
       "      <td>DNT002656</td>\n",
       "      <td>2015-06-16</td>\n",
       "      <td>124.99</td>\n",
       "      <td>CAMP005</td>\n",
       "      <td>Youth Initiative 005</td>\n",
       "      <td>59:27.6</td>\n",
       "      <td>59:27.6</td>\n",
       "      <td>54063.32</td>\n",
       "      <td>62346.29</td>\n",
       "      <td>Social Media</td>\n",
       "      <td>27/12/2022</td>\n",
       "      <td>Not Reached</td>\n",
       "      <td>Volunteers Engaged</td>\n",
       "      <td>450.0</td>\n",
       "      <td>25.0</td>\n",
       "    </tr>\n",
       "    <tr>\n",
       "      <th>3</th>\n",
       "      <td>DNR00001</td>\n",
       "      <td>56</td>\n",
       "      <td>Male</td>\n",
       "      <td>QLD</td>\n",
       "      <td>2020-10-03 22:59:27.552825</td>\n",
       "      <td>DNT002656</td>\n",
       "      <td>2015-06-16</td>\n",
       "      <td>124.99</td>\n",
       "      <td>CAMP005</td>\n",
       "      <td>Youth Initiative 005</td>\n",
       "      <td>59:27.6</td>\n",
       "      <td>59:27.6</td>\n",
       "      <td>54063.32</td>\n",
       "      <td>62346.29</td>\n",
       "      <td>Social Media</td>\n",
       "      <td>27/12/2022</td>\n",
       "      <td>Not Reached</td>\n",
       "      <td>Training Sessions</td>\n",
       "      <td>100.0</td>\n",
       "      <td>75.0</td>\n",
       "    </tr>\n",
       "    <tr>\n",
       "      <th>4</th>\n",
       "      <td>DNR00001</td>\n",
       "      <td>56</td>\n",
       "      <td>Male</td>\n",
       "      <td>QLD</td>\n",
       "      <td>2020-10-03 22:59:27.552825</td>\n",
       "      <td>DNT002656</td>\n",
       "      <td>2015-06-16</td>\n",
       "      <td>124.99</td>\n",
       "      <td>CAMP005</td>\n",
       "      <td>Youth Initiative 005</td>\n",
       "      <td>59:27.6</td>\n",
       "      <td>59:27.6</td>\n",
       "      <td>54063.32</td>\n",
       "      <td>62346.29</td>\n",
       "      <td>Social Media</td>\n",
       "      <td>27/12/2022</td>\n",
       "      <td>Not Reached</td>\n",
       "      <td>Mentorship Hours</td>\n",
       "      <td>406.0</td>\n",
       "      <td>35.0</td>\n",
       "    </tr>\n",
       "  </tbody>\n",
       "</table>\n",
       "</div>"
      ],
      "text/plain": [
       "    DonorID  Age Gender Location                    JoinDate DonationID  \\\n",
       "0  DNR00001   56   Male      QLD  2020-10-03 22:59:27.552825  DNT002656   \n",
       "1  DNR00001   56   Male      QLD  2020-10-03 22:59:27.552825  DNT002656   \n",
       "2  DNR00001   56   Male      QLD  2020-10-03 22:59:27.552825  DNT002656   \n",
       "3  DNR00001   56   Male      QLD  2020-10-03 22:59:27.552825  DNT002656   \n",
       "4  DNR00001   56   Male      QLD  2020-10-03 22:59:27.552825  DNT002656   \n",
       "\n",
       "  DonationDate  Amount CampaignID          CampaignName StartDate  EndDate  \\\n",
       "0   2015-06-16  124.99    CAMP005  Youth Initiative 005   59:27.6  59:27.6   \n",
       "1   2015-06-16  124.99    CAMP005  Youth Initiative 005   59:27.6  59:27.6   \n",
       "2   2015-06-16  124.99    CAMP005  Youth Initiative 005   59:27.6  59:27.6   \n",
       "3   2015-06-16  124.99    CAMP005  Youth Initiative 005   59:27.6  59:27.6   \n",
       "4   2015-06-16  124.99    CAMP005  Youth Initiative 005   59:27.6  59:27.6   \n",
       "\n",
       "   TargetAmount  ActualAmount       Channel        Date EngagementOutcome  \\\n",
       "0      54063.32      62346.29  Social Media  27/12/2022       Not Reached   \n",
       "1      54063.32      62346.29  Social Media  27/12/2022       Not Reached   \n",
       "2      54063.32      62346.29  Social Media  27/12/2022       Not Reached   \n",
       "3      54063.32      62346.29  Social Media  27/12/2022       Not Reached   \n",
       "4      54063.32      62346.29  Social Media  27/12/2022       Not Reached   \n",
       "\n",
       "            ImpactType  Value   Cost  \n",
       "0  Workshops Delivered   31.0  100.0  \n",
       "1        Youth Reached  851.0   25.0  \n",
       "2   Volunteers Engaged  450.0   25.0  \n",
       "3    Training Sessions  100.0   75.0  \n",
       "4     Mentorship Hours  406.0   35.0  "
      ]
     },
     "execution_count": 13,
     "metadata": {},
     "output_type": "execute_result"
    }
   ],
   "source": [
    "# the merged tables\n",
    "df.head()\n"
   ]
  },
  {
   "cell_type": "code",
   "execution_count": 14,
   "id": "df37b795-77f6-49e1-b0cf-955161c1e9a5",
   "metadata": {},
   "outputs": [
    {
     "name": "stdout",
     "output_type": "stream",
     "text": [
      "Number of Records 440083\n"
     ]
    }
   ],
   "source": [
    "print( 'Number of Records',df.shape[0])"
   ]
  },
  {
   "cell_type": "markdown",
   "id": "pDsEqVw1uE-8",
   "metadata": {
    "id": "pDsEqVw1uE-8"
   },
   "source": [
    "**Check for null or missing values**"
   ]
  },
  {
   "cell_type": "code",
   "execution_count": 16,
   "id": "73ab93dd-8088-4514-b30f-4fb48175ba28",
   "metadata": {},
   "outputs": [
    {
     "data": {
      "text/plain": [
       "StartDate            638\n",
       "CampaignID           638\n",
       "Value                638\n",
       "ImpactType           638\n",
       "ActualAmount         638\n",
       "TargetAmount         638\n",
       "EndDate              638\n",
       "CampaignName         638\n",
       "Cost                 638\n",
       "Amount               638\n",
       "DonationDate         638\n",
       "DonationID           638\n",
       "Age                    0\n",
       "JoinDate               0\n",
       "Channel                0\n",
       "Date                   0\n",
       "EngagementOutcome      0\n",
       "Location               0\n",
       "Gender                 0\n",
       "DonorID                0\n",
       "dtype: int64"
      ]
     },
     "execution_count": 16,
     "metadata": {},
     "output_type": "execute_result"
    }
   ],
   "source": [
    "df.isnull().sum().sort_values(ascending=False)"
   ]
  },
  {
   "cell_type": "code",
   "execution_count": 17,
   "id": "a714f3ff-7b53-4831-aa2a-303da5391385",
   "metadata": {
    "id": "a714f3ff-7b53-4831-aa2a-303da5391385"
   },
   "outputs": [],
   "source": [
    "# drop rows with null values\n",
    "df[df.isnull().any(axis=1)]\n",
    "df = df.dropna(subset=['DonationID'])"
   ]
  },
  {
   "cell_type": "markdown",
   "id": "k6SPEIPCu-WK",
   "metadata": {
    "id": "k6SPEIPCu-WK"
   },
   "source": [
    "**Dealing with Duplicates values**"
   ]
  },
  {
   "cell_type": "code",
   "execution_count": 19,
   "id": "6744d8d5-de4e-4ac3-b67b-686983b86f08",
   "metadata": {
    "colab": {
     "base_uri": "https://localhost:8080/"
    },
    "id": "6744d8d5-de4e-4ac3-b67b-686983b86f08",
    "outputId": "1f8f3d69-426d-4116-8b93-3a0ff996e4e1"
   },
   "outputs": [
    {
     "name": "stdout",
     "output_type": "stream",
     "text": [
      "Number of duplicate rows before dropping: 205\n",
      "Number of duplicate rows after dropping: 0\n"
     ]
    }
   ],
   "source": [
    "# drop rows with duplicates\n",
    "duplicates = df[df.duplicated()]\n",
    "print(\"Number of duplicate rows before dropping:\", duplicates.shape[0])\n",
    "df = df.drop_duplicates()\n",
    "print(\"Number of duplicate rows after dropping:\", df.duplicated().sum())\n",
    "# Dropping rows duplicate donation ID\n",
    "df = df.drop_duplicates(subset=['DonationID'])"
   ]
  },
  {
   "cell_type": "markdown",
   "id": "iBNvmTxiQlkv",
   "metadata": {
    "id": "iBNvmTxiQlkv"
   },
   "source": [
    "Comment: Dropping duplicated DonationID rows is a must since we don't want to consider the same donation many time, which would biased our analysis."
   ]
  },
  {
   "cell_type": "code",
   "execution_count": 21,
   "id": "137846c1-0045-49c3-88d9-72dd5e488cec",
   "metadata": {
    "id": "137846c1-0045-49c3-88d9-72dd5e488cec"
   },
   "outputs": [
    {
     "data": {
      "text/plain": [
       "DonorID              0\n",
       "ImpactType           0\n",
       "EngagementOutcome    0\n",
       "Date                 0\n",
       "Channel              0\n",
       "ActualAmount         0\n",
       "TargetAmount         0\n",
       "EndDate              0\n",
       "StartDate            0\n",
       "CampaignName         0\n",
       "CampaignID           0\n",
       "Amount               0\n",
       "DonationDate         0\n",
       "DonationID           0\n",
       "JoinDate             0\n",
       "Location             0\n",
       "Gender               0\n",
       "Age                  0\n",
       "Value                0\n",
       "Cost                 0\n",
       "dtype: int64"
      ]
     },
     "execution_count": 21,
     "metadata": {},
     "output_type": "execute_result"
    }
   ],
   "source": [
    "\n",
    " df.isnull().sum().sort_values()"
   ]
  },
  {
   "cell_type": "markdown",
   "id": "48X_fFDkwG4J",
   "metadata": {
    "id": "48X_fFDkwG4J"
   },
   "source": [
    "**Reformating the dataframe**"
   ]
  },
  {
   "cell_type": "code",
   "execution_count": 23,
   "id": "lGyjbQahmeLH",
   "metadata": {
    "colab": {
     "base_uri": "https://localhost:8080/",
     "height": 313
    },
    "id": "lGyjbQahmeLH",
    "outputId": "2da4f2f6-fd93-4ae9-ac94-c7766483dcbd"
   },
   "outputs": [
    {
     "data": {
      "text/html": [
       "<div>\n",
       "<style scoped>\n",
       "    .dataframe tbody tr th:only-of-type {\n",
       "        vertical-align: middle;\n",
       "    }\n",
       "\n",
       "    .dataframe tbody tr th {\n",
       "        vertical-align: top;\n",
       "    }\n",
       "\n",
       "    .dataframe thead th {\n",
       "        text-align: right;\n",
       "    }\n",
       "</style>\n",
       "<table border=\"1\" class=\"dataframe\">\n",
       "  <thead>\n",
       "    <tr style=\"text-align: right;\">\n",
       "      <th></th>\n",
       "      <th>DonorID</th>\n",
       "      <th>Age</th>\n",
       "      <th>Gender</th>\n",
       "      <th>Location</th>\n",
       "      <th>JoinDate</th>\n",
       "      <th>DonationID</th>\n",
       "      <th>DonationDate</th>\n",
       "      <th>Amount</th>\n",
       "      <th>CampaignID</th>\n",
       "      <th>CampaignName</th>\n",
       "      <th>StartDate</th>\n",
       "      <th>EndDate</th>\n",
       "      <th>TargetAmount</th>\n",
       "      <th>ActualAmount</th>\n",
       "      <th>Channel</th>\n",
       "      <th>Date</th>\n",
       "      <th>EngagementOutcome</th>\n",
       "      <th>ImpactType</th>\n",
       "      <th>Value</th>\n",
       "      <th>Cost</th>\n",
       "    </tr>\n",
       "  </thead>\n",
       "  <tbody>\n",
       "    <tr>\n",
       "      <th>0</th>\n",
       "      <td>DNR00001</td>\n",
       "      <td>56</td>\n",
       "      <td>Male</td>\n",
       "      <td>QLD</td>\n",
       "      <td>2020-10-03 22:59:27.552825</td>\n",
       "      <td>DNT002656</td>\n",
       "      <td>2015-06-16</td>\n",
       "      <td>124.99</td>\n",
       "      <td>CAMP005</td>\n",
       "      <td>Youth Initiative 005</td>\n",
       "      <td>59:27.6</td>\n",
       "      <td>59:27.6</td>\n",
       "      <td>54063.32</td>\n",
       "      <td>62346.29</td>\n",
       "      <td>Social Media</td>\n",
       "      <td>27/12/2022</td>\n",
       "      <td>Not Reached</td>\n",
       "      <td>Workshops Delivered</td>\n",
       "      <td>31.0</td>\n",
       "      <td>100.0</td>\n",
       "    </tr>\n",
       "    <tr>\n",
       "      <th>45</th>\n",
       "      <td>DNR00001</td>\n",
       "      <td>56</td>\n",
       "      <td>Male</td>\n",
       "      <td>QLD</td>\n",
       "      <td>2020-10-03 22:59:27.552825</td>\n",
       "      <td>DNT011160</td>\n",
       "      <td>2021-11-20</td>\n",
       "      <td>124.46</td>\n",
       "      <td>CAMP003</td>\n",
       "      <td>Youth Initiative 003</td>\n",
       "      <td>59:27.6</td>\n",
       "      <td>59:27.6</td>\n",
       "      <td>38582.41</td>\n",
       "      <td>33179.39</td>\n",
       "      <td>Social Media</td>\n",
       "      <td>27/12/2022</td>\n",
       "      <td>Not Reached</td>\n",
       "      <td>Workshops Delivered</td>\n",
       "      <td>19.0</td>\n",
       "      <td>100.0</td>\n",
       "    </tr>\n",
       "    <tr>\n",
       "      <th>90</th>\n",
       "      <td>DNR00001</td>\n",
       "      <td>56</td>\n",
       "      <td>Male</td>\n",
       "      <td>QLD</td>\n",
       "      <td>2020-10-03 22:59:27.552825</td>\n",
       "      <td>DNT012124</td>\n",
       "      <td>2017-09-14</td>\n",
       "      <td>128.22</td>\n",
       "      <td>CAMP010</td>\n",
       "      <td>Youth Initiative 010</td>\n",
       "      <td>59:27.6</td>\n",
       "      <td>59:27.6</td>\n",
       "      <td>50455.82</td>\n",
       "      <td>54176.99</td>\n",
       "      <td>Social Media</td>\n",
       "      <td>27/12/2022</td>\n",
       "      <td>Not Reached</td>\n",
       "      <td>Workshops Delivered</td>\n",
       "      <td>40.0</td>\n",
       "      <td>100.0</td>\n",
       "    </tr>\n",
       "    <tr>\n",
       "      <th>135</th>\n",
       "      <td>DNR00002</td>\n",
       "      <td>25</td>\n",
       "      <td>Male</td>\n",
       "      <td>ACT</td>\n",
       "      <td>2015-11-01 22:59:27.552825</td>\n",
       "      <td>DNT001904</td>\n",
       "      <td>2020-04-17</td>\n",
       "      <td>175.96</td>\n",
       "      <td>CAMP008</td>\n",
       "      <td>Youth Initiative 008</td>\n",
       "      <td>59:27.6</td>\n",
       "      <td>59:27.6</td>\n",
       "      <td>98200.79</td>\n",
       "      <td>102566.77</td>\n",
       "      <td>Newsletter</td>\n",
       "      <td>9/09/2023</td>\n",
       "      <td>Not Reached</td>\n",
       "      <td>Workshops Delivered</td>\n",
       "      <td>85.0</td>\n",
       "      <td>100.0</td>\n",
       "    </tr>\n",
       "    <tr>\n",
       "      <th>150</th>\n",
       "      <td>DNR00002</td>\n",
       "      <td>25</td>\n",
       "      <td>Male</td>\n",
       "      <td>ACT</td>\n",
       "      <td>2015-11-01 22:59:27.552825</td>\n",
       "      <td>DNT011974</td>\n",
       "      <td>2017-01-19</td>\n",
       "      <td>35.31</td>\n",
       "      <td>CAMP006</td>\n",
       "      <td>Youth Initiative 006</td>\n",
       "      <td>59:27.6</td>\n",
       "      <td>59:27.6</td>\n",
       "      <td>33193.34</td>\n",
       "      <td>39159.84</td>\n",
       "      <td>Newsletter</td>\n",
       "      <td>9/09/2023</td>\n",
       "      <td>Not Reached</td>\n",
       "      <td>Workshops Delivered</td>\n",
       "      <td>25.0</td>\n",
       "      <td>100.0</td>\n",
       "    </tr>\n",
       "  </tbody>\n",
       "</table>\n",
       "</div>"
      ],
      "text/plain": [
       "      DonorID  Age Gender Location                    JoinDate DonationID  \\\n",
       "0    DNR00001   56   Male      QLD  2020-10-03 22:59:27.552825  DNT002656   \n",
       "45   DNR00001   56   Male      QLD  2020-10-03 22:59:27.552825  DNT011160   \n",
       "90   DNR00001   56   Male      QLD  2020-10-03 22:59:27.552825  DNT012124   \n",
       "135  DNR00002   25   Male      ACT  2015-11-01 22:59:27.552825  DNT001904   \n",
       "150  DNR00002   25   Male      ACT  2015-11-01 22:59:27.552825  DNT011974   \n",
       "\n",
       "    DonationDate  Amount CampaignID          CampaignName StartDate  EndDate  \\\n",
       "0     2015-06-16  124.99    CAMP005  Youth Initiative 005   59:27.6  59:27.6   \n",
       "45    2021-11-20  124.46    CAMP003  Youth Initiative 003   59:27.6  59:27.6   \n",
       "90    2017-09-14  128.22    CAMP010  Youth Initiative 010   59:27.6  59:27.6   \n",
       "135   2020-04-17  175.96    CAMP008  Youth Initiative 008   59:27.6  59:27.6   \n",
       "150   2017-01-19   35.31    CAMP006  Youth Initiative 006   59:27.6  59:27.6   \n",
       "\n",
       "     TargetAmount  ActualAmount       Channel        Date EngagementOutcome  \\\n",
       "0        54063.32      62346.29  Social Media  27/12/2022       Not Reached   \n",
       "45       38582.41      33179.39  Social Media  27/12/2022       Not Reached   \n",
       "90       50455.82      54176.99  Social Media  27/12/2022       Not Reached   \n",
       "135      98200.79     102566.77    Newsletter   9/09/2023       Not Reached   \n",
       "150      33193.34      39159.84    Newsletter   9/09/2023       Not Reached   \n",
       "\n",
       "              ImpactType  Value   Cost  \n",
       "0    Workshops Delivered   31.0  100.0  \n",
       "45   Workshops Delivered   19.0  100.0  \n",
       "90   Workshops Delivered   40.0  100.0  \n",
       "135  Workshops Delivered   85.0  100.0  \n",
       "150  Workshops Delivered   25.0  100.0  "
      ]
     },
     "execution_count": 23,
     "metadata": {},
     "output_type": "execute_result"
    }
   ],
   "source": [
    "df.head()"
   ]
  },
  {
   "cell_type": "markdown",
   "id": "1d57bc6c-c92b-497a-9faa-609f6a091ff4",
   "metadata": {
    "id": "1d57bc6c-c92b-497a-9faa-609f6a091ff4"
   },
   "source": [
    "**Table's shape**"
   ]
  },
  {
   "cell_type": "code",
   "execution_count": 25,
   "id": "30570790-6421-4fdb-97ed-d78e2bba9a3d",
   "metadata": {},
   "outputs": [
    {
     "data": {
      "text/plain": [
       "(17840, 20)"
      ]
     },
     "execution_count": 25,
     "metadata": {},
     "output_type": "execute_result"
    }
   ],
   "source": [
    "# Run the code in this cell to see table after cleaning\n",
    "df.shape"
   ]
  },
  {
   "cell_type": "markdown",
   "id": "bc44c25c-1955-4740-8733-2d5bb5930188",
   "metadata": {},
   "source": [
    "**Fix the dates Format**"
   ]
  },
  {
   "cell_type": "code",
   "execution_count": 27,
   "id": "z8DrmuyQL6u8",
   "metadata": {
    "id": "z8DrmuyQL6u8"
   },
   "outputs": [
    {
     "name": "stderr",
     "output_type": "stream",
     "text": [
      "C:\\Users\\teach\\AppData\\Local\\Temp\\ipykernel_2148\\2295606328.py:2: UserWarning: Parsing dates in %d/%m/%Y format when dayfirst=False (the default) was specified. Pass `dayfirst=True` or specify a format to silence this warning.\n",
      "  df['Date'] = pd.to_datetime(df['Date'])\n"
     ]
    },
    {
     "data": {
      "text/html": [
       "<div>\n",
       "<style scoped>\n",
       "    .dataframe tbody tr th:only-of-type {\n",
       "        vertical-align: middle;\n",
       "    }\n",
       "\n",
       "    .dataframe tbody tr th {\n",
       "        vertical-align: top;\n",
       "    }\n",
       "\n",
       "    .dataframe thead th {\n",
       "        text-align: right;\n",
       "    }\n",
       "</style>\n",
       "<table border=\"1\" class=\"dataframe\">\n",
       "  <thead>\n",
       "    <tr style=\"text-align: right;\">\n",
       "      <th></th>\n",
       "      <th>DonorID</th>\n",
       "      <th>Age</th>\n",
       "      <th>Gender</th>\n",
       "      <th>Location</th>\n",
       "      <th>JoinDate</th>\n",
       "      <th>DonationID</th>\n",
       "      <th>DonationDate</th>\n",
       "      <th>Amount</th>\n",
       "      <th>CampaignID</th>\n",
       "      <th>CampaignName</th>\n",
       "      <th>StartDate</th>\n",
       "      <th>EndDate</th>\n",
       "      <th>TargetAmount</th>\n",
       "      <th>ActualAmount</th>\n",
       "      <th>Channel</th>\n",
       "      <th>Date</th>\n",
       "      <th>EngagementOutcome</th>\n",
       "      <th>ImpactType</th>\n",
       "      <th>Value</th>\n",
       "      <th>Cost</th>\n",
       "    </tr>\n",
       "  </thead>\n",
       "  <tbody>\n",
       "    <tr>\n",
       "      <th>0</th>\n",
       "      <td>DNR00001</td>\n",
       "      <td>56</td>\n",
       "      <td>Male</td>\n",
       "      <td>QLD</td>\n",
       "      <td>2020-10-03 22:59:27.552825</td>\n",
       "      <td>DNT002656</td>\n",
       "      <td>2015-06-16</td>\n",
       "      <td>124.99</td>\n",
       "      <td>CAMP005</td>\n",
       "      <td>Youth Initiative 005</td>\n",
       "      <td>59:27.6</td>\n",
       "      <td>59:27.6</td>\n",
       "      <td>54063.32</td>\n",
       "      <td>62346.29</td>\n",
       "      <td>Social Media</td>\n",
       "      <td>2022-12-27</td>\n",
       "      <td>Not Reached</td>\n",
       "      <td>Workshops Delivered</td>\n",
       "      <td>31.0</td>\n",
       "      <td>100.0</td>\n",
       "    </tr>\n",
       "    <tr>\n",
       "      <th>45</th>\n",
       "      <td>DNR00001</td>\n",
       "      <td>56</td>\n",
       "      <td>Male</td>\n",
       "      <td>QLD</td>\n",
       "      <td>2020-10-03 22:59:27.552825</td>\n",
       "      <td>DNT011160</td>\n",
       "      <td>2021-11-20</td>\n",
       "      <td>124.46</td>\n",
       "      <td>CAMP003</td>\n",
       "      <td>Youth Initiative 003</td>\n",
       "      <td>59:27.6</td>\n",
       "      <td>59:27.6</td>\n",
       "      <td>38582.41</td>\n",
       "      <td>33179.39</td>\n",
       "      <td>Social Media</td>\n",
       "      <td>2022-12-27</td>\n",
       "      <td>Not Reached</td>\n",
       "      <td>Workshops Delivered</td>\n",
       "      <td>19.0</td>\n",
       "      <td>100.0</td>\n",
       "    </tr>\n",
       "    <tr>\n",
       "      <th>90</th>\n",
       "      <td>DNR00001</td>\n",
       "      <td>56</td>\n",
       "      <td>Male</td>\n",
       "      <td>QLD</td>\n",
       "      <td>2020-10-03 22:59:27.552825</td>\n",
       "      <td>DNT012124</td>\n",
       "      <td>2017-09-14</td>\n",
       "      <td>128.22</td>\n",
       "      <td>CAMP010</td>\n",
       "      <td>Youth Initiative 010</td>\n",
       "      <td>59:27.6</td>\n",
       "      <td>59:27.6</td>\n",
       "      <td>50455.82</td>\n",
       "      <td>54176.99</td>\n",
       "      <td>Social Media</td>\n",
       "      <td>2022-12-27</td>\n",
       "      <td>Not Reached</td>\n",
       "      <td>Workshops Delivered</td>\n",
       "      <td>40.0</td>\n",
       "      <td>100.0</td>\n",
       "    </tr>\n",
       "    <tr>\n",
       "      <th>135</th>\n",
       "      <td>DNR00002</td>\n",
       "      <td>25</td>\n",
       "      <td>Male</td>\n",
       "      <td>ACT</td>\n",
       "      <td>2015-11-01 22:59:27.552825</td>\n",
       "      <td>DNT001904</td>\n",
       "      <td>2020-04-17</td>\n",
       "      <td>175.96</td>\n",
       "      <td>CAMP008</td>\n",
       "      <td>Youth Initiative 008</td>\n",
       "      <td>59:27.6</td>\n",
       "      <td>59:27.6</td>\n",
       "      <td>98200.79</td>\n",
       "      <td>102566.77</td>\n",
       "      <td>Newsletter</td>\n",
       "      <td>2023-09-09</td>\n",
       "      <td>Not Reached</td>\n",
       "      <td>Workshops Delivered</td>\n",
       "      <td>85.0</td>\n",
       "      <td>100.0</td>\n",
       "    </tr>\n",
       "    <tr>\n",
       "      <th>150</th>\n",
       "      <td>DNR00002</td>\n",
       "      <td>25</td>\n",
       "      <td>Male</td>\n",
       "      <td>ACT</td>\n",
       "      <td>2015-11-01 22:59:27.552825</td>\n",
       "      <td>DNT011974</td>\n",
       "      <td>2017-01-19</td>\n",
       "      <td>35.31</td>\n",
       "      <td>CAMP006</td>\n",
       "      <td>Youth Initiative 006</td>\n",
       "      <td>59:27.6</td>\n",
       "      <td>59:27.6</td>\n",
       "      <td>33193.34</td>\n",
       "      <td>39159.84</td>\n",
       "      <td>Newsletter</td>\n",
       "      <td>2023-09-09</td>\n",
       "      <td>Not Reached</td>\n",
       "      <td>Workshops Delivered</td>\n",
       "      <td>25.0</td>\n",
       "      <td>100.0</td>\n",
       "    </tr>\n",
       "  </tbody>\n",
       "</table>\n",
       "</div>"
      ],
      "text/plain": [
       "      DonorID  Age Gender Location                   JoinDate DonationID  \\\n",
       "0    DNR00001   56   Male      QLD 2020-10-03 22:59:27.552825  DNT002656   \n",
       "45   DNR00001   56   Male      QLD 2020-10-03 22:59:27.552825  DNT011160   \n",
       "90   DNR00001   56   Male      QLD 2020-10-03 22:59:27.552825  DNT012124   \n",
       "135  DNR00002   25   Male      ACT 2015-11-01 22:59:27.552825  DNT001904   \n",
       "150  DNR00002   25   Male      ACT 2015-11-01 22:59:27.552825  DNT011974   \n",
       "\n",
       "    DonationDate  Amount CampaignID          CampaignName StartDate  EndDate  \\\n",
       "0     2015-06-16  124.99    CAMP005  Youth Initiative 005   59:27.6  59:27.6   \n",
       "45    2021-11-20  124.46    CAMP003  Youth Initiative 003   59:27.6  59:27.6   \n",
       "90    2017-09-14  128.22    CAMP010  Youth Initiative 010   59:27.6  59:27.6   \n",
       "135   2020-04-17  175.96    CAMP008  Youth Initiative 008   59:27.6  59:27.6   \n",
       "150   2017-01-19   35.31    CAMP006  Youth Initiative 006   59:27.6  59:27.6   \n",
       "\n",
       "     TargetAmount  ActualAmount       Channel       Date EngagementOutcome  \\\n",
       "0        54063.32      62346.29  Social Media 2022-12-27       Not Reached   \n",
       "45       38582.41      33179.39  Social Media 2022-12-27       Not Reached   \n",
       "90       50455.82      54176.99  Social Media 2022-12-27       Not Reached   \n",
       "135      98200.79     102566.77    Newsletter 2023-09-09       Not Reached   \n",
       "150      33193.34      39159.84    Newsletter 2023-09-09       Not Reached   \n",
       "\n",
       "              ImpactType  Value   Cost  \n",
       "0    Workshops Delivered   31.0  100.0  \n",
       "45   Workshops Delivered   19.0  100.0  \n",
       "90   Workshops Delivered   40.0  100.0  \n",
       "135  Workshops Delivered   85.0  100.0  \n",
       "150  Workshops Delivered   25.0  100.0  "
      ]
     },
     "execution_count": 27,
     "metadata": {},
     "output_type": "execute_result"
    }
   ],
   "source": [
    "df['JoinDate'] = pd.to_datetime(df['JoinDate'])\n",
    "df['Date'] = pd.to_datetime(df['Date'])\n",
    "# Reformater en chaîne de caractères avec\n",
    "\n",
    "df.head()\n"
   ]
  },
  {
   "cell_type": "markdown",
   "id": "585f9eb9-6013-4a0c-b213-a96f0e958b78",
   "metadata": {},
   "source": [
    "**Remove unneccesary columns**"
   ]
  },
  {
   "cell_type": "code",
   "execution_count": 29,
   "id": "75c24bf8-cebe-4bd1-ac9f-71fa0aa61988",
   "metadata": {},
   "outputs": [],
   "source": [
    "df = df.drop(['StartDate', 'EndDate'], axis=1)"
   ]
  },
  {
   "cell_type": "code",
   "execution_count": 30,
   "id": "88d5b244-18f3-4c75-878a-ab31d5572730",
   "metadata": {},
   "outputs": [
    {
     "data": {
      "text/html": [
       "<div>\n",
       "<style scoped>\n",
       "    .dataframe tbody tr th:only-of-type {\n",
       "        vertical-align: middle;\n",
       "    }\n",
       "\n",
       "    .dataframe tbody tr th {\n",
       "        vertical-align: top;\n",
       "    }\n",
       "\n",
       "    .dataframe thead th {\n",
       "        text-align: right;\n",
       "    }\n",
       "</style>\n",
       "<table border=\"1\" class=\"dataframe\">\n",
       "  <thead>\n",
       "    <tr style=\"text-align: right;\">\n",
       "      <th></th>\n",
       "      <th>DonorID</th>\n",
       "      <th>Age</th>\n",
       "      <th>Gender</th>\n",
       "      <th>Location</th>\n",
       "      <th>JoinDate</th>\n",
       "      <th>DonationID</th>\n",
       "      <th>DonationDate</th>\n",
       "      <th>Amount</th>\n",
       "      <th>CampaignID</th>\n",
       "      <th>CampaignName</th>\n",
       "      <th>TargetAmount</th>\n",
       "      <th>ActualAmount</th>\n",
       "      <th>Channel</th>\n",
       "      <th>Date</th>\n",
       "      <th>EngagementOutcome</th>\n",
       "      <th>ImpactType</th>\n",
       "      <th>Value</th>\n",
       "      <th>Cost</th>\n",
       "    </tr>\n",
       "  </thead>\n",
       "  <tbody>\n",
       "    <tr>\n",
       "      <th>0</th>\n",
       "      <td>DNR00001</td>\n",
       "      <td>56</td>\n",
       "      <td>Male</td>\n",
       "      <td>QLD</td>\n",
       "      <td>2020-10-03 22:59:27.552825</td>\n",
       "      <td>DNT002656</td>\n",
       "      <td>2015-06-16</td>\n",
       "      <td>124.99</td>\n",
       "      <td>CAMP005</td>\n",
       "      <td>Youth Initiative 005</td>\n",
       "      <td>54063.32</td>\n",
       "      <td>62346.29</td>\n",
       "      <td>Social Media</td>\n",
       "      <td>2022-12-27</td>\n",
       "      <td>Not Reached</td>\n",
       "      <td>Workshops Delivered</td>\n",
       "      <td>31.0</td>\n",
       "      <td>100.0</td>\n",
       "    </tr>\n",
       "    <tr>\n",
       "      <th>45</th>\n",
       "      <td>DNR00001</td>\n",
       "      <td>56</td>\n",
       "      <td>Male</td>\n",
       "      <td>QLD</td>\n",
       "      <td>2020-10-03 22:59:27.552825</td>\n",
       "      <td>DNT011160</td>\n",
       "      <td>2021-11-20</td>\n",
       "      <td>124.46</td>\n",
       "      <td>CAMP003</td>\n",
       "      <td>Youth Initiative 003</td>\n",
       "      <td>38582.41</td>\n",
       "      <td>33179.39</td>\n",
       "      <td>Social Media</td>\n",
       "      <td>2022-12-27</td>\n",
       "      <td>Not Reached</td>\n",
       "      <td>Workshops Delivered</td>\n",
       "      <td>19.0</td>\n",
       "      <td>100.0</td>\n",
       "    </tr>\n",
       "    <tr>\n",
       "      <th>90</th>\n",
       "      <td>DNR00001</td>\n",
       "      <td>56</td>\n",
       "      <td>Male</td>\n",
       "      <td>QLD</td>\n",
       "      <td>2020-10-03 22:59:27.552825</td>\n",
       "      <td>DNT012124</td>\n",
       "      <td>2017-09-14</td>\n",
       "      <td>128.22</td>\n",
       "      <td>CAMP010</td>\n",
       "      <td>Youth Initiative 010</td>\n",
       "      <td>50455.82</td>\n",
       "      <td>54176.99</td>\n",
       "      <td>Social Media</td>\n",
       "      <td>2022-12-27</td>\n",
       "      <td>Not Reached</td>\n",
       "      <td>Workshops Delivered</td>\n",
       "      <td>40.0</td>\n",
       "      <td>100.0</td>\n",
       "    </tr>\n",
       "    <tr>\n",
       "      <th>135</th>\n",
       "      <td>DNR00002</td>\n",
       "      <td>25</td>\n",
       "      <td>Male</td>\n",
       "      <td>ACT</td>\n",
       "      <td>2015-11-01 22:59:27.552825</td>\n",
       "      <td>DNT001904</td>\n",
       "      <td>2020-04-17</td>\n",
       "      <td>175.96</td>\n",
       "      <td>CAMP008</td>\n",
       "      <td>Youth Initiative 008</td>\n",
       "      <td>98200.79</td>\n",
       "      <td>102566.77</td>\n",
       "      <td>Newsletter</td>\n",
       "      <td>2023-09-09</td>\n",
       "      <td>Not Reached</td>\n",
       "      <td>Workshops Delivered</td>\n",
       "      <td>85.0</td>\n",
       "      <td>100.0</td>\n",
       "    </tr>\n",
       "    <tr>\n",
       "      <th>150</th>\n",
       "      <td>DNR00002</td>\n",
       "      <td>25</td>\n",
       "      <td>Male</td>\n",
       "      <td>ACT</td>\n",
       "      <td>2015-11-01 22:59:27.552825</td>\n",
       "      <td>DNT011974</td>\n",
       "      <td>2017-01-19</td>\n",
       "      <td>35.31</td>\n",
       "      <td>CAMP006</td>\n",
       "      <td>Youth Initiative 006</td>\n",
       "      <td>33193.34</td>\n",
       "      <td>39159.84</td>\n",
       "      <td>Newsletter</td>\n",
       "      <td>2023-09-09</td>\n",
       "      <td>Not Reached</td>\n",
       "      <td>Workshops Delivered</td>\n",
       "      <td>25.0</td>\n",
       "      <td>100.0</td>\n",
       "    </tr>\n",
       "  </tbody>\n",
       "</table>\n",
       "</div>"
      ],
      "text/plain": [
       "      DonorID  Age Gender Location                   JoinDate DonationID  \\\n",
       "0    DNR00001   56   Male      QLD 2020-10-03 22:59:27.552825  DNT002656   \n",
       "45   DNR00001   56   Male      QLD 2020-10-03 22:59:27.552825  DNT011160   \n",
       "90   DNR00001   56   Male      QLD 2020-10-03 22:59:27.552825  DNT012124   \n",
       "135  DNR00002   25   Male      ACT 2015-11-01 22:59:27.552825  DNT001904   \n",
       "150  DNR00002   25   Male      ACT 2015-11-01 22:59:27.552825  DNT011974   \n",
       "\n",
       "    DonationDate  Amount CampaignID          CampaignName  TargetAmount  \\\n",
       "0     2015-06-16  124.99    CAMP005  Youth Initiative 005      54063.32   \n",
       "45    2021-11-20  124.46    CAMP003  Youth Initiative 003      38582.41   \n",
       "90    2017-09-14  128.22    CAMP010  Youth Initiative 010      50455.82   \n",
       "135   2020-04-17  175.96    CAMP008  Youth Initiative 008      98200.79   \n",
       "150   2017-01-19   35.31    CAMP006  Youth Initiative 006      33193.34   \n",
       "\n",
       "     ActualAmount       Channel       Date EngagementOutcome  \\\n",
       "0        62346.29  Social Media 2022-12-27       Not Reached   \n",
       "45       33179.39  Social Media 2022-12-27       Not Reached   \n",
       "90       54176.99  Social Media 2022-12-27       Not Reached   \n",
       "135     102566.77    Newsletter 2023-09-09       Not Reached   \n",
       "150      39159.84    Newsletter 2023-09-09       Not Reached   \n",
       "\n",
       "              ImpactType  Value   Cost  \n",
       "0    Workshops Delivered   31.0  100.0  \n",
       "45   Workshops Delivered   19.0  100.0  \n",
       "90   Workshops Delivered   40.0  100.0  \n",
       "135  Workshops Delivered   85.0  100.0  \n",
       "150  Workshops Delivered   25.0  100.0  "
      ]
     },
     "execution_count": 30,
     "metadata": {},
     "output_type": "execute_result"
    }
   ],
   "source": [
    "df.head()"
   ]
  },
  {
   "cell_type": "code",
   "execution_count": 31,
   "id": "b160daa3-5fec-4f5e-8aa0-e0b03f8624cd",
   "metadata": {
    "id": "b160daa3-5fec-4f5e-8aa0-e0b03f8624cd"
   },
   "outputs": [],
   "source": [
    "# after cleaning we save the  merged dataset\n",
    "df.to_csv('Data.csv',index=0)"
   ]
  },
  {
   "cell_type": "markdown",
   "id": "0634956f-bcdc-4c5b-8752-5a2cb2da53c3",
   "metadata": {},
   "source": [
    "**Explore basic statistics for numerical features (mean, median, min, max)**"
   ]
  },
  {
   "cell_type": "code",
   "execution_count": 33,
   "id": "1927b361-4959-4651-aa56-51e0fcbda157",
   "metadata": {},
   "outputs": [
    {
     "data": {
      "text/html": [
       "<div>\n",
       "<style scoped>\n",
       "    .dataframe tbody tr th:only-of-type {\n",
       "        vertical-align: middle;\n",
       "    }\n",
       "\n",
       "    .dataframe tbody tr th {\n",
       "        vertical-align: top;\n",
       "    }\n",
       "\n",
       "    .dataframe thead th {\n",
       "        text-align: right;\n",
       "    }\n",
       "</style>\n",
       "<table border=\"1\" class=\"dataframe\">\n",
       "  <thead>\n",
       "    <tr style=\"text-align: right;\">\n",
       "      <th></th>\n",
       "      <th>Age</th>\n",
       "      <th>JoinDate</th>\n",
       "      <th>Amount</th>\n",
       "      <th>TargetAmount</th>\n",
       "      <th>ActualAmount</th>\n",
       "      <th>Date</th>\n",
       "      <th>Value</th>\n",
       "      <th>Cost</th>\n",
       "    </tr>\n",
       "  </thead>\n",
       "  <tbody>\n",
       "    <tr>\n",
       "      <th>count</th>\n",
       "      <td>17840.00</td>\n",
       "      <td>17840</td>\n",
       "      <td>17840.00</td>\n",
       "      <td>17840.00</td>\n",
       "      <td>17840.00</td>\n",
       "      <td>17840</td>\n",
       "      <td>17840.00</td>\n",
       "      <td>17840.0</td>\n",
       "    </tr>\n",
       "    <tr>\n",
       "      <th>mean</th>\n",
       "      <td>48.44</td>\n",
       "      <td>2019-10-26 01:02:47.732196864</td>\n",
       "      <td>110.24</td>\n",
       "      <td>62092.24</td>\n",
       "      <td>59866.38</td>\n",
       "      <td>2023-02-25 02:59:26.098654720</td>\n",
       "      <td>33.52</td>\n",
       "      <td>100.0</td>\n",
       "    </tr>\n",
       "    <tr>\n",
       "      <th>min</th>\n",
       "      <td>18.00</td>\n",
       "      <td>2015-04-23 22:59:27.552825</td>\n",
       "      <td>10.00</td>\n",
       "      <td>33193.34</td>\n",
       "      <td>33179.39</td>\n",
       "      <td>2022-07-25 00:00:00</td>\n",
       "      <td>19.00</td>\n",
       "      <td>100.0</td>\n",
       "    </tr>\n",
       "    <tr>\n",
       "      <th>25%</th>\n",
       "      <td>33.00</td>\n",
       "      <td>2017-08-20 22:59:27.552825088</td>\n",
       "      <td>38.90</td>\n",
       "      <td>49248.12</td>\n",
       "      <td>44689.69</td>\n",
       "      <td>2022-09-22 00:00:00</td>\n",
       "      <td>24.00</td>\n",
       "      <td>100.0</td>\n",
       "    </tr>\n",
       "    <tr>\n",
       "      <th>50%</th>\n",
       "      <td>48.00</td>\n",
       "      <td>2019-10-27 22:59:27.552825088</td>\n",
       "      <td>79.15</td>\n",
       "      <td>58107.99</td>\n",
       "      <td>57113.83</td>\n",
       "      <td>2022-12-12 00:00:00</td>\n",
       "      <td>25.00</td>\n",
       "      <td>100.0</td>\n",
       "    </tr>\n",
       "    <tr>\n",
       "      <th>75%</th>\n",
       "      <td>64.00</td>\n",
       "      <td>2022-01-08 22:59:27.552825088</td>\n",
       "      <td>147.52</td>\n",
       "      <td>69723.66</td>\n",
       "      <td>68170.79</td>\n",
       "      <td>2023-05-22 00:00:00</td>\n",
       "      <td>37.00</td>\n",
       "      <td>100.0</td>\n",
       "    </tr>\n",
       "    <tr>\n",
       "      <th>max</th>\n",
       "      <td>79.00</td>\n",
       "      <td>2024-04-18 22:59:27.552825</td>\n",
       "      <td>930.72</td>\n",
       "      <td>98304.41</td>\n",
       "      <td>102566.77</td>\n",
       "      <td>2025-04-17 00:00:00</td>\n",
       "      <td>85.00</td>\n",
       "      <td>100.0</td>\n",
       "    </tr>\n",
       "    <tr>\n",
       "      <th>std</th>\n",
       "      <td>17.85</td>\n",
       "      <td>NaN</td>\n",
       "      <td>100.75</td>\n",
       "      <td>21218.57</td>\n",
       "      <td>19216.03</td>\n",
       "      <td>NaN</td>\n",
       "      <td>18.27</td>\n",
       "      <td>0.0</td>\n",
       "    </tr>\n",
       "  </tbody>\n",
       "</table>\n",
       "</div>"
      ],
      "text/plain": [
       "            Age                       JoinDate    Amount  TargetAmount  \\\n",
       "count  17840.00                          17840  17840.00      17840.00   \n",
       "mean      48.44  2019-10-26 01:02:47.732196864    110.24      62092.24   \n",
       "min       18.00     2015-04-23 22:59:27.552825     10.00      33193.34   \n",
       "25%       33.00  2017-08-20 22:59:27.552825088     38.90      49248.12   \n",
       "50%       48.00  2019-10-27 22:59:27.552825088     79.15      58107.99   \n",
       "75%       64.00  2022-01-08 22:59:27.552825088    147.52      69723.66   \n",
       "max       79.00     2024-04-18 22:59:27.552825    930.72      98304.41   \n",
       "std       17.85                            NaN    100.75      21218.57   \n",
       "\n",
       "       ActualAmount                           Date     Value     Cost  \n",
       "count      17840.00                          17840  17840.00  17840.0  \n",
       "mean       59866.38  2023-02-25 02:59:26.098654720     33.52    100.0  \n",
       "min        33179.39            2022-07-25 00:00:00     19.00    100.0  \n",
       "25%        44689.69            2022-09-22 00:00:00     24.00    100.0  \n",
       "50%        57113.83            2022-12-12 00:00:00     25.00    100.0  \n",
       "75%        68170.79            2023-05-22 00:00:00     37.00    100.0  \n",
       "max       102566.77            2025-04-17 00:00:00     85.00    100.0  \n",
       "std        19216.03                            NaN     18.27      0.0  "
      ]
     },
     "execution_count": 33,
     "metadata": {},
     "output_type": "execute_result"
    }
   ],
   "source": [
    "df.describe().round(2)"
   ]
  },
  {
   "cell_type": "markdown",
   "id": "08XE7cJYFb2F",
   "metadata": {
    "id": "08XE7cJYFb2F"
   },
   "source": [
    "### Business understanding\n",
    "\n",
    "In today’s fast-evolving fundraising landscape, nonprofit organisations face growing pressure to engage supporters meaningfully, demonstrate their impact, and build trust through transparency. Traditional, instinct-driven approaches no longer meet modern donor expectations\n",
    "\n",
    "Adopting a data-informed approach is not just a technical upgrade—it’s a cultural shift that aligns mission, message, and measurement. With the right mindset and existing tools, even small organisations can use data to boost engagement and impact.\n",
    "\n",
    "Delivering measurable change increasingly depends on how well nonprofits engage and retain supporters. As donor expectations rise and attention spans shrink, sustaining long-term relationships becomes a major challenge.[McKinsey Global Institute](https://www.mckinsey.com/capabilities/growth-marketing-and-sales/our-insights/five-facts-how-customer-analytics-boosts-corporate-performance) says that data-driven organisations are 23 times more likely to acquire customers, 6 times as likely to retain customers and 19 times as likely to be profitable, showing the importance of including data in decision making.\n",
    "\n",
    "Our objectives focus on helping NPO'S reduce donor churn, strengthen their  relationships with donors, and improve alignment between fundraising and impact, with data driven analysis. We aim to help them engage donors and inspire new strategies for attraction and retention.\n",
    "\n",
    "\n",
    "\n",
    "\n",
    "\n"
   ]
  },
  {
   "cell_type": "markdown",
   "id": "mfk5egLimVHF",
   "metadata": {
    "id": "mfk5egLimVHF"
   },
   "source": [
    "### Data Understanding\n",
    "A synthetic dataset was created to reflect the operational characteristics of a nonprofit organisation, focused on youth and community welfare. It includes relational tables for donors, donations, campaigns, impact outcomes, and engagement activities. These tables are structured to support a complete engagement analysis from start to finish.\n",
    "\n",
    "Although the data is fictitious, it reflects realistic patterns based on [sector](https://www2.fundsforngos.org/) / [research](https://virtuous.org/resources/resource-center/). These patterns include donor attrition, variations in donation behavior, and inconsistent campaign performance (Virtuous, 2024). The goal is to encourage the use of data in nonprofit environments and to provide the NPO community with a clear example of what a data-informed approach can accomplish. This simulation allows for open analysis while maintaining privacy and ethical standards.\n",
    "\n",
    "The structure of the dataset makes it possible to demonstrate how nonprofit engagement can be improved through analytics without relying on sensitive real-world data.\n"
   ]
  },
  {
   "cell_type": "markdown",
   "id": "V5jg7EO2z6v7",
   "metadata": {
    "id": "V5jg7EO2z6v7"
   },
   "source": [
    "## Major questions\n",
    "this section is a follow up of the two previous sections. it builds our business and data understanding and allow us to leverage the data to get meaningful and pertinent information."
   ]
  },
  {
   "cell_type": "markdown",
   "id": "qFXw5ppxKO8i",
   "metadata": {
    "id": "qFXw5ppxKO8i"
   },
   "source": [
    "**How many time donors are likely to donate ?**"
   ]
  },
  {
   "cell_type": "code",
   "execution_count": 38,
   "id": "JSbSaVluOuyx",
   "metadata": {
    "colab": {
     "base_uri": "https://localhost:8080/",
     "height": 314
    },
    "id": "JSbSaVluOuyx",
    "outputId": "fbddf81a-558c-41e8-cb36-756646e7a1cd"
   },
   "outputs": [
    {
     "data": {
      "image/png": "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",
      "text/plain": [
       "<Figure size 800x400 with 1 Axes>"
      ]
     },
     "metadata": {},
     "output_type": "display_data"
    }
   ],
   "source": [
    "# import necessary library\n",
    "import matplotlib.pyplot as plt\n",
    "import seaborn as sns\n",
    "\n",
    "# Group by DonorID to get donation count\n",
    "donation_counts = donations.groupby('DonorID')['DonationID'].count()\n",
    "\n",
    "# Plot\n",
    "plt.figure(figsize=(8, 4))\n",
    "sns.histplot(donation_counts, bins=20, kde=False, color='green')\n",
    "plt.title('Number of Donations per Donor')\n",
    "plt.xlabel('Number of Unique Donations')\n",
    "plt.ylabel('Number of Donors')\n",
    "plt.tight_layout()\n",
    "plt.show()"
   ]
  },
  {
   "cell_type": "code",
   "execution_count": 39,
   "id": "aea4cd80-0f86-4130-8918-8a08d84fbc7a",
   "metadata": {},
   "outputs": [
    {
     "data": {
      "image/png": "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",
      "text/plain": [
       "<Figure size 1000x500 with 2 Axes>"
      ]
     },
     "metadata": {},
     "output_type": "display_data"
    },
    {
     "data": {
      "text/plain": [
       "Gender\n",
       "Female    663950.26\n",
       "Male      657135.77\n",
       "Other     645596.74\n",
       "Name: Amount, dtype: float64"
      ]
     },
     "execution_count": 39,
     "metadata": {},
     "output_type": "execute_result"
    }
   ],
   "source": [
    "donation_by_gender = df.groupby('Gender')['Amount'].sum()\n",
    "\n",
    "# Kalkile total donation tout ansanm\n",
    "total_donation = df['Amount'].count()\n",
    "\n",
    "# subplots (2 graf)\n",
    "fig, axes = plt.subplots(1, 2, figsize=(10, 5))\n",
    "\n",
    "# 1️ Bar chart  donation by gender\n",
    "donation_by_gender.plot(kind='bar', ax=axes[0], color=['#1f77b4', '#ff7f0e'])\n",
    "axes[0].set_title('Total Donation pa Gender')\n",
    "axes[0].set_xlabel('Gender')\n",
    "axes[0].set_ylabel('Donation')\n",
    "axes[0].grid(axis='y', linestyle='--', alpha=0.7)\n",
    "\n",
    "# 2️ Pie chart \n",
    "donation_by_gender.plot(kind='pie', autopct='%1.1f%%', ax=axes[1], ylabel='', colors=['#1f77b4', '#ff7f0e'])\n",
    "axes[1].set_title(f'Share pa Gender (Total: {total_donation})')\n",
    "\n",
    "\n",
    "plt.tight_layout()\n",
    "plt.show()\n",
    "donation_by_gender"
   ]
  },
  {
   "cell_type": "markdown",
   "id": "Y5YUsutSOMgZ",
   "metadata": {
    "id": "Y5YUsutSOMgZ"
   },
   "source": [
    "Comment: Most donors donates around 2 to 4 times.\n",
    "We can observe that the Number of Donors decreases For higher number of donations, showing moderate donor retention.\n",
    "\n",
    "\n",
    "\n"
   ]
  },
  {
   "cell_type": "markdown",
   "id": "pKMox1CscH2U",
   "metadata": {
    "id": "pKMox1CscH2U"
   },
   "source": [
    "**How has donor retention evolved over time ?**"
   ]
  },
  {
   "cell_type": "code",
   "execution_count": 42,
   "id": "HtUsgdDDW-5i",
   "metadata": {
    "colab": {
     "base_uri": "https://localhost:8080/",
     "height": 376
    },
    "id": "HtUsgdDDW-5i",
    "outputId": "cf76a031-6f7a-4c8a-e35b-d8b2ba797b0a"
   },
   "outputs": [
    {
     "name": "stderr",
     "output_type": "stream",
     "text": [
      "C:\\Users\\teach\\AppData\\Local\\Temp\\ipykernel_2148\\112954652.py:2: UserWarning: Parsing dates in %Y-%m-%d format when dayfirst=True was specified. Pass `dayfirst=False` or specify a format to silence this warning.\n",
      "  df['DonationDate'] = pd.to_datetime(df['DonationDate'], dayfirst=True)\n"
     ]
    },
    {
     "data": {
      "image/png": "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",
      "text/plain": [
       "<Figure size 1000x600 with 1 Axes>"
      ]
     },
     "metadata": {},
     "output_type": "display_data"
    }
   ],
   "source": [
    "# conversion\n",
    "df['DonationDate'] = pd.to_datetime(df['DonationDate'], dayfirst=True)\n",
    "\n",
    "# Extract donation year\n",
    "df['DonationYear'] = df['DonationDate'].dt.year\n",
    "years = sorted(df['DonationYear'].unique())\n",
    "retention_stats = []\n",
    "\n",
    "for i in range(len(years) -1 ):\n",
    "    year_current = years[i]\n",
    "    year_next = years[i + 1]\n",
    "\n",
    "    donors_current = set(df[df['DonationYear'] == year_current]['DonorID'])\n",
    "    donors_next = set(df[df['DonationYear'] == year_next]['DonorID'])\n",
    "\n",
    "    retained_donors = donors_current & donors_next\n",
    "    retention_rate = len(retained_donors) / len(donors_current) * 100 if donors_current else 0\n",
    "\n",
    "    retention_stats.append({\n",
    "        \"From Year\": year_current,\n",
    "        \"To Year\": year_next,\n",
    "        \"Donors in Year\": len(donors_current),\n",
    "        \"Retained Donors\": len(retained_donors),\n",
    "        \"Retention Rate (%)\": round(retention_rate, 2)\n",
    "    })\n",
    "\n",
    "retention_df = pd.DataFrame(retention_stats)\n",
    "\n",
    "# Exclude the last year from the plot as it has incomplete data\n",
    "retention_df_plot = retention_df[:-1]\n",
    "\n",
    "plt.figure(figsize=(10, 6))\n",
    "plt.plot(retention_df_plot[\"From Year\"].astype(str), retention_df_plot[\"Retention Rate (%)\"], marker='o',  color = \"red\", linewidth=2)\n",
    "plt.title(\"Year-over-Year Donor Retention Rate (Excluding Incomplete Year)\", fontsize=14)\n",
    "plt.xlabel(\"From Year\", fontsize=12)\n",
    "plt.ylabel(\"Retention Rate (%)\", fontsize=12)\n",
    "plt.xticks(rotation=45)\n",
    "plt.grid(True)\n",
    "plt.tight_layout()\n",
    "plt.show()"
   ]
  },
  {
   "cell_type": "markdown",
   "id": "m6HZYF0-Xdz5",
   "metadata": {
    "id": "m6HZYF0-Xdz5"
   },
   "source": [
    "Comment: This line graph illustrates the percentage of donors retained from one year to the next over a ten-year period. While retention fluctuates around  30%, occasional dips highlight the importance of targeted re-engagement strategies and sustained communication with donor segments."
   ]
  },
  {
   "cell_type": "markdown",
   "id": "8FExHyJJLo_9",
   "metadata": {
    "id": "8FExHyJJLo_9"
   },
   "source": [
    "**How can the different type of donors be classified ?**\n"
   ]
  },
  {
   "cell_type": "code",
   "execution_count": 45,
   "id": "fv3Lav8LMM6n",
   "metadata": {
    "colab": {
     "base_uri": "https://localhost:8080/",
     "height": 363
    },
    "id": "fv3Lav8LMM6n",
    "outputId": "930273d1-ed7d-4ada-e3db-a5d9742e3f53"
   },
   "outputs": [
    {
     "data": {
      "text/html": [
       "<div>\n",
       "<style scoped>\n",
       "    .dataframe tbody tr th:only-of-type {\n",
       "        vertical-align: middle;\n",
       "    }\n",
       "\n",
       "    .dataframe tbody tr th {\n",
       "        vertical-align: top;\n",
       "    }\n",
       "\n",
       "    .dataframe thead th {\n",
       "        text-align: right;\n",
       "    }\n",
       "</style>\n",
       "<table border=\"1\" class=\"dataframe\">\n",
       "  <thead>\n",
       "    <tr style=\"text-align: right;\">\n",
       "      <th></th>\n",
       "      <th>Segment</th>\n",
       "      <th>Count</th>\n",
       "    </tr>\n",
       "  </thead>\n",
       "  <tbody>\n",
       "    <tr>\n",
       "      <th>0</th>\n",
       "      <td>Loyal Donors</td>\n",
       "      <td>1659</td>\n",
       "    </tr>\n",
       "    <tr>\n",
       "      <th>1</th>\n",
       "      <td>Lapsed but Valuable</td>\n",
       "      <td>990</td>\n",
       "    </tr>\n",
       "    <tr>\n",
       "      <th>2</th>\n",
       "      <td>At Risk</td>\n",
       "      <td>683</td>\n",
       "    </tr>\n",
       "    <tr>\n",
       "      <th>3</th>\n",
       "      <td>Low Frequency</td>\n",
       "      <td>494</td>\n",
       "    </tr>\n",
       "    <tr>\n",
       "      <th>4</th>\n",
       "      <td>Misc Donors</td>\n",
       "      <td>394</td>\n",
       "    </tr>\n",
       "    <tr>\n",
       "      <th>5</th>\n",
       "      <td>Lost or Inactive</td>\n",
       "      <td>375</td>\n",
       "    </tr>\n",
       "    <tr>\n",
       "      <th>6</th>\n",
       "      <td>Champions</td>\n",
       "      <td>135</td>\n",
       "    </tr>\n",
       "    <tr>\n",
       "      <th>7</th>\n",
       "      <td>Never Donated</td>\n",
       "      <td>122</td>\n",
       "    </tr>\n",
       "    <tr>\n",
       "      <th>8</th>\n",
       "      <td>New Donors</td>\n",
       "      <td>20</td>\n",
       "    </tr>\n",
       "    <tr>\n",
       "      <th>9</th>\n",
       "      <td>High Value Potentials</td>\n",
       "      <td>19</td>\n",
       "    </tr>\n",
       "  </tbody>\n",
       "</table>\n",
       "</div>"
      ],
      "text/plain": [
       "                 Segment  Count\n",
       "0           Loyal Donors   1659\n",
       "1    Lapsed but Valuable    990\n",
       "2                At Risk    683\n",
       "3          Low Frequency    494\n",
       "4            Misc Donors    394\n",
       "5       Lost or Inactive    375\n",
       "6              Champions    135\n",
       "7          Never Donated    122\n",
       "8             New Donors     20\n",
       "9  High Value Potentials     19"
      ]
     },
     "execution_count": 45,
     "metadata": {},
     "output_type": "execute_result"
    }
   ],
   "source": [
    "import numpy as np\n",
    "\n",
    "# Convert donation date to datetime\n",
    "df['DonationDate'] = pd.to_datetime(df['DonationDate'])\n",
    "\n",
    "# Create donor-level summary\n",
    "today = pd.to_datetime('today')\n",
    "donor_summary = df.groupby('DonorID').agg(\n",
    "    FirstDonationDate=('DonationDate', 'min'),\n",
    "    LastDonationDate=('DonationDate', 'max'),\n",
    "    Frequency=('DonationID', 'count'),\n",
    "    Monetary=('Amount', 'sum')\n",
    ").reset_index()\n",
    "donor_summary['Recency'] = (today - donor_summary['LastDonationDate']).dt.days\n",
    "\n",
    "# Merge with full donor list\n",
    "donor_full_summary = pd.merge(donors[['DonorID']], donor_summary, on='DonorID', how='left')\n",
    "donor_full_summary['Recency'] = donor_full_summary['Recency'].fillna(np.inf)\n",
    "donor_full_summary['Frequency'] = donor_full_summary['Frequency'].fillna(0)\n",
    "donor_full_summary['Monetary'] = donor_full_summary['Monetary'].fillna(0)\n",
    "# Assign segments\n",
    "def assign_segment(row):\n",
    "    r = row['Recency']\n",
    "    f = row['Frequency']\n",
    "    m = row['Monetary']\n",
    "\n",
    "    if np.isinf(r) or pd.isna(r):\n",
    "        return 'Never Donated'\n",
    "    elif r <= 365 and f == 1:\n",
    "        return 'New Donors'\n",
    "    elif r <= 365 and f >= 4 and m >= 750:\n",
    "        return 'Champions'\n",
    "    elif r <= 1095 and f >= 4:\n",
    "        return 'Loyal Donors'\n",
    "    elif r <= 1095 and 2 <= f <= 4 and m >= 750:\n",
    "        return 'High Value Potentials'\n",
    "    elif r > 1095 and f >= 2 and m >= 250:\n",
    "        return 'Lapsed but Valuable'\n",
    "    elif 365 < r <= 1095 and f >= 2:\n",
    "        return 'At Risk'\n",
    "    elif r > 1095 and f == 1:\n",
    "        return 'Lost or Inactive'\n",
    "    elif f <= 2 and m < 250:\n",
    "        return 'Low Frequency'\n",
    "    else:\n",
    "        return 'Misc Donors'\n",
    "\n",
    "donor_full_summary['Segment'] = donor_full_summary.apply(assign_segment, axis=1)\n",
    "\n",
    "# Return segment summary for confirmation\n",
    "segment_summary = donor_full_summary['Segment'].value_counts().reset_index()\n",
    "segment_summary.columns = ['Segment', 'Count']\n",
    "segment_summary"
   ]
  },
  {
   "cell_type": "code",
   "execution_count": 46,
   "id": "-UYQ0gG0OVTb",
   "metadata": {
    "colab": {
     "base_uri": "https://localhost:8080/",
     "height": 425
    },
    "id": "-UYQ0gG0OVTb",
    "outputId": "d0a107ed-f356-4f36-cbaf-02b1064089dc"
   },
   "outputs": [
    {
     "name": "stderr",
     "output_type": "stream",
     "text": [
      "C:\\Users\\teach\\AppData\\Local\\Temp\\ipykernel_2148\\4202684907.py:2: FutureWarning: \n",
      "\n",
      "Passing `palette` without assigning `hue` is deprecated and will be removed in v0.14.0. Assign the `x` variable to `hue` and set `legend=False` for the same effect.\n",
      "\n",
      "  sns.barplot(x='Segment', y='Count', data=segment_summary, palette='viridis')\n"
     ]
    },
    {
     "data": {
      "image/png": "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",
      "text/plain": [
       "<Figure size 1200x600 with 1 Axes>"
      ]
     },
     "metadata": {},
     "output_type": "display_data"
    }
   ],
   "source": [
    "plt.figure(figsize=(12, 6))\n",
    "sns.barplot(x='Segment', y='Count', data=segment_summary, palette='viridis')\n",
    "plt.title('Distribution of Donor Segments', fontsize=14)\n",
    "plt.xlabel('Donor Segment', fontsize=12)\n",
    "plt.ylabel('Number of Donors', fontsize=12)\n",
    "plt.xticks(rotation=45, ha='right')\n",
    "plt.tight_layout()\n",
    "plt.show()"
   ]
  },
  {
   "cell_type": "markdown",
   "id": "nlgGgKU_NCul",
   "metadata": {
    "id": "nlgGgKU_NCul"
   },
   "source": [
    "**How are the different categories of donors engaged?**"
   ]
  },
  {
   "cell_type": "code",
   "execution_count": 48,
   "id": "ik4so3zWOg3K",
   "metadata": {
    "colab": {
     "base_uri": "https://localhost:8080/",
     "height": 316
    },
    "id": "ik4so3zWOg3K",
    "outputId": "1257fd88-c56c-491c-b1f5-3a201eeeacc9"
   },
   "outputs": [
    {
     "data": {
      "image/png": "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",
      "text/plain": [
       "<Figure size 1200x600 with 1 Axes>"
      ]
     },
     "metadata": {},
     "output_type": "display_data"
    }
   ],
   "source": [
    "engagements_outcomes = engagement_history.merge(donor_full_summary[['DonorID', 'Segment']], on='DonorID', how='left')\n",
    "\n",
    "# Create a countplot showing outcomes across segments\n",
    "plt.figure(figsize=(12, 6))\n",
    "sns.countplot(data=engagements_outcomes, x='EngagementOutcome', hue='Segment', palette='husl')\n",
    "plt.title('Engagement Outcomes by Donor Segment')\n",
    "plt.xlabel('Engagement Outcome')\n",
    "plt.ylabel('Number of Engagements')\n",
    "plt.xticks(rotation=0)\n",
    "plt.legend(title='Segment', bbox_to_anchor=(1.05, 1), loc='upper left')\n",
    "plt.tight_layout()\n",
    "plt.show()"
   ]
  },
  {
   "cell_type": "markdown",
   "id": "N8HwRW1lOu24",
   "metadata": {
    "id": "N8HwRW1lOu24"
   },
   "source": [
    "## Modeling"
   ]
  },
  {
   "cell_type": "markdown",
   "id": "cd3c9686-9226-4931-ae5e-6a3cb9a91eb6",
   "metadata": {},
   "source": [
    "#### ==========================================================================================\n",
    "**Feature Engineering**"
   ]
  },
  {
   "cell_type": "code",
   "execution_count": 51,
   "id": "ab473012-25c5-410f-b291-c5e01d72f9ce",
   "metadata": {},
   "outputs": [],
   "source": [
    "# Donor tenure (days between first join and latest donation)\n",
    "df['DonorTenure'] = (df['DonationDate'] - df['JoinDate']).dt.days.abs()\n"
   ]
  },
  {
   "cell_type": "code",
   "execution_count": 52,
   "id": "633cd2be-aa5c-4da3-b036-e11a89d6d132",
   "metadata": {},
   "outputs": [
    {
     "data": {
      "text/html": [
       "<div>\n",
       "<style scoped>\n",
       "    .dataframe tbody tr th:only-of-type {\n",
       "        vertical-align: middle;\n",
       "    }\n",
       "\n",
       "    .dataframe tbody tr th {\n",
       "        vertical-align: top;\n",
       "    }\n",
       "\n",
       "    .dataframe thead th {\n",
       "        text-align: right;\n",
       "    }\n",
       "</style>\n",
       "<table border=\"1\" class=\"dataframe\">\n",
       "  <thead>\n",
       "    <tr style=\"text-align: right;\">\n",
       "      <th></th>\n",
       "      <th>DonorID</th>\n",
       "      <th>Age</th>\n",
       "      <th>Gender</th>\n",
       "      <th>Location</th>\n",
       "      <th>JoinDate</th>\n",
       "      <th>DonationID</th>\n",
       "      <th>DonationDate</th>\n",
       "      <th>Amount</th>\n",
       "      <th>CampaignID</th>\n",
       "      <th>CampaignName</th>\n",
       "      <th>...</th>\n",
       "      <th>ActualAmount</th>\n",
       "      <th>Channel</th>\n",
       "      <th>Date</th>\n",
       "      <th>EngagementOutcome</th>\n",
       "      <th>ImpactType</th>\n",
       "      <th>Value</th>\n",
       "      <th>Cost</th>\n",
       "      <th>DonationYear</th>\n",
       "      <th>DonorTenure</th>\n",
       "      <th>CampaignSuccessRatio</th>\n",
       "    </tr>\n",
       "  </thead>\n",
       "  <tbody>\n",
       "    <tr>\n",
       "      <th>0</th>\n",
       "      <td>DNR00001</td>\n",
       "      <td>56</td>\n",
       "      <td>Male</td>\n",
       "      <td>QLD</td>\n",
       "      <td>2020-10-03 22:59:27.552825</td>\n",
       "      <td>DNT002656</td>\n",
       "      <td>2015-06-16</td>\n",
       "      <td>124.99</td>\n",
       "      <td>CAMP005</td>\n",
       "      <td>Youth Initiative 005</td>\n",
       "      <td>...</td>\n",
       "      <td>62346.29</td>\n",
       "      <td>Social Media</td>\n",
       "      <td>2022-12-27</td>\n",
       "      <td>Not Reached</td>\n",
       "      <td>Workshops Delivered</td>\n",
       "      <td>31.0</td>\n",
       "      <td>100.0</td>\n",
       "      <td>2015</td>\n",
       "      <td>1937</td>\n",
       "      <td>1.153209</td>\n",
       "    </tr>\n",
       "    <tr>\n",
       "      <th>45</th>\n",
       "      <td>DNR00001</td>\n",
       "      <td>56</td>\n",
       "      <td>Male</td>\n",
       "      <td>QLD</td>\n",
       "      <td>2020-10-03 22:59:27.552825</td>\n",
       "      <td>DNT011160</td>\n",
       "      <td>2021-11-20</td>\n",
       "      <td>124.46</td>\n",
       "      <td>CAMP003</td>\n",
       "      <td>Youth Initiative 003</td>\n",
       "      <td>...</td>\n",
       "      <td>33179.39</td>\n",
       "      <td>Social Media</td>\n",
       "      <td>2022-12-27</td>\n",
       "      <td>Not Reached</td>\n",
       "      <td>Workshops Delivered</td>\n",
       "      <td>19.0</td>\n",
       "      <td>100.0</td>\n",
       "      <td>2021</td>\n",
       "      <td>412</td>\n",
       "      <td>0.859962</td>\n",
       "    </tr>\n",
       "    <tr>\n",
       "      <th>90</th>\n",
       "      <td>DNR00001</td>\n",
       "      <td>56</td>\n",
       "      <td>Male</td>\n",
       "      <td>QLD</td>\n",
       "      <td>2020-10-03 22:59:27.552825</td>\n",
       "      <td>DNT012124</td>\n",
       "      <td>2017-09-14</td>\n",
       "      <td>128.22</td>\n",
       "      <td>CAMP010</td>\n",
       "      <td>Youth Initiative 010</td>\n",
       "      <td>...</td>\n",
       "      <td>54176.99</td>\n",
       "      <td>Social Media</td>\n",
       "      <td>2022-12-27</td>\n",
       "      <td>Not Reached</td>\n",
       "      <td>Workshops Delivered</td>\n",
       "      <td>40.0</td>\n",
       "      <td>100.0</td>\n",
       "      <td>2017</td>\n",
       "      <td>1116</td>\n",
       "      <td>1.073751</td>\n",
       "    </tr>\n",
       "    <tr>\n",
       "      <th>135</th>\n",
       "      <td>DNR00002</td>\n",
       "      <td>25</td>\n",
       "      <td>Male</td>\n",
       "      <td>ACT</td>\n",
       "      <td>2015-11-01 22:59:27.552825</td>\n",
       "      <td>DNT001904</td>\n",
       "      <td>2020-04-17</td>\n",
       "      <td>175.96</td>\n",
       "      <td>CAMP008</td>\n",
       "      <td>Youth Initiative 008</td>\n",
       "      <td>...</td>\n",
       "      <td>102566.77</td>\n",
       "      <td>Newsletter</td>\n",
       "      <td>2023-09-09</td>\n",
       "      <td>Not Reached</td>\n",
       "      <td>Workshops Delivered</td>\n",
       "      <td>85.0</td>\n",
       "      <td>100.0</td>\n",
       "      <td>2020</td>\n",
       "      <td>1628</td>\n",
       "      <td>1.044460</td>\n",
       "    </tr>\n",
       "    <tr>\n",
       "      <th>150</th>\n",
       "      <td>DNR00002</td>\n",
       "      <td>25</td>\n",
       "      <td>Male</td>\n",
       "      <td>ACT</td>\n",
       "      <td>2015-11-01 22:59:27.552825</td>\n",
       "      <td>DNT011974</td>\n",
       "      <td>2017-01-19</td>\n",
       "      <td>35.31</td>\n",
       "      <td>CAMP006</td>\n",
       "      <td>Youth Initiative 006</td>\n",
       "      <td>...</td>\n",
       "      <td>39159.84</td>\n",
       "      <td>Newsletter</td>\n",
       "      <td>2023-09-09</td>\n",
       "      <td>Not Reached</td>\n",
       "      <td>Workshops Delivered</td>\n",
       "      <td>25.0</td>\n",
       "      <td>100.0</td>\n",
       "      <td>2017</td>\n",
       "      <td>444</td>\n",
       "      <td>1.179750</td>\n",
       "    </tr>\n",
       "    <tr>\n",
       "      <th>...</th>\n",
       "      <td>...</td>\n",
       "      <td>...</td>\n",
       "      <td>...</td>\n",
       "      <td>...</td>\n",
       "      <td>...</td>\n",
       "      <td>...</td>\n",
       "      <td>...</td>\n",
       "      <td>...</td>\n",
       "      <td>...</td>\n",
       "      <td>...</td>\n",
       "      <td>...</td>\n",
       "      <td>...</td>\n",
       "      <td>...</td>\n",
       "      <td>...</td>\n",
       "      <td>...</td>\n",
       "      <td>...</td>\n",
       "      <td>...</td>\n",
       "      <td>...</td>\n",
       "      <td>...</td>\n",
       "      <td>...</td>\n",
       "      <td>...</td>\n",
       "    </tr>\n",
       "    <tr>\n",
       "      <th>439963</th>\n",
       "      <td>DNR04888</td>\n",
       "      <td>53</td>\n",
       "      <td>Other</td>\n",
       "      <td>QLD</td>\n",
       "      <td>2015-10-09 22:59:27.552825</td>\n",
       "      <td>DNT017601</td>\n",
       "      <td>2021-11-19</td>\n",
       "      <td>139.03</td>\n",
       "      <td>CAMP010</td>\n",
       "      <td>Youth Initiative 010</td>\n",
       "      <td>...</td>\n",
       "      <td>54176.99</td>\n",
       "      <td>Phone Call</td>\n",
       "      <td>2023-08-21</td>\n",
       "      <td>Engaged</td>\n",
       "      <td>Workshops Delivered</td>\n",
       "      <td>40.0</td>\n",
       "      <td>100.0</td>\n",
       "      <td>2021</td>\n",
       "      <td>2232</td>\n",
       "      <td>1.073751</td>\n",
       "    </tr>\n",
       "    <tr>\n",
       "      <th>439983</th>\n",
       "      <td>DNR04889</td>\n",
       "      <td>30</td>\n",
       "      <td>Female</td>\n",
       "      <td>TAS</td>\n",
       "      <td>2019-10-27 22:59:27.552825</td>\n",
       "      <td>DNT010655</td>\n",
       "      <td>2025-01-01</td>\n",
       "      <td>31.40</td>\n",
       "      <td>CAMP004</td>\n",
       "      <td>Youth Initiative 004</td>\n",
       "      <td>...</td>\n",
       "      <td>56117.36</td>\n",
       "      <td>Email</td>\n",
       "      <td>2023-07-09</td>\n",
       "      <td>Engaged</td>\n",
       "      <td>Workshops Delivered</td>\n",
       "      <td>27.0</td>\n",
       "      <td>100.0</td>\n",
       "      <td>2025</td>\n",
       "      <td>1892</td>\n",
       "      <td>1.139482</td>\n",
       "    </tr>\n",
       "    <tr>\n",
       "      <th>440003</th>\n",
       "      <td>DNR04889</td>\n",
       "      <td>30</td>\n",
       "      <td>Female</td>\n",
       "      <td>TAS</td>\n",
       "      <td>2019-10-27 22:59:27.552825</td>\n",
       "      <td>DNT015750</td>\n",
       "      <td>2017-07-11</td>\n",
       "      <td>93.17</td>\n",
       "      <td>CAMP010</td>\n",
       "      <td>Youth Initiative 010</td>\n",
       "      <td>...</td>\n",
       "      <td>54176.99</td>\n",
       "      <td>Email</td>\n",
       "      <td>2023-07-09</td>\n",
       "      <td>Engaged</td>\n",
       "      <td>Workshops Delivered</td>\n",
       "      <td>40.0</td>\n",
       "      <td>100.0</td>\n",
       "      <td>2017</td>\n",
       "      <td>839</td>\n",
       "      <td>1.073751</td>\n",
       "    </tr>\n",
       "    <tr>\n",
       "      <th>440023</th>\n",
       "      <td>DNR04890</td>\n",
       "      <td>65</td>\n",
       "      <td>Female</td>\n",
       "      <td>ACT</td>\n",
       "      <td>2024-03-12 22:59:27.552825</td>\n",
       "      <td>DNT017336</td>\n",
       "      <td>2021-04-21</td>\n",
       "      <td>20.75</td>\n",
       "      <td>CAMP006</td>\n",
       "      <td>Youth Initiative 006</td>\n",
       "      <td>...</td>\n",
       "      <td>39159.84</td>\n",
       "      <td>Social Media</td>\n",
       "      <td>2023-02-25</td>\n",
       "      <td>Engaged</td>\n",
       "      <td>Workshops Delivered</td>\n",
       "      <td>25.0</td>\n",
       "      <td>100.0</td>\n",
       "      <td>2021</td>\n",
       "      <td>1057</td>\n",
       "      <td>1.179750</td>\n",
       "    </tr>\n",
       "    <tr>\n",
       "      <th>440043</th>\n",
       "      <td>DNR04891</td>\n",
       "      <td>30</td>\n",
       "      <td>Female</td>\n",
       "      <td>WA</td>\n",
       "      <td>2023-11-28 22:59:27.552825</td>\n",
       "      <td>DNT017280</td>\n",
       "      <td>2017-07-29</td>\n",
       "      <td>79.82</td>\n",
       "      <td>CAMP004</td>\n",
       "      <td>Youth Initiative 004</td>\n",
       "      <td>...</td>\n",
       "      <td>56117.36</td>\n",
       "      <td>Phone Call</td>\n",
       "      <td>2022-07-27</td>\n",
       "      <td>Unsubscribed</td>\n",
       "      <td>Workshops Delivered</td>\n",
       "      <td>27.0</td>\n",
       "      <td>100.0</td>\n",
       "      <td>2017</td>\n",
       "      <td>2314</td>\n",
       "      <td>1.139482</td>\n",
       "    </tr>\n",
       "  </tbody>\n",
       "</table>\n",
       "<p>17840 rows × 21 columns</p>\n",
       "</div>"
      ],
      "text/plain": [
       "         DonorID  Age  Gender Location                   JoinDate DonationID  \\\n",
       "0       DNR00001   56    Male      QLD 2020-10-03 22:59:27.552825  DNT002656   \n",
       "45      DNR00001   56    Male      QLD 2020-10-03 22:59:27.552825  DNT011160   \n",
       "90      DNR00001   56    Male      QLD 2020-10-03 22:59:27.552825  DNT012124   \n",
       "135     DNR00002   25    Male      ACT 2015-11-01 22:59:27.552825  DNT001904   \n",
       "150     DNR00002   25    Male      ACT 2015-11-01 22:59:27.552825  DNT011974   \n",
       "...          ...  ...     ...      ...                        ...        ...   \n",
       "439963  DNR04888   53   Other      QLD 2015-10-09 22:59:27.552825  DNT017601   \n",
       "439983  DNR04889   30  Female      TAS 2019-10-27 22:59:27.552825  DNT010655   \n",
       "440003  DNR04889   30  Female      TAS 2019-10-27 22:59:27.552825  DNT015750   \n",
       "440023  DNR04890   65  Female      ACT 2024-03-12 22:59:27.552825  DNT017336   \n",
       "440043  DNR04891   30  Female       WA 2023-11-28 22:59:27.552825  DNT017280   \n",
       "\n",
       "       DonationDate  Amount CampaignID          CampaignName  ...  \\\n",
       "0        2015-06-16  124.99    CAMP005  Youth Initiative 005  ...   \n",
       "45       2021-11-20  124.46    CAMP003  Youth Initiative 003  ...   \n",
       "90       2017-09-14  128.22    CAMP010  Youth Initiative 010  ...   \n",
       "135      2020-04-17  175.96    CAMP008  Youth Initiative 008  ...   \n",
       "150      2017-01-19   35.31    CAMP006  Youth Initiative 006  ...   \n",
       "...             ...     ...        ...                   ...  ...   \n",
       "439963   2021-11-19  139.03    CAMP010  Youth Initiative 010  ...   \n",
       "439983   2025-01-01   31.40    CAMP004  Youth Initiative 004  ...   \n",
       "440003   2017-07-11   93.17    CAMP010  Youth Initiative 010  ...   \n",
       "440023   2021-04-21   20.75    CAMP006  Youth Initiative 006  ...   \n",
       "440043   2017-07-29   79.82    CAMP004  Youth Initiative 004  ...   \n",
       "\n",
       "        ActualAmount       Channel       Date EngagementOutcome  \\\n",
       "0           62346.29  Social Media 2022-12-27       Not Reached   \n",
       "45          33179.39  Social Media 2022-12-27       Not Reached   \n",
       "90          54176.99  Social Media 2022-12-27       Not Reached   \n",
       "135        102566.77    Newsletter 2023-09-09       Not Reached   \n",
       "150         39159.84    Newsletter 2023-09-09       Not Reached   \n",
       "...              ...           ...        ...               ...   \n",
       "439963      54176.99    Phone Call 2023-08-21           Engaged   \n",
       "439983      56117.36         Email 2023-07-09           Engaged   \n",
       "440003      54176.99         Email 2023-07-09           Engaged   \n",
       "440023      39159.84  Social Media 2023-02-25           Engaged   \n",
       "440043      56117.36    Phone Call 2022-07-27      Unsubscribed   \n",
       "\n",
       "                 ImpactType Value   Cost  DonationYear  DonorTenure  \\\n",
       "0       Workshops Delivered  31.0  100.0          2015         1937   \n",
       "45      Workshops Delivered  19.0  100.0          2021          412   \n",
       "90      Workshops Delivered  40.0  100.0          2017         1116   \n",
       "135     Workshops Delivered  85.0  100.0          2020         1628   \n",
       "150     Workshops Delivered  25.0  100.0          2017          444   \n",
       "...                     ...   ...    ...           ...          ...   \n",
       "439963  Workshops Delivered  40.0  100.0          2021         2232   \n",
       "439983  Workshops Delivered  27.0  100.0          2025         1892   \n",
       "440003  Workshops Delivered  40.0  100.0          2017          839   \n",
       "440023  Workshops Delivered  25.0  100.0          2021         1057   \n",
       "440043  Workshops Delivered  27.0  100.0          2017         2314   \n",
       "\n",
       "        CampaignSuccessRatio  \n",
       "0                   1.153209  \n",
       "45                  0.859962  \n",
       "90                  1.073751  \n",
       "135                 1.044460  \n",
       "150                 1.179750  \n",
       "...                      ...  \n",
       "439963              1.073751  \n",
       "439983              1.139482  \n",
       "440003              1.073751  \n",
       "440023              1.179750  \n",
       "440043              1.139482  \n",
       "\n",
       "[17840 rows x 21 columns]"
      ]
     },
     "execution_count": 52,
     "metadata": {},
     "output_type": "execute_result"
    }
   ],
   "source": [
    "# Campaign success ratio\n",
    "df['CampaignSuccessRatio'] = df['ActualAmount'] / df['TargetAmount']\n",
    "df"
   ]
  },
  {
   "cell_type": "code",
   "execution_count": 183,
   "id": "088b05b0-2354-45f6-b22e-bda8bbd69576",
   "metadata": {},
   "outputs": [],
   "source": [
    "dataset = df.groupby('DonorID').agg({\n",
    "    'Age':'first',\n",
    "    'Gender':'first',\n",
    "    'Location':'first',\n",
    "   'JoinDate':'first',\n",
    "   'Amount':['sum','mean','count'],\n",
    "   'Channel': lambda x: x.mode()[0],\n",
    "    'EngagementOutcome': lambda x: x.mode()[0]\n",
    "}).reset_index()\n",
    "dataset.columns = ['DonorID','Age','Gender','Location','JoinDate','TotalAmount','AvgAmount','DonationCount','FavChannel','FavEngagementOutcome']\n",
    "\n",
    " #2. Créer les cibles\n",
    "# ------------------------------\n",
    "# Target 1: Donateur fidèle (1 si a fait un don dans les 12 derniers mois)\n",
    "# target 2: Montant futur moyen d'un don (régression)\n",
    "# Ici on simule\n",
    "dataset['FutureDonation'] = np.random.randint(0,2,size=len(dataset))\n",
    "dataset['FutureAmount'] = np.where(dataset['FutureDonation']==1,\n",
    "                                   np.random.uniform(10,500,size=len(dataset)),\n",
    "                                   0)\n"
   ]
  },
  {
   "cell_type": "code",
   "execution_count": 204,
   "id": "9e609d88-7f61-468d-9a59-6d3988fc4c78",
   "metadata": {},
   "outputs": [
    {
     "name": "stdout",
     "output_type": "stream",
     "text": [
      "Précision Classification (probabilité de don futur): 0.4748427672955975\n",
      "RMSE Régression (montant futur): 151.03129002336235\n"
     ]
    }
   ],
   "source": [
    "import pandas as pd\n",
    "from sklearn.model_selection import train_test_split\n",
    "from sklearn.preprocessing import OneHotEncoder, StandardScaler\n",
    "from sklearn.compose import ColumnTransformer\n",
    "from sklearn.pipeline import Pipeline\n",
    "from sklearn.ensemble import RandomForestClassifier, RandomForestRegressor\n",
    "from sklearn.metrics import accuracy_score, mean_squared_error\n",
    "import numpy as np\n",
    "\n",
    "\n",
    "# Exemple de colonnes\n",
    "features = ['Age','Gender','Location','TotalAmount','DonationCount','FavChannel','FavEngagementOutcome']\n",
    "X = dataset[features]\n",
    "y_class = dataset['FutureDonation']  # pour prédire si le donateur fera un futur don\n",
    "y_reg = dataset['FutureAmount']      # pour prédire le montant\n",
    "\n",
    "# Séparer train et test\n",
    "X_train, X_test, y_train_class, y_test_class, y_train_reg, y_test_reg = train_test_split(\n",
    "    X, y_class, y_reg, test_size=0.2, random_state=42\n",
    ")\n",
    "\n",
    "# Préparation des colonnes\n",
    "numeric_features = ['Age','TotalAmount','DonationCount']\n",
    "categorical_features = ['Gender','Location','FavChannel']\n",
    "\n",
    "preprocessor = ColumnTransformer([\n",
    "    ('num', StandardScaler(), numeric_features),\n",
    "    ('cat', OneHotEncoder(handle_unknown='ignore'), categorical_features)\n",
    "])\n",
    "\n",
    "# ----------------- Modèle Classification -----------------\n",
    "clf_pipeline = Pipeline([\n",
    "    ('preprocessor', preprocessor),\n",
    "    ('classifier', RandomForestClassifier(n_estimators=100, random_state=42))\n",
    "])\n",
    "clf_pipeline.fit(X_train, y_train_class)\n",
    "\n",
    "y_pred_class = clf_pipeline.predict(X_test)\n",
    "accuracy = accuracy_score(y_test_class, y_pred_class)\n",
    "print(\"Précision Classification (probabilité de don futur):\", accuracy)\n",
    "\n",
    "# ----------------- Modèle Régression -----------------\n",
    "# On prédit le montant uniquement pour ceux qui feront un don\n",
    "mask = y_train_reg > 0\n",
    "reg_pipeline = Pipeline([\n",
    "    ('preprocessor', preprocessor),\n",
    "    ('regressor', RandomForestRegressor(n_estimators=100, random_state=42))\n",
    "])\n",
    "reg_pipeline.fit(X_train[mask], y_train_reg[mask])\n",
    "\n",
    "# Tester sur les donateurs qui feront un don\n",
    "mask_test = y_test_reg > 0\n",
    "y_pred_reg = reg_pipeline.predict(X_test[mask_test])\n",
    "rmse = np.sqrt(mean_squared_error(y_test_reg[mask_test], y_pred_reg))\n",
    "print(\"RMSE Régression (montant futur):\", rmse)\n"
   ]
  },
  {
   "cell_type": "markdown",
   "id": "t9nLEjsZOwpf",
   "metadata": {
    "id": "t9nLEjsZOwpf"
   },
   "source": [
    "## Model Evaluation"
   ]
  },
  {
   "cell_type": "code",
   "execution_count": 213,
   "id": "21795203-9e40-447c-a116-e63761015808",
   "metadata": {},
   "outputs": [
    {
     "name": "stdout",
     "output_type": "stream",
     "text": [
      "Accuracy: 0.46331236897274636\n",
      "ROC-AUC: 0.462560747992675\n",
      "Confusion Matrix:\n",
      " [[215 243]\n",
      " [269 227]]\n"
     ]
    }
   ],
   "source": [
    "from sklearn.metrics import accuracy_score, roc_auc_score, confusion_matrix\n",
    "\n",
    "# Prédictions sur le test set\n",
    "y_pred_class = clf_pipeline.predict(X_test)\n",
    "y_pred_proba = clf_pipeline.predict_proba(X_test)[:,1]\n",
    "\n",
    "# Accuracy\n",
    "accuracy = accuracy_score(y_test_class, y_pred_class)\n",
    "print(\"Accuracy:\", accuracy)\n",
    "\n",
    "# ROC-AUC\n",
    "roc_auc = roc_auc_score(y_test_class, y_pred_proba)\n",
    "print(\"ROC-AUC:\", roc_auc)\n",
    "\n",
    "# Confusion matrix\n",
    "cm = confusion_matrix(y_test_class, y_pred_class)\n",
    "print(\"Confusion Matrix:\\n\", cm)\n"
   ]
  },
  {
   "cell_type": "markdown",
   "id": "4823aa95-0809-43f2-b68f-86f0d604fdd5",
   "metadata": {},
   "source": [
    "**Prédire la probabilité qu’un donateur fasse un futur don → classification binaire**"
   ]
  },
  {
   "cell_type": "code",
   "execution_count": 206,
   "id": "c0a8f7aa-4593-4da1-8ba4-4db35fc86267",
   "metadata": {},
   "outputs": [
    {
     "name": "stdout",
     "output_type": "stream",
     "text": [
      "Probabilité de futur don: 0.55\n",
      "Montant futur attendu: 241.88 €\n"
     ]
    }
   ],
   "source": [
    "# Exemple de nouvelle donnée d'un donateur\n",
    "new_donor = pd.DataFrame({\n",
    "    'Age': [35],\n",
    "    'Gender': ['Male'],\n",
    "    'Location': ['QLD'],\n",
    "    'TotalAmount': [250],\n",
    "    'DonationCount': [10],\n",
    "    'FavChannel': ['email']\n",
    "})\n",
    "\n",
    "# Prédiction probabilité de futur don\n",
    "prob_don = clf_pipeline.predict_proba(new_donor)[:,1][0]\n",
    "print(f\"Probabilité de futur don: {prob_don:.2f}\")\n",
    "\n",
    "# Prédiction montant futur (même si le donateur ne donnera pas forcément, on peut prédire le montant)\n",
    "future_amount = reg_pipeline.predict(new_donor)[0]\n",
    "print(f\"Montant futur attendu: {future_amount:.2f} €\")\n"
   ]
  },
  {
   "cell_type": "markdown",
   "id": "-UfIayCKUKzq",
   "metadata": {
    "id": "-UfIayCKUKzq"
   },
   "source": [
    "## Recommendations"
   ]
  },
  {
   "cell_type": "markdown",
   "id": "9eO42qsOt47b",
   "metadata": {
    "id": "9eO42qsOt47b"
   },
   "source": [
    "## Contact information"
   ]
  },
  {
   "cell_type": "markdown",
   "id": "8ZbkcWTuulf6",
   "metadata": {
    "id": "8ZbkcWTuulf6"
   },
   "source": [
    "Bellow: The Contact Information Of the Two Data scientist in charge of the project."
   ]
  },
  {
   "cell_type": "markdown",
   "id": "KhRLz8kMt1fp",
   "metadata": {
    "id": "KhRLz8kMt1fp"
   },
   "source": [
    "- First Name: Haender Michael\n",
    "\n",
    "- Last Name : Jean Louis\n",
    "\n",
    "- Email     : michaelhaenderjeanlouis@gmail.com\n",
    "\n",
    "- Phone     : +509 41 75 0264\n",
    "\n",
    "- LinkedIn  : https://www.linkedin.com/in/michael-haender-jean-louis-4b7320316?utm_source=share&utm_campaign=share_via&utm_content=profile&utm_medium=ios_app\n"
   ]
  },
  {
   "cell_type": "markdown",
   "id": "EeRTdqUTt66w",
   "metadata": {
    "id": "EeRTdqUTt66w"
   },
   "source": [
    "- First Name  : John Widno\n",
    "- Last Name   : DORCY\n",
    "- Email       : dorcyjohnwidno97@gmail.com\n",
    "- Phone       : +509 38 05 8388\n",
    "- LinkedIn    : https://www.linkedin.com/in/john-widno-dorcy-19399a216/\n"
   ]
  },
  {
   "cell_type": "markdown",
   "id": "GX46csIwufn0",
   "metadata": {
    "id": "GX46csIwufn0"
   },
   "source": [
    "For further inquiries, feedback, or collaboration on this analysis, feel free to reach out."
   ]
  }
 ],
 "metadata": {
  "colab": {
   "provenance": []
  },
  "kernelspec": {
   "display_name": "Python [conda env:base] *",
   "language": "python",
   "name": "conda-base-py"
  },
  "language_info": {
   "codemirror_mode": {
    "name": "ipython",
    "version": 3
   },
   "file_extension": ".py",
   "mimetype": "text/x-python",
   "name": "python",
   "nbconvert_exporter": "python",
   "pygments_lexer": "ipython3",
   "version": "3.12.7"
  }
 },
 "nbformat": 4,
 "nbformat_minor": 5
}
=======
  "cells": [
    {
      "cell_type": "markdown",
      "source": [
        "# Predictive Modeling: Donor Retention in Non-Profit Organizations"
      ],
      "metadata": {
        "id": "IpjUlbpAtUKp"
      },
      "id": "IpjUlbpAtUKp"
    },
    {
      "cell_type": "markdown",
      "source": [
        "## Introduction\n",
        "Non-Profit Organizations (NPOs) play a vital role in social, educational, and economic development, but some, especially in underdeveloped countries like Haiti, rely heavily on gut instinct and traditional methods to make decisions, which leads to poor donor retention, ineffective communication, weak donor interaction, and unsuccessful campaigns.\n",
        "Since NPOs rely heavily on fundraising, understanding donor behavior is a must, as one of the major challenges NPOs face is maintaining donor engagement and loyalty over time.\n",
        "\n",
        "The primary objective of this project is to showcase the importance of using data to make informed decisions in NPOs.\n",
        "For that purpose, the project aims to analyze donor behavior and categorize donors for a random and fictitious organization. The insights gained throughout this analysis will foster the use of data and machine learning in decision-making, which can therefore help NPOs design more effective fundraising and communication strategies, ultimately enhancing their ability to sustain and grow their initiatives.\n",
        "\n",
        "To achieve this, we use the  [Donor Data](https://www.kaggle.com/datasets/maheshpandey87/donor-data/data) from Kaggle, which comprises six tables detailing donors, donations, campaigns, project results, and engagement activities. These data provide a comprehensive view of donor interactions and contributions, forming the basis for our analysis."
      ],
      "metadata": {
        "id": "kJpw65S7-aTQ"
      },
      "id": "kJpw65S7-aTQ"
    },
    {
      "cell_type": "markdown",
      "source": [
        " ## Methodology\n",
        " #### **Exploratory data Analysis**\n",
        " - data preparation\n",
        " - business understanding\n",
        " - data understanding\n",
        " #### **Major questions**\n",
        "These questions deepen our grasp of the business and data context, steering the analysis toward the NPO’s core concerns and enabling a thorough exploration of donor dynamics.\n",
        "\n",
        "This part is crucial, as it serves as a compass that guides our analysis and helps address stakeholders' concerns or uncover relevant information.\n",
        "#### **Modeling**\n",
        "\"\"'''''\n",
        "#### **Model Evaluation**\n",
        "#### **Recommendations**\n",
        "#### **Contact information**\n",
        "the contact information of the two data scientist who work on this project is provided.\n",
        "\n",
        "NB: The scientist colaborated equally on this project.\n",
        "- name\n",
        "- email\n",
        "- phone number\n",
        "- LinkedIn\n"
      ],
      "metadata": {
        "id": "YAmNdHu8tS4y"
      },
      "id": "YAmNdHu8tS4y"
    },
    {
      "cell_type": "markdown",
      "id": "d3e6c625-5dd7-4914-9ea0-4f6565536697",
      "metadata": {
        "id": "d3e6c625-5dd7-4914-9ea0-4f6565536697"
      },
      "source": [
        "## EDA – Exploratory Data Analysis"
      ]
    },
    {
      "cell_type": "markdown",
      "id": "71ab86e1-3070-4e05-9976-545f7634584a",
      "metadata": {
        "id": "71ab86e1-3070-4e05-9976-545f7634584a"
      },
      "source": [
        "### Data preparation"
      ]
    },
    {
      "cell_type": "markdown",
      "source": [
        "**Libraries importation**"
      ],
      "metadata": {
        "id": "_R435S_ch-ti"
      },
      "id": "_R435S_ch-ti"
    },
    {
      "cell_type": "code",
      "execution_count": 155,
      "id": "0985c05b-68a3-4e8e-a9cf-210a3dc5f3c7",
      "metadata": {
        "id": "0985c05b-68a3-4e8e-a9cf-210a3dc5f3c7"
      },
      "outputs": [],
      "source": [
        "import pandas as pd\n",
        "donors= pd.read_csv('donors.csv')\n",
        "campaigns= pd.read_csv('campaigns.csv')\n",
        "donations= pd.read_csv('donations_linked.csv')\n",
        "engagement_history= pd.read_csv('engagement_history.csv')\n",
        "engagement_outcomes =pd.read_csv('engagement_outcomes.csv')\n",
        "impact= pd.read_csv('impact.csv')"
      ]
    },
    {
      "cell_type": "markdown",
      "id": "300fafad-eae5-4498-8cd5-a9689e4f806d",
      "metadata": {
        "id": "300fafad-eae5-4498-8cd5-a9689e4f806d"
      },
      "source": [
        "**Merging all Tables**"
      ]
    },
    {
      "cell_type": "code",
      "execution_count": 156,
      "id": "101188fb-1996-45f4-b093-6a49fd4a444c",
      "metadata": {
        "id": "101188fb-1996-45f4-b093-6a49fd4a444c"
      },
      "outputs": [],
      "source": [
        "Donors_donations= pd.merge(donors,donations , on='DonorID', how='left')\n",
        "Donors_donations_Campaigns= pd.merge(Donors_donations, campaigns, on='CampaignID', how='left')\n",
        "Donors_donations_Campaigns_engagement_history =pd.merge(Donors_donations_Campaigns, engagement_history, on='DonorID',  how='left')\n",
        "Donors_donations_Campaigns_engagement_history_impacts =pd.merge(Donors_donations_Campaigns_engagement_history,impact, on ='CampaignID', how='left')"
      ]
    },
    {
      "cell_type": "markdown",
      "source": [
        "Comment: there are 7 tables in the dataset, we merge 6 of them because donors.csv and donations.csv are the same tables."
      ],
      "metadata": {
        "id": "yRq8YktlnLgW"
      },
      "id": "yRq8YktlnLgW"
    },
    {
      "cell_type": "code",
      "execution_count": 157,
      "id": "ac1372fd-42a5-419b-a5e0-09cca61000f2",
      "metadata": {
        "id": "ac1372fd-42a5-419b-a5e0-09cca61000f2"
      },
      "outputs": [],
      "source": [
        "# all tables are merged into one\n",
        "df= Donors_donations_Campaigns_engagement_history_impacts"
      ]
    },
    {
      "cell_type": "code",
      "execution_count": 158,
      "id": "06128b9b-6680-488e-bd46-7d2141d64495",
      "metadata": {
        "id": "06128b9b-6680-488e-bd46-7d2141d64495",
        "outputId": "1ad720ec-4bfe-4d4e-be8d-7aab12d66909",
        "colab": {
          "base_uri": "https://localhost:8080/",
          "height": 313
        }
      },
      "outputs": [
        {
          "output_type": "execute_result",
          "data": {
            "text/plain": [
              "    DonorID  Age Gender Location                    JoinDate DonationID  \\\n",
              "0  DNR00001   56   Male      QLD  2020-10-03 22:59:27.552825  DNT002656   \n",
              "1  DNR00001   56   Male      QLD  2020-10-03 22:59:27.552825  DNT002656   \n",
              "2  DNR00001   56   Male      QLD  2020-10-03 22:59:27.552825  DNT002656   \n",
              "3  DNR00001   56   Male      QLD  2020-10-03 22:59:27.552825  DNT002656   \n",
              "4  DNR00001   56   Male      QLD  2020-10-03 22:59:27.552825  DNT002656   \n",
              "\n",
              "  DonationDate  Amount CampaignID          CampaignName StartDate  EndDate  \\\n",
              "0   2015-06-16  124.99    CAMP005  Youth Initiative 005   59:27.6  59:27.6   \n",
              "1   2015-06-16  124.99    CAMP005  Youth Initiative 005   59:27.6  59:27.6   \n",
              "2   2015-06-16  124.99    CAMP005  Youth Initiative 005   59:27.6  59:27.6   \n",
              "3   2015-06-16  124.99    CAMP005  Youth Initiative 005   59:27.6  59:27.6   \n",
              "4   2015-06-16  124.99    CAMP005  Youth Initiative 005   59:27.6  59:27.6   \n",
              "\n",
              "   TargetAmount  ActualAmount       Channel        Date EngagementOutcome  \\\n",
              "0      54063.32      62346.29  Social Media  27/12/2022       Not Reached   \n",
              "1      54063.32      62346.29  Social Media  27/12/2022       Not Reached   \n",
              "2      54063.32      62346.29  Social Media  27/12/2022       Not Reached   \n",
              "3      54063.32      62346.29  Social Media  27/12/2022       Not Reached   \n",
              "4      54063.32      62346.29  Social Media  27/12/2022       Not Reached   \n",
              "\n",
              "            ImpactType  Value   Cost  \n",
              "0  Workshops Delivered   31.0  100.0  \n",
              "1        Youth Reached  851.0   25.0  \n",
              "2   Volunteers Engaged  450.0   25.0  \n",
              "3    Training Sessions  100.0   75.0  \n",
              "4     Mentorship Hours  406.0   35.0  "
            ],
            "text/html": [
              "\n",
              "  <div id=\"df-0393d31e-6254-49ad-8c13-4abc1d885bad\" class=\"colab-df-container\">\n",
              "    <div>\n",
              "<style scoped>\n",
              "    .dataframe tbody tr th:only-of-type {\n",
              "        vertical-align: middle;\n",
              "    }\n",
              "\n",
              "    .dataframe tbody tr th {\n",
              "        vertical-align: top;\n",
              "    }\n",
              "\n",
              "    .dataframe thead th {\n",
              "        text-align: right;\n",
              "    }\n",
              "</style>\n",
              "<table border=\"1\" class=\"dataframe\">\n",
              "  <thead>\n",
              "    <tr style=\"text-align: right;\">\n",
              "      <th></th>\n",
              "      <th>DonorID</th>\n",
              "      <th>Age</th>\n",
              "      <th>Gender</th>\n",
              "      <th>Location</th>\n",
              "      <th>JoinDate</th>\n",
              "      <th>DonationID</th>\n",
              "      <th>DonationDate</th>\n",
              "      <th>Amount</th>\n",
              "      <th>CampaignID</th>\n",
              "      <th>CampaignName</th>\n",
              "      <th>StartDate</th>\n",
              "      <th>EndDate</th>\n",
              "      <th>TargetAmount</th>\n",
              "      <th>ActualAmount</th>\n",
              "      <th>Channel</th>\n",
              "      <th>Date</th>\n",
              "      <th>EngagementOutcome</th>\n",
              "      <th>ImpactType</th>\n",
              "      <th>Value</th>\n",
              "      <th>Cost</th>\n",
              "    </tr>\n",
              "  </thead>\n",
              "  <tbody>\n",
              "    <tr>\n",
              "      <th>0</th>\n",
              "      <td>DNR00001</td>\n",
              "      <td>56</td>\n",
              "      <td>Male</td>\n",
              "      <td>QLD</td>\n",
              "      <td>2020-10-03 22:59:27.552825</td>\n",
              "      <td>DNT002656</td>\n",
              "      <td>2015-06-16</td>\n",
              "      <td>124.99</td>\n",
              "      <td>CAMP005</td>\n",
              "      <td>Youth Initiative 005</td>\n",
              "      <td>59:27.6</td>\n",
              "      <td>59:27.6</td>\n",
              "      <td>54063.32</td>\n",
              "      <td>62346.29</td>\n",
              "      <td>Social Media</td>\n",
              "      <td>27/12/2022</td>\n",
              "      <td>Not Reached</td>\n",
              "      <td>Workshops Delivered</td>\n",
              "      <td>31.0</td>\n",
              "      <td>100.0</td>\n",
              "    </tr>\n",
              "    <tr>\n",
              "      <th>1</th>\n",
              "      <td>DNR00001</td>\n",
              "      <td>56</td>\n",
              "      <td>Male</td>\n",
              "      <td>QLD</td>\n",
              "      <td>2020-10-03 22:59:27.552825</td>\n",
              "      <td>DNT002656</td>\n",
              "      <td>2015-06-16</td>\n",
              "      <td>124.99</td>\n",
              "      <td>CAMP005</td>\n",
              "      <td>Youth Initiative 005</td>\n",
              "      <td>59:27.6</td>\n",
              "      <td>59:27.6</td>\n",
              "      <td>54063.32</td>\n",
              "      <td>62346.29</td>\n",
              "      <td>Social Media</td>\n",
              "      <td>27/12/2022</td>\n",
              "      <td>Not Reached</td>\n",
              "      <td>Youth Reached</td>\n",
              "      <td>851.0</td>\n",
              "      <td>25.0</td>\n",
              "    </tr>\n",
              "    <tr>\n",
              "      <th>2</th>\n",
              "      <td>DNR00001</td>\n",
              "      <td>56</td>\n",
              "      <td>Male</td>\n",
              "      <td>QLD</td>\n",
              "      <td>2020-10-03 22:59:27.552825</td>\n",
              "      <td>DNT002656</td>\n",
              "      <td>2015-06-16</td>\n",
              "      <td>124.99</td>\n",
              "      <td>CAMP005</td>\n",
              "      <td>Youth Initiative 005</td>\n",
              "      <td>59:27.6</td>\n",
              "      <td>59:27.6</td>\n",
              "      <td>54063.32</td>\n",
              "      <td>62346.29</td>\n",
              "      <td>Social Media</td>\n",
              "      <td>27/12/2022</td>\n",
              "      <td>Not Reached</td>\n",
              "      <td>Volunteers Engaged</td>\n",
              "      <td>450.0</td>\n",
              "      <td>25.0</td>\n",
              "    </tr>\n",
              "    <tr>\n",
              "      <th>3</th>\n",
              "      <td>DNR00001</td>\n",
              "      <td>56</td>\n",
              "      <td>Male</td>\n",
              "      <td>QLD</td>\n",
              "      <td>2020-10-03 22:59:27.552825</td>\n",
              "      <td>DNT002656</td>\n",
              "      <td>2015-06-16</td>\n",
              "      <td>124.99</td>\n",
              "      <td>CAMP005</td>\n",
              "      <td>Youth Initiative 005</td>\n",
              "      <td>59:27.6</td>\n",
              "      <td>59:27.6</td>\n",
              "      <td>54063.32</td>\n",
              "      <td>62346.29</td>\n",
              "      <td>Social Media</td>\n",
              "      <td>27/12/2022</td>\n",
              "      <td>Not Reached</td>\n",
              "      <td>Training Sessions</td>\n",
              "      <td>100.0</td>\n",
              "      <td>75.0</td>\n",
              "    </tr>\n",
              "    <tr>\n",
              "      <th>4</th>\n",
              "      <td>DNR00001</td>\n",
              "      <td>56</td>\n",
              "      <td>Male</td>\n",
              "      <td>QLD</td>\n",
              "      <td>2020-10-03 22:59:27.552825</td>\n",
              "      <td>DNT002656</td>\n",
              "      <td>2015-06-16</td>\n",
              "      <td>124.99</td>\n",
              "      <td>CAMP005</td>\n",
              "      <td>Youth Initiative 005</td>\n",
              "      <td>59:27.6</td>\n",
              "      <td>59:27.6</td>\n",
              "      <td>54063.32</td>\n",
              "      <td>62346.29</td>\n",
              "      <td>Social Media</td>\n",
              "      <td>27/12/2022</td>\n",
              "      <td>Not Reached</td>\n",
              "      <td>Mentorship Hours</td>\n",
              "      <td>406.0</td>\n",
              "      <td>35.0</td>\n",
              "    </tr>\n",
              "  </tbody>\n",
              "</table>\n",
              "</div>\n",
              "    <div class=\"colab-df-buttons\">\n",
              "\n",
              "  <div class=\"colab-df-container\">\n",
              "    <button class=\"colab-df-convert\" onclick=\"convertToInteractive('df-0393d31e-6254-49ad-8c13-4abc1d885bad')\"\n",
              "            title=\"Convert this dataframe to an interactive table.\"\n",
              "            style=\"display:none;\">\n",
              "\n",
              "  <svg xmlns=\"http://www.w3.org/2000/svg\" height=\"24px\" viewBox=\"0 -960 960 960\">\n",
              "    <path d=\"M120-120v-720h720v720H120Zm60-500h600v-160H180v160Zm220 220h160v-160H400v160Zm0 220h160v-160H400v160ZM180-400h160v-160H180v160Zm440 0h160v-160H620v160ZM180-180h160v-160H180v160Zm440 0h160v-160H620v160Z\"/>\n",
              "  </svg>\n",
              "    </button>\n",
              "\n",
              "  <style>\n",
              "    .colab-df-container {\n",
              "      display:flex;\n",
              "      gap: 12px;\n",
              "    }\n",
              "\n",
              "    .colab-df-convert {\n",
              "      background-color: #E8F0FE;\n",
              "      border: none;\n",
              "      border-radius: 50%;\n",
              "      cursor: pointer;\n",
              "      display: none;\n",
              "      fill: #1967D2;\n",
              "      height: 32px;\n",
              "      padding: 0 0 0 0;\n",
              "      width: 32px;\n",
              "    }\n",
              "\n",
              "    .colab-df-convert:hover {\n",
              "      background-color: #E2EBFA;\n",
              "      box-shadow: 0px 1px 2px rgba(60, 64, 67, 0.3), 0px 1px 3px 1px rgba(60, 64, 67, 0.15);\n",
              "      fill: #174EA6;\n",
              "    }\n",
              "\n",
              "    .colab-df-buttons div {\n",
              "      margin-bottom: 4px;\n",
              "    }\n",
              "\n",
              "    [theme=dark] .colab-df-convert {\n",
              "      background-color: #3B4455;\n",
              "      fill: #D2E3FC;\n",
              "    }\n",
              "\n",
              "    [theme=dark] .colab-df-convert:hover {\n",
              "      background-color: #434B5C;\n",
              "      box-shadow: 0px 1px 3px 1px rgba(0, 0, 0, 0.15);\n",
              "      filter: drop-shadow(0px 1px 2px rgba(0, 0, 0, 0.3));\n",
              "      fill: #FFFFFF;\n",
              "    }\n",
              "  </style>\n",
              "\n",
              "    <script>\n",
              "      const buttonEl =\n",
              "        document.querySelector('#df-0393d31e-6254-49ad-8c13-4abc1d885bad button.colab-df-convert');\n",
              "      buttonEl.style.display =\n",
              "        google.colab.kernel.accessAllowed ? 'block' : 'none';\n",
              "\n",
              "      async function convertToInteractive(key) {\n",
              "        const element = document.querySelector('#df-0393d31e-6254-49ad-8c13-4abc1d885bad');\n",
              "        const dataTable =\n",
              "          await google.colab.kernel.invokeFunction('convertToInteractive',\n",
              "                                                    [key], {});\n",
              "        if (!dataTable) return;\n",
              "\n",
              "        const docLinkHtml = 'Like what you see? Visit the ' +\n",
              "          '<a target=\"_blank\" href=https://colab.research.google.com/notebooks/data_table.ipynb>data table notebook</a>'\n",
              "          + ' to learn more about interactive tables.';\n",
              "        element.innerHTML = '';\n",
              "        dataTable['output_type'] = 'display_data';\n",
              "        await google.colab.output.renderOutput(dataTable, element);\n",
              "        const docLink = document.createElement('div');\n",
              "        docLink.innerHTML = docLinkHtml;\n",
              "        element.appendChild(docLink);\n",
              "      }\n",
              "    </script>\n",
              "  </div>\n",
              "\n",
              "\n",
              "    <div id=\"df-4e6c1e3b-b682-40f0-b639-1b072a8b79cb\">\n",
              "      <button class=\"colab-df-quickchart\" onclick=\"quickchart('df-4e6c1e3b-b682-40f0-b639-1b072a8b79cb')\"\n",
              "                title=\"Suggest charts\"\n",
              "                style=\"display:none;\">\n",
              "\n",
              "<svg xmlns=\"http://www.w3.org/2000/svg\" height=\"24px\"viewBox=\"0 0 24 24\"\n",
              "     width=\"24px\">\n",
              "    <g>\n",
              "        <path d=\"M19 3H5c-1.1 0-2 .9-2 2v14c0 1.1.9 2 2 2h14c1.1 0 2-.9 2-2V5c0-1.1-.9-2-2-2zM9 17H7v-7h2v7zm4 0h-2V7h2v10zm4 0h-2v-4h2v4z\"/>\n",
              "    </g>\n",
              "</svg>\n",
              "      </button>\n",
              "\n",
              "<style>\n",
              "  .colab-df-quickchart {\n",
              "      --bg-color: #E8F0FE;\n",
              "      --fill-color: #1967D2;\n",
              "      --hover-bg-color: #E2EBFA;\n",
              "      --hover-fill-color: #174EA6;\n",
              "      --disabled-fill-color: #AAA;\n",
              "      --disabled-bg-color: #DDD;\n",
              "  }\n",
              "\n",
              "  [theme=dark] .colab-df-quickchart {\n",
              "      --bg-color: #3B4455;\n",
              "      --fill-color: #D2E3FC;\n",
              "      --hover-bg-color: #434B5C;\n",
              "      --hover-fill-color: #FFFFFF;\n",
              "      --disabled-bg-color: #3B4455;\n",
              "      --disabled-fill-color: #666;\n",
              "  }\n",
              "\n",
              "  .colab-df-quickchart {\n",
              "    background-color: var(--bg-color);\n",
              "    border: none;\n",
              "    border-radius: 50%;\n",
              "    cursor: pointer;\n",
              "    display: none;\n",
              "    fill: var(--fill-color);\n",
              "    height: 32px;\n",
              "    padding: 0;\n",
              "    width: 32px;\n",
              "  }\n",
              "\n",
              "  .colab-df-quickchart:hover {\n",
              "    background-color: var(--hover-bg-color);\n",
              "    box-shadow: 0 1px 2px rgba(60, 64, 67, 0.3), 0 1px 3px 1px rgba(60, 64, 67, 0.15);\n",
              "    fill: var(--button-hover-fill-color);\n",
              "  }\n",
              "\n",
              "  .colab-df-quickchart-complete:disabled,\n",
              "  .colab-df-quickchart-complete:disabled:hover {\n",
              "    background-color: var(--disabled-bg-color);\n",
              "    fill: var(--disabled-fill-color);\n",
              "    box-shadow: none;\n",
              "  }\n",
              "\n",
              "  .colab-df-spinner {\n",
              "    border: 2px solid var(--fill-color);\n",
              "    border-color: transparent;\n",
              "    border-bottom-color: var(--fill-color);\n",
              "    animation:\n",
              "      spin 1s steps(1) infinite;\n",
              "  }\n",
              "\n",
              "  @keyframes spin {\n",
              "    0% {\n",
              "      border-color: transparent;\n",
              "      border-bottom-color: var(--fill-color);\n",
              "      border-left-color: var(--fill-color);\n",
              "    }\n",
              "    20% {\n",
              "      border-color: transparent;\n",
              "      border-left-color: var(--fill-color);\n",
              "      border-top-color: var(--fill-color);\n",
              "    }\n",
              "    30% {\n",
              "      border-color: transparent;\n",
              "      border-left-color: var(--fill-color);\n",
              "      border-top-color: var(--fill-color);\n",
              "      border-right-color: var(--fill-color);\n",
              "    }\n",
              "    40% {\n",
              "      border-color: transparent;\n",
              "      border-right-color: var(--fill-color);\n",
              "      border-top-color: var(--fill-color);\n",
              "    }\n",
              "    60% {\n",
              "      border-color: transparent;\n",
              "      border-right-color: var(--fill-color);\n",
              "    }\n",
              "    80% {\n",
              "      border-color: transparent;\n",
              "      border-right-color: var(--fill-color);\n",
              "      border-bottom-color: var(--fill-color);\n",
              "    }\n",
              "    90% {\n",
              "      border-color: transparent;\n",
              "      border-bottom-color: var(--fill-color);\n",
              "    }\n",
              "  }\n",
              "</style>\n",
              "\n",
              "      <script>\n",
              "        async function quickchart(key) {\n",
              "          const quickchartButtonEl =\n",
              "            document.querySelector('#' + key + ' button');\n",
              "          quickchartButtonEl.disabled = true;  // To prevent multiple clicks.\n",
              "          quickchartButtonEl.classList.add('colab-df-spinner');\n",
              "          try {\n",
              "            const charts = await google.colab.kernel.invokeFunction(\n",
              "                'suggestCharts', [key], {});\n",
              "          } catch (error) {\n",
              "            console.error('Error during call to suggestCharts:', error);\n",
              "          }\n",
              "          quickchartButtonEl.classList.remove('colab-df-spinner');\n",
              "          quickchartButtonEl.classList.add('colab-df-quickchart-complete');\n",
              "        }\n",
              "        (() => {\n",
              "          let quickchartButtonEl =\n",
              "            document.querySelector('#df-4e6c1e3b-b682-40f0-b639-1b072a8b79cb button');\n",
              "          quickchartButtonEl.style.display =\n",
              "            google.colab.kernel.accessAllowed ? 'block' : 'none';\n",
              "        })();\n",
              "      </script>\n",
              "    </div>\n",
              "\n",
              "    </div>\n",
              "  </div>\n"
            ],
            "application/vnd.google.colaboratory.intrinsic+json": {
              "type": "dataframe",
              "variable_name": "df"
            }
          },
          "metadata": {},
          "execution_count": 158
        }
      ],
      "source": [
        "# the merged tables\n",
        "df.head()"
      ]
    },
    {
      "cell_type": "markdown",
      "source": [
        "**Null values**"
      ],
      "metadata": {
        "id": "pDsEqVw1uE-8"
      },
      "id": "pDsEqVw1uE-8"
    },
    {
      "cell_type": "code",
      "execution_count": 159,
      "id": "a714f3ff-7b53-4831-aa2a-303da5391385",
      "metadata": {
        "id": "a714f3ff-7b53-4831-aa2a-303da5391385"
      },
      "outputs": [],
      "source": [
        "# drop rows with null values\n",
        "df[df.isnull().any(axis=1)]\n",
        "df = df.dropna(subset=['DonationID'])"
      ]
    },
    {
      "cell_type": "markdown",
      "source": [
        "**Duplicates**"
      ],
      "metadata": {
        "id": "k6SPEIPCu-WK"
      },
      "id": "k6SPEIPCu-WK"
    },
    {
      "cell_type": "code",
      "execution_count": 160,
      "id": "6744d8d5-de4e-4ac3-b67b-686983b86f08",
      "metadata": {
        "id": "6744d8d5-de4e-4ac3-b67b-686983b86f08",
        "outputId": "1f8f3d69-426d-4116-8b93-3a0ff996e4e1",
        "colab": {
          "base_uri": "https://localhost:8080/"
        }
      },
      "outputs": [
        {
          "output_type": "stream",
          "name": "stdout",
          "text": [
            "Number of duplicate rows before dropping: 205\n",
            "Number of duplicate rows after dropping: 0\n"
          ]
        }
      ],
      "source": [
        "# drop rows with duplicates\n",
        "duplicates = df[df.duplicated()]\n",
        "print(\"Number of duplicate rows before dropping:\", duplicates.shape[0])\n",
        "df = df.drop_duplicates()\n",
        "print(\"Number of duplicate rows after dropping:\", df.duplicated().sum())\n",
        "# Dropping rows duplicate donation ID\n",
        "df = df.drop_duplicates(subset=['DonationID'])"
      ]
    },
    {
      "cell_type": "markdown",
      "source": [
        "Comment: Dropping duplicated DonationID rows is a must since we don't want to consider the same donation many time, which would biased our analysis."
      ],
      "metadata": {
        "id": "iBNvmTxiQlkv"
      },
      "id": "iBNvmTxiQlkv"
    },
    {
      "cell_type": "code",
      "execution_count": 161,
      "id": "137846c1-0045-49c3-88d9-72dd5e488cec",
      "metadata": {
        "id": "137846c1-0045-49c3-88d9-72dd5e488cec"
      },
      "outputs": [],
      "source": [
        "# to check that all NULL were dropped run the code in this cell :\n",
        "# df.isnull().sum().sort_values(ascending=False)"
      ]
    },
    {
      "cell_type": "markdown",
      "source": [
        "**Reformating**"
      ],
      "metadata": {
        "id": "48X_fFDkwG4J"
      },
      "id": "48X_fFDkwG4J"
    },
    {
      "cell_type": "code",
      "source": [
        "df.head()"
      ],
      "metadata": {
        "colab": {
          "base_uri": "https://localhost:8080/",
          "height": 313
        },
        "id": "lGyjbQahmeLH",
        "outputId": "2da4f2f6-fd93-4ae9-ac94-c7766483dcbd"
      },
      "id": "lGyjbQahmeLH",
      "execution_count": 162,
      "outputs": [
        {
          "output_type": "execute_result",
          "data": {
            "text/plain": [
              "      DonorID  Age Gender Location                    JoinDate DonationID  \\\n",
              "0    DNR00001   56   Male      QLD  2020-10-03 22:59:27.552825  DNT002656   \n",
              "45   DNR00001   56   Male      QLD  2020-10-03 22:59:27.552825  DNT011160   \n",
              "90   DNR00001   56   Male      QLD  2020-10-03 22:59:27.552825  DNT012124   \n",
              "135  DNR00002   25   Male      ACT  2015-11-01 22:59:27.552825  DNT001904   \n",
              "150  DNR00002   25   Male      ACT  2015-11-01 22:59:27.552825  DNT011974   \n",
              "\n",
              "    DonationDate  Amount CampaignID          CampaignName StartDate  EndDate  \\\n",
              "0     2015-06-16  124.99    CAMP005  Youth Initiative 005   59:27.6  59:27.6   \n",
              "45    2021-11-20  124.46    CAMP003  Youth Initiative 003   59:27.6  59:27.6   \n",
              "90    2017-09-14  128.22    CAMP010  Youth Initiative 010   59:27.6  59:27.6   \n",
              "135   2020-04-17  175.96    CAMP008  Youth Initiative 008   59:27.6  59:27.6   \n",
              "150   2017-01-19   35.31    CAMP006  Youth Initiative 006   59:27.6  59:27.6   \n",
              "\n",
              "     TargetAmount  ActualAmount       Channel        Date EngagementOutcome  \\\n",
              "0        54063.32      62346.29  Social Media  27/12/2022       Not Reached   \n",
              "45       38582.41      33179.39  Social Media  27/12/2022       Not Reached   \n",
              "90       50455.82      54176.99  Social Media  27/12/2022       Not Reached   \n",
              "135      98200.79     102566.77    Newsletter   9/09/2023       Not Reached   \n",
              "150      33193.34      39159.84    Newsletter   9/09/2023       Not Reached   \n",
              "\n",
              "              ImpactType  Value   Cost  \n",
              "0    Workshops Delivered   31.0  100.0  \n",
              "45   Workshops Delivered   19.0  100.0  \n",
              "90   Workshops Delivered   40.0  100.0  \n",
              "135  Workshops Delivered   85.0  100.0  \n",
              "150  Workshops Delivered   25.0  100.0  "
            ],
            "text/html": [
              "\n",
              "  <div id=\"df-fe46a852-feb1-416f-9946-131b19426518\" class=\"colab-df-container\">\n",
              "    <div>\n",
              "<style scoped>\n",
              "    .dataframe tbody tr th:only-of-type {\n",
              "        vertical-align: middle;\n",
              "    }\n",
              "\n",
              "    .dataframe tbody tr th {\n",
              "        vertical-align: top;\n",
              "    }\n",
              "\n",
              "    .dataframe thead th {\n",
              "        text-align: right;\n",
              "    }\n",
              "</style>\n",
              "<table border=\"1\" class=\"dataframe\">\n",
              "  <thead>\n",
              "    <tr style=\"text-align: right;\">\n",
              "      <th></th>\n",
              "      <th>DonorID</th>\n",
              "      <th>Age</th>\n",
              "      <th>Gender</th>\n",
              "      <th>Location</th>\n",
              "      <th>JoinDate</th>\n",
              "      <th>DonationID</th>\n",
              "      <th>DonationDate</th>\n",
              "      <th>Amount</th>\n",
              "      <th>CampaignID</th>\n",
              "      <th>CampaignName</th>\n",
              "      <th>StartDate</th>\n",
              "      <th>EndDate</th>\n",
              "      <th>TargetAmount</th>\n",
              "      <th>ActualAmount</th>\n",
              "      <th>Channel</th>\n",
              "      <th>Date</th>\n",
              "      <th>EngagementOutcome</th>\n",
              "      <th>ImpactType</th>\n",
              "      <th>Value</th>\n",
              "      <th>Cost</th>\n",
              "    </tr>\n",
              "  </thead>\n",
              "  <tbody>\n",
              "    <tr>\n",
              "      <th>0</th>\n",
              "      <td>DNR00001</td>\n",
              "      <td>56</td>\n",
              "      <td>Male</td>\n",
              "      <td>QLD</td>\n",
              "      <td>2020-10-03 22:59:27.552825</td>\n",
              "      <td>DNT002656</td>\n",
              "      <td>2015-06-16</td>\n",
              "      <td>124.99</td>\n",
              "      <td>CAMP005</td>\n",
              "      <td>Youth Initiative 005</td>\n",
              "      <td>59:27.6</td>\n",
              "      <td>59:27.6</td>\n",
              "      <td>54063.32</td>\n",
              "      <td>62346.29</td>\n",
              "      <td>Social Media</td>\n",
              "      <td>27/12/2022</td>\n",
              "      <td>Not Reached</td>\n",
              "      <td>Workshops Delivered</td>\n",
              "      <td>31.0</td>\n",
              "      <td>100.0</td>\n",
              "    </tr>\n",
              "    <tr>\n",
              "      <th>45</th>\n",
              "      <td>DNR00001</td>\n",
              "      <td>56</td>\n",
              "      <td>Male</td>\n",
              "      <td>QLD</td>\n",
              "      <td>2020-10-03 22:59:27.552825</td>\n",
              "      <td>DNT011160</td>\n",
              "      <td>2021-11-20</td>\n",
              "      <td>124.46</td>\n",
              "      <td>CAMP003</td>\n",
              "      <td>Youth Initiative 003</td>\n",
              "      <td>59:27.6</td>\n",
              "      <td>59:27.6</td>\n",
              "      <td>38582.41</td>\n",
              "      <td>33179.39</td>\n",
              "      <td>Social Media</td>\n",
              "      <td>27/12/2022</td>\n",
              "      <td>Not Reached</td>\n",
              "      <td>Workshops Delivered</td>\n",
              "      <td>19.0</td>\n",
              "      <td>100.0</td>\n",
              "    </tr>\n",
              "    <tr>\n",
              "      <th>90</th>\n",
              "      <td>DNR00001</td>\n",
              "      <td>56</td>\n",
              "      <td>Male</td>\n",
              "      <td>QLD</td>\n",
              "      <td>2020-10-03 22:59:27.552825</td>\n",
              "      <td>DNT012124</td>\n",
              "      <td>2017-09-14</td>\n",
              "      <td>128.22</td>\n",
              "      <td>CAMP010</td>\n",
              "      <td>Youth Initiative 010</td>\n",
              "      <td>59:27.6</td>\n",
              "      <td>59:27.6</td>\n",
              "      <td>50455.82</td>\n",
              "      <td>54176.99</td>\n",
              "      <td>Social Media</td>\n",
              "      <td>27/12/2022</td>\n",
              "      <td>Not Reached</td>\n",
              "      <td>Workshops Delivered</td>\n",
              "      <td>40.0</td>\n",
              "      <td>100.0</td>\n",
              "    </tr>\n",
              "    <tr>\n",
              "      <th>135</th>\n",
              "      <td>DNR00002</td>\n",
              "      <td>25</td>\n",
              "      <td>Male</td>\n",
              "      <td>ACT</td>\n",
              "      <td>2015-11-01 22:59:27.552825</td>\n",
              "      <td>DNT001904</td>\n",
              "      <td>2020-04-17</td>\n",
              "      <td>175.96</td>\n",
              "      <td>CAMP008</td>\n",
              "      <td>Youth Initiative 008</td>\n",
              "      <td>59:27.6</td>\n",
              "      <td>59:27.6</td>\n",
              "      <td>98200.79</td>\n",
              "      <td>102566.77</td>\n",
              "      <td>Newsletter</td>\n",
              "      <td>9/09/2023</td>\n",
              "      <td>Not Reached</td>\n",
              "      <td>Workshops Delivered</td>\n",
              "      <td>85.0</td>\n",
              "      <td>100.0</td>\n",
              "    </tr>\n",
              "    <tr>\n",
              "      <th>150</th>\n",
              "      <td>DNR00002</td>\n",
              "      <td>25</td>\n",
              "      <td>Male</td>\n",
              "      <td>ACT</td>\n",
              "      <td>2015-11-01 22:59:27.552825</td>\n",
              "      <td>DNT011974</td>\n",
              "      <td>2017-01-19</td>\n",
              "      <td>35.31</td>\n",
              "      <td>CAMP006</td>\n",
              "      <td>Youth Initiative 006</td>\n",
              "      <td>59:27.6</td>\n",
              "      <td>59:27.6</td>\n",
              "      <td>33193.34</td>\n",
              "      <td>39159.84</td>\n",
              "      <td>Newsletter</td>\n",
              "      <td>9/09/2023</td>\n",
              "      <td>Not Reached</td>\n",
              "      <td>Workshops Delivered</td>\n",
              "      <td>25.0</td>\n",
              "      <td>100.0</td>\n",
              "    </tr>\n",
              "  </tbody>\n",
              "</table>\n",
              "</div>\n",
              "    <div class=\"colab-df-buttons\">\n",
              "\n",
              "  <div class=\"colab-df-container\">\n",
              "    <button class=\"colab-df-convert\" onclick=\"convertToInteractive('df-fe46a852-feb1-416f-9946-131b19426518')\"\n",
              "            title=\"Convert this dataframe to an interactive table.\"\n",
              "            style=\"display:none;\">\n",
              "\n",
              "  <svg xmlns=\"http://www.w3.org/2000/svg\" height=\"24px\" viewBox=\"0 -960 960 960\">\n",
              "    <path d=\"M120-120v-720h720v720H120Zm60-500h600v-160H180v160Zm220 220h160v-160H400v160Zm0 220h160v-160H400v160ZM180-400h160v-160H180v160Zm440 0h160v-160H620v160ZM180-180h160v-160H180v160Zm440 0h160v-160H620v160Z\"/>\n",
              "  </svg>\n",
              "    </button>\n",
              "\n",
              "  <style>\n",
              "    .colab-df-container {\n",
              "      display:flex;\n",
              "      gap: 12px;\n",
              "    }\n",
              "\n",
              "    .colab-df-convert {\n",
              "      background-color: #E8F0FE;\n",
              "      border: none;\n",
              "      border-radius: 50%;\n",
              "      cursor: pointer;\n",
              "      display: none;\n",
              "      fill: #1967D2;\n",
              "      height: 32px;\n",
              "      padding: 0 0 0 0;\n",
              "      width: 32px;\n",
              "    }\n",
              "\n",
              "    .colab-df-convert:hover {\n",
              "      background-color: #E2EBFA;\n",
              "      box-shadow: 0px 1px 2px rgba(60, 64, 67, 0.3), 0px 1px 3px 1px rgba(60, 64, 67, 0.15);\n",
              "      fill: #174EA6;\n",
              "    }\n",
              "\n",
              "    .colab-df-buttons div {\n",
              "      margin-bottom: 4px;\n",
              "    }\n",
              "\n",
              "    [theme=dark] .colab-df-convert {\n",
              "      background-color: #3B4455;\n",
              "      fill: #D2E3FC;\n",
              "    }\n",
              "\n",
              "    [theme=dark] .colab-df-convert:hover {\n",
              "      background-color: #434B5C;\n",
              "      box-shadow: 0px 1px 3px 1px rgba(0, 0, 0, 0.15);\n",
              "      filter: drop-shadow(0px 1px 2px rgba(0, 0, 0, 0.3));\n",
              "      fill: #FFFFFF;\n",
              "    }\n",
              "  </style>\n",
              "\n",
              "    <script>\n",
              "      const buttonEl =\n",
              "        document.querySelector('#df-fe46a852-feb1-416f-9946-131b19426518 button.colab-df-convert');\n",
              "      buttonEl.style.display =\n",
              "        google.colab.kernel.accessAllowed ? 'block' : 'none';\n",
              "\n",
              "      async function convertToInteractive(key) {\n",
              "        const element = document.querySelector('#df-fe46a852-feb1-416f-9946-131b19426518');\n",
              "        const dataTable =\n",
              "          await google.colab.kernel.invokeFunction('convertToInteractive',\n",
              "                                                    [key], {});\n",
              "        if (!dataTable) return;\n",
              "\n",
              "        const docLinkHtml = 'Like what you see? Visit the ' +\n",
              "          '<a target=\"_blank\" href=https://colab.research.google.com/notebooks/data_table.ipynb>data table notebook</a>'\n",
              "          + ' to learn more about interactive tables.';\n",
              "        element.innerHTML = '';\n",
              "        dataTable['output_type'] = 'display_data';\n",
              "        await google.colab.output.renderOutput(dataTable, element);\n",
              "        const docLink = document.createElement('div');\n",
              "        docLink.innerHTML = docLinkHtml;\n",
              "        element.appendChild(docLink);\n",
              "      }\n",
              "    </script>\n",
              "  </div>\n",
              "\n",
              "\n",
              "    <div id=\"df-a2662dd4-3754-43ef-9a1c-0a053631b838\">\n",
              "      <button class=\"colab-df-quickchart\" onclick=\"quickchart('df-a2662dd4-3754-43ef-9a1c-0a053631b838')\"\n",
              "                title=\"Suggest charts\"\n",
              "                style=\"display:none;\">\n",
              "\n",
              "<svg xmlns=\"http://www.w3.org/2000/svg\" height=\"24px\"viewBox=\"0 0 24 24\"\n",
              "     width=\"24px\">\n",
              "    <g>\n",
              "        <path d=\"M19 3H5c-1.1 0-2 .9-2 2v14c0 1.1.9 2 2 2h14c1.1 0 2-.9 2-2V5c0-1.1-.9-2-2-2zM9 17H7v-7h2v7zm4 0h-2V7h2v10zm4 0h-2v-4h2v4z\"/>\n",
              "    </g>\n",
              "</svg>\n",
              "      </button>\n",
              "\n",
              "<style>\n",
              "  .colab-df-quickchart {\n",
              "      --bg-color: #E8F0FE;\n",
              "      --fill-color: #1967D2;\n",
              "      --hover-bg-color: #E2EBFA;\n",
              "      --hover-fill-color: #174EA6;\n",
              "      --disabled-fill-color: #AAA;\n",
              "      --disabled-bg-color: #DDD;\n",
              "  }\n",
              "\n",
              "  [theme=dark] .colab-df-quickchart {\n",
              "      --bg-color: #3B4455;\n",
              "      --fill-color: #D2E3FC;\n",
              "      --hover-bg-color: #434B5C;\n",
              "      --hover-fill-color: #FFFFFF;\n",
              "      --disabled-bg-color: #3B4455;\n",
              "      --disabled-fill-color: #666;\n",
              "  }\n",
              "\n",
              "  .colab-df-quickchart {\n",
              "    background-color: var(--bg-color);\n",
              "    border: none;\n",
              "    border-radius: 50%;\n",
              "    cursor: pointer;\n",
              "    display: none;\n",
              "    fill: var(--fill-color);\n",
              "    height: 32px;\n",
              "    padding: 0;\n",
              "    width: 32px;\n",
              "  }\n",
              "\n",
              "  .colab-df-quickchart:hover {\n",
              "    background-color: var(--hover-bg-color);\n",
              "    box-shadow: 0 1px 2px rgba(60, 64, 67, 0.3), 0 1px 3px 1px rgba(60, 64, 67, 0.15);\n",
              "    fill: var(--button-hover-fill-color);\n",
              "  }\n",
              "\n",
              "  .colab-df-quickchart-complete:disabled,\n",
              "  .colab-df-quickchart-complete:disabled:hover {\n",
              "    background-color: var(--disabled-bg-color);\n",
              "    fill: var(--disabled-fill-color);\n",
              "    box-shadow: none;\n",
              "  }\n",
              "\n",
              "  .colab-df-spinner {\n",
              "    border: 2px solid var(--fill-color);\n",
              "    border-color: transparent;\n",
              "    border-bottom-color: var(--fill-color);\n",
              "    animation:\n",
              "      spin 1s steps(1) infinite;\n",
              "  }\n",
              "\n",
              "  @keyframes spin {\n",
              "    0% {\n",
              "      border-color: transparent;\n",
              "      border-bottom-color: var(--fill-color);\n",
              "      border-left-color: var(--fill-color);\n",
              "    }\n",
              "    20% {\n",
              "      border-color: transparent;\n",
              "      border-left-color: var(--fill-color);\n",
              "      border-top-color: var(--fill-color);\n",
              "    }\n",
              "    30% {\n",
              "      border-color: transparent;\n",
              "      border-left-color: var(--fill-color);\n",
              "      border-top-color: var(--fill-color);\n",
              "      border-right-color: var(--fill-color);\n",
              "    }\n",
              "    40% {\n",
              "      border-color: transparent;\n",
              "      border-right-color: var(--fill-color);\n",
              "      border-top-color: var(--fill-color);\n",
              "    }\n",
              "    60% {\n",
              "      border-color: transparent;\n",
              "      border-right-color: var(--fill-color);\n",
              "    }\n",
              "    80% {\n",
              "      border-color: transparent;\n",
              "      border-right-color: var(--fill-color);\n",
              "      border-bottom-color: var(--fill-color);\n",
              "    }\n",
              "    90% {\n",
              "      border-color: transparent;\n",
              "      border-bottom-color: var(--fill-color);\n",
              "    }\n",
              "  }\n",
              "</style>\n",
              "\n",
              "      <script>\n",
              "        async function quickchart(key) {\n",
              "          const quickchartButtonEl =\n",
              "            document.querySelector('#' + key + ' button');\n",
              "          quickchartButtonEl.disabled = true;  // To prevent multiple clicks.\n",
              "          quickchartButtonEl.classList.add('colab-df-spinner');\n",
              "          try {\n",
              "            const charts = await google.colab.kernel.invokeFunction(\n",
              "                'suggestCharts', [key], {});\n",
              "          } catch (error) {\n",
              "            console.error('Error during call to suggestCharts:', error);\n",
              "          }\n",
              "          quickchartButtonEl.classList.remove('colab-df-spinner');\n",
              "          quickchartButtonEl.classList.add('colab-df-quickchart-complete');\n",
              "        }\n",
              "        (() => {\n",
              "          let quickchartButtonEl =\n",
              "            document.querySelector('#df-a2662dd4-3754-43ef-9a1c-0a053631b838 button');\n",
              "          quickchartButtonEl.style.display =\n",
              "            google.colab.kernel.accessAllowed ? 'block' : 'none';\n",
              "        })();\n",
              "      </script>\n",
              "    </div>\n",
              "\n",
              "    </div>\n",
              "  </div>\n"
            ],
            "application/vnd.google.colaboratory.intrinsic+json": {
              "type": "dataframe",
              "variable_name": "df",
              "summary": "{\n  \"name\": \"df\",\n  \"rows\": 17840,\n  \"fields\": [\n    {\n      \"column\": \"DonorID\",\n      \"properties\": {\n        \"dtype\": \"category\",\n        \"num_unique_values\": 4769,\n        \"samples\": [\n          \"DNR00989\",\n          \"DNR02274\",\n          \"DNR02663\"\n        ],\n        \"semantic_type\": \"\",\n        \"description\": \"\"\n      }\n    },\n    {\n      \"column\": \"Age\",\n      \"properties\": {\n        \"dtype\": \"number\",\n        \"std\": 17,\n        \"min\": 18,\n        \"max\": 79,\n        \"num_unique_values\": 62,\n        \"samples\": [\n          57,\n          36,\n          56\n        ],\n        \"semantic_type\": \"\",\n        \"description\": \"\"\n      }\n    },\n    {\n      \"column\": \"Gender\",\n      \"properties\": {\n        \"dtype\": \"category\",\n        \"num_unique_values\": 3,\n        \"samples\": [\n          \"Male\",\n          \"Other\",\n          \"Female\"\n        ],\n        \"semantic_type\": \"\",\n        \"description\": \"\"\n      }\n    },\n    {\n      \"column\": \"Location\",\n      \"properties\": {\n        \"dtype\": \"category\",\n        \"num_unique_values\": 8,\n        \"samples\": [\n          \"ACT\",\n          \"WA\",\n          \"QLD\"\n        ],\n        \"semantic_type\": \"\",\n        \"description\": \"\"\n      }\n    },\n    {\n      \"column\": \"JoinDate\",\n      \"properties\": {\n        \"dtype\": \"object\",\n        \"num_unique_values\": 2495,\n        \"samples\": [\n          \"2022-08-17 22:59:27.552825\",\n          \"2019-08-25 22:59:27.552825\",\n          \"2019-12-12 22:59:27.552825\"\n        ],\n        \"semantic_type\": \"\",\n        \"description\": \"\"\n      }\n    },\n    {\n      \"column\": \"DonationID\",\n      \"properties\": {\n        \"dtype\": \"string\",\n        \"num_unique_values\": 17840,\n        \"samples\": [\n          \"DNT002022\",\n          \"DNT016159\",\n          \"DNT013372\"\n        ],\n        \"semantic_type\": \"\",\n        \"description\": \"\"\n      }\n    },\n    {\n      \"column\": \"DonationDate\",\n      \"properties\": {\n        \"dtype\": \"object\",\n        \"num_unique_values\": 3733,\n        \"samples\": [\n          \"2024-07-21\",\n          \"2023-07-19\",\n          \"2024-11-08\"\n        ],\n        \"semantic_type\": \"\",\n        \"description\": \"\"\n      }\n    },\n    {\n      \"column\": \"Amount\",\n      \"properties\": {\n        \"dtype\": \"number\",\n        \"std\": 100.74925327991656,\n        \"min\": 10.0,\n        \"max\": 930.72,\n        \"num_unique_values\": 12266,\n        \"samples\": [\n          39.01,\n          21.33,\n          55.15\n        ],\n        \"semantic_type\": \"\",\n        \"description\": \"\"\n      }\n    },\n    {\n      \"column\": \"CampaignID\",\n      \"properties\": {\n        \"dtype\": \"category\",\n        \"num_unique_values\": 10,\n        \"samples\": [\n          \"CAMP007\",\n          \"CAMP003\",\n          \"CAMP004\"\n        ],\n        \"semantic_type\": \"\",\n        \"description\": \"\"\n      }\n    },\n    {\n      \"column\": \"CampaignName\",\n      \"properties\": {\n        \"dtype\": \"category\",\n        \"num_unique_values\": 10,\n        \"samples\": [\n          \"Youth Initiative 007\",\n          \"Youth Initiative 003\",\n          \"Youth Initiative 004\"\n        ],\n        \"semantic_type\": \"\",\n        \"description\": \"\"\n      }\n    },\n    {\n      \"column\": \"StartDate\",\n      \"properties\": {\n        \"dtype\": \"category\",\n        \"num_unique_values\": 1,\n        \"samples\": [\n          \"59:27.6\"\n        ],\n        \"semantic_type\": \"\",\n        \"description\": \"\"\n      }\n    },\n    {\n      \"column\": \"EndDate\",\n      \"properties\": {\n        \"dtype\": \"category\",\n        \"num_unique_values\": 1,\n        \"samples\": [\n          \"59:27.6\"\n        ],\n        \"semantic_type\": \"\",\n        \"description\": \"\"\n      }\n    },\n    {\n      \"column\": \"TargetAmount\",\n      \"properties\": {\n        \"dtype\": \"number\",\n        \"std\": 21218.56845153264,\n        \"min\": 33193.34,\n        \"max\": 98304.41,\n        \"num_unique_values\": 10,\n        \"samples\": [\n          98304.41\n        ],\n        \"semantic_type\": \"\",\n        \"description\": \"\"\n      }\n    },\n    {\n      \"column\": \"ActualAmount\",\n      \"properties\": {\n        \"dtype\": \"number\",\n        \"std\": 19216.027322317783,\n        \"min\": 33179.39,\n        \"max\": 102566.77,\n        \"num_unique_values\": 10,\n        \"samples\": [\n          79225.78\n        ],\n        \"semantic_type\": \"\",\n        \"description\": \"\"\n      }\n    },\n    {\n      \"column\": \"Channel\",\n      \"properties\": {\n        \"dtype\": \"category\",\n        \"num_unique_values\": 5,\n        \"samples\": [\n          \"Newsletter\"\n        ],\n        \"semantic_type\": \"\",\n        \"description\": \"\"\n      }\n    },\n    {\n      \"column\": \"Date\",\n      \"properties\": {\n        \"dtype\": \"object\",\n        \"num_unique_values\": 810,\n        \"samples\": [\n          \"17/05/2023\"\n        ],\n        \"semantic_type\": \"\",\n        \"description\": \"\"\n      }\n    },\n    {\n      \"column\": \"EngagementOutcome\",\n      \"properties\": {\n        \"dtype\": \"category\",\n        \"num_unique_values\": 4,\n        \"samples\": [\n          \"Bounced\"\n        ],\n        \"semantic_type\": \"\",\n        \"description\": \"\"\n      }\n    },\n    {\n      \"column\": \"ImpactType\",\n      \"properties\": {\n        \"dtype\": \"category\",\n        \"num_unique_values\": 1,\n        \"samples\": [\n          \"Workshops Delivered\"\n        ],\n        \"semantic_type\": \"\",\n        \"description\": \"\"\n      }\n    },\n    {\n      \"column\": \"Value\",\n      \"properties\": {\n        \"dtype\": \"number\",\n        \"std\": 18.26631426362579,\n        \"min\": 19.0,\n        \"max\": 85.0,\n        \"num_unique_values\": 9,\n        \"samples\": [\n          24.0\n        ],\n        \"semantic_type\": \"\",\n        \"description\": \"\"\n      }\n    },\n    {\n      \"column\": \"Cost\",\n      \"properties\": {\n        \"dtype\": \"number\",\n        \"std\": 0.0,\n        \"min\": 100.0,\n        \"max\": 100.0,\n        \"num_unique_values\": 1,\n        \"samples\": [\n          100.0\n        ],\n        \"semantic_type\": \"\",\n        \"description\": \"\"\n      }\n    }\n  ]\n}"
            }
          },
          "metadata": {},
          "execution_count": 162
        }
      ]
    },
    {
      "cell_type": "code",
      "execution_count": 163,
      "id": "b160daa3-5fec-4f5e-8aa0-e0b03f8624cd",
      "metadata": {
        "id": "b160daa3-5fec-4f5e-8aa0-e0b03f8624cd"
      },
      "outputs": [],
      "source": [
        "# after cleaning we save the  merged dataset\n",
        "df.to_csv('Data.csv',index=0)"
      ]
    },
    {
      "cell_type": "code",
      "source": [
        "# Run the code in this cell to see table after cleaning.\n",
        "# df.head()"
      ],
      "metadata": {
        "id": "z8DrmuyQL6u8"
      },
      "id": "z8DrmuyQL6u8",
      "execution_count": 164,
      "outputs": []
    },
    {
      "cell_type": "markdown",
      "id": "1d57bc6c-c92b-497a-9faa-609f6a091ff4",
      "metadata": {
        "id": "1d57bc6c-c92b-497a-9faa-609f6a091ff4"
      },
      "source": [
        "**Table's shape**"
      ]
    },
    {
      "cell_type": "code",
      "source": [
        "# shape after cleaning :\n",
        "df.shape"
      ],
      "metadata": {
        "colab": {
          "base_uri": "https://localhost:8080/"
        },
        "id": "rE5s9F2wMhAI",
        "outputId": "beb8f90d-19ff-40e8-a40a-d779b9f44c7a"
      },
      "id": "rE5s9F2wMhAI",
      "execution_count": 165,
      "outputs": [
        {
          "output_type": "execute_result",
          "data": {
            "text/plain": [
              "(17840, 20)"
            ]
          },
          "metadata": {},
          "execution_count": 165
        }
      ]
    },
    {
      "cell_type": "markdown",
      "source": [
        "### Business understanding\n",
        "\n",
        "In today’s fast-evolving fundraising landscape, nonprofit organisations face growing pressure to engage supporters meaningfully, demonstrate their impact, and build trust through transparency. Traditional, instinct-driven approaches no longer meet modern donor expectations\n",
        "\n",
        "Adopting a data-informed approach is not just a technical upgrade—it’s a cultural shift that aligns mission, message, and measurement. With the right mindset and existing tools, even small organisations can use data to boost engagement and impact.\n",
        "\n",
        "Delivering measurable change increasingly depends on how well nonprofits engage and retain supporters. As donor expectations rise and attention spans shrink, sustaining long-term relationships becomes a major challenge.[McKinsey Global Institute](https://www.mckinsey.com/capabilities/growth-marketing-and-sales/our-insights/five-facts-how-customer-analytics-boosts-corporate-performance) says that data-driven organisations are 23 times more likely to acquire customers, 6 times as likely to retain customers and 19 times as likely to be profitable, showing the importance of including data in decision making.\n",
        "\n",
        "Our objectives focus on helping NPO'S reduce donor churn, strengthen their  relationships with donors, and improve alignment between fundraising and impact, with data driven analysis. We aim to help them engage donors and inspire new strategies for attraction and retention.\n",
        "\n",
        "\n",
        "\n",
        "\n",
        "\n"
      ],
      "metadata": {
        "id": "08XE7cJYFb2F"
      },
      "id": "08XE7cJYFb2F"
    },
    {
      "cell_type": "markdown",
      "source": [
        "### Data Understanding\n",
        "A synthetic dataset was created to reflect the operational characteristics of a nonprofit organisation, focused on youth and community welfare. It includes relational tables for donors, donations, campaigns, impact outcomes, and engagement activities. These tables are structured to support a complete engagement analysis from start to finish.\n",
        "\n",
        "Although the data is fictitious, it reflects realistic patterns based on [sector](https://www2.fundsforngos.org/) / [research](https://virtuous.org/resources/resource-center/). These patterns include donor attrition, variations in donation behavior, and inconsistent campaign performance (Virtuous, 2024). The goal is to encourage the use of data in nonprofit environments and to provide the NPO community with a clear example of what a data-informed approach can accomplish. This simulation allows for open analysis while maintaining privacy and ethical standards.\n",
        "\n",
        "The structure of the dataset makes it possible to demonstrate how nonprofit engagement can be improved through analytics without relying on sensitive real-world data.\n"
      ],
      "metadata": {
        "id": "mfk5egLimVHF"
      },
      "id": "mfk5egLimVHF"
    },
    {
      "cell_type": "markdown",
      "source": [
        "## Major questions\n",
        "this section is a follow up of the two previous sections. it builds our business and data understanding and allow us to leverage the data to get meaningful and pertinent information."
      ],
      "metadata": {
        "id": "V5jg7EO2z6v7"
      },
      "id": "V5jg7EO2z6v7"
    },
    {
      "cell_type": "markdown",
      "source": [
        "**How many time donors are likely to donate ?**"
      ],
      "metadata": {
        "id": "qFXw5ppxKO8i"
      },
      "id": "qFXw5ppxKO8i"
    },
    {
      "cell_type": "code",
      "source": [
        "# import necessary library\n",
        "import matplotlib.pyplot as plt\n",
        "import seaborn as sns\n",
        "\n",
        "# Group by DonorID to get donation count\n",
        "donation_counts = donations.groupby('DonorID')['DonationID'].count()\n",
        "\n",
        "# Plot\n",
        "plt.figure(figsize=(8, 4))\n",
        "sns.histplot(donation_counts, bins=20, kde=False, color='green')\n",
        "plt.title('Number of Donations per Donor')\n",
        "plt.xlabel('Number of Unique Donations')\n",
        "plt.ylabel('Number of Donors')\n",
        "plt.tight_layout()\n",
        "plt.show()"
      ],
      "metadata": {
        "id": "JSbSaVluOuyx",
        "colab": {
          "base_uri": "https://localhost:8080/",
          "height": 314
        },
        "outputId": "fbddf81a-558c-41e8-cb36-756646e7a1cd"
      },
      "id": "JSbSaVluOuyx",
      "execution_count": 166,
      "outputs": [
        {
          "output_type": "display_data",
          "data": {
            "text/plain": [
              "<Figure size 800x400 with 1 Axes>"
            ],
            "image/png": "iVBORw0KGgoAAAANSUhEUgAAAxYAAAGGCAYAAADmRxfNAAAAOnRFWHRTb2Z0d2FyZQBNYXRwbG90bGliIHZlcnNpb24zLjEwLjAsIGh0dHBzOi8vbWF0cGxvdGxpYi5vcmcvlHJYcgAAAAlwSFlzAAAPYQAAD2EBqD+naQAATGdJREFUeJzt3XlYVPXix/HPgKzKIi4guYBLioaaWoqWWpKoZXqzxXLPpduF3NdyyyWXq0aaabaIlWbazRZLzdQ0l9QwNBVxLbwaEBeRQEGB8/ujh/k5osY44Az6fj3PPDnnfGfO55yDNh/OMibDMAwBAAAAgA2c7B0AAAAAQOlHsQAAAABgM4oFAAAAAJtRLAAAAADYjGIBAAAAwGYUCwAAAAA2o1gAAAAAsBnFAgAAAIDNKBYAAAAAbEaxAAArff/99zKZTPr000/tHaVIkpOT9eSTT6pChQoymUyKjo62d6QSFxQUpL59+9o7BgDcUSgWABxSTEyMTCaT3N3ddebMmULz27Ztq3vuuccOyUqfYcOGacOGDRo3bpw+/PBDdejQ4bpjTSaT+VGmTBn5+fmpadOmGjJkiA4fPnwLU/+9nTt3avLkyUpPT7d3lFKnbdu25v3s5OQkb29v1a1bV7169dLGjRvtHQ9AKVXG3gEA4EZycnI0c+ZMLViwwN5RSq3NmzerS5cuGjlyZJHGP/LII+rdu7cMw9D58+e1f/9+LVu2TG+99ZZmzZql4cOHl3Diotm5c6deffVV9e3bV76+vhbzEhIS5OTE785upGrVqpoxY4YkKSsrS8ePH9dnn32mjz76SE8//bQ++ugjubi42DklgNKEYgHAoTVu3FjvvPOOxo0bp8DAQHvHuaWysrJUtmxZm98nJSWl0AfvG7n77rvVs2dPi2kzZ85U586dNWLECNWrV0+dOnWyOVdJcnNzs3cEu8rPz9elS5fk7u5+3TE+Pj7X3M+DBw/WW2+9paCgIM2aNauko96U7Oxsubq6Uh4BB8PfSAAO7eWXX1ZeXp5mzpx5w3G//vqrTCaTYmJiCs0zmUyaPHmy+fnkyZNlMpl09OhR9ezZUz4+PqpUqZImTJggwzB0+vRpdenSRd7e3goICNDcuXOvucy8vDy9/PLLCggIUNmyZfX444/r9OnThcbt3r1bHTp0kI+Pjzw9PdWmTRvt2LHDYkxBpsOHD+u5555T+fLl9cADD9xwnU+ePKmnnnpKfn5+8vT0VIsWLfT111+b5xecTmYYhhYuXGg+9eVmVKhQQStXrlSZMmU0ffp0i3kpKSnq37+//P395e7urkaNGmnZsmUWYwr2z5w5c7RkyRLVqlVLbm5uuu+++7R3716LsQcOHFDfvn1Vs2ZNubu7KyAgQM8//7z+97//WWyvUaNGSZKCg4PN6/brr79KuvY1Fn+3vaT/v35m1apVmj59uqpWrSp3d3e1a9dOx48ftxh77NgxdevWTQEBAXJ3d1fVqlXVvXt3nT9//obbsuA0vtjYWLVs2VIeHh4KDg7W4sWLC43NycnRpEmTVLt2bbm5ualatWoaPXq0cnJyLMaZTCZFRUVp+fLlatCggdzc3LR+/fob5rgWZ2dnzZ8/X/Xr19ebb75psS65ubmaOnWqed8FBQXp5ZdfLpQlKChIjz32mLZv3677779f7u7uqlmzpj744INCy7Nmn6xcuVLjx4/XXXfdJU9PT2VkZFi9fgBKFkcsADi04OBg9e7dW++8847Gjh1brEctnnnmGYWEhGjmzJn6+uuvNW3aNPn5+entt9/Www8/rFmzZmn58uUaOXKk7rvvPrVu3dri9dOnT5fJZNKYMWOUkpKi6OhohYeHKy4uTh4eHpL+Og2pY8eOatq0qSZNmiQnJyctXbpUDz/8sH744Qfdf//9Fu/51FNPqU6dOnrttddkGMZ1sycnJ6tly5a6cOGCBg8erAoVKmjZsmV6/PHH9emnn+of//iHWrdurQ8//FC9evUyn95ki+rVq6tNmzbasmWLMjIy5O3trYsXL6pt27Y6fvy4oqKiFBwcrNWrV6tv375KT0/XkCFDLN5jxYoV+vPPP/XCCy/IZDJp9uzZeuKJJ3Ty5EnzaTcbN27UyZMn1a9fPwUEBOjQoUNasmSJDh06pB9//FEmk0lPPPGEjh49qo8//livv/66KlasKEmqVKnSTW+vK82cOVNOTk4aOXKkzp8/r9mzZ6tHjx7avXu3JOnSpUuKiIhQTk6OXnrpJQUEBOjMmTNau3at0tPT5ePjc8Ntee7cOXXq1ElPP/20nn32Wa1atUovvviiXF1d9fzzz0v666jD448/ru3bt2vQoEEKCQnRL7/8otdff11Hjx7V559/bvGemzdv1qpVqxQVFaWKFSsqKCioSPv1as7Oznr22Wc1YcIEbd++XY8++qgkacCAAVq2bJmefPJJjRgxQrt379aMGTMUHx+vNWvWWLzH8ePH9eSTT6p///7q06eP3n//ffXt21dNmzZVgwYNbmqfTJ06Va6urho5cqRycnLk6up6U+sHoAQZAOCAli5dakgy9u7da5w4ccIoU6aMMXjwYPP8Nm3aGA0aNDA/P3XqlCHJWLp0aaH3kmRMmjTJ/HzSpEmGJGPQoEHmabm5uUbVqlUNk8lkzJw50zz93LlzhoeHh9GnTx/ztC1bthiSjLvuusvIyMgwT1+1apUhyXjjjTcMwzCM/Px8o06dOkZERISRn59vHnfhwgUjODjYeOSRRwplevbZZ4u0fYYOHWpIMn744QfztD///NMIDg42goKCjLy8PIv1j4yMLNL7/t3YIUOGGJKM/fv3G4ZhGNHR0YYk46OPPjKPuXTpkhEWFmaUK1fOvH0K9k+FChWMtLQ089gvvvjCkGR89dVX5mkXLlwotNyPP/7YkGRs27bNPO3f//63Ick4depUofE1atSw2GdF3V4F+zYkJMTIyckxj33jjTcMScYvv/xiGIZh/Pzzz4YkY/Xq1dfdVtfTpk0bQ5Ixd+5c87ScnByjcePGRuXKlY1Lly4ZhmEYH374oeHk5GSR2TAMY/HixYYkY8eOHeZpkgwnJyfj0KFDRc5w5d+fq61Zs8biZzkuLs6QZAwYMMBi3MiRIw1JxubNm83TatSoUWhfpaSkGG5ubsaIESPM06zdJzVr1rzmzwYAx8GpUAAcXs2aNdWrVy8tWbJEv//+e7G974ABA8x/dnZ2VrNmzWQYhvr372+e7uvrq7p16+rkyZOFXt+7d295eXmZnz/55JOqUqWKvvnmG0lSXFycjh07pueee07/+9//lJqaqtTUVGVlZaldu3batm2b8vPzLd7zn//8Z5Gyf/PNN7r//vstTpcqV66cBg0apF9//bXE7uBUrlw5SdKff/5pzhEQEKBnn33WPMbFxUWDBw9WZmamtm7davH6Z555RuXLlzc/f/DBByXJYvsWHO2R/jqXPjU1VS1atJAk7du376ZyW7u9+vXrZ/Eb8atzFhyR2LBhgy5cuGB1njJlyuiFF14wP3d1ddULL7yglJQUxcbGSpJWr16tkJAQ1atXz/yzk5qaqocffliStGXLFov3bNOmjerXr291lmu51n6WVOjC/REjRkhSodOX6tevb95m0l9Hkq7+e2TtPunTp4/FzwYAx0OxAFAqjB8/Xrm5uX97rYU1qlevbvHcx8dH7u7u5tNqrpx+7ty5Qq+vU6eOxXOTyaTatWubz/M/duyYpL8+EFWqVMni8e677yonJ6fQ+fjBwcFFyv7bb7+pbt26haaHhISY55eEzMxMSTIXqt9++0116tQpdBHt9XJcvc0LSsaV2zctLU1DhgyRv7+/PDw8VKlSJfN2+bvrF67H2u31dzmDg4M1fPhwvfvuu6pYsaIiIiK0cOHCIucLDAwsdGH+3XffLUkWPz+HDh0q9LNTMC4lJcXi9UX92SmKa+1nJycn1a5d22JcQECAfH19/3b7SX9twyv3s7X7pDjXD0DJ4BoLAKVCzZo11bNnTy1ZskRjx44tNP96FyXn5eVd9z2dnZ2LNE3SDa93uJ6CoxH//ve/1bhx42uOKfjNcAFH/43swYMH5ezsfNMf8oqyfZ9++mnt3LlTo0aNUuPGjVWuXDnl5+erQ4cOhY7wlJSi5Jw7d6769u2rL774Qt9++60GDx6sGTNm6Mcff1TVqlVtzpCfn6/Q0FDNmzfvmvOrVatm8bw4f3YOHjwoSYWKRFEv/i/Ov0cFHP3vBgCKBYBSZPz48froo4+ueQvMgt8oX/1laSX1m3vp/49IFDAMQ8ePH1fDhg0lSbVq1ZIkeXt7Kzw8vFiXXaNGDSUkJBSafuTIEfP84paYmKitW7cqLCzM/JvsGjVq6MCBA8rPz7c4anGzOc6dO6dNmzbp1Vdf1cSJE83Tr97WUtE/5BbkKIntFRoaqtDQUI0fP147d+5Uq1attHjxYk2bNu2Grzt79myh2wkfPXpUkswXXdeqVUv79+9Xu3btbvpuXjcjLy9PK1askKenp/k0pRo1aig/P1/Hjh0zH1GQ/roAOz09/aa2nz1+hgGULE6FAlBq1KpVSz179tTbb7+tpKQki3ne3t6qWLGitm3bZjH9rbfeKrE8H3zwgfkcdEn69NNP9fvvv6tjx46SpKZNm6pWrVqaM2eO+dSSK/3xxx83vexOnTppz5492rVrl3laVlaWlixZoqCgoGI7175AWlqann32WeXl5emVV16xyJGUlKRPPvnEPC03N1cLFixQuXLl1KZNG6uWU/Cb7qt/sx0dHV1obMGH8qJ883Zxb6+MjAzl5uZaTAsNDZWTk1Oh269eS25urt5++23z80uXLuntt99WpUqV1LRpU0l/Hbk5c+aM3nnnnUKvv3jxorKysqzKXBR5eXkaPHiw4uPjNXjwYHl7e0uS+XtLrt4PBUdTCu4cZY1b/TMMoORxxAJAqfLKK6/oww8/VEJCgvm2lQUGDBigmTNnasCAAWrWrJm2bdtm/i1wSfDz89MDDzygfv36KTk5WdHR0apdu7YGDhwoSXJyctK7776rjh07qkGDBurXr5/uuusunTlzRlu2bJG3t7e++uqrm1r22LFj9fHHH6tjx44aPHiw/Pz8tGzZMp06dUr/+c9/bPrisKNHj+qjjz6SYRjKyMjQ/v37tXr1amVmZmrevHnq0KGDeeygQYP09ttvq2/fvoqNjVVQUJA+/fRT7dixQ9HR0RYXtxeFt7e3WrdurdmzZ+vy5cu666679O233+rUqVOFxhZ8AH/llVfUvXt3ubi4qHPnztf8UsHi3l6bN29WVFSUnnrqKd19993Kzc3Vhx9+KGdnZ3Xr1u1vXx8YGKhZs2bp119/1d13361PPvlEcXFxWrJkifm2u7169dKqVav0z3/+U1u2bFGrVq2Ul5enI0eOaNWqVdqwYYOaNWtmVe4rnT9/Xh999JEk6cKFC+Zv3j5x4oS6d++uqVOnmsc2atRIffr00ZIlS5Senq42bdpoz549WrZsmbp27aqHHnrI6uWX5M8wAPugWAAoVWrXrq2ePXsW+gI2SZo4caL++OMPffrpp1q1apU6duyodevWqXLlyiWS5eWXX9aBAwc0Y8YM/fnnn2rXrp3eeusteXp6mse0bdtWu3bt0tSpU/Xmm28qMzNTAQEBat68ucVdgazl7++vnTt3asyYMVqwYIGys7PVsGFDffXVVzf12+Mrbdy4URs3bpSTk5O8vb0VHBysPn36aNCgQYV+i+zh4aHvv/9eY8eO1bJly5SRkaG6detq6dKlhb6grqhWrFihl156SQsXLpRhGGrfvr3WrVtX6DtM7rvvPk2dOlWLFy/W+vXrlZ+fr1OnTl2zWBT39mrUqJEiIiL01Vdf6cyZM/L09FSjRo20bt068x2sbqR8+fJatmyZXnrpJb3zzjvy9/fXm2++aS6l0l/F9PPPP9frr7+uDz74QGvWrJGnp6dq1qypIUOGmC/ivln//e9/1atXL0l/XetTpUoVhYWFadGiRXrkkUcKjX/33XdVs2ZNxcTEaM2aNQoICNC4ceM0adKkm1p+Sf4MA7APk2HLlVQAAMAqbdu2VWpqqvkCaQC4XXCcEQAAAIDNKBYAAAAAbEaxAAAAAGAzrrEAAAAAYDOOWAAAAACwGcUCAAAAgM34HosiyM/P19mzZ+Xl5SWTyWTvOAAAAMAtYRiG/vzzTwUGBv7tF1dSLIrg7Nmzqlatmr1jAAAAAHZx+vRpVa1a9YZjKBZF4OXlJemvDert7W3nNAAAAMCtkZGRoWrVqpk/D98IxaIICk5/8vb2plgAAADgjlOUywG4eBsAAACAzSgWAAAAAGxGsQAAAABgM4oFAAAAAJtRLAAAAADYjGIBAAAAwGYUCwAAAAA2o1gAAAAAsBnFAgAAAIDNKBYAAAAAbEaxAAAAAGCzMvYOAJQWiYmJSk1NtdvyK1asqOrVq9tt+QAAADdCsQCKIDExUXXr1VX2xWy7ZXD3cFfCkQTKBQAAcEgUC6AIUlNTlX0xWyGDQuQZ6HnLl3/h7AXFL4lXamoqxQIAADgkigVgBc9AT3kFedk7BgAAgMPh4m0AAAAANqNYAAAAALAZxQIAAACAzexaLLZt26bOnTsrMDBQJpNJn3/+ucV8wzA0ceJEValSRR4eHgoPD9exY8csxqSlpalHjx7y9vaWr6+v+vfvr8zMTIsxBw4c0IMPPih3d3dVq1ZNs2fPLulVAwAAAO4odi0WWVlZatSokRYuXHjN+bNnz9b8+fO1ePFi7d69W2XLllVERISys///lp89evTQoUOHtHHjRq1du1bbtm3ToEGDzPMzMjLUvn171ahRQ7Gxsfr3v/+tyZMna8mSJSW+fgAAAMCdwq53herYsaM6dux4zXmGYSg6Olrjx49Xly5dJEkffPCB/P399fnnn6t79+6Kj4/X+vXrtXfvXjVr1kyStGDBAnXq1Elz5sxRYGCgli9frkuXLun999+Xq6urGjRooLi4OM2bN8+igAAAAAC4eQ57jcWpU6eUlJSk8PBw8zQfHx81b95cu3btkiTt2rVLvr6+5lIhSeHh4XJyctLu3bvNY1q3bi1XV1fzmIiICCUkJOjcuXPXXHZOTo4yMjIsHgAAAACuz2GLRVJSkiTJ39/fYrq/v795XlJSkipXrmwxv0yZMvLz87MYc633uHIZV5sxY4Z8fHzMj2rVqtm+QgAAAMBtzGGLhT2NGzdO58+fNz9Onz5t70gAAACAQ3PYYhEQECBJSk5OtpienJxsnhcQEKCUlBSL+bm5uUpLS7MYc633uHIZV3Nzc5O3t7fFAwAAAMD1OWyxCA4OVkBAgDZt2mSelpGRod27dyssLEySFBYWpvT0dMXGxprHbN68Wfn5+WrevLl5zLZt23T58mXzmI0bN6pu3boqX778LVobAAAA4PZm12KRmZmpuLg4xcXFSfrrgu24uDglJibKZDJp6NChmjZtmr788kv98ssv6t27twIDA9W1a1dJUkhIiDp06KCBAwdqz5492rFjh6KiotS9e3cFBgZKkp577jm5urqqf//+OnTokD755BO98cYbGj58uJ3WGgAAALj92PV2sz/99JMeeugh8/OCD/t9+vRRTEyMRo8eraysLA0aNEjp6el64IEHtH79erm7u5tfs3z5ckVFRaldu3ZycnJSt27dNH/+fPN8Hx8fffvtt4qMjFTTpk1VsWJFTZw4kVvNAgAAAMXIZBiGYe8Qji4jI0M+Pj46f/4811vcofbt26emTZuq6eSm8gryuuXL//PXPxU7OVaxsbFq0qTJLV8+AAC4M1nzOdhhr7EAAAAAUHpQLAAAAADYjGIBAAAAwGYUCwAAAAA2o1gAAAAAsBnFAgAAAIDNKBYAAAAAbEaxAAAAAGAzigUAAAAAm1EsAAAAANiMYgEAAADAZhQLAAAAADajWAAAAACwGcUCAAAAgM0oFgAAAABsRrEAAAAAYDOKBQAAAACbUSwAAAAA2IxiAQAAAMBmFAsAAAAANqNYAAAAALAZxQIAAACAzSgWAAAAAGxWxt4BAJQOiYmJSk1NtdvyK1asqOrVq9tt+QAA4MYoFgD+VmJiourWq6vsi9l2y+Du4a6EIwmUCwAAHBTFAsDfSk1NVfbFbIUMCpFnoOctX/6FsxcUvyReqampFAsAABwUxQJAkXkGesoryMveMQAAgAPi4m0AAAAANqNYAAAAALAZxQIAAACAzSgWAAAAAGxGsQAAAABgM4oFAAAAAJtRLAAAAADYjGIBAAAAwGYUCwAAAAA2o1gAAAAAsBnFAgAAAIDNKBYAAAAAbFbG3gFQeiQmJio1NdVuy69YsaKqV69ut+UDAADg+igWKJLExETVrVdX2Rez7ZbB3cNdCUcSKBcAAAAOiGKBIklNTVX2xWyFDAqRZ6DnLV/+hbMXFL8kXqmpqRQLAAAAB0SxgFU8Az3lFeRl7xgAAABwMFy8DQAAAMBmFAsAAAAANnPoYpGXl6cJEyYoODhYHh4eqlWrlqZOnSrDMMxjDMPQxIkTVaVKFXl4eCg8PFzHjh2zeJ+0tDT16NFD3t7e8vX1Vf/+/ZWZmXmrVwcAAAC4bTl0sZg1a5YWLVqkN998U/Hx8Zo1a5Zmz56tBQsWmMfMnj1b8+fP1+LFi7V7926VLVtWERERys7+/7sX9ejRQ4cOHdLGjRu1du1abdu2TYMGDbLHKgEAAAC3JYe+eHvnzp3q0qWLHn30UUlSUFCQPv74Y+3Zs0fSX0croqOjNX78eHXp0kWS9MEHH8jf31+ff/65unfvrvj4eK1fv1579+5Vs2bNJEkLFixQp06dNGfOHAUGBtpn5QAAAIDbiEMfsWjZsqU2bdqko0ePSpL279+v7du3q2PHjpKkU6dOKSkpSeHh4ebX+Pj4qHnz5tq1a5ckadeuXfL19TWXCkkKDw+Xk5OTdu/efc3l5uTkKCMjw+IBAAAA4Poc+ojF2LFjlZGRoXr16snZ2Vl5eXmaPn26evToIUlKSkqSJPn7+1u8zt/f3zwvKSlJlStXtphfpkwZ+fn5mcdcbcaMGXr11VeLe3UAAACA25ZDH7FYtWqVli9frhUrVmjfvn1atmyZ5syZo2XLlpXocseNG6fz58+bH6dPny7R5QEAAAClnUMfsRg1apTGjh2r7t27S5JCQ0P122+/acaMGerTp48CAgIkScnJyapSpYr5dcnJyWrcuLEkKSAgQCkpKRbvm5ubq7S0NPPrr+bm5iY3N7cSWCMAAADg9uTQRywuXLggJyfLiM7OzsrPz5ckBQcHKyAgQJs2bTLPz8jI0O7duxUWFiZJCgsLU3p6umJjY81jNm/erPz8fDVv3vwWrAUAAABw+3PoIxadO3fW9OnTVb16dTVo0EA///yz5s2bp+eff16SZDKZNHToUE2bNk116tRRcHCwJkyYoMDAQHXt2lWSFBISog4dOmjgwIFavHixLl++rKioKHXv3p07QgEAAADFxKGLxYIFCzRhwgT961//UkpKigIDA/XCCy9o4sSJ5jGjR49WVlaWBg0apPT0dD3wwANav3693N3dzWOWL1+uqKgotWvXTk5OTurWrZvmz59vj1UCAAAAbksOXSy8vLwUHR2t6Ojo644xmUyaMmWKpkyZct0xfn5+WrFiRQkkBAAAACA5+DUWAAAAAEoHigUAAAAAm1ldLPbt26dffvnF/PyLL75Q165d9fLLL+vSpUvFGg4AAABA6WB1sXjhhRd09OhRSdLJkyfVvXt3eXp6avXq1Ro9enSxBwQAAADg+KwuFkePHjV/+dzq1avVunVrrVixQjExMfrPf/5T3PkAAAAAlAJWFwvDMMxfUPfdd9+pU6dOkqRq1aopNTW1eNMBAAAAKBWsLhbNmjXTtGnT9OGHH2rr1q169NFHJUmnTp2Sv79/sQcEAAAA4PisLhbR0dHat2+foqKi9Morr6h27dqSpE8//VQtW7Ys9oAAAAAAHJ9VX5CXl5en9PR0bdu2TeXLl7eY9+9//1vOzs7FGg4AAABA6WDVEQtnZ2e1b99e6enphea5u7vLxcWluHIBAAAAKEWsOmIhSffcc49Onjyp4ODgksgDAA4pMTHRrjeoqFixoqpXr2635QMA8HesLhbTpk3TyJEjNXXqVDVt2lRly5a1mO/t7V1s4QDAESQmJqpuvbrKvphttwzuHu5KOJJAuQAAOCyri0XB7WUff/xxmUwm83TDMGQymZSXl1d86QDAAaSmpir7YrZCBoXIM9Dzli//wtkLil8Sr9TUVIoFAMBhWV0stmzZUhI5AMDheQZ6yivIy94xAABwSFYXizZt2pREDgAAAAClmNXFQpLS09P13nvvKT4+XpLUoEEDPf/88/Lx8SnWcAAAAABKB6u/IO+nn35SrVq19PrrrystLU1paWmaN2+eatWqpX379pVERgAAAAAOzuojFsOGDdPjjz+ud955R2XK/PXy3NxcDRgwQEOHDtW2bduKPSQAAAAAx2Z1sfjpp58sSoUklSlTRqNHj1azZs2KNRwAAACA0sHqU6G8vb2VmJhYaPrp06fl5cXdUgAAAIA7kdXF4plnnlH//v31ySef6PTp0zp9+rRWrlypAQMG6Nlnny2JjAAAAAAcnNWnQs2ZM0cmk0m9e/dWbm6uJMnFxUUvvviiZs6cWewBAQAAADg+q4uFq6ur3njjDc2YMUMnTpyQJNWqVUuenrf+22gBAAAAOIab+h4LSfL09FRoaGhxZgEAAABQSlldLLKysjRz5kxt2rRJKSkpys/Pt5h/8uTJYgsHAAAAoHSwulgMGDBAW7duVa9evVSlShWZTKaSyAUAAACgFLG6WKxbt05ff/21WrVqVRJ5AAAAAJRCVt9utnz58vLz8yuJLAAAAABKKauLxdSpUzVx4kRduHChJPIAAAAAKIWsPhVq7ty5OnHihPz9/RUUFCQXFxeL+fv27Su2cAAAAABKB6uLRdeuXUsgBgAAAIDSzOpiMWnSpJLIAQAAAKAUu+kvyIuNjVV8fLwkqUGDBrr33nuLLRQAAACA0sXqYpGSkqLu3bvr+++/l6+vryQpPT1dDz30kFauXKlKlSoVd0YAAAAADs7qu0K99NJL+vPPP3Xo0CGlpaUpLS1NBw8eVEZGhgYPHlwSGQEAAAA4OKuPWKxfv17fffedQkJCzNPq16+vhQsXqn379sUaDgAAAEDpYPURi/z8/EK3mJUkFxcX5efnF0soAAAAAKWL1cXi4Ycf1pAhQ3T27FnztDNnzmjYsGFq165dsYYDAAAAUDpYXSzefPNNZWRkKCgoSLVq1VKtWrUUHBysjIwMLViwoCQyAgAAAHBwVl9jUa1aNe3bt0/fffedjhw5IkkKCQlReHh4sYcDAAAAUDrc1PdYmEwmPfLII3rkkUeKOw8AAACAUsiqYpGfn6+YmBh99tln+vXXX2UymRQcHKwnn3xSvXr1kslkKqmcAAAAABxYka+xMAxDjz/+uAYMGKAzZ84oNDRUDRo00G+//aa+ffvqH//4R0nmBAAAAODAinzEIiYmRtu2bdOmTZv00EMPWczbvHmzunbtqg8++EC9e/cu9pAAAAAAHFuRj1h8/PHHevnllwuVCumvW9COHTtWy5cvL9ZwAAAAAEqHIheLAwcOqEOHDted37FjR+3fv79YQl3pzJkz6tmzpypUqCAPDw+Fhobqp59+Ms83DEMTJ05UlSpV5OHhofDwcB07dsziPdLS0tSjRw95e3vL19dX/fv3V2ZmZrFnBQAAAO5URS4WaWlp8vf3v+58f39/nTt3rlhCFTh37pxatWolFxcXrVu3TocPH9bcuXNVvnx585jZs2dr/vz5Wrx4sXbv3q2yZcsqIiJC2dnZ5jE9evTQoUOHtHHjRq1du1bbtm3ToEGDijUrAAAAcCcr8jUWeXl5KlPm+sOdnZ2Vm5tbLKEKzJo1S9WqVdPSpUvN04KDg81/NgxD0dHRGj9+vLp06SJJ+uCDD+Tv76/PP/9c3bt3V3x8vNavX6+9e/eqWbNmkqQFCxaoU6dOmjNnjgIDA4s1MwAAAHAnKnKxMAxDffv2lZub2zXn5+TkFFuoAl9++aUiIiL01FNPaevWrbrrrrv0r3/9SwMHDpQknTp1SklJSRZfzufj46PmzZtr165d6t69u3bt2iVfX19zqZCk8PBwOTk5affu3de8m1VOTo7F+mRkZBT7ugEAAAC3kyKfCtWnTx9VrlxZPj4+13xUrly52O8IdfLkSS1atEh16tTRhg0b9OKLL2rw4MFatmyZJCkpKUmSCp2i5e/vb56XlJSkypUrW8wvU6aM/Pz8zGOuNmPGDIt1q1atWrGuFwAAAHC7KfIRiytPR7pV8vPz1axZM7322muSpHvvvVcHDx7U4sWL1adPnxJb7rhx4zR8+HDz84yMDMoFAAAAcANFPmJhD1WqVFH9+vUtpoWEhCgxMVGSFBAQIElKTk62GJOcnGyeFxAQoJSUFIv5ubm5SktLM4+5mpubm7y9vS0eAAAAAK7PoYtFq1atlJCQYDHt6NGjqlGjhqS/LuQOCAjQpk2bzPMzMjK0e/duhYWFSZLCwsKUnp6u2NhY85jNmzcrPz9fzZs3vwVrAQAAANz+inwqlD0MGzZMLVu21Guvvaann35ae/bs0ZIlS7RkyRJJkslk0tChQzVt2jTVqVNHwcHBmjBhggIDA9W1a1dJfx3h6NChgwYOHKjFixfr8uXLioqKUvfu3bkjFAAAAFBMHLpY3HfffVqzZo3GjRunKVOmKDg4WNHR0erRo4d5zOjRo5WVlaVBgwYpPT1dDzzwgNavXy93d3fzmOXLlysqKkrt2rWTk5OTunXrpvnz59tjlQAAAIDbUpGKRZMmTbRp0yaVL19eU6ZM0ciRI+Xp6VnS2SRJjz32mB577LHrzjeZTJoyZYqmTJly3TF+fn5asWJFScQDAAAAoCJeYxEfH6+srCxJ0quvvqrMzMwSDQUAAACgdCnSEYvGjRurX79+euCBB2QYhubMmaNy5cpdc+zEiROLNSAAAAAAx1ekYhETE6NJkyZp7dq1MplMWrduncqUKfxSk8lEsQAAAADuQEUqFnXr1tXKlSslSU5OTtq0aVOhb7MGAAAAcOey+q5Q+fn5JZEDAAAAQCl2U7ebPXHihKKjoxUfHy9Jql+/voYMGaJatWoVazgAAAAApYPV37y9YcMG1a9fX3v27FHDhg3VsGFD7d69Ww0aNNDGjRtLIiMAAAAAB2f1EYuxY8dq2LBhmjlzZqHpY8aM0SOPPFJs4QAAAACUDlYfsYiPj1f//v0LTX/++ed1+PDhYgkFAAAAoHSxulhUqlRJcXFxhabHxcVxpygAAADgDmX1qVADBw7UoEGDdPLkSbVs2VKStGPHDs2aNUvDhw8v9oAAAAAAHJ/VxWLChAny8vLS3LlzNW7cOElSYGCgJk+erMGDBxd7QAAAAACOz+piYTKZNGzYMA0bNkx//vmnJMnLy6vYgwEAAAAoPW7qeywKUCgAAAAASDdx8TYAAAAAXI1iAQAAAMBmFAsAAAAANrOqWFy+fFnt2rXTsWPHSioPAAAAgFLIqmLh4uKiAwcOlFQWAAAAAKWU1adC9ezZU++9915JZAEAAABQSll9u9nc3Fy9//77+u6779S0aVOVLVvWYv68efOKLRwAAACA0sHqYnHw4EE1adJEknT06FGLeSaTqXhSAQAAAChVrC4WW7ZsKYkcAAAAAEqxm77d7PHjx7VhwwZdvHhRkmQYRrGFAgAAAFC6WH3E4n//+5+efvppbdmyRSaTSceOHVPNmjXVv39/lS9fXnPnzi2JnHe8xMREpaam2m358fHxdls2AAAAHJ/VxWLYsGFycXFRYmKiQkJCzNOfeeYZDR8+nGJRAhITE1W3Xl1lX8y2dxRdunTJ3hEAAADggKwuFt9++602bNigqlWrWkyvU6eOfvvtt2ILhv+Xmpqq7IvZChkUIs9AT7tk+N+B/+nXz35Vbm6uXZYPAAAAx2Z1scjKypKnZ+EPt2lpaXJzcyuWULg2z0BPeQV52WXZF85esMtyAQAAUDpYffH2gw8+qA8++MD83GQyKT8/X7Nnz9ZDDz1UrOEAAAAAlA5WH7GYPXu22rVrp59++kmXLl3S6NGjdejQIaWlpWnHjh0lkREAAACAg7P6iMU999yjo0eP6oEHHlCXLl2UlZWlJ554Qj///LNq1apVEhkBAAAAODirj1hIko+Pj1555ZXizgIAAACglLqpYnHu3Dm999575u82qF+/vvr16yc/P79iDQcAAACgdLD6VKht27YpKChI8+fP17lz53Tu3DnNnz9fwcHB2rZtW0lkBAAAAODgrD5iERkZqWeeeUaLFi2Ss7OzJCkvL0//+te/FBkZqV9++aXYQwIAAABwbFYfsTh+/LhGjBhhLhWS5OzsrOHDh+v48ePFGg4AAABA6WB1sWjSpIn52oorxcfHq1GjRsUSCgAAAEDpUqRToQ4cOGD+8+DBgzVkyBAdP35cLVq0kCT9+OOPWrhwoWbOnFkyKQEAAAA4tCIVi8aNG8tkMskwDPO00aNHFxr33HPP6Zlnnim+dAAAAABKhSIVi1OnTpV0DgAAAAClWJGKRY0aNUo6BwAAAIBS7Ka+IO/s2bPavn27UlJSlJ+fbzFv8ODBxRIMAAAAQOlhdbGIiYnRCy+8IFdXV1WoUEEmk8k8z2QyUSwAAACAO5DVxWLChAmaOHGixo0bJycnq+9WCwAAAOA2ZHUzuHDhgrp3706pAAAAAGBmdTvo37+/Vq9eXRJZ/tbMmTNlMpk0dOhQ87Ts7GxFRkaqQoUKKleunLp166bk5GSL1yUmJurRRx+Vp6enKleurFGjRik3N/cWpwcAAABuX1afCjVjxgw99thjWr9+vUJDQ+Xi4mIxf968ecUW7kp79+7V22+/rYYNG1pMHzZsmL7++mutXr1aPj4+ioqK0hNPPKEdO3ZIkvLy8vToo48qICBAO3fu1O+//67evXvLxcVFr732WolkBQAAAO40N1UsNmzYoLp160pSoYu3S0JmZqZ69Oihd955R9OmTTNPP3/+vN577z2tWLFCDz/8sCRp6dKlCgkJ0Y8//qgWLVro22+/1eHDh/Xdd9/J399fjRs31tSpUzVmzBhNnjxZrq6uJZIZAG4niYmJSk1NtdvyK1asqOrVq9tt+QCAv2d1sZg7d67ef/999e3btwTiXFtkZKQeffRRhYeHWxSL2NhYXb58WeHh4eZp9erVU/Xq1bVr1y61aNFCu3btUmhoqPz9/c1jIiIi9OKLL+rQoUO69957Cy0vJydHOTk55ucZGRkltGYA4PgSExNVt15dZV/MtlsGdw93JRxJoFwAgAOzuli4ubmpVatWJZHlmlauXKl9+/Zp7969heYlJSXJ1dVVvr6+FtP9/f2VlJRkHnNlqSiYXzDvWmbMmKFXX321GNIDQOmXmpqq7IvZChkUIs9Az1u+/AtnLyh+SbxSU1MpFgDgwKwuFkOGDNGCBQs0f/78kshj4fTp0xoyZIg2btwod3f3El9egXHjxmn48OHm5xkZGapWrdotWz4AOCLPQE95BXnZOwYAwEFZXSz27NmjzZs3a+3atWrQoEGhi7c/++yzYgsXGxurlJQUNWnSxDwtLy9P27Zt05tvvqkNGzbo0qVLSk9PtzhqkZycrICAAElSQECA9uzZY/G+BXeNKhhzNTc3N7m5uRXbegAAAAC3O6uLha+vr5544omSyFJIu3bt9Msvv1hM69evn+rVq6cxY8aoWrVqcnFx0aZNm9StWzdJUkJCghITExUWFiZJCgsL0/Tp05WSkqLKlStLkjZu3Chvb2/Vr1//lqwHAAAAcLuzulgsXbq0JHJck5eXl+655x6LaWXLllWFChXM0/v376/hw4fLz89P3t7eeumllxQWFqYWLVpIktq3b6/69eurV69emj17tpKSkjR+/HhFRkZyVAIAAAAoJlYXC0fz+uuvy8nJSd26dVNOTo4iIiL01ltvmec7Oztr7dq1evHFFxUWFqayZcuqT58+mjJlih1TAwAAALcXq4tFcHDwDb+v4uTJkzYF+jvff/+9xXN3d3ctXLhQCxcuvO5ratSooW+++aZEcwEAAAB3MquLxdChQy2eX758WT///LPWr1+vUaNGFVcuAAAAAKXITd1u9loWLlyon376yeZAAAAAAEofp+J6o44dO+o///lPcb0dAAAAgFKk2IrFp59+Kj8/v+J6OwAAAACliNWnQt17770WF28bhqGkpCT98ccfFndjAgAAAHDnsLpYdO3a1eK5k5OTKlWqpLZt26pevXrFlQsAAABAKWJ1sZg0aVJJ5AAAAABQihXbNRYAAAAA7lxFPmLh5OR0wy/GkySTyaTc3FybQwEAAAAoXYpcLNasWXPdebt27dL8+fOVn59fLKEAAAAAlC5FLhZdunQpNC0hIUFjx47VV199pR49emjKlCnFGg4AAABA6XBT11icPXtWAwcOVGhoqHJzcxUXF6dly5apRo0axZ0PAAAAQClgVbE4f/68xowZo9q1a+vQoUPatGmTvvrqK91zzz0llQ8AAABAKVDkU6Fmz56tWbNmKSAgQB9//PE1T40CAAAAcGcqcrEYO3asPDw8VLt2bS1btkzLli275rjPPvus2MIBAAAAKB2KXCx69+79t7ebBQAAAHBnKnKxiImJKcEYAAAAAEozvnkbAAAAgM0oFgAAAABsRrEAAAAAYDOKBQAAAACbUSwAAAAA2IxiAQAAAMBmFAsAAAAANqNYAAAAALAZxQIAAACAzSgWAAAAAGxGsQAAAABgM4oFAAAAAJtRLAAAAADYjGIBAAAAwGYUCwAAAAA2o1gAAAAAsBnFAgAAAIDNKBYAAAAAbEaxAAAAAGAzigUAAAAAm1EsAAAAANiMYgEAAADAZhQLAAAAADYrY+8AAAAURXx8vN2WXbFiRVWvXt1uyweA0oBiAQBwaJfSL0kmqWfPnnbL4O7hroQjCZQLALgBigUAwKHlXsiVDCmod5Aq1Kxwy5d/4ewFxS+JV2pqKsUCAG6AYgEAKBU8AjzkFeRl7xgAgOtw6Iu3Z8yYofvuu09eXl6qXLmyunbtqoSEBIsx2dnZioyMVIUKFVSuXDl169ZNycnJFmMSExP16KOPytPTU5UrV9aoUaOUm5t7K1cFAAAAuK05dLHYunWrIiMj9eOPP2rjxo26fPmy2rdvr6ysLPOYYcOG6auvvtLq1au1detWnT17Vk888YR5fl5enh599FFdunRJO3fu1LJlyxQTE6OJEyfaY5UAAACA25JDnwq1fv16i+cxMTGqXLmyYmNj1bp1a50/f17vvfeeVqxYoYcffliStHTpUoWEhOjHH39UixYt9O233+rw4cP67rvv5O/vr8aNG2vq1KkaM2aMJk+eLFdXV3usGgAAAHBbcegjFlc7f/68JMnPz0+SFBsbq8uXLys8PNw8pl69eqpevbp27dolSdq1a5dCQ0Pl7+9vHhMREaGMjAwdOnToFqYHAAAAbl8OfcTiSvn5+Ro6dKhatWqle+65R5KUlJQkV1dX+fr6Woz19/dXUlKSecyVpaJgfsG8a8nJyVFOTo75eUZGRnGtBgAAAHBbKjVHLCIjI3Xw4EGtXLmyxJc1Y8YM+fj4mB/VqlUr8WUCAAAApVmpKBZRUVFau3attmzZoqpVq5qnBwQE6NKlS0pPT7cYn5ycrICAAPOYq+8SVfC8YMzVxo0bp/Pnz5sfp0+fLsa1AQAAAG4/Dl0sDMNQVFSU1qxZo82bNys4ONhiftOmTeXi4qJNmzaZpyUkJCgxMVFhYWGSpLCwMP3yyy9KSUkxj9m4caO8vb1Vv379ay7Xzc1N3t7eFg8AAAAA1+fQ11hERkZqxYoV+uKLL+Tl5WW+JsLHx0ceHh7y8fFR//79NXz4cPn5+cnb21svvfSSwsLC1KJFC0lS+/btVb9+ffXq1UuzZ89WUlKSxo8fr8jISLm5udlz9QAAAIDbhkMXi0WLFkmS2rZtazF96dKl6tu3ryTp9ddfl5OTk7p166acnBxFRETorbfeMo91dnbW2rVr9eKLLyosLExly5ZVnz59NGXKlFu1GgAAAMBtz6GLhWEYfzvG3d1dCxcu1MKFC687pkaNGvrmm2+KMxoAAACAKzj0NRYAAAAASgeKBQAAAACbUSwAAAAA2IxiAQAAAMBmFAsAAAAANqNYAAAAALAZxQIAAACAzSgWAAAAAGxGsQAAAABgM4oFAAAAAJtRLAAAAADYjGIBAAAAwGYUCwAAAAA2o1gAAAAAsBnFAgAAAIDNKBYAAAAAbEaxAAAAAGAzigUAAAAAm1EsAAAAANiMYgEAAADAZmXsHQAAANxYYmKiUlNT7bb8ihUrqnr16nZbPoDSgWIBAIADS0xMVN16dZV9MdtuGdw93JVwJIFyAeCGKBYAADiw1NRUZV/MVsigEHkGet7y5V84e0HxS+KVmppKsQBwQxQLAABKAc9AT3kFedk7BgBcFxdvAwAAALAZxQIAAACAzSgWAAAAAGxGsQAAAABgM4oFAAAAAJtRLAAAAADYjGIBAAAAwGYUCwAAAAA2o1gAAAAAsBnFAgAAAIDNKBYAAAAAbEaxAAAAAGAzigUAAAAAm1EsAAAAANiMYgEAAADAZhQLAAAAADYrY+8AAAAAN5KYmKjU1FS7ZqhYsaKqV69u1wyAo6NYAAAAh5WYmKi69eoq+2K2XXO4e7gr4UgC5QK4AYoFAABwWKmpqcq+mK2QQSHyDPS0S4YLZy8ofkm8UlNTKRbADVAsAACAw/MM9JRXkJe9YwC4AS7eBgAAAGCzO6pYLFy4UEFBQXJ3d1fz5s21Z88ee0cCAAAAbgt3zKlQn3zyiYYPH67FixerefPmio6OVkREhBISElS5cmV7xwMAALgue98Zy953xbrT17+0uGOKxbx58zRw4ED169dPkrR48WJ9/fXXev/99zV27Fg7pwMAALg2R7gzlj3vinWnr39pckcUi0uXLik2Nlbjxo0zT3NyclJ4eLh27dplx2QAAAA3Zu87Y9n7rliOsv4//PCDQkJCbvnypdJzxOSOKBapqanKy8uTv7+/xXR/f38dOXKk0PicnBzl5OSYn58/f16SlJGRUbJBryMzM1OS9OevfyovO88uGbJ+z/rrv4lZSndKv+XLv5B0QZIUGxtr3h63UkJCgiT77QPWn/WX7tz1598ffv4k+/4/0FG2Qd6lPLtsg7xLfy3zTl3/nHN/fSbs2bPnLV92ATd3N8X+FKtq1ard8mUXfP41DONvx5qMoowq5c6ePau77rpLO3fuVFhYmHn66NGjtXXrVu3evdti/OTJk/Xqq6/e6pgAAACAQzp9+rSqVq16wzF3xBGLihUrytnZWcnJyRbTk5OTFRAQUGj8uHHjNHz4cPPz/Px8paWlqUKFCjKZTCWe906WkZGhatWq6fTp0/L29rZ3HNiI/Xn7YZ/eftintxf25+3H3vvUMAz9+eefCgwM/Nuxd0SxcHV1VdOmTbVp0yZ17dpV0l9lYdOmTYqKiio03s3NTW5ubhbTfH19b0FSFPD29uYfxNsI+/P2wz69/bBPby/sz9uPPfepj49PkcbdEcVCkoYPH64+ffqoWbNmuv/++xUdHa2srCzzXaIAAAAA3Lw7plg888wz+uOPPzRx4kQlJSWpcePGWr9+faELugEAAABY744pFpIUFRV1zVOf4Djc3Nw0adKkQqeioXRif95+2Ke3H/bp7YX9efspTfv0jrgrFAAAAICS5WTvAAAAAABKP4oFAAAAAJtRLAAAAADYjGIBu5sxY4buu+8+eXl5qXLlyuratasSEhLsHQvFaObMmTKZTBo6dKi9o8AGZ86cUc+ePVWhQgV5eHgoNDRUP/30k71j4Sbk5eVpwoQJCg4OloeHh2rVqqWpU6eKyy5Lj23btqlz584KDAyUyWTS559/bjHfMAxNnDhRVapUkYeHh8LDw3Xs2DH7hEWR3GifXr58WWPGjFFoaKjKli2rwMBA9e7dW2fPnrVf4GugWMDutm7dqsjISP3444/auHGjLl++rPbt2ysrK8ve0VAM9u7dq7ffflsNGza0dxTY4Ny5c2rVqpVcXFy0bt06HT58WHPnzlX58uXtHQ03YdasWVq0aJHefPNNxcfHa9asWZo9e7YWLFhg72gooqysLDVq1EgLFy685vzZs2dr/vz5Wrx4sXbv3q2yZcsqIiJC2dnZtzgpiupG+/TChQvat2+fJkyYoH379umzzz5TQkKCHn/8cTskvT7uCgWH88cff6hy5craunWrWrdube84sEFmZqaaNGmit956S9OmTVPjxo0VHR1t71i4CWPHjtWOHTv0ww8/2DsKisFjjz0mf39/vffee+Zp3bp1k4eHhz766CM7JsPNMJlMWrNmjbp27Srpr6MVgYGBGjFihEaOHClJOn/+vPz9/RUTE6Pu3bvbMS2K4up9ei179+7V/fffr99++03Vq1e/deFugCMWcDjnz5+XJPn5+dk5CWwVGRmpRx99VOHh4faOAht9+eWXatasmZ566ilVrlxZ9957r9555x17x8JNatmypTZt2qSjR49Kkvbv36/t27erY8eOdk6G4nDq1CklJSVZ/Nvr4+Oj5s2ba9euXXZMhuJ0/vx5mUwm+fr62juK2R31BXlwfPn5+Ro6dKhatWqle+65x95xYIOVK1dq37592rt3r72joBicPHlSixYt0vDhw/Xyyy9r7969Gjx4sFxdXdWnTx97x4OVxo4dq4yMDNWrV0/Ozs7Ky8vT9OnT1aNHD3tHQzFISkqSJPn7+1tM9/f3N89D6Zadna0xY8bo2Weflbe3t73jmFEs4FAiIyN18OBBbd++3d5RYIPTp09ryJAh2rhxo9zd3e0dB8UgPz9fzZo102uvvSZJuvfee3Xw4EEtXryYYlEKrVq1SsuXL9eKFSvUoEEDxcXFaejQoQoMDGR/Ag7u8uXLevrpp2UYhhYtWmTvOBY4FQoOIyoqSmvXrtWWLVtUtWpVe8eBDWJjY5WSkqImTZqoTJkyKlOmjLZu3ar58+erTJkyysvLs3dEWKlKlSqqX7++xbSQkBAlJibaKRFsMWrUKI0dO1bdu3dXaGioevXqpWHDhmnGjBn2joZiEBAQIElKTk62mJ6cnGyeh9KpoFT89ttv2rhxo0MdrZAoFnAAhmEoKipKa9as0ebNmxUcHGzvSLBRu3bt9MsvvyguLs78aNasmXr06KG4uDg5OzvbOyKs1KpVq0K3gT569Khq1Khhp0SwxYULF+TkZPkRwNnZWfn5+XZKhOIUHBysgIAAbdq0yTwtIyNDu3fvVlhYmB2TwRYFpeLYsWP67rvvVKFCBXtHKoRToWB3kZGRWrFihb744gt5eXmZz//08fGRh4eHndPhZnh5eRW6RqZs2bKqUKEC186UUsOGDVPLli312muv6emnn9aePXu0ZMkSLVmyxN7RcBM6d+6s6dOnq3r16mrQoIF+/vlnzZs3T88//7y9o6GIMjMzdfz4cfPzU6dOKS4uTn5+fqpevbqGDh2qadOmqU6dOgoODtaECRMUGBh4w7sMwb5utE+rVKmiJ598Uvv27dPatWuVl5dn/rzk5+cnV1dXe8W2ZAB2Jumaj6VLl9o7GopRmzZtjCFDhtg7Bmzw1VdfGffcc4/h5uZm1KtXz1iyZIm9I+EmZWRkGEOGDDGqV69uuLu7GzVr1jReeeUVIycnx97RUERbtmy55v87+/TpYxiGYeTn5xsTJkww/P39DTc3N6Ndu3ZGQkKCfUPjhm60T0+dOnXdz0tbtmyxd3QzvscCAAAAgM24xgIAAACAzSgWAAAAAGxGsQAAAABgM4oFAAAAAJtRLAAAAADYjGIBAAAAwGYUCwAAAAA2o1gAAAAAsBnFAgAc0K+//iqTyaS4uDh7RzE7cuSIWrRoIXd3dzVu3LjElxcUFKTo6OgSX87tIiYmRr6+vvaOAeAORrEAgGvo27evTCaTZs6caTH9888/l8lkslMq+5o0aZLKli2rhIQEbdq06Zpj2rZtq6FDhxaafjMfevfu3atBgwbdRNLiFRMTI5PJJJPJJGdnZ5UvX17NmzfXlClTdP78ebtkulbpeuaZZ3T06FG75AEAiWIBANfl7u6uWbNm6dy5c/aOUmwuXbp00689ceKEHnjgAdWoUUMVKlQoxlTXVqlSJXl6epb4corC29tbv//+u/773/9q586dGjRokD744AM1btxYZ8+etXc8SZKHh4cqV65s7xgA7mAUCwC4jvDwcAUEBGjGjBnXHTN58uRCpwVFR0crKCjI/Lxv377q2rWrXnvtNfn7+8vX11dTpkxRbm6uRo0aJT8/P1WtWlVLly4t9P5HjhxRy5Yt5e7urnvuuUdbt261mH/w4EF17NhR5cqVk7+/v3r16qXU1FTz/LZt2yoqKkpDhw5VxYoVFRERcc31yM/P15QpU1S1alW5ubmpcePGWr9+vXm+yWRSbGyspkyZIpPJpMmTJ99gy/29gm0yZ84cValSRRUqVFBkZKQuX75sHnP1b+WPHTum1q1by93dXfXr19fGjRtlMpn0+eefS5K+//57mUwmpaenm18TFxcnk8mkX3/91Txt+/btevDBB+Xh4aFq1app8ODBysrKumFek8mkgIAAValSRSEhIerfv7927typzMxMjR492jwuJydHgwcPVuXKleXu7q4HHnhAe/fuNc8vyLhp0yY1a9ZMnp6eatmypRISEsxjTpw4oS5dusjf31/lypXTfffdp++++848v23btvrtt980bNgw85EU6dpHhRYtWqRatWrJ1dVVdevW1Ycfflhovd5991394x//kKenp+rUqaMvv/zSPP/cuXPq0aOHKlWqJA8PD9WpU+eaP6cAIFEsAOC6nJ2d9dprr2nBggX673//a9N7bd68WWfPntW2bds0b948TZo0SY899pjKly+v3bt365///KdeeOGFQssZNWqURowYoZ9//llhYWHq3Lmz/ve//0mS0tPT9fDDD+vee+/VTz/9pPXr1ys5OVlPP/20xXssW7ZMrq6u2rFjhxYvXnzNfG+88Ybmzp2rOXPm6MCBA4qIiNDjjz+uY8eOSZJ+//13NWjQQCNGjNDvv/+ukSNH2rQ9JGnLli06ceKEtmzZomXLlikmJkYxMTHXHJufn68nnnhCrq6u2r17txYvXqwxY8ZYvcwTJ06oQ4cO6tatmw4cOKBPPvlE27dvV1RUlNXvVblyZfXo0UNffvml8vLyJEmjR4/Wf/7zHy1btkz79u1T7dq1FRERobS0NIvXvvLKK5o7d65++uknlSlTRs8//7x5XmZmpjp16qRNmzbp559/VocOHdS5c2clJiZKkj777DNVrVpVU6ZM0e+//67ff//9mvnWrFmjIUOGaMSIETp48KBeeOEF9evXT1u2bLEY9+qrr+rpp5/WgQMH1KlTJ/Xo0cOcd8KECTp8+LDWrVun+Ph4LVq0SBUrVrR6WwG4QxgAgEL69OljdOnSxTAMw2jRooXx/PPPG4ZhGGvWrDGu/Kdz0qRJRqNGjSxe+/rrrxs1atSweK8aNWoYeXl55ml169Y1HnzwQfPz3Nxco2zZssbHH39sGIZhnDp1ypBkzJw50zzm8uXLRtWqVY1Zs2YZhmEYU6dONdq3b2+x7NOnTxuSjISEBMMwDKNNmzbGvffe+7frGxgYaEyfPt1i2n333Wf861//Mj9v1KiRMWnSpBu+T5s2bYwhQ4YUmr506VLDx8fH/Lxgm+Tm5pqnPfXUU8Yzzzxjfl6jRg3j9ddfNwzDMDZs2GCUKVPGOHPmjHn+unXrDEnGmjVrDMMwjC1bthiSjHPnzpnH/Pzzz4Yk49SpU4ZhGEb//v2NQYMGWWT74YcfDCcnJ+PixYvXXKers19p0aJFhiQjOTnZyMzMNFxcXIzly5eb51+6dMkIDAw0Zs+ebZHxu+++M4/5+uuvDUnXXb5hGEaDBg2MBQsWXHPbXC9ny5YtjYEDB1qMeeqpp4xOnTqZn0syxo8fb36emZlpSDLWrVtnGIZhdO7c2ejXr991cwHAlThiAQB/Y9asWVq2bJni4+Nv+j0aNGggJ6f//yfX399foaGh5ufOzs6qUKGCUlJSLF4XFhZm/nOZMmXUrFkzc479+/dry5YtKleunPlRr149SX/9Zr5A06ZNb5gtIyNDZ8+eVatWrSymt2rVyqZ1/jsNGjSQs7Oz+XmVKlUKrX+B+Ph4VatWTYGBgeZpV26botq/f79iYmIstllERITy8/N16tQpq9/PMAxJf51SdOLECV2+fNliO7q4uOj+++8vtB0bNmxo/nOVKlUkybzumZmZGjlypEJCQuTr66ty5copPj7efMSiqOLj44u0T6/MUrZsWXl7e5uzvPjii1q5cqUaN26s0aNHa+fOnVZlAHBnKWPvAADg6Fq3bq2IiAiNGzdOffv2tZjn5ORk/nBZ4MrrBAq4uLhYPDeZTNeclp+fX+RcmZmZ6ty5s2bNmlVoXsGHVemvD4u3ire39zXvlJSeni4fHx+Labau/9UKituV++PqfZGZmakXXnhBgwcPLvT66tWrW73M+Ph4eXt7q0KFCtc9Jelarlz3gmskCtZ95MiR2rhxo+bMmaPatWvLw8NDTz75pE0X3hc1S0GegiwdO3bUb7/9pm+++UYbN25Uu3btFBkZqTlz5pRIFgClG0csAKAIZs6cqa+++kq7du2ymF6pUiUlJSVZfJgtzu+e+PHHH81/zs3NVWxsrEJCQiRJTZo00aFDhxQUFKTatWtbPKwpE97e3goMDNSOHTsspu/YsUP169e3Km/dunW1b9++QtP37dunu+++26r3ulJISIhOnz5t8eH9ym0j/bUvJFmMuXpfNGnSRIcPHy60vWrXri1XV1erMqWkpGjFihXq2rWrnJyczBdJX7kdL1++rL1791q1HXfs2KG+ffvqH//4h0JDQxUQEGBx8bkkubq6mq/ruJ6QkJBi2aeVKlVSnz599NFHHyk6OlpLliyx6vUA7hwUCwAogtDQUPXo0UPz58+3mN62bVv98ccfmj17tk6cOKGFCxdq3bp1xbbchQsXas2aNTpy5IgiIyN17tw584W+kZGRSktL07PPPqu9e/fqxIkT2rBhg/r16/e3HzqvNmrUKM2aNUuffPKJEhISNHbsWMXFxWnIkCFWvc+LL76oo0ePavDgwTpw4IASEhI0b948ffzxxxoxYoRV73Wl8PBw3X333erTp4/279+vH374Qa+88orFmNq1a6tatWqaPHmyjh07pq+//lpz5861GDNmzBjt3LlTUVFRiouL07Fjx/TFF1/87cXbhmEoKSlJv//+u+Lj4/X++++rZcuW8vHxMX/XSdmyZfXiiy9q1KhRWr9+vQ4fPqyBAwfqwoUL6t+/f5HXtU6dOvrss88UFxen/fv367nnnit0JCcoKEjbtm3TmTNnLO4CdqVRo0YpJiZGixYt0rFjxzRv3jx99tlnVl14P3HiRH3xxRc6fvy4Dh06pLVr15qLLQBcjWIBAEU0ZcqUQh/wQkJC9NZbb2nhwoVq1KiR9uzZUyx3TCowc+ZMzZw5U40aNdL27dv15Zdfmu/KU3CUIS8vT+3bt1doaKiGDh0qX19fi+s5imLw4MEaPny4RowYodDQUK1fv15ffvml6tSpY9X71KxZU9u2bdORI0cUHh6u5s2ba9WqVVq9erU6dOhg1XtdycnJSWvWrNHFixd1//33a8CAAZo+fbrFGBcXF3388cc6cuSIGjZsqFmzZmnatGkWYxo2bKitW7fq6NGjevDBB3Xvvfdq4sSJFtduXEtGRoaqVKmiu+66S2FhYXr77bfVp08f/fzzzxannc2cOVPdunVTr1691KRJEx0/flwbNmxQ+fLli7yu8+bNU/ny5dWyZUt17txZERERatKkicWYKVOm6Ndff1WtWrXMR2qu1rVrV73xxhuaM2eOGjRooLfffltLly5V27Zti5zF1dVV48aNU8OGDdW6dWs5Oztr5cqVRX49gDuLybj65GAAAEoJk8mkNWvWqGvXrvaOAgB3PI5YAAAAALAZxQIAAACAzbjdLACg1OJsXgBwHByxAAAAAGAzigUAAAAAm1EsAAAAANiMYgEAAADAZhQLAAAAADajWAAAAACwGcUCAAAAgM0oFgAAAABsRrEAAAAAYLP/A7qg1RR0yvLHAAAAAElFTkSuQmCC\n"
          },
          "metadata": {}
        }
      ]
    },
    {
      "cell_type": "markdown",
      "source": [
        "Comment: Most donors donates around 2 to 4 times.\n",
        "We can observe that the Number of Donors decreases For higher number of donations, showing moderate donor retention.\n",
        "\n",
        "\n",
        "\n"
      ],
      "metadata": {
        "id": "Y5YUsutSOMgZ"
      },
      "id": "Y5YUsutSOMgZ"
    },
    {
      "cell_type": "markdown",
      "source": [
        "**How has donor retention evolved over time ?**"
      ],
      "metadata": {
        "id": "pKMox1CscH2U"
      },
      "id": "pKMox1CscH2U"
    },
    {
      "cell_type": "code",
      "source": [
        "# conversion\n",
        "df['DonationDate'] = pd.to_datetime(df['DonationDate'], dayfirst=True)\n",
        "\n",
        "# Extract donation year\n",
        "df['DonationYear'] = df['DonationDate'].dt.year\n",
        "years = sorted(df['DonationYear'].unique())\n",
        "retention_stats = []\n",
        "\n",
        "for i in range(len(years) -1 ):\n",
        "    year_current = years[i]\n",
        "    year_next = years[i + 1]\n",
        "\n",
        "    donors_current = set(df[df['DonationYear'] == year_current]['DonorID'])\n",
        "    donors_next = set(df[df['DonationYear'] == year_next]['DonorID'])\n",
        "\n",
        "    retained_donors = donors_current & donors_next\n",
        "    retention_rate = len(retained_donors) / len(donors_current) * 100 if donors_current else 0\n",
        "\n",
        "    retention_stats.append({\n",
        "        \"From Year\": year_current,\n",
        "        \"To Year\": year_next,\n",
        "        \"Donors in Year\": len(donors_current),\n",
        "        \"Retained Donors\": len(retained_donors),\n",
        "        \"Retention Rate (%)\": round(retention_rate, 2)\n",
        "    })\n",
        "\n",
        "retention_df = pd.DataFrame(retention_stats)\n",
        "\n",
        "# Exclude the last year from the plot as it has incomplete data\n",
        "retention_df_plot = retention_df[:-1]\n",
        "\n",
        "plt.figure(figsize=(10, 6))\n",
        "plt.plot(retention_df_plot[\"From Year\"].astype(str), retention_df_plot[\"Retention Rate (%)\"], marker='o',  color = \"red\", linewidth=2)\n",
        "plt.title(\"Year-over-Year Donor Retention Rate (Excluding Incomplete Year)\", fontsize=14)\n",
        "plt.xlabel(\"From Year\", fontsize=12)\n",
        "plt.ylabel(\"Retention Rate (%)\", fontsize=12)\n",
        "plt.xticks(rotation=45)\n",
        "plt.grid(True)\n",
        "plt.tight_layout()\n",
        "plt.show()"
      ],
      "metadata": {
        "colab": {
          "base_uri": "https://localhost:8080/",
          "height": 376
        },
        "id": "HtUsgdDDW-5i",
        "outputId": "cf76a031-6f7a-4c8a-e35b-d8b2ba797b0a"
      },
      "id": "HtUsgdDDW-5i",
      "execution_count": 172,
      "outputs": [
        {
          "output_type": "display_data",
          "data": {
            "text/plain": [
              "<Figure size 1000x600 with 1 Axes>"
            ],
            "image/png": "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\n"
          },
          "metadata": {}
        }
      ]
    },
    {
      "cell_type": "markdown",
      "source": [
        "Comment: This line graph illustrates the percentage of donors retained from one year to the next over a ten-year period. While retention fluctuates around  30%, occasional dips highlight the importance of targeted re-engagement strategies and sustained communication with donor segments."
      ],
      "metadata": {
        "id": "m6HZYF0-Xdz5"
      },
      "id": "m6HZYF0-Xdz5"
    },
    {
      "cell_type": "markdown",
      "source": [
        "**How can the different type of donors be classified ?**\n"
      ],
      "metadata": {
        "id": "8FExHyJJLo_9"
      },
      "id": "8FExHyJJLo_9"
    },
    {
      "cell_type": "code",
      "source": [
        "import numpy as np\n",
        "\n",
        "# Convert donation date to datetime\n",
        "df['DonationDate'] = pd.to_datetime(df['DonationDate'])\n",
        "\n",
        "# Create donor-level summary\n",
        "today = pd.to_datetime('today')\n",
        "donor_summary = df.groupby('DonorID').agg(\n",
        "    FirstDonationDate=('DonationDate', 'min'),\n",
        "    LastDonationDate=('DonationDate', 'max'),\n",
        "    Frequency=('DonationID', 'count'),\n",
        "    Monetary=('Amount', 'sum')\n",
        ").reset_index()\n",
        "donor_summary['Recency'] = (today - donor_summary['LastDonationDate']).dt.days\n",
        "\n",
        "# Merge with full donor list\n",
        "donor_full_summary = pd.merge(donors[['DonorID']], donor_summary, on='DonorID', how='left')\n",
        "donor_full_summary['Recency'] = donor_full_summary['Recency'].fillna(np.inf)\n",
        "donor_full_summary['Frequency'] = donor_full_summary['Frequency'].fillna(0)\n",
        "donor_full_summary['Monetary'] = donor_full_summary['Monetary'].fillna(0)\n",
        "# Assign segments\n",
        "def assign_segment(row):\n",
        "    r = row['Recency']\n",
        "    f = row['Frequency']\n",
        "    m = row['Monetary']\n",
        "\n",
        "    if np.isinf(r) or pd.isna(r):\n",
        "        return 'Never Donated'\n",
        "    elif r <= 365 and f == 1:\n",
        "        return 'New Donors'\n",
        "    elif r <= 365 and f >= 4 and m >= 750:\n",
        "        return 'Champions'\n",
        "    elif r <= 1095 and f >= 4:\n",
        "        return 'Loyal Donors'\n",
        "    elif r <= 1095 and 2 <= f <= 4 and m >= 750:\n",
        "        return 'High Value Potentials'\n",
        "    elif r > 1095 and f >= 2 and m >= 250:\n",
        "        return 'Lapsed but Valuable'\n",
        "    elif 365 < r <= 1095 and f >= 2:\n",
        "        return 'At Risk'\n",
        "    elif r > 1095 and f == 1:\n",
        "        return 'Lost or Inactive'\n",
        "    elif f <= 2 and m < 250:\n",
        "        return 'Low Frequency'\n",
        "    else:\n",
        "        return 'Misc Donors'\n",
        "\n",
        "donor_full_summary['Segment'] = donor_full_summary.apply(assign_segment, axis=1)\n",
        "\n",
        "# Return segment summary for confirmation\n",
        "segment_summary = donor_full_summary['Segment'].value_counts().reset_index()\n",
        "segment_summary.columns = ['Segment', 'Count']\n",
        "segment_summary"
      ],
      "metadata": {
        "colab": {
          "base_uri": "https://localhost:8080/",
          "height": 363
        },
        "id": "fv3Lav8LMM6n",
        "outputId": "930273d1-ed7d-4ada-e3db-a5d9742e3f53"
      },
      "id": "fv3Lav8LMM6n",
      "execution_count": 168,
      "outputs": [
        {
          "output_type": "execute_result",
          "data": {
            "text/plain": [
              "                 Segment  Count\n",
              "0           Loyal Donors   1658\n",
              "1    Lapsed but Valuable    988\n",
              "2                At Risk    682\n",
              "3          Low Frequency    493\n",
              "4            Misc Donors    396\n",
              "5       Lost or Inactive    375\n",
              "6              Champions    138\n",
              "7          Never Donated    122\n",
              "8             New Donors     20\n",
              "9  High Value Potentials     19"
            ],
            "text/html": [
              "\n",
              "  <div id=\"df-d9e9da62-7ae8-427f-96cb-bc0cd6d67e78\" class=\"colab-df-container\">\n",
              "    <div>\n",
              "<style scoped>\n",
              "    .dataframe tbody tr th:only-of-type {\n",
              "        vertical-align: middle;\n",
              "    }\n",
              "\n",
              "    .dataframe tbody tr th {\n",
              "        vertical-align: top;\n",
              "    }\n",
              "\n",
              "    .dataframe thead th {\n",
              "        text-align: right;\n",
              "    }\n",
              "</style>\n",
              "<table border=\"1\" class=\"dataframe\">\n",
              "  <thead>\n",
              "    <tr style=\"text-align: right;\">\n",
              "      <th></th>\n",
              "      <th>Segment</th>\n",
              "      <th>Count</th>\n",
              "    </tr>\n",
              "  </thead>\n",
              "  <tbody>\n",
              "    <tr>\n",
              "      <th>0</th>\n",
              "      <td>Loyal Donors</td>\n",
              "      <td>1658</td>\n",
              "    </tr>\n",
              "    <tr>\n",
              "      <th>1</th>\n",
              "      <td>Lapsed but Valuable</td>\n",
              "      <td>988</td>\n",
              "    </tr>\n",
              "    <tr>\n",
              "      <th>2</th>\n",
              "      <td>At Risk</td>\n",
              "      <td>682</td>\n",
              "    </tr>\n",
              "    <tr>\n",
              "      <th>3</th>\n",
              "      <td>Low Frequency</td>\n",
              "      <td>493</td>\n",
              "    </tr>\n",
              "    <tr>\n",
              "      <th>4</th>\n",
              "      <td>Misc Donors</td>\n",
              "      <td>396</td>\n",
              "    </tr>\n",
              "    <tr>\n",
              "      <th>5</th>\n",
              "      <td>Lost or Inactive</td>\n",
              "      <td>375</td>\n",
              "    </tr>\n",
              "    <tr>\n",
              "      <th>6</th>\n",
              "      <td>Champions</td>\n",
              "      <td>138</td>\n",
              "    </tr>\n",
              "    <tr>\n",
              "      <th>7</th>\n",
              "      <td>Never Donated</td>\n",
              "      <td>122</td>\n",
              "    </tr>\n",
              "    <tr>\n",
              "      <th>8</th>\n",
              "      <td>New Donors</td>\n",
              "      <td>20</td>\n",
              "    </tr>\n",
              "    <tr>\n",
              "      <th>9</th>\n",
              "      <td>High Value Potentials</td>\n",
              "      <td>19</td>\n",
              "    </tr>\n",
              "  </tbody>\n",
              "</table>\n",
              "</div>\n",
              "    <div class=\"colab-df-buttons\">\n",
              "\n",
              "  <div class=\"colab-df-container\">\n",
              "    <button class=\"colab-df-convert\" onclick=\"convertToInteractive('df-d9e9da62-7ae8-427f-96cb-bc0cd6d67e78')\"\n",
              "            title=\"Convert this dataframe to an interactive table.\"\n",
              "            style=\"display:none;\">\n",
              "\n",
              "  <svg xmlns=\"http://www.w3.org/2000/svg\" height=\"24px\" viewBox=\"0 -960 960 960\">\n",
              "    <path d=\"M120-120v-720h720v720H120Zm60-500h600v-160H180v160Zm220 220h160v-160H400v160Zm0 220h160v-160H400v160ZM180-400h160v-160H180v160Zm440 0h160v-160H620v160ZM180-180h160v-160H180v160Zm440 0h160v-160H620v160Z\"/>\n",
              "  </svg>\n",
              "    </button>\n",
              "\n",
              "  <style>\n",
              "    .colab-df-container {\n",
              "      display:flex;\n",
              "      gap: 12px;\n",
              "    }\n",
              "\n",
              "    .colab-df-convert {\n",
              "      background-color: #E8F0FE;\n",
              "      border: none;\n",
              "      border-radius: 50%;\n",
              "      cursor: pointer;\n",
              "      display: none;\n",
              "      fill: #1967D2;\n",
              "      height: 32px;\n",
              "      padding: 0 0 0 0;\n",
              "      width: 32px;\n",
              "    }\n",
              "\n",
              "    .colab-df-convert:hover {\n",
              "      background-color: #E2EBFA;\n",
              "      box-shadow: 0px 1px 2px rgba(60, 64, 67, 0.3), 0px 1px 3px 1px rgba(60, 64, 67, 0.15);\n",
              "      fill: #174EA6;\n",
              "    }\n",
              "\n",
              "    .colab-df-buttons div {\n",
              "      margin-bottom: 4px;\n",
              "    }\n",
              "\n",
              "    [theme=dark] .colab-df-convert {\n",
              "      background-color: #3B4455;\n",
              "      fill: #D2E3FC;\n",
              "    }\n",
              "\n",
              "    [theme=dark] .colab-df-convert:hover {\n",
              "      background-color: #434B5C;\n",
              "      box-shadow: 0px 1px 3px 1px rgba(0, 0, 0, 0.15);\n",
              "      filter: drop-shadow(0px 1px 2px rgba(0, 0, 0, 0.3));\n",
              "      fill: #FFFFFF;\n",
              "    }\n",
              "  </style>\n",
              "\n",
              "    <script>\n",
              "      const buttonEl =\n",
              "        document.querySelector('#df-d9e9da62-7ae8-427f-96cb-bc0cd6d67e78 button.colab-df-convert');\n",
              "      buttonEl.style.display =\n",
              "        google.colab.kernel.accessAllowed ? 'block' : 'none';\n",
              "\n",
              "      async function convertToInteractive(key) {\n",
              "        const element = document.querySelector('#df-d9e9da62-7ae8-427f-96cb-bc0cd6d67e78');\n",
              "        const dataTable =\n",
              "          await google.colab.kernel.invokeFunction('convertToInteractive',\n",
              "                                                    [key], {});\n",
              "        if (!dataTable) return;\n",
              "\n",
              "        const docLinkHtml = 'Like what you see? Visit the ' +\n",
              "          '<a target=\"_blank\" href=https://colab.research.google.com/notebooks/data_table.ipynb>data table notebook</a>'\n",
              "          + ' to learn more about interactive tables.';\n",
              "        element.innerHTML = '';\n",
              "        dataTable['output_type'] = 'display_data';\n",
              "        await google.colab.output.renderOutput(dataTable, element);\n",
              "        const docLink = document.createElement('div');\n",
              "        docLink.innerHTML = docLinkHtml;\n",
              "        element.appendChild(docLink);\n",
              "      }\n",
              "    </script>\n",
              "  </div>\n",
              "\n",
              "\n",
              "    <div id=\"df-e06d091e-5d69-4fa9-8c06-e6434b0f1b63\">\n",
              "      <button class=\"colab-df-quickchart\" onclick=\"quickchart('df-e06d091e-5d69-4fa9-8c06-e6434b0f1b63')\"\n",
              "                title=\"Suggest charts\"\n",
              "                style=\"display:none;\">\n",
              "\n",
              "<svg xmlns=\"http://www.w3.org/2000/svg\" height=\"24px\"viewBox=\"0 0 24 24\"\n",
              "     width=\"24px\">\n",
              "    <g>\n",
              "        <path d=\"M19 3H5c-1.1 0-2 .9-2 2v14c0 1.1.9 2 2 2h14c1.1 0 2-.9 2-2V5c0-1.1-.9-2-2-2zM9 17H7v-7h2v7zm4 0h-2V7h2v10zm4 0h-2v-4h2v4z\"/>\n",
              "    </g>\n",
              "</svg>\n",
              "      </button>\n",
              "\n",
              "<style>\n",
              "  .colab-df-quickchart {\n",
              "      --bg-color: #E8F0FE;\n",
              "      --fill-color: #1967D2;\n",
              "      --hover-bg-color: #E2EBFA;\n",
              "      --hover-fill-color: #174EA6;\n",
              "      --disabled-fill-color: #AAA;\n",
              "      --disabled-bg-color: #DDD;\n",
              "  }\n",
              "\n",
              "  [theme=dark] .colab-df-quickchart {\n",
              "      --bg-color: #3B4455;\n",
              "      --fill-color: #D2E3FC;\n",
              "      --hover-bg-color: #434B5C;\n",
              "      --hover-fill-color: #FFFFFF;\n",
              "      --disabled-bg-color: #3B4455;\n",
              "      --disabled-fill-color: #666;\n",
              "  }\n",
              "\n",
              "  .colab-df-quickchart {\n",
              "    background-color: var(--bg-color);\n",
              "    border: none;\n",
              "    border-radius: 50%;\n",
              "    cursor: pointer;\n",
              "    display: none;\n",
              "    fill: var(--fill-color);\n",
              "    height: 32px;\n",
              "    padding: 0;\n",
              "    width: 32px;\n",
              "  }\n",
              "\n",
              "  .colab-df-quickchart:hover {\n",
              "    background-color: var(--hover-bg-color);\n",
              "    box-shadow: 0 1px 2px rgba(60, 64, 67, 0.3), 0 1px 3px 1px rgba(60, 64, 67, 0.15);\n",
              "    fill: var(--button-hover-fill-color);\n",
              "  }\n",
              "\n",
              "  .colab-df-quickchart-complete:disabled,\n",
              "  .colab-df-quickchart-complete:disabled:hover {\n",
              "    background-color: var(--disabled-bg-color);\n",
              "    fill: var(--disabled-fill-color);\n",
              "    box-shadow: none;\n",
              "  }\n",
              "\n",
              "  .colab-df-spinner {\n",
              "    border: 2px solid var(--fill-color);\n",
              "    border-color: transparent;\n",
              "    border-bottom-color: var(--fill-color);\n",
              "    animation:\n",
              "      spin 1s steps(1) infinite;\n",
              "  }\n",
              "\n",
              "  @keyframes spin {\n",
              "    0% {\n",
              "      border-color: transparent;\n",
              "      border-bottom-color: var(--fill-color);\n",
              "      border-left-color: var(--fill-color);\n",
              "    }\n",
              "    20% {\n",
              "      border-color: transparent;\n",
              "      border-left-color: var(--fill-color);\n",
              "      border-top-color: var(--fill-color);\n",
              "    }\n",
              "    30% {\n",
              "      border-color: transparent;\n",
              "      border-left-color: var(--fill-color);\n",
              "      border-top-color: var(--fill-color);\n",
              "      border-right-color: var(--fill-color);\n",
              "    }\n",
              "    40% {\n",
              "      border-color: transparent;\n",
              "      border-right-color: var(--fill-color);\n",
              "      border-top-color: var(--fill-color);\n",
              "    }\n",
              "    60% {\n",
              "      border-color: transparent;\n",
              "      border-right-color: var(--fill-color);\n",
              "    }\n",
              "    80% {\n",
              "      border-color: transparent;\n",
              "      border-right-color: var(--fill-color);\n",
              "      border-bottom-color: var(--fill-color);\n",
              "    }\n",
              "    90% {\n",
              "      border-color: transparent;\n",
              "      border-bottom-color: var(--fill-color);\n",
              "    }\n",
              "  }\n",
              "</style>\n",
              "\n",
              "      <script>\n",
              "        async function quickchart(key) {\n",
              "          const quickchartButtonEl =\n",
              "            document.querySelector('#' + key + ' button');\n",
              "          quickchartButtonEl.disabled = true;  // To prevent multiple clicks.\n",
              "          quickchartButtonEl.classList.add('colab-df-spinner');\n",
              "          try {\n",
              "            const charts = await google.colab.kernel.invokeFunction(\n",
              "                'suggestCharts', [key], {});\n",
              "          } catch (error) {\n",
              "            console.error('Error during call to suggestCharts:', error);\n",
              "          }\n",
              "          quickchartButtonEl.classList.remove('colab-df-spinner');\n",
              "          quickchartButtonEl.classList.add('colab-df-quickchart-complete');\n",
              "        }\n",
              "        (() => {\n",
              "          let quickchartButtonEl =\n",
              "            document.querySelector('#df-e06d091e-5d69-4fa9-8c06-e6434b0f1b63 button');\n",
              "          quickchartButtonEl.style.display =\n",
              "            google.colab.kernel.accessAllowed ? 'block' : 'none';\n",
              "        })();\n",
              "      </script>\n",
              "    </div>\n",
              "\n",
              "  <div id=\"id_88a6180e-5ef4-45d8-8fe3-602515d26e26\">\n",
              "    <style>\n",
              "      .colab-df-generate {\n",
              "        background-color: #E8F0FE;\n",
              "        border: none;\n",
              "        border-radius: 50%;\n",
              "        cursor: pointer;\n",
              "        display: none;\n",
              "        fill: #1967D2;\n",
              "        height: 32px;\n",
              "        padding: 0 0 0 0;\n",
              "        width: 32px;\n",
              "      }\n",
              "\n",
              "      .colab-df-generate:hover {\n",
              "        background-color: #E2EBFA;\n",
              "        box-shadow: 0px 1px 2px rgba(60, 64, 67, 0.3), 0px 1px 3px 1px rgba(60, 64, 67, 0.15);\n",
              "        fill: #174EA6;\n",
              "      }\n",
              "\n",
              "      [theme=dark] .colab-df-generate {\n",
              "        background-color: #3B4455;\n",
              "        fill: #D2E3FC;\n",
              "      }\n",
              "\n",
              "      [theme=dark] .colab-df-generate:hover {\n",
              "        background-color: #434B5C;\n",
              "        box-shadow: 0px 1px 3px 1px rgba(0, 0, 0, 0.15);\n",
              "        filter: drop-shadow(0px 1px 2px rgba(0, 0, 0, 0.3));\n",
              "        fill: #FFFFFF;\n",
              "      }\n",
              "    </style>\n",
              "    <button class=\"colab-df-generate\" onclick=\"generateWithVariable('segment_summary')\"\n",
              "            title=\"Generate code using this dataframe.\"\n",
              "            style=\"display:none;\">\n",
              "\n",
              "  <svg xmlns=\"http://www.w3.org/2000/svg\" height=\"24px\"viewBox=\"0 0 24 24\"\n",
              "       width=\"24px\">\n",
              "    <path d=\"M7,19H8.4L18.45,9,17,7.55,7,17.6ZM5,21V16.75L18.45,3.32a2,2,0,0,1,2.83,0l1.4,1.43a1.91,1.91,0,0,1,.58,1.4,1.91,1.91,0,0,1-.58,1.4L9.25,21ZM18.45,9,17,7.55Zm-12,3A5.31,5.31,0,0,0,4.9,8.1,5.31,5.31,0,0,0,1,6.5,5.31,5.31,0,0,0,4.9,4.9,5.31,5.31,0,0,0,6.5,1,5.31,5.31,0,0,0,8.1,4.9,5.31,5.31,0,0,0,12,6.5,5.46,5.46,0,0,0,6.5,12Z\"/>\n",
              "  </svg>\n",
              "    </button>\n",
              "    <script>\n",
              "      (() => {\n",
              "      const buttonEl =\n",
              "        document.querySelector('#id_88a6180e-5ef4-45d8-8fe3-602515d26e26 button.colab-df-generate');\n",
              "      buttonEl.style.display =\n",
              "        google.colab.kernel.accessAllowed ? 'block' : 'none';\n",
              "\n",
              "      buttonEl.onclick = () => {\n",
              "        google.colab.notebook.generateWithVariable('segment_summary');\n",
              "      }\n",
              "      })();\n",
              "    </script>\n",
              "  </div>\n",
              "\n",
              "    </div>\n",
              "  </div>\n"
            ],
            "application/vnd.google.colaboratory.intrinsic+json": {
              "type": "dataframe",
              "variable_name": "segment_summary",
              "summary": "{\n  \"name\": \"segment_summary\",\n  \"rows\": 10,\n  \"fields\": [\n    {\n      \"column\": \"Segment\",\n      \"properties\": {\n        \"dtype\": \"string\",\n        \"num_unique_values\": 10,\n        \"samples\": [\n          \"New Donors\",\n          \"Lapsed but Valuable\",\n          \"Lost or Inactive\"\n        ],\n        \"semantic_type\": \"\",\n        \"description\": \"\"\n      }\n    },\n    {\n      \"column\": \"Count\",\n      \"properties\": {\n        \"dtype\": \"number\",\n        \"std\": 513,\n        \"min\": 19,\n        \"max\": 1658,\n        \"num_unique_values\": 10,\n        \"samples\": [\n          20,\n          988,\n          375\n        ],\n        \"semantic_type\": \"\",\n        \"description\": \"\"\n      }\n    }\n  ]\n}"
            }
          },
          "metadata": {},
          "execution_count": 168
        }
      ]
    },
    {
      "cell_type": "code",
      "source": [
        "plt.figure(figsize=(12, 6))\n",
        "sns.barplot(x='Segment', y='Count', data=segment_summary, palette='viridis')\n",
        "plt.title('Distribution of Donor Segments', fontsize=14)\n",
        "plt.xlabel('Donor Segment', fontsize=12)\n",
        "plt.ylabel('Number of Donors', fontsize=12)\n",
        "plt.xticks(rotation=45, ha='right')\n",
        "plt.tight_layout()\n",
        "plt.show()"
      ],
      "metadata": {
        "colab": {
          "base_uri": "https://localhost:8080/",
          "height": 425
        },
        "id": "-UYQ0gG0OVTb",
        "outputId": "d0a107ed-f356-4f36-cbaf-02b1064089dc"
      },
      "id": "-UYQ0gG0OVTb",
      "execution_count": 169,
      "outputs": [
        {
          "output_type": "stream",
          "name": "stderr",
          "text": [
            "/tmp/ipython-input-4202684907.py:2: FutureWarning: \n",
            "\n",
            "Passing `palette` without assigning `hue` is deprecated and will be removed in v0.14.0. Assign the `x` variable to `hue` and set `legend=False` for the same effect.\n",
            "\n",
            "  sns.barplot(x='Segment', y='Count', data=segment_summary, palette='viridis')\n"
          ]
        },
        {
          "output_type": "display_data",
          "data": {
            "text/plain": [
              "<Figure size 1200x600 with 1 Axes>"
            ],
            "image/png": "iVBORw0KGgoAAAANSUhEUgAABKUAAAJOCAYAAABm7rQwAAAAOnRFWHRTb2Z0d2FyZQBNYXRwbG90bGliIHZlcnNpb24zLjEwLjAsIGh0dHBzOi8vbWF0cGxvdGxpYi5vcmcvlHJYcgAAAAlwSFlzAAAPYQAAD2EBqD+naQAA1EJJREFUeJzs3XmczeX///HnmRkz1pkxlhljT7KOJaRBRLJGpKQkSbRYirIVQsmSJBL6VKRSWlAk2UnGvsvSYtcMYmYsmfX1+8NvztdphsY0zhnjcb/d5nabc13XeZ/XOe85Z855nvd1vR1mZgIAAAAAAADcyMvTBQAAAAAAAODmQygFAAAAAAAAtyOUAgAAAAAAgNsRSgEAAAAAAMDtCKUAAAAAAADgdoRSAAAAAAAAcDtCKQAAAAAAALgdoRQAAAAAAADcjlAKAAAAAAAAbkcoBQBAFrdy5Uo5HA4NGzbMI7dfqlQplSpVyqVt2LBhcjgcWrlypUdqOnjwoBwOh5544gmP3H5mSEhI0LBhw1S2bFn5+fnJ4XBo3rx5ni4LAADAbQilAABwg5QQ5fKf3LlzKzQ0VPfcc4+GDh2q33///brc9t133y2Hw3Fdtn09pRWGZSdvvfWWhg8frtDQUL300kt69dVXVb58+atep1SpUi5/Q35+fipUqJDuuOMO9ejRQ2vWrHFT9Z51+PBhPffccypbtqxy5sypvHnzqnTp0mrZsqXGjBmj8+fPe7rELOuJJ56Qw+HQwYMHPV0KAADy8XQBAADcTMqUKaPHHntMkhQXF6cTJ05ow4YNeu211/TGG2+of//+GjlypEuIdMcdd2jPnj0qWLCgR2petmyZR273aooWLao9e/YoICDA06Vk2IIFC5Q3b14tWbJEvr6+6b6et7e3Bg8eLElKTEzUmTNntHPnTk2bNk3vvfeeWrVqpY8//lj58+e/XqV71Pbt23X33XcrOjpadevWVfPmzZU3b14dPnxYP/30kxYuXKh27drp1ltv9XSpAADgXxBKAQDgRrfeemua0/DWrFmjTp06adSoUfL29tZrr73m7MudO/e/HkFzPZUpU8Zjt30lOXLk8OhjkhmOHz+uAgUKXFMgJUk+Pj5p/g0dOnRIXbt21fz589W2bVstX75cXl7Z76D4vn37Kjo6WjNnzlSnTp1S9UdERHgswAUAANcm+71TAQDgBlSvXj0tWrRIfn5+Gjt2rI4cOeLsu9KaUr/++qu6dOmi0qVLy8/PT0FBQapatapeeOEFmZkkyeFwaNWqVc7fU35S1mK6fG2mPXv2qG3btipQoIDL9J5/m0b34YcfKiwsTDlz5lTRokXVp08fnT171mXM1dbF+uf6UCmXDx06pEOHDrnUnXL9q60plRLOFC1aVL6+vipWrJi6du2qw4cPpxqbMrUxZX2nUqVKyc/PT7fddpvee++9K97nK5k+fbpq166tvHnzKm/evKpdu7ZmzJjhMiZlPa4DBw643L//OlWxZMmSmj9/vipUqKBVq1bp66+/TjVm/vz5atiwoQICApQrVy5VrVpV48ePV2Jiosu4yx/f3377TW3btlX+/PmVJ08eNW7cWNu3b0+zhl27dql9+/YqXLiw/Pz8VLp0ab3wwgv666+/Uo1N+buKjo5Wz549Vbx4cfn4+KR6vP4pIiJCgYGBaQZSkhQeHq7AwMBU7Tt27FCHDh1UpEgR+fr6qmTJkurVq1eatUnStGnTVKlSJeXMmVPFixdX//79dfHiRTkcDt19990uY1P+juLi4vTyyy+rRIkSypUrl2rUqKGlS5dKkmJiYtSjRw+FhoYqZ86cCg8P14YNG9K87RMnTqhPnz669dZb5efnp4IFC6pdu3batWtXqrEpj+O5c+f0/PPPKzQ0VH5+fqpSpUqqv4FSpUrp448/liSVLl3a+bd3+f3ZsmWLHnzwQZUoUcI5PbRWrVoaOXJkmrUCAPBfcKQUAABZRLly5dS+fXt98sknmjdvnnr16nXFscePH9cdd9yh8+fPq2XLlnr44Yd1/vx5/frrr3rvvfc0btw4+fj46NVXX9WMGTN06NAhvfrqq87rV6tWzWV7v/32m+68806FhYXpiSee0F9//ZWuI3jGjx+vZcuW6eGHH1bLli21dOlSTZgwQevWrdPq1auVI0eOa34cAgMD9eqrr2rChAmSpBdeeMHZ988w4J/279+vevXq6eTJk2rVqpUqVaqkXbt26aOPPtL8+fO1Zs0a3Xbbbamu98gjj2jDhg1q3ry5vL299eWXX6pHjx7KkSOHunXrlq66e/furUmTJqlo0aLq2rWrJOmbb75Rly5dtHXrVr3zzjsu9+Gf9y+tIOVa5cqVSy+99JK6du2q2bNnq3379s6+8ePH68UXX1RQUJAeffRR5cmTR999951efPFF/fTTT5ozZ06qtccOHjyoO++8U5UqVdKTTz6p33//Xd9++60aNmyoPXv2KDg42Dl2zZo1atq0qeLj4/Xggw+qVKlSioiI0DvvvKMFCxZo3bp1qY5giouLU6NGjXTu3Dm1bt1aPj4+LttMS4ECBRQZGanjx48rNDQ0XY/Ld999p/bt28vLy0v333+/ihcvrl9++UXvvvuufvzxR61fv95luuPQoUP12muvKTg4WN26dVOOHDn05Zdfau/evVe9nYcfflg7d+5U69at9ffff+uzzz7Tfffdp59//lndu3dXfHy8HnroIZ08eVKzZ89Ws2bNdODAAZdpqL///rvuvvtuHT16VE2aNFGbNm104sQJffPNN/rxxx+1bNky1a5d2+V2ExIS1KRJE505c0bt2rXThQsX9MUXX6h9+/ZatGiRmjRpIunS39qMGTO0fft2Pf/8886/uZRAdNu2bapTp468vb11//33q2TJkoqOjtYvv/yi999/X6+88kq6Hm8AANLNAADAdXfgwAGTZE2bNr3quA8//NAkWadOnZxtK1asMEn26quvOtsmTpxokmzChAmptvHXX3+5XG7QoIFd6V9+Sl2SbOjQoWmOKVmypJUsWdKl7dVXXzVJ5uvra9u3b3e2Jycn26OPPmqSbNy4cVe9D/+soXPnzv96u/92nYYNG5okmzZtmkv75MmTTZI1atTIpT3lsaldu7bFxMQ42/fu3Ws+Pj5Wrly5NG//n1atWmWSrEKFChYdHe1sP336tN12220myVavXp3u+3clJUuWND8/v6uO+f33302SFS9e3Nn222+/mY+PjxUuXNgOHz7sbL948aLVq1fPJNnMmTOd7Zf/XYwePdpl+4MHDzZJNmrUKGdbUlKSlSlTxiTZokWLXMb369fPJNmTTz6Z6r6kPCcuXLiQ7segb9++JslKly5tY8aMsbVr19r58+evOP7UqVPm7+9vRYsWtYMHD7r0ff755ybJevbs6Wzbt2+feXt7W9GiRS0qKsrZHhsbaxUrVjRJ1qBBA5ftpPwd1atXz86dO+dsnz17tkmywMBAe+ihhywhIcHZN2bMGJNkb731lsu26tSpY97e3qkex3379lm+fPksLCzMpT3lcbz//vstLi7O2b506dI0X3M6d+5skuzAgQOpHquUx3bevHmp+k6dOpWqDQCA/4rpewAAZCEpR36cOnUqXeNz5cqVqi0oKOiabzckJCRDR0E8/vjjqlKlivOyw+HQG2+8IW9v73+dhpXZDh8+rBUrVqhixYqpjm565plnVL58eS1fvtxlamSKUaNGyd/f33m5XLlyqlu3rvbt25dqKmJaUqZEDRs2zOWol/z58zuPUHPX45HW39CsWbOUmJioF198UcWLF3e2+/n5acyYMVesr3Tp0urXr59LW8pRYBs3bnS2/fzzz/r999/VvHlzNW3a1GX80KFDFRQUpFmzZik+Pj7VbYwdOzbNv+MrGTlypJ544gkdOnRIAwYMUJ06deTv768aNWro9ddfV3R0tMv4mTNnKjY2VqNGjVLJkiVd+jp06KDbb79dX3zxhbPt888/V1JSkl588UUVLlzY2Z4vXz7nAvNXqy1PnjzOyw8++KBy5Mih6Oho59GLKR555BFJcpkKuXXrVq1du1adO3dO9Tjedttt6tatm3bu3JnmNL63337b5ejGe+65RyVLlnTZT+mV1v4oUKDANW8HAIB/w/Q9AABuQK1atdKgQYPUo0cPLVu2TM2aNVODBg10yy23ZGh7VatWveYFtyXprrvuStVWsmRJFS9eXLt371Z8fHyGtpsR27ZtkyQ1aNAg1TQ0Ly8v1a9fX3v37tW2bdtcghlJqlGjRqrtFStWTJIUHR2tfPnyXfW2t27dKint6YUNGzZ0qc8TrlZfeHi4cubMmWZ91apVS7VY+uWPS3q2nzdvXtWsWVOLFy/Wvn37FBYW5uzLmTOny+X0yJkzp6ZPn67XXntNCxcu1IYNG7RhwwZt2bJFW7Zs0bRp07Rq1Srnc2HdunWSpPXr1+v3339Ptb2LFy/q1KlTOnXqlAoWLOgMierVq5dqbN26da9a2z+nxXp5ealw4cK6cOGCSpQo4dJXpEgRSZem4qZIqTUqKirN9ddSpg/u3btXlStXdrYHBgaqdOnSqcYXK1ZMERERV635cu3bt9eECRPUtm1bPfzww7r33ntVv359FS1aNN3bAADgWhBKAQCQhaR8QC1UqNBVx5UqVUrr1q3TsGHDtHDhQn355ZeSpPLly2vEiBF66KGHrul2/20dn2u9XnBwsA4ePKizZ8+67QiL2NjYq9aUEgKkjLvc5UdJpUg5qiUpKSldt+3l5ZXmfgsODpbD4Ujzdq+HtP6GrvbYOBwOBQcH69ixY6n60vu4ZPSxL1y4cKoAMb2KFSum7t27q3v37pIurcX05JNPavXq1erTp4++/fZbSdLp06clSZMnT77q9s6fP6+CBQs6a7z8KKkU//Y8udLjdbXHMSEhwdmWUuv333+v77///qq1Xu7yo/P+eRvJyclXrflytWvX1sqVK/XGG29o1qxZmj59uiSpVq1aGjNmjDNgBQAgszB9DwCALGTlypWSLn0I/DeVK1fW119/rdOnTysiIkJDhw5VZGSkHn74Yf3888/XdLsZDQaioqKu2O5wOJxHGKUcbfPPs7xJl85KlhlSPvhfqabIyEiXcZnJ399fycnJOnnyZKq+EydOyMyuy+2mJa2/oas9NmamqKio/1RfRh/7jP7dpaVMmTLOKYjLly9PVdvOnTtlZlf8SZnalzL+xIkTqW7jSvcvs6Tc9qRJk65aa+fOna9bDXfddZd++OEHnTlzRitWrFDfvn21c+dOtWzZUn/88cd1u10AwM2JUAoAgCxi//79+vLLL+Xn56e2bdum+3o5cuTQnXfeqeHDh2vixIkyMy1YsMDZ7+3tLSl9R/xcq59++ilV26FDh3TkyBFVqlTJOXUv5cxmaR2NkzL165+8vb2vqeaUqVOrV6+Wmbn0mZlWr17tMi4zVa9eXdL/BUKXS2m7Hrf7T3///bfeeustSf+3ZpF09frWr1+vixcv/qf6rrb98+fPa9OmTcqVK5fKlSuX4dtIj7x586ZqSzlTXXqnsVWtWlWS0gx2165d+x+q+3fXWmtGpPf1IFeuXLr77rv11ltv6eWXX9bff/+tJUuWXLe6AAA3J0IpAACygJ9//llNmzZVXFycBg4c+K9ruGzevDnN6WApR3LkzJnT2Zay8HlaC3z/VzNnztSOHTucl81ML7/8spKSkvTEE08428uVK6d8+fLpu+++c05RSqn39ddfT3PbQUFBOnXqlC5evJiuWkqUKKGGDRtq9+7d+uijj1z63n//fe3Zs0eNGjVKtZ5UZkg5cmX48OEu+yUmJkbDhw93GXO9HD58WK1atdIvv/yihg0b6oEHHnD2Pfroo/Lx8dH48eNd1jCKj4/XgAEDJMllf12runXrqkyZMvrhhx+0dOlSl77XX39df/31lx555JFMWV9sxIgRaf4tm5lGjx4tyXU9qC5duihfvnx65ZVXtHv37lTXu3DhgnMtJ+nS4udeXl566623XBaLP3/+vEaOHPmf67+aO+64Q7Vr19bnn3+u2bNnp+pPTk7WqlWr/tNtXO31ICIiIs3nW1qvKwAAZAbWlAIAwI1+++035wLG8fHxOnHihDZs2KCdO3fK29tbgwcPdp6t7Wo++eQTTZs2TfXr11eZMmXk7++vX375RQsXLlRQUJC6dOniHNuoUSN9/fXXateunZo3b66cOXOqatWqatWq1X++P02bNlV4eLg6dOigQoUKadmyZdq0aZPuvPNO9erVyznO19dXvXr10htvvKHbb79d999/v86ePav58+erQYMGaS5A3ahRI23atEnNmzfXXXfdJV9fX9WvX1/169e/Yj1TpkxRvXr11K1bN82fP18VK1bU7t279d1336lQoUKaMmXKf77Paalfv7569eqlSZMmqXLlymrXrp3MTN98842OHj2q3r17X7Xua5GYmOj8G0pKSlJ0dLR27Nihn3/+WUlJSbr//vs1Y8YMl6lxZcqU0ZgxY/Tiiy+qSpUqat++vfLkyaP58+dr3759uv/++/XYY49luCYvLy/NmDFDTZs2VYsWLfTQQw+pZMmSioiI0MqVK1WmTBlnYPRfjR8/XsOGDVPNmjVVo0YNBQUF6a+//tKKFSu0f/9+FShQwHm0mHRpba3PP/9cDz30kKpWrapmzZqpfPnyiouL08GDB7Vq1SrVqVNHixYtknQpQB04cKDeeOMNhYWFqX379vLx8dGcOXMUFhamXbt2pVr8PTN9/vnnatiwoTp06KAJEybo9ttvV65cuXT48GFFRETo5MmT6Q5q09KoUSONGzdO3bt3V7t27ZQnTx6VLFlSnTp10pgxY7RixQrVr19fpUuXVs6cObVlyxYtW7ZMt9xyyzUdwQkAQLoYAAC47g4cOGCSXH5y5cplRYoUsYYNG9qQIUPst99+S/O6K1asMEn26quvOtvWrVtnTz/9tFWuXNkCAwMtV65cVrZsWevZs6cdOnTI5foJCQnWv39/K1GihPn4+Jgk69y5s0tdKZfTUrJkSStZsqRL26uvvmqSbMWKFfa///3PKlWqZH5+flakSBF7/vnnLTY2NtV2kpKSbNiwYVa8eHHz9fW12267zd555x37448/0qzh7Nmz1q1bNytSpIh5e3u7PAZXq/vgwYPWpUsXK1KkiPn4+FiRIkWsS5cudvDgwVRjGzRoYFd6O9S5c2eTZAcOHLjiY/NPH330kdWqVcty585tuXPntlq1atlHH32U5ti0Htd/U7JkSZe/IV9fXytYsKDVqlXLnnvuOVuzZs1Vr//tt99agwYNLF++fObn52dhYWH21ltvWUJCgsu4f/u7kGQNGjRI1b5jxw578MEHrWDBgpYjRw4rWbKkPf/883by5Mk078u13n8zs9WrV9vAgQMtPDzcQkNDLUeOHJY3b16rUqWKvfTSS3b8+PE0r7d3717r2rWrlSxZ0nx9fS1//vwWFhZmvXv3tg0bNqQa/95771mFChXM19fXihUrZi+99JIdOXLEJNn999/vMvZqf0dXu59XehxPnz5tgwcPtsqVK1uuXLksb968VrZsWXv00Udtzpw56d7+leoaO3aslS1b1nLkyOFSw6JFi+zxxx+3cuXKWb58+Sxv3rxWsWJFe/nll9PchwAA/FcOs38sugAAAAAglaVLl+ree+9V//79NWbMGE+XAwDADY81pQAAAIDLnDx5MtVC4NHR0Ro0aJAkqU2bNh6oCgCA7Ic1pQAAAIDLfPbZZxo3bpwaNWqk0NBQ/fnnn1q0aJFOnDihJ554QuHh4Z4uEQCAbIFQCgAAALhMnTp1VKNGDS1dulSnT5+Wt7e3KlSooCFDhui5557zdHkAAGQbrCkFAAAAAAAAt2NNKQAAAAAAALgdoRQAAAAAAADcjjWlMig5OVnHjx9Xvnz55HA4PF0OAAAAAABAlmBmOnv2rEJDQ+XldeXjoQilMuj48eMqXry4p8sAAAAAAADIko4cOaJixYpdsZ9QKoPy5csn6dID7O/v7+FqAAAAAAAAsobY2FgVL17cmZ1cCaFUBqVM2fP39yeUAgAAAAAA+Id/W+6Ihc4BAAAAAADgdoRSAAAAAAAAcDtCKQAAAAAAALgdoRQAAAAAAADcjlAKAAAAAAAAbkcoBQAAAAAAALcjlAIAAAAAAIDbEUoBAAAAAADA7QilAAAAAAAA4HaEUgAAAAAAAHA7QikAAAAAAAC4HaEUAAAAAAAA3I5QCgAAAAAAAG5HKAUAAAAAAAC3I5QCAAAAAACA2xFKAQAAAAAAwO18PF3AzaJF2LOeLiFbW7hziqdLAAAAAAAA14AjpQAAAAAAAOB2hFIAAAAAAABwO0IpAAAAAAAAuB2hFAAAAAAAANyOUAoAAAAAAABuRygFAAAAAAAAtyOUAgAAAAAAgNsRSgEAAAAAAMDtslQotXr1arVq1UqhoaFyOByaN29eqjF79uxR69atFRAQoDx58qhWrVo6fPiws//ixYvq0aOHChQooLx586pdu3aKiopy2cbhw4fVsmVL5c6dW4ULF1a/fv2UmJh4ve8eAAAAAAAA/r8sFUqdP39eVatW1eTJk9Ps//3331WvXj2VL19eK1eu1I4dOzRkyBDlzJnTOaZPnz6aP3++vvrqK61atUrHjx/XAw884OxPSkpSy5YtFR8fr7Vr1+rjjz/WjBkzNHTo0Ot+/wAAAAAAAHCJw8zM00WkxeFwaO7cuWrTpo2zrUOHDsqRI4c++eSTNK8TExOjQoUKadasWXrwwQclSXv37lWFChUUERGhO++8Uz/88IPuu+8+HT9+XMHBwZKkqVOnasCAATp58qR8fX3TVV9sbKwCAgIUExMjf3//fx3fIuzZdG0XGbNw5xRPlwAAAAAAAJT+zCRLHSl1NcnJyfr+++912223qWnTpipcuLBq167tMsVv8+bNSkhIUOPGjZ1t5cuXV4kSJRQRESFJioiIUFhYmDOQkqSmTZsqNjZWu3fvdtv9AQAAAAAAuJndMKHUiRMndO7cOY0ePVrNmjXT4sWL1bZtWz3wwANatWqVJCkyMlK+vr4KDAx0uW5wcLAiIyOdYy4PpFL6U/quJC4uTrGxsS4/AAAAAAAAyBgfTxeQXsnJyZKk+++/X3369JEkVatWTWvXrtXUqVPVoEGD63r7o0aN0vDhw6/rbQAAAAAAANwsbpgjpQoWLCgfHx9VrFjRpb1ChQrOs++FhIQoPj5e0dHRLmOioqIUEhLiHPPPs/GlXE4Zk5ZBgwYpJibG+XPkyJH/epcAAAAAAABuWjdMKOXr66tatWpp3759Lu379+9XyZIlJUk1atRQjhw5tGzZMmf/vn37dPjwYYWHh0uSwsPDtXPnTp04ccI5ZsmSJfL3908VeF3Oz89P/v7+Lj8AAAAAAADImCw1fe/cuXP67bffnJcPHDigbdu2KSgoSCVKlFC/fv308MMPq379+mrYsKEWLVqk+fPna+XKlZKkgIAAde3aVX379lVQUJD8/f3Vq1cvhYeH684775QkNWnSRBUrVlSnTp00duxYRUZGavDgwerRo4f8/Pw8cbcBAAAAAABuOlkqlNq0aZMaNmzovNy3b19JUufOnTVjxgy1bdtWU6dO1ahRo9S7d2+VK1dO33zzjerVq+e8zttvvy0vLy+1a9dOcXFxatq0qd577z1nv7e3txYsWKBnn31W4eHhypMnjzp37qwRI0a4744CAAAAAADc5BxmZp4u4kYUGxurgIAAxcTEpGsqX4uwZ91Q1c1r4c4pni4BAAAAAAAo/ZnJDbOmFAAAAAAAALIPQikAAAAAAAC4HaEUAAAAAAAA3I5QCgAAAAAAAG5HKAUAAAAAAAC3I5QCAAAAAACA2xFKAQAAAAAAwO0IpQAAAAAAAOB2hFIAAAAAAABwO0IpAAAAAAAAuB2hFAAAAAAAANyOUAoAAAAAAABuRygFAAAAAAAAtyOUAgAAAAAAgNsRSgEAAAAAAMDtCKUAAAAAAADgdoRSAAAAAAAAcDtCKQAAAAAAALgdoRQAAAAAAADcjlAKAAAAAAAAbkcoBQAAAAAAALcjlAIAAAAAAIDbEUoBAAAAAADA7QilAAAAAAAA4HaEUgAAAAAAAHA7QikAAAAAAAC4HaEUAAAAAAAA3I5QCgAAAAAAAG5HKAUAAAAAAAC3I5QCAAAAAACA2xFKAQAAAAAAwO0IpQAAAAAAAOB2hFIAAAAAAABwO0IpAAAAAAAAuB2hFAAAAAAAANwuS4VSq1evVqtWrRQaGiqHw6F58+Zdcewzzzwjh8OhCRMmuLSfPn1aHTt2lL+/vwIDA9W1a1edO3fOZcyOHTt01113KWfOnCpevLjGjh17He4NAAAAAAAAriRLhVLnz59X1apVNXny5KuOmzt3rtatW6fQ0NBUfR07dtTu3bu1ZMkSLViwQKtXr1b37t2d/bGxsWrSpIlKliypzZs3680339SwYcP0/vvvZ/r9AQAAAAAAQNp8PF3A5Zo3b67mzZtfdcyxY8fUq1cv/fjjj2rZsqVL3549e7Ro0SJt3LhRNWvWlCRNmjRJLVq00Lhx4xQaGqrPPvtM8fHx+uijj+Tr66tKlSpp27ZtGj9+vEt4BQAAAAAAgOsnSx0p9W+Sk5PVqVMn9evXT5UqVUrVHxERocDAQGcgJUmNGzeWl5eX1q9f7xxTv359+fr6Osc0bdpU+/bt05kzZ67/nQAAAAAAAEDWOlLq34wZM0Y+Pj7q3bt3mv2RkZEqXLiwS5uPj4+CgoIUGRnpHFO6dGmXMcHBwc6+/Pnzp7ntuLg4xcXFOS/HxsZm+H4AAAAAAADc7G6YI6U2b96sd955RzNmzJDD4XD77Y8aNUoBAQHOn+LFi7u9BgAAAAAAgOzihgmlfvrpJ504cUIlSpSQj4+PfHx8dOjQIb344osqVaqUJCkkJEQnTpxwuV5iYqJOnz6tkJAQ55ioqCiXMSmXU8akZdCgQYqJiXH+HDlyJBPvHQAAAAAAwM3lhpm+16lTJzVu3NilrWnTpurUqZO6dOkiSQoPD1d0dLQ2b96sGjVqSJKWL1+u5ORk1a5d2znmlVdeUUJCgnLkyCFJWrJkicqVK3fFqXuS5OfnJz8/v+tx1wAAAAAAAG46WSqUOnfunH777Tfn5QMHDmjbtm0KCgpSiRIlVKBAAZfxOXLkUEhIiMqVKydJqlChgpo1a6Zu3bpp6tSpSkhIUM+ePdWhQweFhoZKkh599FENHz5cXbt21YABA7Rr1y698847evvtt913RwEAAAAAAG5yWSqU2rRpkxo2bOi83LdvX0lS586dNWPGjHRt47PPPlPPnj11zz33yMvLS+3atdPEiROd/QEBAVq8eLF69OihGjVqqGDBgho6dKi6d++eqfcFAAAAAAAAV+YwM/N0ETei2NhYBQQEKCYmRv7+/v86vkXYs26o6ua1cOcUT5cAAAAAAACU/szkhlnoHAAAAAAAANkHoRQAAAAAAADcjlAKAAAAAAAAbkcoBQAAAAAAALcjlAIAAAAAAIDbEUoBAAAAAADA7QilAAAAAAAA4HaEUgAAAAAAAHA7QikAAAAAAAC4HaEUAAAAAAAA3I5QCgAAAAAAAG5HKAUAAAAAAAC3I5QCAAAAAACA2xFKAQAAAAAAwO0IpQAAAAAAAOB2hFIAAAAAAABwO0IpAAAAAAAAuB2hFAAAAAAAANyOUAoAAAAAAABuRygFAAAAAAAAtyOUAgAAAAAAgNsRSgEAAAAAAMDtCKUAAAAAAADgdoRSAAAAAAAAcDtCKQAAAAAAALgdoRQAAAAAAADcjlAKAAAAAAAAbkcoBQAAAAAAALcjlAIAAAAAAIDbEUoBAAAAAADA7QilAAAAAAAA4HaEUgAAAAAAAHA7QikAAAAAAAC4HaEUAAAAAAAA3I5QCgAAAAAAAG6XpUKp1atXq1WrVgoNDZXD4dC8efOcfQkJCRowYIDCwsKUJ08ehYaG6vHHH9fx48ddtnH69Gl17NhR/v7+CgwMVNeuXXXu3DmXMTt27NBdd92lnDlzqnjx4ho7dqw77h4AAAAAAAD+vywVSp0/f15Vq1bV5MmTU/VduHBBW7Zs0ZAhQ7RlyxbNmTNH+/btU+vWrV3GdezYUbt379aSJUu0YMECrV69Wt27d3f2x8bGqkmTJipZsqQ2b96sN998U8OGDdP7779/3e8fAAAAAAAALnGYmXm6iLQ4HA7NnTtXbdq0ueKYjRs36o477tChQ4dUokQJ7dmzRxUrVtTGjRtVs2ZNSdKiRYvUokULHT16VKGhoZoyZYpeeeUVRUZGytfXV5I0cOBAzZs3T3v37k13fbGxsQoICFBMTIz8/f3/dXyLsGfTvW1cu4U7p3i6BAAAAAAAoPRnJlnqSKlrFRMTI4fDocDAQElSRESEAgMDnYGUJDVu3FheXl5av369c0z9+vWdgZQkNW3aVPv27dOZM2eueFtxcXGKjY11+QEAAAAAAEDG3LCh1MWLFzVgwAA98sgjztQtMjJShQsXdhnn4+OjoKAgRUZGOscEBwe7jEm5nDImLaNGjVJAQIDzp3jx4pl5dwAAAAAAAG4qGQqlDh8+rDVr1ri0bd++XY8//rgefvhhlwXKr4eEhAS1b99eZqYpU9wzbWvQoEGKiYlx/hw5csQttwsAAAAAAJAd+WTkSr1799a5c+e0dOlSSVJUVJQaNmyo+Ph45cuXT19//bW++uorPfDAA5larPR/gdShQ4e0fPlyl7mJISEhOnHihMv4xMREnT59WiEhIc4xUVFRLmNSLqeMSYufn5/8/Pwy624AAAAAAADc1DJ0pNSGDRt07733Oi/PnDlTf//9t7Zv365jx47pnnvu0bhx4zKtyBQpgdSvv/6qpUuXqkCBAi794eHhio6O1ubNm51ty5cvV3JysmrXru0cs3r1aiUkJDjHLFmyROXKlVP+/PkzvWYAAAAAAACklqFQ6vTp0y5rNy1YsEANGjRQmTJl5OXlpQceeOCazmSX4ty5c9q2bZu2bdsmSTpw4IC2bdumw4cPKyEhQQ8++KA2bdqkzz77TElJSYqMjFRkZKTi4+MlSRUqVFCzZs3UrVs3bdiwQT///LN69uypDh06KDQ0VJL06KOPytfXV127dtXu3bs1e/ZsvfPOO+rbt29GHgoAAAAAAABkQIZCqUKFCunQoUOSpOjoaK1bt05NmzZ19icmJioxMfGat7tp0yZVr15d1atXlyT17dtX1atX19ChQ3Xs2DF99913Onr0qKpVq6YiRYo4f9auXevcxmeffaby5cvrnnvuUYsWLVSvXj29//77zv6AgAAtXrxYBw4cUI0aNfTiiy9q6NCh6t69e0YeCgAAAAAAAGRAhtaUaty4sSZOnCh/f3+tXLlSycnJatOmjbP/l19+ydDZ6e6++26Z2RX7r9aXIigoSLNmzbrqmCpVquinn3665voAAAAAAACQOTIUSo0ePVr79+/XSy+9JF9fX40bN06lS5eWJMXFxenLL7/Uo48+mqmFAgAAAAAAIPvIUCgVHBysn3/+WTExMcqVK5d8fX2dfcnJyVq2bFmGjpQCAAAAAADAzeGa15S6cOGCatSooalTpyogIMAlkJKkXLlyqWrVqgoKCsq0IgEAAAAAAJC9XHMolTt3bh04cEAOh+N61AMAAAAAAICbQIbOvtesWTP9+OOPmV0LAAAAAAAAbhIZCqWGDBmi/fv3q1OnTlqzZo2OHTum06dPp/oBAAAAAAAA0pKhhc4rVaokSfrll180a9asK45LSkrKWFUAAAAAAADI1jIUSg0dOpQ1pQAAAAAAAJBhGQqlhg0blsllAAAAAAAA4GaSoTWl/unvv//W33//nRmbAgAAAAAAwE0gw6HU4cOH1aVLFwUHBytv3rzKmzevgoOD9eSTT+rQoUOZWSMAAAAAAACymQxN39u7d6/q1aun6Oho3XvvvapQoYKzfebMmZo/f77WrFmjcuXKZWqxAAAAAAAAyB4yFEoNHDhQXl5e2rp1q8LCwlz6du3apXvuuUcDBw7U3LlzM6VIAAAAAAAAZC8Zmr63atUq9e7dO1UgJUmVK1dWz549tXLlyv9aGwAAAAAAALKpDIVSCQkJypUr1xX7c+fOrYSEhAwXBQAAAAAAgOwtQ6FU9erV9cEHHygmJiZVX2xsrD788EPdfvvt/7k4AAAAAAAAZE8ZWlNq+PDhatasmcqXL68uXbrotttukyTt27dPH3/8sf766y9Nnjw5UwsFAAAAAABA9pGhUKpRo0ZauHCh+vXrp9GjR7v0VatWTZ988okaNmyYKQUCAAAAAAAg+8lQKCVJjRs31tatWxUZGalDhw5JkkqWLKmQkJBMKw4AAAAAAADZU4ZDqRQhISEEUQAAAAAAALgmGQ6lkpKS9OOPP+qPP/7QmTNnZGYu/Q6HQ0OGDPnPBQIAAAAAACD7yVAotWnTJrVr105Hjx5NFUalIJQCAAAAAADAlXhl5ErPPfec/v77b82bN0+nT59WcnJyqp+kpKTMrhUAAAAAAADZRIaOlNqxY4dGjhypVq1aZXY9AAAAAAAAuAlk6EipYsWKXXHaHgAAAAAAAPBvMhRKDRgwQP/73/8UGxub2fUAAAAAAADgJpCh6Xtnz55V3rx5deutt6pDhw4qXry4vL29XcY4HA716dMnU4oEAAAAAABA9uKwDMzD8/L69wOsHA5Htl7sPDY2VgEBAYqJiZG/v/+/jm8R9qwbqrp5Ldw5xdMlAAAAAAAApT8zydCRUgcOHMhwYQAAAAAAAECGQqmSJUtmdh0AAAAAAAC4iWQolEpx/vx5rVq1SocOHZJ0Kaxq0KCB8uTJkynFAQAAAAAAIHvKcCg1adIkDR48WOfOndPly1Lly5dPI0eOVM+ePTOlQAAAAAAAAGQ//75ieRpmzpyp559/XpUrV9asWbO0bds2bdu2TZ9//rnCwsL0/PPP65NPPsnsWgEAAAAAAJBNZOjse9WqVVNgYKCWLVsmb29vl76kpCTdc889io6O1rZt2zKrziyHs+9lLZx9DwAAAACArCG9mUmGjpTat2+fHnrooVSBlCR5e3vroYce0r59+zKyaQAAAAAAANwEMhRKBQQE6ODBg1fsP3jwYLqOHvqn1atXq1WrVgoNDZXD4dC8efNc+s1MQ4cOVZEiRZQrVy41btxYv/76q8uY06dPq2PHjvL391dgYKC6du2qc+fOuYzZsWOH7rrrLuXMmVPFixfX2LFjr7lWAAAAAAAAZFyGQqmWLVtq0qRJ+uKLL1L1zZ49W++++65atWp1zds9f/68qlatqsmTJ6fZP3bsWE2cOFFTp07V+vXrlSdPHjVt2lQXL150junYsaN2796tJUuWaMGCBVq9erW6d+/u7I+NjVWTJk1UsmRJbd68WW+++aaGDRum999//5rrBQAAAAAAQMZkaE2pkydPqkGDBtq3b59CQkJUtmxZSdKvv/6qyMhIlS9fXqtWrVLBggUzXpjDoblz56pNmzaSLh0lFRoaqhdffFEvvfSSJCkmJkbBwcGaMWOGOnTooD179qhixYrauHGjatasKUlatGiRWrRooaNHjyo0NFRTpkzRK6+8osjISPn6+kqSBg4cqHnz5mnv3r3pro81pbIW1pQCAAAAACBruK5rShUqVEhbtmzR+PHjFRYWpqioKEVFRSksLExvv/22Nm/e/J8CqbQcOHBAkZGRaty4sbMtICBAtWvXVkREhCQpIiJCgYGBzkBKkho3biwvLy+tX7/eOaZ+/frOQEqSmjZtqn379unMmTNXvP24uDjFxsa6/AAAAAAAACBjfDJ6xZw5c+r555/X888/n5n1XFFkZKQkKTg42KU9ODjY2RcZGanChQu79Pv4+CgoKMhlTOnSpVNtI6Uvf/78ad7+qFGjNHz48P9+RwAAAAAAAJCxI6Uk6dy5c9q1a5ciIiK0a9cunT9/PjPrynIGDRqkmJgY58+RI0c8XRIAAAAAAMAN65pDqUWLFumuu+5S/vz5VbVqVdWrV09Vq1ZV/vz5dffdd2vJkiXXo06FhIRIkqKiolzao6KinH0hISE6ceKES39iYqJOnz7tMiatbVx+G2nx8/OTv7+/yw8AAAAAAAAy5pqm77399tt66aWX5O3trbvvvluVK1dW3rx5de7cOe3cuVOrV69W8+bN9fbbb6tXr16ZWmjp0qUVEhKiZcuWqVq1apIuLZy1fv16PfvspUXEw8PDFR0drc2bN6tGjRqSpOXLlys5OVm1a9d2jnnllVeUkJCgHDlySJKWLFmicuXKXXHqHm5eLZsN8XQJ2dr3i17zdAkAAAAAAA9Jdyi1Z88eDRgwQHfeeae++OILFS9ePNWYw4cP65FHHtFLL72ke++9V+XLl7+mYs6dO6fffvvNefnAgQPatm2bgoKCVKJECb3wwgt6/fXXVbZsWZUuXVpDhgxRaGio8wx9FSpUULNmzdStWzdNnTpVCQkJ6tmzpzp06KDQ0FBJ0qOPPqrhw4era9euGjBggHbt2qV33nlHb7/99jXVCgAAAAAAgIxL9/S9adOmKW/evFqwYEGagZQklShRQvPnz1eePHn0v//975qL2bRpk6pXr67q1atLkvr27avq1atr6NChkqT+/furV69e6t69u2rVqqVz585p0aJFypkzp3Mbn332mcqXL6977rlHLVq0UL169fT+++87+wMCArR48WIdOHBANWrU0IsvvqihQ4eqe/fu11wvAAAAAAAAMsZhZpaegTVr1lSNGjU0bdq0fx379NNPa/Pmzdq0adN/LjCrio2NVUBAgGJiYtK1vlSLsGfdUNXNa+HOKddlu0zfu76YvgcAAAAA2U96M5N0Hyl14MABVa1aNV1jq1atqgMHDqR30wAAAAAAALjJpDuUSkm50sPf31+xsbEZLgoAAAAAAADZW7pDqaSkJDkcjnSNdTgcSk5OznBRAAAAAAAAyN7SffY9SZo5c6bWrVv3r+P279+f4YIAAAAAAACQ/V1TKLV48WItXrw4XWPTe1QVAAAAAAAAbj7pDqWYjgcAAAAAAIDMku41pQAAAAAAAIDMQigFAAAAAAAAtyOUAgAAAAAAgNsRSgEAAAAAAMDtCKUAAAAAAADgdukKpSZOnKj9+/df71oAAAAAAABwk0hXKNWnTx9t2rTJednb21uzZs26bkUBAAAAAAAge0tXKJU/f35FRUU5L5vZdSsIAAAAAAAA2Z9PegbdfffdGjZsmLZt26aAgABJ0syZM7Vu3borXsfhcOidd97JnCoBAAAAAACQraQrlHrvvff0wgsvaPHixTpx4oQcDocWL16sxYsXX/E6hFIAAAAAAAC4knRN3ytcuLBmzZqlP//8U0lJSTIzffrpp0pOTr7iT1JS0vWuHQAAAAAAADeodIVS/zR9+nTVqVMns2sBAAAAAADATSJd0/f+qXPnzs7ff/nlFx06dEiSVLJkSVWsWDFzKgMAAAAAAEC2laFQSpK+/fZb9e3bVwcPHnRpL126tMaPH6/WrVv/19oAAAAAAACQTWVo+t7ChQvVrl07SdIbb7yhuXPnau7cuXrjjTdkZnrggQe0aNGiTC0UAAAAAAAA2UeGjpR67bXXVKVKFf3000/KkyePs71169bq2bOn6tWrp+HDh6tZs2aZVigAAAAAAACyjwwdKbVjxw517tzZJZBKkSdPHj3xxBPasWPHfy4OAAAAAAAA2VOGQqmcOXPq9OnTV+w/ffq0cubMmeGiAAAAAAAAkL1lKJRq1KiR3nnnHUVERKTqW79+vSZOnKjGjRv/5+IAAAAAAACQPWVoTamxY8cqPDxc9erV0x133KFy5cpJkvbt26cNGzaocOHCGjNmTKYWCgAAAAAAgOwjQ0dKlS5dWjt27FDv3r115swZzZ49W7Nnz9aZM2f0/PPPa/v27SpVqlQmlwoAAAAAAIDsIkNHSklS4cKF9fbbb+vtt9/OzHoAAAAAAABwE8jQkVIAAAAAAADAf0EoBQAAAAAAALcjlAIAAAAAAIDbEUoBAAAAAADA7QilAAAAAAAA4HbXHEpduHBBNWrU0NSpU69HPQAAAAAAALgJXHMolTt3bh04cEAOh+N61AMAAAAAAICbQIam7zVr1kw//vhjZtfyr5KSkjRkyBCVLl1auXLlUpkyZfTaa6/JzJxjzExDhw5VkSJFlCtXLjVu3Fi//vqry3ZOnz6tjh07yt/fX4GBgeratavOnTvn7rsDAAAAAABw08pQKDVkyBDt379fnTp10po1a3Ts2DGdPn061U9mGzNmjKZMmaJ3331Xe/bs0ZgxYzR27FhNmjTJOWbs2LGaOHGipk6dqvXr1ytPnjxq2rSpLl686BzTsWNH7d69W0uWLNGCBQu0evVqde/ePdPrBQAAAAAAQNocdvlhRunk5fV/WdbVpvElJSVlrKoruO+++xQcHKwPP/zQ2dauXTvlypVLn376qcxMoaGhevHFF/XSSy9JkmJiYhQcHKwZM2aoQ4cO2rNnjypWrKiNGzeqZs2akqRFixapRYsWOnr0qEJDQ9NVS2xsrAICAhQTEyN/f/9/Hd8i7NkM3GOk18KdU67Ldls2G3JdtotLvl/0mqdLAAAAAABksvRmJj4Z2fjQoUM9sqZUnTp19P7772v//v267bbbtH37dq1Zs0bjx4+XJB04cECRkZFq3Lix8zoBAQGqXbu2IiIi1KFDB0VERCgwMNAZSElS48aN5eXlpfXr16tt27Zp3nZcXJzi4uKcl2NjY6/TvQQAAAAAAMj+MhRKDRs2LJPLSJ+BAwcqNjZW5cuXl7e3t5KSkjRy5Eh17NhRkhQZGSlJCg4OdrlecHCwsy8yMlKFCxd26ffx8VFQUJBzTFpGjRql4cOHZ+bdAQAAAAAAuGllaE2pf4qJicn0qXpp+fLLL/XZZ59p1qxZ2rJliz7++GONGzdOH3/88XW/7UGDBikmJsb5c+TIket+mwAAAAAAANlVhkOpTZs2qVmzZsqdO7cKFCigVatWSZJOnTql+++/XytXrsysGp369eungQMHqkOHDgoLC1OnTp3Up08fjRo1SpIUEhIiSYqKinK5XlRUlLMvJCREJ06ccOlPTEzU6dOnnWPS4ufnJ39/f5cfAAAAAAAAZEyGQqm1a9eqXr16+vXXX/XYY48pOTnZ2VewYEHFxMRo2rRpmVZkigsXLrgssi5J3t7eztsvXbq0QkJCtGzZMmd/bGys1q9fr/DwcElSeHi4oqOjtXnzZueY5cuXKzk5WbVr1870mgEAAAAAAJBahtaUevnll1WhQgWtW7dOZ8+e1QcffODS37Bhw+sypa5Vq1YaOXKkSpQooUqVKmnr1q0aP368nnzySUmXzgT4wgsv6PXXX1fZsmVVunRpDRkyRKGhoWrTpo0kqUKFCmrWrJm6deumqVOnKiEhQT179lSHDh3SfeY9AAAAAAAA/DcZCqU2btyoUaNGyc/PT+fOnUvVX7Ro0asuGp5RkyZN0pAhQ/Tcc8/pxIkTCg0N1dNPP62hQ4c6x/Tv31/nz59X9+7dFR0drXr16mnRokXKmTOnc8xnn32mnj176p577pGXl5fatWuniRMnZnq9AAAAAAAASFuGQqkcOXK4TNn7p2PHjilv3rwZLupK8uXLpwkTJmjChAlXHONwODRixAiNGDHiimOCgoI0a9asTK8PAAAAAAAA6ZOhNaXuvPNOff3112n2nT9/XtOnT1eDBg3+U2EAAAAAAADIvjIUSg0fPlybNm1Sy5Yt9cMPP0iStm/frg8++EA1atTQyZMnNWTIkEwtFAAAAAAAANlHhqbv1a5dWwsXLtSzzz6rxx9/XJL04osvSpLKlCmjhQsXqkqVKplXJQAAAAAAALKVDIVSktSoUSPt27dPW7du1W+//abk5GSVKVNGNWrUkMPhyMwaAQAAAAAAkM1kOJRKUb16dVWvXj0zagEAAAAAAMBNIsOhVFxcnP73v/9p4cKFOnjwoCSpVKlSatGihZ566inlzJkzs2oEAAAAAABANpOhhc6PHj2qatWqqXfv3tq+fbsKFSqkQoUKafv27erdu7eqVaumo0ePZnatAAAAAAAAyCYyFEr16NFDhw4d0pdffqljx45p1apVWrVqlY4dO6bZs2fr8OHD6tGjR2bXCgAAAAAAgGwiQ9P3li1bpj59+ujBBx9M1ffQQw9py5YtmjRp0n8uDgAAAAAAANlTho6UypcvnwoXLnzF/pCQEOXLly/DRQEAAAAAACB7y1Ao1aVLF82YMUMXLlxI1Xfu3DlNnz5dXbt2/c/FAQAAAAAAIHtK1/S9OXPmuFyuXr26vv/+e5UvX16dO3fWrbfeKkn69ddfNXPmTAUFBalKlSqZXy0AAAAAAACyhXSFUg8++KAcDofMTJJcfh85cmSq8UePHtUjjzyi9u3bZ2KpAAAAAAAAyC7SFUqtWLHietcBAAAAAACAm0i6QqkGDRpc7zoAAAAAAABwE8nQQucAAAAAAADAf5GuI6XSsmbNGn300Uf6448/dObMGecaUykcDoe2b9/+nwsEAAAAAABA9pOhUGr8+PHq16+fcubMqXLlyikoKCiz6wIAAAAAAEA2lqFQ6s0331TdunU1f/58BQQEZHZNAAAAAAAAyOYytKbUhQsX1LFjRwIpAAAAAAAAZEiGjpRq2LChdu7cmdm1AECmaNzxNU+XkK0t/WyIp0sAAAAAkA1k6EipSZMmadmyZRo3bpxOnz6d2TUBAAAAAAAgm8tQKFW8eHE9/fTTGjhwoAoVKqQ8efLI39/f5YepfQAAAAAAALiSDE3fGzp0qEaOHKmiRYuqZs2aBFAAAAAAAAC4JhkKpaZOnaqWLVtq3rx58vLK0MFWAAAAAAAAuIllKFGKj49Xy5YtCaQAAAAAAACQIRlKle677z799NNPmV0LAAAAAAAAbhIZCqVeffVV/fLLL3ruuee0efNmnTx5UqdPn071AwAAAAAAAKQlQ2tKlStXTpK0bds2TZs27YrjkpKSMlYVAAAAAAAAsrUMn33P4XBkdi0AAAAAAAC4SWQolBo2bFgmlwEAAAAAAICbCafPAwAAAAAAgNtl6EipESNG/OsYh8OhIUOGZGTzAAAAAAAAyOYyffqew+GQmRFKAQAAAAAA4IoyNH0vOTk51U9iYqJ+//139enTRzVr1tSJEycyu1YAAAAAAABkE5m2ppSXl5dKly6tcePGqWzZsurVq1dmbdrFsWPH9Nhjj6lAgQLKlSuXwsLCtGnTJme/mWno0KEqUqSIcuXKpcaNG+vXX3912cbp06fVsWNH+fv7KzAwUF27dtW5c+euS70AAAAAAABI7bosdF6/fn0tXLgw07d75swZ1a1bVzly5NAPP/ygX375RW+99Zby58/vHDN27FhNnDhRU6dO1fr165UnTx41bdpUFy9edI7p2LGjdu/erSVLlmjBggVavXq1unfvnun1AgAAAAAAIG0ZWlPq32zatEleXpmfd40ZM0bFixfX9OnTnW2lS5d2/m5mmjBhggYPHqz7779fkjRz5kwFBwdr3rx56tChg/bs2aNFixZp48aNqlmzpiRp0qRJatGihcaNG6fQ0NBMrxsAAAAAAACuMhRKzZw5M8326OhorV69WnPmzNFTTz31nwpLy3fffaemTZvqoYce0qpVq1S0aFE999xz6tatmyTpwIEDioyMVOPGjZ3XCQgIUO3atRUREaEOHTooIiJCgYGBzkBKkho3biwvLy+tX79ebdu2TfO24+LiFBcX57wcGxub6fcPAAAAAADgZpGhUOqJJ564Yl/BggU1cOBADR06NKM1XdEff/yhKVOmqG/fvnr55Ze1ceNG9e7dW76+vurcubMiIyMlScHBwS7XCw4OdvZFRkaqcOHCLv0+Pj4KCgpyjknLqFGjNHz48Ey+RwAAAAAAADenDIVSBw4cSNXmcDiUP39+5cuX7z8XdSXJycmqWbOm3njjDUlS9erVtWvXLk2dOlWdO3e+brcrSYMGDVLfvn2dl2NjY1W8ePHrepsAAAAAAADZVYZCqZIlS2Z2HelSpEgRVaxY0aWtQoUK+uabbyRJISEhkqSoqCgVKVLEOSYqKkrVqlVzjjlx4oTLNhITE3X69Gnn9dPi5+cnPz+/zLgbAAAAAAAAN73rcva966Vu3brat2+fS9v+/fudIVnp0qUVEhKiZcuWOftjY2O1fv16hYeHS5LCw8MVHR2tzZs3O8csX75cycnJql27thvuBQAAAAAAANJ9pFSVKlWuacMOh0Pbt2+/5oKupk+fPqpTp47eeOMNtW/fXhs2bND777+v999/33mbL7zwgl5//XWVLVtWpUuX1pAhQxQaGqo2bdpIunRkVbNmzdStWzdNnTpVCQkJ6tmzpzp06MCZ9wAAAAAAANwk3aFUUFCQHA7Hv46LjIzUvn370jX2WtWqVUtz587VoEGDNGLECJUuXVoTJkxQx44dnWP69++v8+fPq3v37oqOjla9evW0aNEi5cyZ0znms88+U8+ePXXPPffIy8tL7dq108SJEzO9XgAAAAAAAKQt3aHUypUrr9ofGRmpMWPGaNq0afL29lanTp3+a21puu+++3Tfffddsd/hcGjEiBEaMWLEFccEBQVp1qxZ16M8AAAAAAAApEOGFjq/XFRUlEaPHq33339fCQkJeuyxx/TKK6+oTJkymVEfAAAAAAAAsqEMh1IpR0ZdHkYNHjxYt9xyS2bWBwAAAAAAgGzomkOpyMhIjR49Wv/73/+UkJCgTp06afDgwSpduvT1qA8AAAAAAADZULpDqT///NMZRiUmJurxxx/XK6+8QhgFAAAAAACAa5buUKpMmTKKi4tTtWrV9PLLL6t06dI6c+aMzpw5c8Xr3H777ZlSJAAAAAAAALKXdIdSFy9elCRt3bpV7du3v+pYM5PD4VBSUtJ/qw4AAAAAAADZUrpDqenTp1/POgAAAAAAAHATSXco1blz5+tZBwAAAAAAAG4iXp4uAAAAAAAAADcfQikAAAAAAAC4HaEUAAAAAAAA3I5QCgAAAAAAAG5HKAUAAAAAAAC3I5QCAAAAAACA2xFKAQAAAAAAwO0IpQAAAAAAAOB2hFIAAAAAAABwO0IpAAAAAAAAuJ2PpwsAAECS6vR8zdMlZGtr3x3i6RIAAAAAFxwpBQAAAAAAALcjlAIAAAAAAIDbEUoBAAAAAADA7QilAAAAAAAA4HaEUgAAAAAAAHA7QikAAAAAAAC4HaEUAAAAAAAA3I5QCgAAAAAAAG5HKAUAAAAAAAC3I5QCAAAAAACA2xFKAQAAAAAAwO0IpQAAAAAAAOB2hFIAAAAAAABwO0IpAAAAAAAAuB2hFAAAAAAAANyOUAoAAAAAAABud0OHUqNHj5bD4dALL7zgbLt48aJ69OihAgUKKG/evGrXrp2ioqJcrnf48GG1bNlSuXPnVuHChdWvXz8lJia6uXoAAAAAAICb1w0bSm3cuFHTpk1TlSpVXNr79Omj+fPn66uvvtKqVat0/PhxPfDAA87+pKQktWzZUvHx8Vq7dq0+/vhjzZgxQ0OHDnX3XQAAAAAAALhp3ZCh1Llz59SxY0f973//U/78+Z3tMTEx+vDDDzV+/Hg1atRINWrU0PTp07V27VqtW7dOkrR48WL98ssv+vTTT1WtWjU1b95cr732miZPnqz4+HhP3SUAAAAAAICbyg0ZSvXo0UMtW7ZU48aNXdo3b96shIQEl/by5curRIkSioiIkCRFREQoLCxMwcHBzjFNmzZVbGysdu/efcXbjIuLU2xsrMsPAAAAAAAAMsbH0wVcqy+++EJbtmzRxo0bU/VFRkbK19dXgYGBLu3BwcGKjIx0jrk8kErpT+m7klGjRmn48OH/sXoAAAAAAABIN1godeTIET3//PNasmSJcubM6dbbHjRokPr27eu8HBsbq+LFi7u1BgAAspoar4zwdAnZ2uaRrHkJAACyrxtq+t7mzZt14sQJ3X777fLx8ZGPj49WrVqliRMnysfHR8HBwYqPj1d0dLTL9aKiohQSEiJJCgkJSXU2vpTLKWPS4ufnJ39/f5cfAAAAAAAAZMwNFUrdc8892rlzp7Zt2+b8qVmzpjp27Oj8PUeOHFq2bJnzOvv27dPhw4cVHh4uSQoPD9fOnTt14sQJ55glS5bI399fFStWdPt9AgAAAAAAuBndUNP38uXLp8qVK7u05cmTRwUKFHC2d+3aVX379lVQUJD8/f3Vq1cvhYeH684775QkNWnSRBUrVlSnTp00duxYRUZGavDgwerRo4f8/Pzcfp8AAAAAAABuRjdUKJUeb7/9try8vNSuXTvFxcWpadOmeu+995z93t7eWrBggZ599lmFh4crT5486ty5s0aMYE0MAAAAAAAAd7nhQ6mVK1e6XM6ZM6cmT56syZMnX/E6JUuW1MKFC69zZQAAAFlT1XGverqEbG37S5yxGQCA9Lih1pQCAAAAAABA9kAoBQAAAAAAALcjlAIAAAAAAIDbEUoBAAAAAADA7QilAAAAAAAA4HaEUgAAAAAAAHA7QikAAAAAAAC4HaEUAAAAAAAA3I5QCgAAAAAAAG5HKAUAAAAAAAC3I5QCAAAAAACA2xFKAQAAAAAAwO0IpQAAAAAAAOB2hFIAAAAAAABwO0IpAAAAAAAAuB2hFAAAAAAAANyOUAoAAAAAAABuRygFAAAAAAAAtyOUAgAAAAAAgNsRSgEAAAAAAMDtCKUAAAAAAADgdoRSAAAAAAAAcDtCKQAAAAAAALgdoRQAAAAAAADcjlAKAAAAAAAAbkcoBQAAAAAAALcjlAIAAAAAAIDbEUoBAAAAAADA7QilAAAAAAAA4HaEUgAAAAAAAHA7QikAAAAAAAC4HaEUAAAAAAAA3I5QCgAAAAAAAG5HKAUAAAAAAAC3I5QCAAAAAACA291wodSoUaNUq1Yt5cuXT4ULF1abNm20b98+lzEXL15Ujx49VKBAAeXNm1ft2rVTVFSUy5jDhw+rZcuWyp07twoXLqx+/fopMTHRnXcFAAAAAADgpnXDhVKrVq1Sjx49tG7dOi1ZskQJCQlq0qSJzp8/7xzTp08fzZ8/X1999ZVWrVql48eP64EHHnD2JyUlqWXLloqPj9fatWv18ccfa8aMGRo6dKgn7hIAAAAAAMBNx8fTBVyrRYsWuVyeMWOGChcurM2bN6t+/fqKiYnRhx9+qFmzZqlRo0aSpOnTp6tChQpat26d7rzzTi1evFi//PKLli5dquDgYFWrVk2vvfaaBgwYoGHDhsnX19cTdw0AAAAAAOCmccMdKfVPMTExkqSgoCBJ0ubNm5WQkKDGjRs7x5QvX14lSpRQRESEJCkiIkJhYWEKDg52jmnatKliY2O1e/fuNG8nLi5OsbGxLj8AAAAAAADImBs6lEpOTtYLL7ygunXrqnLlypKkyMhI+fr6KjAw0GVscHCwIiMjnWMuD6RS+lP60jJq1CgFBAQ4f4oXL57J9wYAAAAAAODmcUOHUj169NCuXbv0xRdfXPfbGjRokGJiYpw/R44cue63CQAAAAAAkF3dcGtKpejZs6cWLFig1atXq1ixYs72kJAQxcfHKzo62uVoqaioKIWEhDjHbNiwwWV7KWfnSxnzT35+fvLz88vkewEAAAAAAHBzuuGOlDIz9ezZU3PnztXy5ctVunRpl/4aNWooR44cWrZsmbNt3759Onz4sMLDwyVJ4eHh2rlzp06cOOEcs2TJEvn7+6tixYruuSMAAAAAAAA3sRvuSKkePXpo1qxZ+vbbb5UvXz7nGlABAQHKlSuXAgIC1LVrV/Xt21dBQUHy9/dXr169FB4erjvvvFOS1KRJE1WsWFGdOnXS2LFjFRkZqcGDB6tHjx4cDQUAAAAAAOAGN1woNWXKFEnS3Xff7dI+ffp0PfHEE5Kkt99+W15eXmrXrp3i4uLUtGlTvffee86x3t7eWrBggZ599lmFh4crT5486ty5s0aMGOGuuwEAAAAAAHBTu+FCKTP71zE5c+bU5MmTNXny5CuOKVmypBYuXJiZpQEAAAAAACCdbrg1pQAAAAAAAHDjI5QCAAAAAACA2xFKAQAAAAAAwO0IpQAAAAAAAOB2hFIAAAAAAABwO0IpAAAAAAAAuB2hFAAAAAAAANzOx9MFAAAAAPh39Wa84ukSsr01T4z0dAkAcFPhSCkAAAAAAAC4HaEUAAAAAAAA3I5QCgAAAAAAAG7HmlIAAAAAcB11+aGvp0vI1qY3H+/pEgBkEEdKAQAAAAAAwO0IpQAAAAAAAOB2hFIAAAAAAABwO0IpAAAAAAAAuB2hFAAAAAAAANyOUAoAAAAAAABuRygFAAAAAAAAtyOUAgAAAAAAgNsRSgEAAAAAAMDtCKUAAAAAAADgdoRSAAAAAAAAcDtCKQAAAAAAALgdoRQAAAAAAADcjlAKAAAAAAAAbkcoBQAAAAAAALcjlAIAAAAAAIDbEUoBAAAAAADA7QilAAAAAAAA4HaEUgAAAAAAAHA7QikAAAAAAAC4HaEUAAAAAAAA3I5QCgAAAAAAAG7n4+kCPGny5Ml68803FRkZqapVq2rSpEm64447PF0WAAAAAMDDxqx5zNMlZGsD6n3q6RKQBdy0odTs2bPVt29fTZ06VbVr19aECRPUtGlT7du3T4ULF/Z0eQAAAAAA4BrNX1/P0yVka61qr8nU7d200/fGjx+vbt26qUuXLqpYsaKmTp2q3Llz66OPPvJ0aQAAAAAAANneTRlKxcfHa/PmzWrcuLGzzcvLS40bN1ZERIQHKwMAAAAAALg53JTT906dOqWkpCQFBwe7tAcHB2vv3r1pXicuLk5xcXHOyzExMZKk2NjYdN1mQlJ8BqtFeqR3P1yrhMS4fx+EDLte+y0x4eJ12S4uuW77LZ79dj1dr/2WFMd+u56u2367yP+36+m6vU7+zX673q7Xvou/wL67nq7Xfrt4PuG6bBeXXK/9duF84nXZLi5J735LGWdmVx3nsH8bkQ0dP35cRYsW1dq1axUeHu5s79+/v1atWqX169enus6wYcM0fPhwd5YJAAAAAABwwzpy5IiKFSt2xf6b8kipggULytvbW1FRUS7tUVFRCgkJSfM6gwYNUt++fZ2Xk5OTdfr0aRUoUEAOh+O61utusbGxKl68uI4cOSJ/f39Pl4N0Yr/dmNhvNyb2242J/XZjYr/dmNhvNy723Y2J/XZjys77zcx09uxZhYaGXnXcTRlK+fr6qkaNGlq2bJnatGkj6VLItGzZMvXs2TPN6/j5+cnPz8+lLTAw8DpX6ln+/v7Z7olxM2C/3ZjYbzcm9tuNif12Y2K/3ZjYbzcu9t2Nif12Y8qu+y0gIOBfx9yUoZQk9e3bV507d1bNmjV1xx13aMKECTp//ry6dOni6dIAAAAAAACyvZs2lHr44Yd18uRJDR06VJGRkapWrZoWLVqUavFzAAAAAAAAZL6bNpSSpJ49e15xut7NzM/PT6+++mqq6YrI2thvNyb2242J/XZjYr/dmNhvNyb2242LfXdjYr/dmNhvN+nZ9wAAAAAAAOBZXp4uAAAAAAAAADcfQikAAAAAAAC4HaEUAAAAAAAA3I5QCgAAAAAAAG5HKAUA1wHnkLgxJScnS2L/AQCyjwkTJujJJ5/0dBnATSPl/eSVLsMVodRNgifCjYd9dmNzOBxatGiRli9f7ulScA28vC79Wzx69KgkwqkbQco+iomJUUJCgoerAYCsJT4+Xl5eXpo7d6769Onj6XJwjf75PoT3JVlfcnKy8/3k2rVrde7cOedlpI1H5yZw+RNj+fLl2rVrl4crwr+5fJ/98MMPmj17tj766CNduHCBf0ZZ1K5du/T3339LurT/zp49q5dfftnZhhvHd999pzp16uj48eNyOByeLgdXYWZyOBxasGCBnnzySa1fv17x8fGeLgvpkPK/7K+//lJMTIxOnDjh4YqQHpd/YZaUlOTBSpBevr6+evzxxzV27Fh98cUX6tWrl6dLQjql/I9bvny5Bg8erISEBN6XZHGXf4YbPHiwevfurS+//FJJSUl8hrsKQqlszsycT4xBgwbp6aef1u7duxUdHe3ZwnBVKftswIABevrppzVt2jQNHTpUDRs21JIlSzxcHS5nZlq8eLGqVKmi2bNn6+LFi/Ly8lKuXLl04cIF+fr68k/oBpMrVy7ly5dPx48fl8RRi1mZw+HQ3Llz9eijjyosLEwhISHy9fX1dFn4FykftObPn6/27dsrPDxcHTp00IQJEzxdGq7i8g9b06dP1/vvv88XL1mcmSk5OVmBgYGqXbu2XnjhBU2ePFlDhgzxdGn4Fymvk998843at2+v2NhYlwMLeG+Z9Vz+ufuVV17R1KlT9dZbb+n++++Xt7c3geJVEEplcyl//CNGjND06dP1wQcfqHXr1goMDPRsYfhXH374oWbOnKn58+dr+fLlevvtt7Vx40YO/8xiHA6HmjRpomeeeUa9evXSl19+qfPnz8vhcChHjhwqVKiQHA6HS7DBG4msI63A6d5771WxYsXUv39/SeI5l4X99ttvev755/Xmm29q2LBhuvXWWyVJe/bsUWRkpIerw5U4HA4tXLhQ7du3V+vWrTVlyhSFh4erb9++WrNmjafLQxou/7DVv39/DR48WDly5NCpU6dcxiBrcTgc8vLy0jfffKPHH39c27ZtU0hIiEaNGsVUvizO4XBo3bp1euqppzR69GhNnDhR1atXlyQlJiYScGQhK1eudL73NzPt3r1b8+fP19y5c9WgQQM5HA798ssvGjNmjLZu3SqJ18t/4p12NnX5B61Tp05p/vz5evPNN9WgQQNFR0dr3bp1GjhwoCZOnOjBKpFiy5YtqdZC+e233/Too4+qatWq+vzzz9WtWzdNnjxZjRs31t9//823k1lEYmKiJOm9997TE088oaefflpffvmljh07Jm9vb/n7+0tyDTb4R5R1pOyXfz6fhgwZopiYGOeaYOyzrCNlX1y8eFHnz59XkSJF1KhRI0VHR2vixIlq2LChGjZsqCeffFLbtm3zbLFIU3x8vD7//HMNHjxYzz//vMqWLatZs2bp6aefVr169TxdHtKQ8gF48uTJ+uSTTzR37lw99dRTKl68uKRL+/SfX8Aga9izZ4+efPJJde/eXR988IEiIiL02muv6ZNPPiGYyoIuf7+xZcsWhYeH66mnntKZM2c0d+5ctWvXTrVq1dKnn37Ke5MsYPz48WrXrp2++eYbXbhwQQ6HQ76+voqKitKZM2e0c+dOvfzyy2rXrp0++OAD3Xnnndq8eTOh4j/4eLoAZL7Lv81as2aNChYsqBw5cigqKkrffvutvvrqK/3++++Ki4vThQsXdOrUKY0YMcLDVd+8Ro8erZdfflnff/+97r33Xvn4+DhT9mrVqmnz5s3q3r273nzzTT3zzDNKTk7WhAkTVLBgQXXr1s3T5d/0fHz+72V00qRJMjP17t1bo0aNUkxMjJ599llVq1ZNvr6+Onv2rJKSkhQWFqannnqKI3CyiClTpmjUqFF6+umn9fDDD+vWW29VlSpV5OXlpW+//VaNGjXizUMW4nA4NHv2bK1du1YPP/ywduzYoSFDhigiIkLVq1fX3XffrWeffVaDBw/Wrl27VK1aNU+XjH9ISEjQ1q1b1apVK506dUp33HGHWrZsqSlTpkiSPv74Y912220KDw/3cKW4nJlp/fr16tChg+644w7t379fGzZs0AcffKCEhARNmTJFVapUcU47QtZw5MgRFShQQA899JDy5MmjPHnyqFu3bkpMTNSrr76qwMBAvfrqq54uE/+fw+HQ119/LV9fXxUtWlSLFi3StGnT9PXXX8vPz08FChRQzZo19dRTT6lBgwbOYBie0bdvX23atEljx46Vmaldu3YqWrSomjdvrueee06nT59W165dNXLkSD3wwAO6/fbbtXDhQtWoUcPTpWcpfCLKZpKTk51vBAYMGKBnnnlGefPmVaVKlfTZZ5/pwQcfVNGiRfXGG29o06ZNCgsLY1FYDxs4cKDuv/9+denSRUuWLHF+2/j4449r+vTpqlWrliZPnqxnnnlGknThwgWtXr1aBw4c8HDlSPmGavv27c61vt5991117txZvXv3Vr58+ZQrVy7Fxsbq2LFjOnjwoE6dOqU777yTQMqDLv8m/+LFi2rXrp3at2+vNWvWqHr16nrllVd04MABvfnmm5o9e7Y2bdrkwWqRIuX5FhUVpb59++rWW29VnTp1tGjRIhUsWFDdu3fXpEmT9Oqrr6p9+/YKCQnh/1sWs3PnTv3555/KkyePGjVqpI0bN+r22293CaSio6O1atUqbd26lYW0PeyfR2E4HA4VKlRIq1ev1siRI9W1a1fNnj1bFSpUUEBAgNq2bauLFy8SSGUxRYoUUUxMjDZu3OhsK1iwoB5++GEVKFBAw4cPd05Xh+ft2LFDnTt31pEjRxQeHq7+/fvrjTfeUOnSpfXyyy/r448/1ltvvaUKFSqwRrCHpcyWmDVrlsLCwjRmzBjNmTNHOXPm1JtvvqmZM2dq6dKlmjRpkh544AHFxcXJz89PoaGhHq48CzJkS3/++ae1b9/elixZ4mzbtm2b7d6922Xc3XffbYMHD3Z3efj/EhISnL+3adPGChYsaN9//70lJSXZ4cOHrVOnTla+fHn75ptvLCkpyfbu3WvNmze3GjVquFwX7pecnGxmZt98842VKFHChg8fbvv373f29+vXz3x9fW3mzJnOsfC8pKQk5+9vvvmmDRkyxA4dOmRmZmfPnrUZM2ZYy5YtrUSJEla7dm0rVqyYTZw40czMEhMTPVIz/s+PP/5ob7/9tvXs2dMuXrzofG7Fx8e7jHv55ZetaNGi9scff3iiTKThyJEjVrNmTfv888/NzGzSpEnm4+Nj9evXt7/++svMLj0/Bw0aZGXKlGHfedjlr5Xnzp1z/r5y5Up78sknrWTJkjZmzBjbunWrmZl9+umn1rRpU/v777/dXSouk9b7jdOnT1vjxo3tscces23btjnbT548ae3bt7epU6far7/+6s4ycQW7du2yESNG2KBBg1zaU14jUwwcONAqVqxoJ0+edGd5SMPl7w0ffvhhK1eunM2cOdPldfPChQu2Z88ea9mypVWvXp3PcGkglMqG3nvvPStcuLDVqFHD5UNyitjYWNu1a5c1a9bMwsLCeGJ42OUfplq3bm0FChSw77//3szMNm7caJ06dbJ8+fJZaGiohYWF2V133eW8Dh+SPWvRokWWO3due++99+zixYup+p955hnLly+fTZ061c6fP++BCnEl/fv3t8KFC9uHH35ox44dc+k7deqUbd++3R588EErXry4lSpVymJiYjxUKVIkJiZa7969zeFwWFhYmPPDb3JysvOD2AcffGDt27e3IkWK2JYtWzxZLtLQrFkzq1+/vvPy0KFDLW/evPboo49a9+7drWPHjpY/f35n0AHPuDzYGDt2rLVp08buu+8+++mnn5xh1alTp1yu06xZM2vfvj1fwnhQymO/bNkyGzp0qLVp08a++eYbO3XqlK1du9bKlStnjzzyiH355Zf2xx9/WP/+/a1WrVp24sQJD1cOs0vB/T333GMFCxa0vn37mtmlcPjy59SyZcusW7duFhQUxOukB10e2v9T+/btrUKFCjZjxgxnMPXxxx9b8+bN+Qx3FYRS2dCBAwfsjjvuMG9vb1u9erWzPeVF7bPPPrN69epZ06ZNeWJ4yNWCwPvuu8+CgoKcwVRsbKxt377dvvjiC/v555+dL4SEie41ffp05xE1ycnJ9vfff1v79u3tpZdeMrP/20/Dhg2zV155xXm9Tp06WUhICKFGFvL9999bsWLFbMOGDS7t/3yTkZiYaOvXr7fw8HB77733zCztb6HhPlFRUTZkyBDz8vKyWbNmmZnrPlm3bp11797d9u7d66kSYf/3XErZN3FxcWZmtmfPHrvtttts+vTpzrEffPCBPffcc9aoUSPr37+//fLLL26vF//n8tfBcePGmb+/v7388stWtWpVu+222+ydd96x6OhoMzOLiYmxH374wRo3bmxVqlRxvqfkddJz5syZY3nz5rXnnnvOOnfubFWqVLFmzZqZmdnChQutVatWFhAQYLfccouFhIQQ3mcx06ZNs6pVq1rZsmWdR6+lPJ+OHDli48ePt5YtW9rOnTs9WeZN7fLXyNWrV9vXX39tmzdvdjmaLSWY+vjjjy0xMdF+//13mzNnjvPzNp/hUnOYsWz/jSw5OTnNtWmOHDmiZs2aKWfOnJo3b16qRfCWL1+uu+++W15eXkpMTHRZrBnXT1RUlIKDg52XZ82apX379qlo0aIqW7asGjZsKElq1aqV1q5dq08//VSNGjWSn5+fy3aSkpLk7e3t1tpvVsnJyfrzzz91++23a/369SpVqpSzr3Pnzjpx4oTGjh2riRMn6uDBgzpx4oROnjypatWqaeHChZJS73d41kcffaSpU6dq+fLlypUrl7y9vZ0L8/7zuZWYmKj27dsrf/78+vDDDz1Y9c0nZZ/8/fffSkhIcJ7JMi4uTi+99JKmTp2qOXPmqFWrVs61bxwOhxISEpQjRw5Pln7T+u2333Trrbde8fJff/2l7t27KzAwMNXzyVgcO0vZs2ePxo8fr0ceeUSNGjWSJD3zzDOKiIhQly5d1LVrVx09elSTJk3SuXPn9NFHH8nHx4f3lB504MABtWrVSs8//7y6deumc+fOKTg4WL169dLo0aMlXVqX9Pjx4zp16pRKlSqlkJAQD1d987rSa96nn36qSZMmqWTJknrjjTdcXkNPnz4tHx8f5/9DuNfl+2zQoEH65JNP5O/vrzNnzuihhx7S448/rpo1a0qSOnTooF27dqlXr17q2rWr83WRz3BX4Lk8DP/VP5Par776yjZu3GhHjhwxM7PDhw9b2bJlrXbt2s62f357dbXDD5G5nnrqKXvyySed62QMGjTI8ubNaw0bNrQyZcpY+fLlbdiwYc7xrVu3tuDgYPvmm284ks2DUp4zKVOFtmzZ4tyH//vf/6x+/frm7e1tDz30kH311VcWFxdnU6ZMsfr169vZs2ddtoGsYfjw4VakSBHn5ZRvrJKSkmzFihXOo2xS9tvTTz9tTZs2dVnDCNdXyuM8f/58a9KkiZUvX97uv/9+++yzzyw+Pt6SkpKsR48e5uPjY/Pnzzcz/p952rRp06x169bO6Qp//PGHFSlSxOrUqWPffPONc+2TZcuWmY+Pjy1cuNCT5eIqvvjiCytatKjdeuutqY4offrpp61KlSo2adIki4uLs1OnTjmfr3z7717//H+0e/duq1y5sp0/f972799vxYsXt27dujn7IyIi7MyZM26uEmlJ2XcrVqywPn36WM+ePe3tt9929s+YMcPuuusua9++vf32228eqhKXu/yz2JgxY6xo0aLOGUn9+vWzvHnzWseOHW3dunXOcffee6898sgjvHdMB0KpbKBfv34WEhJiZcqUscDAQLv33ntt3rx5ZnYpmCpXrpzVqVPHDh486OFKb27vvvuuFStWzPr06WM//vijNWjQwNasWWNml6Zcjhw50ooVK2ajR492Xueuu+6yFi1aeKrkm97l/0Ti4+MtNjbWcubMac2aNXOuwXDkyBFbu3aty/WeeeYZa926dZrrTMF9rhRS7Ny500qVKuWcepkiOjramjRpYjNmzHC2bdmyxapXr87aDR7w/fffm6+vrw0YMMDee+89a9y4sd1xxx02bNgwi4+Pt4sXL9oLL7xgDofDfvjhB0+Xe9NbtmyZ/f7772Zmzuld27dvt9atW1udOnWsfPnyNnfuXDt48KD16dPHunTpYrGxsZ4sGVeQmJhoDz74oPn6+tr48eNTLV7+3HPPWaFChezLL790tvGhyz3S+r/2xx9/2MWLF23Lli1WtWpV27Nnj5UuXdqeeuop5/hNmzZZ9+7dU53wCJ4zZ84cy5Url7Vt29ZatGhhefLksXvvvdeOHj1qZpemNjdq1MiaNWvGiR886J8nBDt+/Li1a9fOPvnkEzMz+/bbby0gIMCefPJJK168uLVv397Wr1/vHP/P6exIG6HUDW769OlWqFAhW716tV24cMGWLl1qHTt2tFq1ajnfpB8+fNjy58/v8m0JPGPGjBlWvHhxe/zxx61p06Yui1//+eef1r9/f6tfv74dPnzY2c63/+53tX8gmzZtssDAQGvbtq3LfjIz27dvn/Xt29cCAwNtx44dbqkVabt8333xxRf22muv2dy5c+306dOWkJBgQ4YMsZo1a9qTTz5pv/32my1fvvyKZ0X554K+uL6Sk5Pt3Llz1rJlS5czEF28eNEGDhxoNWvWtDlz5pjZpX0zYMAA1iHKQjZs2GB33323LV682Nm2du1a6927txUtWtRatWpllSpVsltvvZUPWlnAld5jJCUlWevWra1y5cr2xRdfpPqSZezYsRzF7SG///67de7c2cwuBRvVq1e3AwcOmJlZ3bp1zeFw2LPPPutynf79+1t4eLhFRUW5uVqk5dixY3bbbbe5HB21f/9+K1GihDVt2tTZ9u6771rLli2dQRXca+nSpda0aVOX94Xnzp2z5cuX219//WUbN2604sWLO8/SPHjwYAsMDLT77rvPtm/f7rwOn+X+HaHUDa5Xr17Wvn17l7YNGzZY8+bN7amnnnK2RUVF8ebBgy7/gDx9+nQLCAiwgICAVIfFL1u2zHx9fW3jxo0u7byYuU/KY/3rr79a3759rWvXrjZ8+HCXMVu3brU8efLYgw8+6Hwj+NNPP9mTTz5p1apVcznlMtzv8ufbyy+/bHnz5rU6deqYl5eXPfHEE7Z37167cOGCTZ482SpVqmS5cuWyChUq2D333ONy8geed57VoEED59Fsly8OWq9ePXvkkUec4/j20TMuf35cvqD5xo0brX79+ta8eXNbsmSJy3VWrFhh48aNs0KFCpnD4SCU8rDL9+GcOXNs9OjR9sEHH9jKlSvN7NLzrkWLFla1atU0g6mUMXCf5ORkmzt3rgUFBdldd91lDofDPv30U2f/pk2brEaNGlajRg3buHGjLViwwPr27Wv+/v4uH5LhWQcPHrTSpUtbRESEmf3f1Nc9e/ZYnjx5bNq0ac6xKUeewv0uX7bhm2++cbanLM+RcpbLlNfGUaNGWb169axHjx68h7xGhFI3qJQnSP/+/a1Ro0apTjc/ceJE8/f3d67hkII3D+51pQ9Ln3/+uRUqVMi6devm8g3/77//bmXLlnVO64N7pfwD2bZtmxUqVMjatGlj9erVs3z58jm/lUxxeTB1/PhxMzP7+eefnb/D87Zu3WotWrRwvun78ccfrWLFivbII4/Yrl27nOMiIiLs999/58yWWURSUpJdvHjR7rvvPmvZsqWzPeX/12uvvWZ169ZlemwW8OuvvzqfX1999ZW1atXKzMwWL15sLVu2tHvvvdeWLVuW6np//fWX82ym8LyUZSDq1q1rYWFhFhQUZOPHjzezS8/H++67z6pXr24fffSRM7iHZ/Xr188cDofVrl3b2ZacnGzx8fH2888/21133WWhoaFWvnx5a9CgAV+WZTGnTp0yf39/mzx5srMtMTHR4uPjrW7duvbqq696rjiYmetn5j179pifn5898MADLmP69OljjRo1cn5B3bZtW/vss8+cn/8IptKPUOoGcaU/6o8++sjy5ctn3377rUsAsmjRIqtZsyaH6XrQ5fvsxIkTqdb0+vDDDy00NNTatWtnX3zxha1cudJatGhhVapUITz0gJTnz44dOyx37tw2dOhQM7u079q0aWOFChWyPXv2WHJysnPfbt261QICAuyee+6xP//802O1I7V3333XHnjgAWvTpo3Leig//PCDVapUyR599FHnh+nL8QbC/VKee5GRkXbu3Dnnt8KbN282Pz8/69u3r8v4Tp062UMPPUR46GHJycnWuXNn8/b2ttdee80cDofLemyXB1PLly93thNqeN7l7xe//fZbK1SokHNtxMOHD9uoUaPM29vb+YE5KSnJ6tata48//rhH6sX/Sdl37777rvXq1ctuueUWlw/Kl+/bvXv32vHjxznSxsMuP5L0ci+99JJVq1bN5s6d69LeqFEje+2119xVHtJw+bINq1atMrNLBxTccsstLjOUZsyYYbfccovVrFnTKlasaOXLl3e+N+Eo7mtDKHUDuPyP+quvvrIZM2bY7NmznW2dO3e2fPny2SeffGK7d++2qKgoa9y4sTVp0oQnhIdc/sF22LBhVrt2bcuXL589+uijzkXozS5N5QsKCjKHw2Ht2rWzbt26uUwfgnudOnXKKlasaGFhYS7tjz32mPn4+NiqVavs9OnTLn3r16+3okWLOs9wiaxh2rRpljdvXitRokSq9b0WLVpkVapUsRYtWrAWURYxd+5cq1y5slWuXNk6dOjgnNo8e/Zs8/Pzs3vvvdeefPJJ69Kli+XNm5c127KQ22+/3fz8/OyVV14xM9f/fynBVPPmze3HH3/0VIn4//r165eq7Z133rE6deq4tMXGxtrLL79sVatWdU6xvPwLGWQNcXFxNnv2bCtZsmSqIzh27NiRaoF6uF/K57AffvjBunTpYg8++KCtXLnSLl68aPv27bNHHnnEKlWqZG+++aZ9//331qdPHwsICLD9+/d7uPKb14IFC6x9+/Z26NAh6927tzkcDouOjrbz58/b7NmzrUSJEvbggw86x3/yySc2cuRIGzp0qDOQ4jPctSOUyuIuD5X69u1rQUFBdtttt1mxYsXsoYcecvY9/fTTVrRoUStQoIBVrlzZbr/9dme4wZsIzxk6dKgFBwfbrFmzbMuWLValShWrU6eOffTRR84xs2fPNofDYR988AGnVfawyMhIe+mllywsLMy5jtTYsWMtR44c1qhRI2vSpInVqVPH7r33Xvvqq6+cZ9dgGpFnXek17vPPP7fg4GDr0aOH/frrry598+bNs8cee4zXRw9Keb3bu3evBQQE2Pjx4+3VV1+1+++/32677TbnaZV37NhhHTt2tNatW9tjjz1mO3fu9GTZMHOZmpDy7XChQoXsp59+cuk3uxRM1alTx9q0aZNqqQG4z9atW61hw4ap3l98+umnFhISkuo18scff7TAwMBUzzdeM90v5fm0ZcsW++STT+zTTz91nmjl7Nmz9uWXX1qpUqWsbdu2dvbsWRs8eLDdcccdnKQji1i2bJnlyJHDnnjiCatWrZqVKFHCRo8ebX///bf9+uuv9sorr1hQUJBVqlTJatasydl+PWzFihVWpEgRq1ixogUFBbks93DhwoU0g6nL8RkuYwilbhAnTpywxo0b286dO+3o0aM2Z84cK1SokN13333OMWvXrrVFixbZ999/77IoLDxj9erVFhYW5lwwdM2aNZYzZ04LCwuz6tWrO08lanbpA3LKPuPoNs86fvy4vfrqq1axYkWrX7++FSxY0JYvX25///23nTx50jZu3GgPPPCAVa5c2UJDQy0mJoZ95kGXf0D68ccf7fPPP7cPP/zQuU9mzpxpRYsWteeffz7Vh660tgH32rBhg7377rs2ZMgQZ9vGjRutffv2VqZMGVu9erWZ/d+0B6Z+ed7lH5Avf7P+wAMPWMGCBZ3B1OXjt23bxhpSWUDKvvviiy+cbRs3brTq1avbyy+/7LKP9u7da5UqVUp14hW41+WLLBcrVsyqVKli4eHhVrRoUefC5efOnbN58+ZZsWLFrESJEhYSEpLqRDrwjMjISOvfv7/L2lEDBgywChUq2MiRIy0mJsbMLi1mfvLkSedleEbK+8GnnnrKvL29rUWLFqmOWksJpkqXLm333HOPJ8rMlgilbgATJkywunXrWocOHZzfMsbHx9vChQtTBVOX49BB90p5IUt5A/H777/b1KlTLTk52RYvXmwFChSw6dOnW3R0tBUtWtRq167tPIVoCvZZ1pASTBUtWtTlLF+XO3jwIIuaZyH9+/e3W2+91WrWrGk1atSwokWLOqfmzZw504oVK2Z9+vSxPXv2eLhSpDh58qS1bNnScufObc8884xLX0owVa5cOVuxYoWznQDYs1Ie/6+//tqKFy9uAwYMcL5hj4+Pt3bt2lnhwoVt9erVlpycbG+88Ya1bduW/21ZyKFDh8zHx8eaNWvmbBs9erSVL1/ennnmGfvhhx9s69at1qRJEwsPDye0zwJWrlxpQUFB9v7775vZpS+hHQ6H5c+f337++Wczu/T8+/PPP23u3LnOo6jgWdu3b3ceSXp5EGxmNmjQICtfvry98cYbLP+QBaT8b0v5XzVt2jSbPn263XLLLfboo4/ali1bXMZfuHDBPv74Y2vdujWvkZmEUCqLi4uLs3fffddKlCiRap2blGAq5YwpyBpSznh44cIF++uvvywuLs5at25tQ4YMcb5w3XvvvVa0aFHr06cPH7KyqJRgqkKFCi5nQfnnQpXwvGnTplmhQoVs8+bNZnZpOorD4bD58+c7x8yYMcO8vb1twoQJnioTaZg7d641btzYQkJCbO/evS59mzZtsubNm1v16tXt77//5rUyi1i5cqXlzZvXpk2bZufOnXPpi4+Pt/bt25uXl5c1atTIcuXK5XxewjP++bxJTEy0FStWWNGiRa158+bO9gkTJljTpk3N4XBYlSpVrG7duiwDkQVcuHDBBg0aZMOGDTMzs6NHj1qJEiWsc+fO1qZNGwsICLBNmzZ5uEpcyeOPP25eXl7Wr1+/VK+XgwcPtpCQEBs3bhzPMQ+6/LGPjIx0aVu8eLGVKlXKHn30UZczWH7//fdX3AYyhlAqi0nrj/rUqVP20UcfWe7cue3pp5926UtISLA5c+ZYixYteEJkAV9//bU5HA6XRXj//vtvu+OOO2zEiBFmdukN4eOPP24//PBDqqOr4F7/9u19SjBVvnx55/5D1tO/f397/fXXzezSySD8/f1t2rRpZmYuZx26fGoz3O9Kr3NLly61Ro0aWXh4eKoj2bZu3WpHjx51R3n4F8nJyZacnGx9+/a1zp07O9vMUr+WTpo0ycaOHZsqaIR7Xf6+MOV08ylWrlxphQsXdgmmYmJibNeuXbZnzx7ndVkGwvPWrFljERERFhMTY7Vq1XJ+Fli6dKk5HA5zOBzONS6R9TzxxBNWpkwZ+/DDD+3s2bMufSNGjLDffvvNQ5Xhcq+99prVrFnT6tWrZ6NGjXKe2GjJkiXOs+59+umn1rJlSytYsCCf3TKZw8xMyBKSk5Pl5eUlSfr1118VFxen4sWLKyAgQImJiZoxY4YGDhyohx9+WJMnT3ZeLykpSd7e3qm2Aff77bff1LdvX61Zs0Y//fSTKlWqpL/++kudOnVScnKybr/9dm3cuFGnTp3S5s2b5eXlxT5zIzOTw+FQdHS0AgMDJUnr169Xrly5VKVKlTSv8+eff+qDDz7Q5MmT1adPHw0YMMCNFeOf0nq+tG3bVrfeequaNGmidu3aacyYMXr22WdlZho3bpySk5Nd9tvlr5lwj5Tn3tKlS/Xll18qOjpaFSpUUO/evVWgQAEtXbpUb775ps6ePavp06erXLlyni4ZV/Dwww8rKSlJX3/9daq+HTt2OF9L+d/mWSnPOUkaPXq0Nm7cqCNHjuipp57SXXfdpQoVKmjVqlVq3769atWqpQULFqTaBvvQvVI+kjkcjjQf+zVr1ujFF1/Up59+qrJly2rLli164403VLhwYfXu3Vvly5f3RNnQ/z3fNm/erK1btypXrlwqVqyYGjRoIEl67LHHtHHjRvXv318PP/yw8ubN6+GKcflr5PTp09WvXz+9/vrrWrFihY4ePapSpUpp4sSJKlCggFasWKHBgwfr4sWLCggI0I8//qgcOXK4bAP/kafSMLi6PG0dNGiQlSlTxkJCQiwoKMhee+01O3z4sCUnJ9sHH3xghQsXth49eniwWpil/mY4ZR8eOHDA2rRpY/ny5XMeMbVt2zZr1aqVNWzY0O6//34OifegqKgoq127tn3yySe2YMECczgczsWUr+To0aM2evRovs3KQi5feHL69OlWu3Zty5kzp7333nvO9jNnzljLli1dpl/Cc+bOnWt+fn726KOPWufOnS0oKMjq16/vPMveDz/8YC1btrQKFSpwOuwsKOX/1dNPP21Vq1Z1mYqSnJxs0dHR9sILL9iaNWs8VSL+v8vfW4wYMcLy589v/fv3t44dO9qtt95qbdu2tbVr15qZ2apVq6xo0aJWp04dT5WL/y/lfeSKFSusb9++NnLkSJepeV988YU5HA7ngvSvvPKKtWnTxi5cuOCReuHq66+/tsDAQKtdu7aVKlXKihQpYq+88oqzv2PHjlapUiV79913U03lg+csW7bMBg4caF999ZWzbfLkyVanTh175JFH7K+//jIzs2PHjtmhQ4c4ivQ6IZTKYt566y0rWLCgff/997Zz504bNWqUlS9f3nr37m1RUVF24cIF++ijj8zhcNibb77p6XJvSv98EZoyZYrzDULKG4o//vjDGUylnE45Ojra4uLinGN4MfOMX3/91fr06WPFixe3nDlz2pdffmlm/z6Vj2lfWcfixYvN4XDY3LlzzezSovONGjWySpUq2dy5c+3ixYu2b98+a968udWsWZPnWhYQFRVlVapUsXHjxjnb/vzzT6tatao1aNDAOaVhzpw59uCDD9qBAwc8VClSpPyvio+Pdwk5jh07ZgULFrSHHnrIYmJinH2DBg2y2267jemWWcjhw4ftmWeesSVLljjbvvvuO2vatKk98sgjFhkZaUlJSbZ48WJr1aoVX5RlAT/88IN5e3tb69atLSgoyBo1auScjp6QkGB33323+fj4WN26dS1v3rzOM/DBs3755RcrVKiQvffee5aQkGAHDx60d9991/z8/Gzw4MHOcW3btrVatWq5LC0Az1m5cqVVrlzZgoOD7ccff3S2JyQk2OTJk61u3brWsWNHO3XqlMv1eK3MfIRSWURycrLFx8db8+bNXV68zMz+97//WWhoqM2cOdPMzE6fPm3z58/nQ7IHtG/f3rp06eJc7Pr48eNWrVo1K126tPONeMob+V27dlnJkiUtJCTEZXG8y8fAM+bMmWMOh8OCg4Odzysz/sncKC5evGg9evSw3Llz25w5c8zMbM+ePVa/fn0rX7685c+f32rVquWyUC+vl+5z+fMo5bXu5MmTVrZsWfvuu+/MzFxeQwMCAmzMmDHO6/ANsuel7LdFixbZU089ZXXr1rXJkyfb1q1bzezSkRzBwcFWuXJla9iwobVq1cry58+f6gxF8JxvvvnGHA6HhYSE2PLly1365syZY0FBQRYREWFmru9J+D/oOUePHrXevXvb1KlTzezSmRIfeeQRu+uuu5xtp06dsjfffNNGjRpl+/bt82S5uMyPP/5oFSpUcB5VY2Z2/vx5mzBhgpUqVcplza9jx455okRY6s9fZ8+etSFDhliRIkXskUcesYsXLzr7EhMTbcqUKVa2bFnniQZw/TBR3EOSk5NdLjscDiUlJencuXPOOeVxcXGSpKeeekpNmzbVhAkTlJycrPz58+u+++6Tt7e3kpKS3F77zaxNmzb6/PPPNXDgQCUmJqpIkSKaOnWqbrnlFjVs2FDHjh1zzi0uV66cwsLCdPHiRb344osu22H+sXv883mWkJAgSSpWrJi++OILde7cWSNHjtT7778vSc41vpB12D+WPTQz+fn56a233tJTTz2lDh06aM6cOSpfvry++uorff7553rnnXc0ceJErVq1Sjly5FBiYiJrSLlBynPn8nVQUl7rvL29FRsbq507d0qSfH19lZCQoCJFiqh+/fo6ePCg8zp58uRxX9FIk8Ph0Lx58/TAAw8oX758qlWrlmbNmqUhQ4Zow4YNuvvuu7V37161adNGlSpV0u23365169apevXqni4d/999992np556SlFRUdq/f7/s0hfRki6tw1ewYEEtX75ckut7EtaQ8oxNmzbpueee09q1a53PoxIlSmjUqFEqUaKEZs6cqQ8++EAFChTQSy+9pAEDBui2227zcNVIkTdvXh06dEh79uxxtuXOnfv/tXfncTXl/x/AX/e2K0qTNqWUrbGFMEJEtpStiYw129iG7JGIbCE7JVu2YRJZQphsky1CvgnZh2hBRdq7798f/e6Zey3zxXemE72fj8c81Dnn3t73njnnfM77fD7vDzp16oScnBykpqYKy01NTcUIsdyTyWRK57qcnBzo6OhgxowZGD16NO7cuYOZM2cK998qKioYNmwYAgICMHPmTLHCLjdUxQ6gvMrPz0dBQQHS0tJgaGgIXV1daGpq4vvvv8eWLVswffp0aGtro6ioCKqqqrCyskJKSsp7jQW+0Spdffv2RYUKFdC7d28UFxdjxYoVaN68ORYsWIBp06bB0dERMTExMDQ0RFFRESpWrIgDBw6gVatWYodeLkmlUty+fRvbt2/HiBEjYG5uDgBo2rQpmjZtigYNGiAvLw+BgYGQSqUYNmwYpFIpDh48iOrVq6N+/foifwImb0AsW7YMrVu3RtOmTYXE1OLFi0FE+Omnn7Bnzx64urrC0NAQtra2wuuLi4uhqsqXun+bvCjv8+fPcfbsWZw4cQJFRUVwcnJC69atYWFhgUmTJiEwMBAWFhbo168f1NTUAJQkiytWrCjyJ2CKbty4galTp2LlypUYNmwYsrOzUa1aNejr68PX1xezZ8+Gvb09/P39xQ6VQbkgOf1/4V11dXWsXbsW2dnZmDZtGqpXrw4nJydIJBJkZGSAiGBgYCBy5ExOXV0dL168wM2bN3H58mU0a9YMAGBhYYGFCxdi5syZWLlyJaRSKYYMGSJytOVXZmYmUlJSEBsbC21tbTg7O0NDQwO1atVCo0aNsGPHDhgaGqJmzZoASh6CVq1aFQUFBSJHXr4pniNXrVqF2NhYJCUloXfv3hg0aBCmTp2KwsJCHDt2DDNnzsT8+fOhrq4OVVVV9OzZEwBPkvOvE62PVjl2+PBhGjhwIBkbG5OqqirZ2dkJ081nZWVRw4YNqWHDhkINqcLCQnJ0dKSBAweKHDmTi4iIIHV1dRo3bpzQFfTSpUvk6OhIlSpVojFjxlDTpk2pefPmwrAh7hJf+goKCqhp06YkkUioZs2aNHnyZPrtt9+Utrl58yaNHz+eatasSbNmzaJZs2aRiooKPXr0SKSoGZFyF+ucnBxq3749aWtrC8OH5OszMjLI3t6evvvuOwoPDxcj1HJPfm5LSEggOzs7cnJyombNmpGtrS3p6uqSg4MD3bp1i3Jycmjs2LFkYGBAM2fOpC1bttD48eOpYsWKdOvWLZE/BVN05coVGj16NBUUFNCjR4/IysqKRo0aRXv37iUDAwPq1KkTnT59Wtieh6SLR/G737p1K/n6+tL27duVata4u7uTjo4OjR49mpYuXUouLi5Ur149rrdXxty8eZOcnJzIwcFBGJou9/DhQxoxYgS3TUR069Yt6ty5MzVq1IjU1dVJXV2drK2taevWrURUUoi+Vq1aNHz4cDpx4gQ9evSIpkyZQkZGRkLtWSauadOmkYmJCc2ZM4dCQkJIIpGQp6cnFRQU0Nu3b2nWrFnUokULGj58uFD+gZUOTkqVsk2bNgmzMWzatIn2799PXbp0IS0tLRo6dCgREd24cYOaNWsm1EWxtbWlunXrCgcHN/5Kl/z7fvd737dv33uJqeTkZJo8eTJ169aNhgwZwrPslQGLFy+mZcuW0fHjx2n27NlUuXJl6t+/P61Zs0bYL0+fPiVfX1+qWbMmNWrUiOLi4kSOmsllZWURUUmh7B9//JH09PSU6tbIZDIaOHAgVa9endq0aSNSlOWX/Bi6fv06VapUiSZPnkwPHjwQ1i9btoxsbGyocePG9PjxY8rKyqJVq1aRpaUlNWrUiFq3bv1ezT0mvoKCAmHWXw8PDxo4cKBQB8zR0ZGMjY3J3d2dZ/0qQ/z8/EhbW5ucnJxIIpFQv379hJnb5OdJiURCHh4eQjFmIp50RQzyNuPNmzfp6NGjFB0dTenp6URUcg/g5OREHTt2FCbzkON9JZ7r169TlSpVaPz48XTq1ClKT0+n8+fPU/v27UlDQ4PWrl1LRETbt28XltnY2JCFhQXX2isjLl68SDVq1BBmHo2LiyMVFRUhqUhUUgds/PjxNHz4cL7fLmWclCpFwcHBpK6uTrt371ZKUshviNXU1GjGjBlEVNLQDwoKoiVLltCqVau48SASxf2UlpZGz549U1qvmJhS3De5ubnCz7zPxHXq1CmqVKkSXb58mYhKCiv7+flRhQoVqFmzZhQSEiI8wXrz5o1SkUpW+hSPuSVLllCXLl3o3r17RFRyDPbs2ZP09PSExGFxcTH16dOHzp8/zw0IkSQmJpKGhgYtWLCAiN5P4G/cuJHMzc3p559/FhIbOTk5lJOTI8y6x8Sj2Ovw3fPfmzdvqGHDhrRq1SoiKrm2DRw4kBYvXvze9ZCVLvm5UiaTUV5eHrm7u9Mff/xBRCU9t62srKh3794UGxtLRCVFewcOHEiGhoZ09uxZYRkTx549e8jU1JSqV69OFhYWZGRkRGfOnCEiovj4eGrfvj05OzvT7t27RY6U3bhxg3R0dMjX15eI3r/GOTs7k56enlDMPDU1leLj4yk2NpZSUlJKPV5W4t3z2+nTp6lFixZERBQWFkY6OjoUFBRERCUPQOW9f3Nzcz/aIYH9ezgpVUoiIyNJIpFQZGQkEf2VqJA3Kp49e0aDBw8mS0tLYXjKu7jxUHpkMpnS9z1v3jxq0qQJWVlZUZs2bSgxMVHoBbV3717S0NCgCRMmvPfUmE9mZcPkyZOpX79+QrKwT58+VKdOHRo0aBC1bt2a1NTUaMmSJSJHyRQTUpcvX6Y5c+YIXavlQxbS0tKoT58+pKGhQd27d6eGDRuSra0tD5MVSXZ2NnXu3JmMjY3p7t27RFRy3pPJZEr7YsSIEWRkZMRJ3zIqIiKCbG1tqV69etS3b19KS0sjopJEVYcOHWjQoEF04sQJmjlzJtWuXZtSU1NFjrh8Uzy2EhIS6D//+Q+NHj1a6Qb43LlzZGVlRX369BEeyshkMurduzcZGRnR77//XupxsxKXL1+mSpUq0YYNG+jp06d048YNGjBgAOno6FBMTAwRlfTMsbOzIzc3N07eiygtLY0kEgl17dpVabnifUJ2djbVqFHjvW2YeBSPmYSEBCIiiomJIUtLS1q3bh3p6urSunXrhG2OHTtGXbt2paSkJGEZ38OVLk5KlYKCggJauHAhWVhY0LRp04Tl7yaZYmNjSSqV0qFDh0o7RPaOFy9eCD/PnDmTTExMaPPmzXT79m2ysrIie3t7OnnypJBc3L9/P0kkElqxYoVYIbO/sWfPHmrRogUVFxfT0KFDycjISLhI3b59m1auXCn8zsQ3ZcoUMjMzoxkzZpCbmxtpampSz549lWppBAYG0vDhw8nLy0s4DjlxL44dO3ZQp06dqFu3bu89VJEn769fv05aWlrCFPSs7IiNjSV9fX3y8fGhwMBAql69OjVv3lyYbn7z5s3UtGlTMjU1JSsrKx7eLDLFG6WJEyeSubk5qaurk46Ozns1E8+fP081a9YkJycnSkxMJKKSh6KdO3cmKysrHn4pkp07d1LLli2Vpp8vKCign376iapVqyYk7xMTE7kWURng4eFBVapUofDwcKV9RvRXJwMvLy+ys7PjBGIZEB0dTX369KH8/Hz65ZdfqG7dupSZmUnZ2dnUp08fUlFRoZkzZwrb5+bmkqurK7m7u/ODTRFxUqqUvHz5kpYtW0b16tWjX375RVheVFQkNDDS09OpYsWKFBYWJlaYjEq6d9ra2lJKSgr98ccfZGtrSydPniQiot9//50qVqxI1apVIwsLCzp16pRw03XmzBkeqleGOTg4kFQqJVNTU65hU4ZduHCB9PX1hWEMRCVP/LW1talXr17CUD4i5d4CfOyVPsWb499++43at29P3bp1E44vxfXr16+nOnXqKBVfZuL7z3/+QxEREcJkK0QlbZE6depQ48aN6f79+0RE9ODBA0pISOAheyJTPKbOnDlDNjY2dPjwYfr111+pUaNG1KVLF4qKilJ6zalTp8jd3V0paV9UVERPnz4ttbjLo7/rZbFmzRrS1tYWhjPL98358+epWrVqQs82Ji7FY6Z///5UqVIlCg8PF/abouHDh1OrVq24d00ZsGbNGrK3t6f69euTvr6+Urvx0KFD1KZNG7Kzs6MdO3ZQcHAwdezYUWniB05MiUMq9ux/5QERQV9fH4MHD8bgwYNx6tQpjBs3DgCgoqKC4uJiAMCVK1dQt25dNGjQQMxwy70nT57g0aNHSElJgZGREYYMGQJHR0f8/vvv8PDwwIoVK/Do0SNIpVLMmDED0dHRKC4uhoODA1RVVVFUVCT2R2AKiAgAMG3aNNSoUQNr165Fw4YNheWsbCEiaGtrw9zcHABQVFQEe3t7RERE4ODBg1i0aBHu3r0LAJBKpcJ+VFVVFS3m8koikQjff+/evTFixAi8ffsWs2bNwvXr14X1hYWFuHbtGuzt7aGuri5y1OWTfD+9efMG+fn5ws/t2rVDr169kJKSImxrYGCAmJgY5OTkwMPDA7du3UL16tVRt25dmJiYiBI/KyGRSAAAe/fuxcaNG9G7d284Ozujb9++WLt2Ld6+fYs1a9bg+PHjwmvatm2LsLAwpfamiooKqlatKspnKA9kMhkkEgnevn2Lp0+f4vfff0dcXJxwHLq4uKB69eqYM2cOXr9+LUwzX6VKFaioqKCgoEDM8Nn/Uzxmtm/fju7du2PIkCE4dOiQcB4FgIyMDLx8+RJdunQRjlEmnjFjxqBq1apISEiAvb09vvvuO2Gdi4sLpkyZggYNGmDcuHHYtWsXjIyMcPXqVeEeTirl9IgoREuHlTPyzPmrV69o6dKl7/WYys7Opq5du1L//v05y14GtGjRglxcXIioZChfQUEBOTs7k7e3NxGVFOlt164dSSQS6tWrl5ihsk+UkpJCNWrUUOqyy8T1oUKSt2/fJnV1ddq1axcR/fXEKjk5mapVq0ZSqZR69eqlNMMbE9fHekzJh/LNnDmTjI2N6datWyJFyGQyGaWkpJCZmRlt3rxZqK93/fp1+v7776lp06b0/PlzYVuikh7eRkZG5Ojo+MGeAUwcz549oy5dupCenh55enoqrTt//jw5ODhQ9+7d6cCBAyJFWL7Jr1l37twhd3d3ql+/PmlqapJEIqEePXoIPdlmzZpF9vb2NHXqVMrKyqKXL1+Sj48PWVtbC8ciKxs+1mNKPpTPx8eHatasKfQsZaVPft0qKCigt2/fUmBgIM2aNYvatGlD/fr1oydPnrz3mvT0dKX2C/e4Fxcnpf5h27ZtU+omqOhDiSkvLy8iIurevTs1aNCAuw6KTH7hCQ0Npe+//16YtebFixfUoEED2rBhAxGVnLiGDBlCjx8/5n31Fdm+fTtpa2sLM6Qw8SgeN69evVKaiW38+PFkYWFBhw8fFrbJyMigsWPH0u+//046Ojrk7u7+0XMtKx2KjbkPJaZ69+5NgwcPJi0tLa5DVEb07duXdHV16ddffxXqCd24cYOMjY2pa9euQj1FxfYKH2fi+tCDyri4OHJ3dydzc3P69ddfldZduHCBbGxsaOrUqaUVIvt/8utafHw8mZiY0KhRo2jv3r107do12rp1KxkYGFC9evUoKiqKioqKyNfXl2xtbUlNTY2aNGlCRkZGfK4sQxSPPcXE1IABA6hSpUp09OhR8vHxIS0trY9OUsX+fX93H7Z27Vpq2bLle4mpCxcuKM2Uzh1CxMdJqX9QVFQUSaVS8vb2VirIq+jdxFTDhg1JS0uLatWqJdQm4mK94pHvn+fPn5O5uTlNmjRJWNe8eXNq1KgRLV26lNq2bUsNGjQQToS8z74OT58+pbZt237wiQkrPYoX/0WLFlGHDh3Izs6OunXrRklJSfTs2TPy9PQkfX19mjNnDgUFBZGTkxM1adKEiIhu3rxJEomEBgwYwE+2SpHi+VF+vfrQeqKSyQUaNmxIenp6fJNVBiheo0aMGEEVKlRQSkzFx8eTkZERde3aVSiyzI108SnebL17zF2+fJnc3d3JwcHhvQLnCQkJ3C4pZfJ9dePGDdLS0iJfX9/3bpavXr1KlpaW1LhxY3r69CkVFhZScnIy7dy5k44ePcpFzcuIR48efbB3qOIxNWjQIJJIJFShQgW+xolI8Rhbu3Yt9evXj3r37k2LFy8Wlq9fv54cHBzIzc2NLl68SB07dqQ2bdrwNa6M4aTUPyw4OJjMzc1p6tSp9PDhww9uo5iY8vPzI3d3d6GxwTdYpSs8PJzWrl1LN27ceG/dhg0byMzMTKm3VMuWLally5bk4uIi7DPuKfV1UXwywsQ1Y8YMMjAwoJ07d9LBgwepbt26ZGZmRrm5uXTv3j1aunQpWVpaUrNmzahLly5KjcSbN2/ycLBSJL9uHThwgDp16kQbNmz44E2vYiMvMjLyo9dBVvreTUxpaWm9l5gyMzOjVq1a0atXr8QKk/0/xbbFunXrqH///uTh4UHr1q0T2ooXLlyg3r17k4ODA+3Zs+e99+DEVOl6/PgxaWtrU+/evYVlxcXFJJPJhP156dIlkkgktHDhQrHCZH/j1q1b5ODgIEy28m4bX/GYmjZtGk+cU0ZMmzaNqlSpQiNGjKCBAweShoYGubq6Unp6OhERbdy4kdq0aUOmpqbUqlUrHpJeBnFS6h+ieNIKCgoiU1PTT0pMvXnzRviZE1Klr3///mRubk6mpqbk6+tL586dE9bFx8eTlZWVMGRPLisri/cZY/+jhw8fkp2dHUVHRxMR0cGDB0lPT49Wr16ttF1mZibl5uYq1QvgGy1xHDhwgDQ0NGjFihV0+/btj27Hifqy67/1mIqLi6PatWvTn3/+KVaI7B3ymy0fHx8aMmQI2dra0ogRI4QHYxcvXiQPDw+ysbERzqdMHMnJyWRlZUUuLi7CrM1EyvVuiIh69epF3bp1o/z8fO6tUcZkZ2dTgwYNlBKL7+4jbvuXLZcvXyYzMzM6deqUsCwhIYEMDQ2V9mNycjJdu3ZNaKPwfixbOCn1D3r3qVbVqlX/NjGliC9K4rl+/TotX76cTE1NqVatWtS1a1eh5tDcuXOpatWqH5zGnPcZY59O8fyYl5dHd+/epe+++45ycnIoMjKSdHR0KCgoiIhKGoWrV68WhhHJ8TEnnvT0dGrdujUFBAQoLecEVNkkk8mE4+XdJO6HElO7du2it2/fEhEJxXuZ+LZt20a1atWiy5cvExHR3r17SV1dnapXr059+/YVkhxnz54lX19fTtiLSH4ufPjwIdna2pKTk5NSklDxXNmuXTvq0aNHqcfI3ic/Tz59+pRSU1OJqKQnduXKlWnlypVihsY+4s2bN5SVlSX8HhMTQ6ampvTs2TMiIqWepFpaWnTw4MH33oPPlWUPz3n4P5LJZMLPilNIjho1CtOnT8fOnTsRFBSER48e/e378BSipU++7xo2bAgvLy9cunQJfn5+SEtLg7u7OxwcHCCVSlGhQgXs37//vdfzPmPs08nPj/7+/li7di20tLRgb2+PhQsXwsPDA4GBgRg5ciQA4P79+zh58iRu3bql9B58zImnuLgYjx49gqWlpdJy+X6VT5tN/z/lOROXRCKBRCLBoUOHEBERoTTFvOI05+vXr8egQYPw008/4ciRIwAADQ0NUWJm78vPz0f37t1hZ2eHAwcOYNiwYQgICMDIkSNx5MgRjB49GgUFBWjdujXmzp2rtG9Z6ZJKpSguLoalpSUiIiLw4sULLFq0CKdOnVJa/+zZM1SoUAGurq4A+JwpNolEgsuXL6N27drw9vbGuXPn8P3332PChAn4/fffcf36dbFDZArCw8PRr18/2NnZYezYsYiNjUX16tXx6tUrxMTEAABUVVVBRLCyskLVqlWRlZX13vuoqKiUdujsv+Ck1P9AJpMJDfLw8HAsW7YMa9aswb179wAAY8aMERJTwcHBePz4sZjhsncoJhFlMhnMzMzQt29fxMbGYsGCBahZsyZmz56Ne/fu4caNGyJGytjXTd7oDg8PR1BQEBwdHWFkZARNTU3MmzcPo0ePxogRIwAAOTk58Pb2RkFBAVq0aCFm2OXauzdKr1+/hqqqqnDDW1RUJKy7du0aNm7ciKKiIk4clgHyfXfjxg10794db9++haqqqtI2ismLdevWYfz48ahXr16px8r+8qHkxLBhwzBu3Dikp6djzpw58Pb2hpeXFzw8PFCxYkWEhYVhzpw5Sq/nmy3xyI8rS0tL7Nu3D+np6Vi4cCFOnjwprF+zZg0ePXoEJycnAPywRUzyY6a4uBiGhoa4ffs2unfvjnXr1qF+/fpISUnB2bNnhW2YuNavX4/BgwejWrVqcHBwQGhoKLy9vfHq1SsMGjQIy5YtQ1RUFICS40pbWxuampp8jH0lJMQp+i9CRML/5NOmTUNoaCiaNWuGGzduoG7duhg0aBD69OkDAFi7di0WL14MZ2dnzJ49G8bGxmKGXm4p7rOPUUw0AsCFCxcQExODCRMmvNeoZ4z9vUuXLqF58+YAShJSd+7cgbq6OqZMmQKgpBdAq1atkJeXBwcHBxgbGyM6OhqvXr1CXFwc1NTU3jsm2b9Pfq78448/8ODBAwwaNAgA0K9fP5w5cwYxMTFKPaamTZuG+/fvY/PmzahUqZJIUTNFV65cwYsXL3Dx4kX4+fl9dLvi4mJOYpQBiue5jIwMSKVS6OrqCuvPnTuHn376CVFRUbCxsUFiYiLmzJkDd3d39OrVi8+RIvi7NqX8uHr48CF69eqFKlWqwN/fH0eOHEFgYCDOnTuHhg0blnLE7F2vX79GpUqVhIdheXl58PT0xPjx4+Hk5ITIyEg8efIE58+fh42Njdjhlmvbtm2Dp6cnDh8+jM6dOwMAIiMj0a1bNxw4cADm5uZYuHAh4uPj0a9fP5iamuK3335Damoqrl69yte5r4EIQwa/KatWrSJzc3NhvP+WLVtIIpGQg4MD7dixQ9guICCAunfvzjVRRHLt2jVhNiFvb2/au3fvZ78HF8Rj7NMFBweTRCKhGzdu0Nu3b0lbW5skEgmNHDlSabvc3FyaNGkSdezYkVxcXGjChAnCscbHXOmTX6P27t1LRkZG9PPPP1NiYiIRET1//pwcHBzI0NCQgoODKTg4mMaOHUsVK1ak+Ph4McNmCl6/fk01a9YkiURCAwYMEDsc9jf27t2rVDvP19eXWrZsSZaWlrRmzRqlGje1atWiKVOm0M2bN6lz587k4eHx0bph7N8n/+7PnDkjzNSmSL5P5JN66OnpkY6ODl25cqVU42QfFh8fT99//z2FhYURUUndRCMjIwoNDaWXL1/S6tWrqVu3biSRSMjDw4OPMZHIZDJ6+vQpaWpqkpOTk3BOLC4uptzcXLK2thbqkV65coXmzJkjzLDXs2dPoe4e77+yj5NSn0kxqZSdnU0TJ06kNWvWEFFJ40JPT4/8/PyoefPmVL9+ffr111/fey0npkpPcXExPXz4kCQSCfn4+NDIkSOpYsWKlJCQIHZojH2zgoODSVVVlSIiIoRlL1++pPr165OVlRXFxsa+dx4sLi5WKgTLDQjxnDp1irS1tWnTpk3vrcvPz6fRo0eTra0t1alThzp27MgJqTJGJpPRxYsXqVWrVlS7dm168eIFEXFR+rImMjKSJBIJLViwgPLy8igoKIiMjY1p+fLl5OXlRWpqauTl5UVPnjyh/Px8mj17NlWvXp2qVq1KP/zwg3CzxW3K0qX4fZ88eZIkEgkdOHBA2B+K5NexBw8ekJOTE924caPU4mQfJj8PxsXF0bhx40hdXZ2GDx9OV65coZiYGHJ2dqa4uDgiKmm3jBw5Ungww8QTGhpKlpaW9Msvv9CdO3eIiOi3334jFRUVunr1qtK22dnZSrM28wPOrwMP3/tCd+/eRc2aNZGQkABDQ0O8fPkS3bt3x+jRo+Hl5YWoqCi4u7ujRo0amD9/PpydnYWxyzy2tfQdPnwYvXr1goqKCqKiouDg4CB2SIx9k0JDQzFs2DAcPHgQzs7OwvLMzEwAJRMLmJubY/369ahbty6ATxtay/4d69atg7GxMXr16gUqeVCF2bNn4/nz59i4cSMyMzNx7do1bNu2Dfn5+Zg4cSLs7OyQlpYGTU1NSKVS6OjoiP0xyjXF40dxON61a9fQu3dvVKlSBadPn4a6ujoPhy1j1q9fj1GjRmH58uV49eoVGjdujO7duwMAfvvtN4wYMQKDBg3CnDlzoK2tjefPnyM5ORk//PADpFIpioqKuLSASJ48eYITJ04gJSUFM2bM+Oh1TH5M8lBZccn3z9u3b6GtrS3sj2PHjmH58uV48+YNjIyMYGRkhBo1amDSpElih8ygfH3bvn07pk+fDk9PTxgbG8Pb2xtr167FwIEDhf357nHI7cuvB1/JvkB4eDhCQkKwf/9+1KpVC+rq6jhy5AgqV66MAQMGAADevHmD9u3bo06dOsLYVz4oSpe88U1EqFixIgAgLy8PJ06cgI2NDapUqQJA+YTFJy/GvtylS5cwZMgQjB8/Xikh5ebmBgsLCyxbtgxXrlxB48aNMWrUKAQFBaFu3bp8zInkxYsX+P3337FkyRIAf83YVlRUhH379mHIkCEIDAxEdnY21NXVkZycjEGDBuHatWswNDQUOXoG/HXNio6OxuHDh5GUlIQePXrghx9+QKNGjbBnzx64ubnB0dERp06d4sRUGXH16lX8+eef6NKlCzZv3owhQ4agQoUK2LBhg7CNvC7pzz//DKlUCi8vL1haWsLCwgJASbKDE1LiSE5OhoWFBbS0tDB9+nQAH2/jyxNRnJASj/w8GRUVhZCQEGRmZkJDQwPLly9Hp06dUKdOHZw9exYBAQHCbNsuLi6oXbu2uIEzSCQSYf8NGDAAMpkM3t7eSEtLw5w5czBw4EAAf01e9e5xyO3Lrwe3Sr6ARCLB2bNnkZSUBHV1dQAlM0bl5ubiP//5D7Kzs7Fjxw788MMPWLRoEaRSKWQymchRlz/yE1RSUhIcHByQn5+P8PBwzJ8/H0uXLkV6ejoA5RMWn7wY+3J2dnbo0KEDzp8/LzTs+vbti4SEBIwfPx4AUKVKFVy9ehVPnjyBm5sbHj58KGLE5ZO8166BgQF27twJa2trxMbGYteuXQCAkSNHokWLFujcuTO0tLQwceJEHDp0CKGhoZBKpUhLSxMzfKZAIpEgIiICLi4uSE1NhZqaGubOnYvp06fj2LFjsLW1RXh4ODIyMtCoUSMUFhZyQkpkO3fuxNChQ7Fx40YEBwdj8ODB2LhxI3JycnDx4kVkZGQI2/bp0wcbNmzAqlWrcODAAaX34SRH6ZOfO6tWrYpNmzaBiHDr1i28fftW5MjY35FIJDh48CB69eoFW1tb/Pzzz8jPz0fTpk1x//59WFhYYMCAAbh06RI8PT1hZmbGx1cZIk9MAcCgQYOwevVqVKlSBRkZGcKM93z/9g0ozbGCXyP52GOZTKZUj6FPnz7Uo0cPys7OJiKi27dvk62tLVlZWZG5uTk1aNCAx/uXAXv27CFra2sKDQ2lvLw8IiLasWMHSSQSmj59OqWkpBBRyf48fPiwmKEy9lWT184oLCykrl27UpMmTah58+ZUt25dev78ubCdfGx/SkoK9ejRg2tHlTL5dSwtLU2Y/OH169fUsWNHat68udIkEPK6DXKTJk0ie3t7ysrKKr2A2d969uwZ2dra0qpVq4Rlp0+fph49epCrq6uwDy9evEhNmjShhw8fihQpIyLaunUraWlp0a5duygjI0Np3Zo1a0gikdDChQspMzNTaV10dDTXRRGRvB2veE9ARLRhwwaSSqU0Z84crtlWhr1584bat29PixYtIiKiJ0+eUPXq1WnEiBEf3F5+bWRli+L99NatW8nMzIwmTJhAt27dEjEq9k/hpNQnkic05EJCQsjW1paePHkiLEtKSqKwsDAKDQ3l2aPKiMzMTOratSu1atWKQkNDKT8/n4hKElNqamrk6upKdnZ2VLNmzQ8WqWSMfTrFxJSbmxupqqoKE0EQ0UeLTnJiqnTdvXuXqlevTj///DOlpaURUcnsXi4uLuTo6Ei7du1S2j4mJoZ++eUXqly5Ml2/fl2MkNlHpKamkoWFBf32229Ky0+fPk3Gxsa0e/duYdm77RhWuhISEqhu3bq0YcMGpeWK58OVK1cKiakPJX+5TVn65Net6OhomjhxInl4eFBAQIDwsCUkJISkUin5+/tzYqqMkHcYkO+P9PR0ql69OiUlJVF6ejpVrVpVKSG1bds2ev36tSixsr98yvGjmJjavn07qaio0IoVK/7NsFgp4T7cn2Dr1q2oWrUqtmzZguvXrwMAhg8fjsLCQsyaNUvYrmbNmnB3d8egQYOgqqrK4/1L2YeGSOrq6uLXX3+Fvr4+goODsWvXLhQUFKBfv37Yu3cvqlWrhlatWiExMRFqamooKioSIXLGvg3yYq6qqqr47bff0LlzZ2zatAlhYWHIz88XumC/e17kbvKlRyaTYfv27Xj06BHu3bsHf39/PH/+HN9//z2WLFkCDQ0NbNy4EWFhYQCAhw8fIjIyEnFxcThz5gwaNmwo8idgivLz86Guro5Xr14BAAoLCwEAbdq0gY2NDaKiooRhDxoaGqLFyUrqEOXk5MDBwUHYJwCgqqoKmUwGIsK4ceOwbt06zJgxA4sWLXpvWBi3KUuffIisq6sriAgGBgbYv38/HB0d8ebNGwwfPhwhISGYN28efHx8uFyHyNLS0mBpaYmwsDChrqyBgQHq16+PXbt2oUmTJnB1dcWaNWsAAOnp6YiIiMCRI0dEjrx8U6x1eOvWLZw/fx7p6enIyckBAKXJwuQ/9+/fH5GRkRg7dqw4QbN/lnj5sLJLnoWVyWQkk8koLi6OvLy8qGnTplSrVi2aMmUK3blzh3bv3k1du3blKV7LmB07dlBkZKTSsqysLHJ1daV69erRjh07hB5T8n+J+AkkY5/j3WHJik+43h3K16hRIwoLC+OeGmXEtWvXSE9Pj5ycnKhTp040fvx44an/rVu3qHPnztS+fXvat28fEZUMEUtPTxczZPY3vL29SVtbmy5evKi0vGPHjjR37lyRomLvWrBgARkYGAi/f6i0w82bN+nRo0e0du1asre35/IPZUBycjLZ2toKvX6fPHlChoaGNHr0aKXtVq1aRd999x2fK0WWnp5OQ4YMIXV1ddq/fz8RERUUFNCECROoUqVK1LlzZ6Xtvb29qW7duvTnn3+KES4j5XPh9OnTycbGhkxNTcnOzo6GDx9Ojx8//tvXEHGP+2+BhEjhcQ1TytQWFBQIhcwBICEhAQkJCZgzZw5MTEzw5MkTvHr1CsuXLxeq/zNxZWdnw9bWFiYmJpg9ezacnJyEdQUFBcKse4MGDcKIESO4hwZj/6PLly+jadOm7y2XT89bVFQENzc3XLlyBdu3b0e7du1EiLL8ondmF5XJZFBRUcGsWbOQk5ODChUq4MiRI2jdujWmTZsGY2Nj3L59G1OmTMGzZ88we/ZsdOvWTeRPUb6RwhPid5dLJBIUFhbC09MT+/btg7+/PypVqoSkpCRs2LABFy9eRJ06dcQIm71jz549GDRoEPbv34+OHTt+cJupU6ciMzMTISEhwv4lnhVYVImJiXB1dcW1a9eQlZUFe3t7ODs7Y/369QCAo0ePonXr1tDR0UFmZib09PTEDZghLS0N8+fPx+rVq7F371707NkTGRkZ6Nu3L9LT09GqVSvUqlULcXFx2LdvH06fPg1bW1uxwy73li1bhoCAAOzevRuOjo4YNGgQjhw5gv3796Nly5Zih8f+ZTx8T4FiQmrVqlXo27cvevXqhQkTJgAA6tWrBw8PD8TExGDq1Kmwt7dHbm4uFixYgEePHokYefn1bjdpHR0dnD59GgUFBZg/fz5OnDghNOjV1dVha2uLhw8f4ubNmzwDEWP/o5MnT2Ls2LG4dOnSe+sUh/Lt3bsXP/30E9q0aSNClOWXTCaDRCLBq1evkJaWBolEIpz3LCwshGvZgAEDEBMTg4CAAKSkpKBOnTpYtGgRrKyseLieSOTXtry8PEgkEkgkEty/fx/Z2dnCNvJEhZqaGrZt24YpU6Zgx44dWL58OS5duoTTp09zQqoMadKkCdTV1RESEoI///xTWC5vo7x+/RoPHjxA3bp1ldZxQqp0yfdHamoqAKBSpUqwsrLCxYsX0apVKzg7O2Pt2rUAgDt37iAiIgIJCQkAwAkpkbx9+xavX78Wfjc0NIS3tzfGjBkDNzc37N27F5UrV8bOnTvRrl07xMfHIzQ0FPn5+YiJieGElMiICHl5eTh9+jRmzZoFR0dHHDlyBBEREZg/fz5atmyJ/Px8nuXyWydK/6wyztvbmwwMDMjb25uGDh1K5ubm1KRJE2GmNkURERHUpEkTio6OJiKeaa80KQ69u3//Pr18+VLYR3/++SfZ2dlR27ZtKSoqStgvw4YNozNnzrw3gwpj7L97twjl7du3qX79+uTt7U1EHz6euKi5uJKSksja2prq1q1LBw4coNu3bwvrHB0daerUqURE5O/vT82bN6dJkyZRcnIyERFP/iCyP//8k/r27UuPHj2iAwcOkI6OjtL++5C0tDR6/fo1z5BYRu3atYs0NDTop59+oqtXrwrLk5OTqUuXLtSyZUsuJVAGxMbGkouLC2VkZFBubi41a9aMJBIJDR48WGm7yZMnU9OmTT94f8BKR1JSEtna2lKrVq1o69atdOzYMWFdXl4ejRkzhiQSCYWFhRFRSZukuLiY8vLy+FgT0bvtxfz8fHJycqJr167R8ePHSUdHh4KDg4V1GzZsoFOnTokQKSstPHzvHYmJiXBxcUFQUBA6deoEAHjw4AHc3NygpaWF8+fPA/hraAoAdOzYEfr6+ti9e7docZcnK1asgKurK6ytrQEAM2bMQHh4OAoLC1G5cmX4+vqiZ8+eSE5ORp8+fVBQUIDKlSsjLy8PL1++xI0bNyCVSpV6xjHGPt3169dhaWkJPT09REZGokePHkIhWFZ2yGQy+Pr6YuXKlahYsSJMTExQo0YNGBgYICAgAHv27EFMTAyCg4Ohrq6O+fPnY9u2bXBzc4O/vz+kUin30hDRoUOHsHTpUuTl5SE+Ph5btmxB3759P9h7hnio11ehuLgYW7ZswejRo2FkZIR69epBJpMhKysLMpkM586dg5qamlIbk5W+a9euoUmTJti2bRv69++P1NRU2Nvbw8zMDGPHjoWmpiZOnDiBrVu34o8//kCDBg3EDrlckl/jFi5cCE1NTVhbWyMnJwf6+vpo1qwZhgwZAgA4ePAg/P39cfToUXTq1InPk2XIkydPYG5uDgBwdnbGgwcP8Pz5c6xYsQKenp4AgGfPnqF///7o168fhg4dKma47F/Ed+TvyMzMRFZWFmxsbACUNPSsrKwQGhqKx48fC4knFRUVoXu9mZkZtLS0eOa2UnD8+HGsX78efn5+SE1NxaFDh7BhwwYsWrQIvr6+aNGiBX788UcEBQWhatWqCA8Ph6urK0xNTVG3bl1cv36dE1KM/Q82bNiAxo0b4+eff8a9e/fg4uKCyZMnY/Xq1UhKShI7PKZAKpVi7NixGDZsGH744Qc0atQII0aMwOXLl9G/f3/8+uuvCA0Nxc6dOwEAPj4+GD58uFBvjxvt4nJ1dUWHDh1w+fJl2NjYoHHjxh/dVr6veJ+VbSoqKhg2bBhiY2PRs2dPyGQymJubY8CAAbhw4YIwCzAnpEqf/Bl9cXExGjVqhBkzZmDTpk14/PgxjIyMcPz4cRQVFcHX1xdTpkzBrVu3cPbsWU5IiUgqleKXX37B+PHj4eTkhA4dOuD48eNwdXVFUlISnJ2d0b9/f1y5cgWGhobo0qULzp49y+fJMuLXX3/FgAEDEB0dDQBYuXIlNDQ0YGlpCU9PT+Tl5SEjIwPDhg1DYWEhBg8eLG7A7F/Fc8u+w8bGBlpaWti3bx+8vLyEE5c88ZSZmSlsK5FIEB8fj7179+LMmTM8VW8p6NixIyZOnIjt27dj2rRp0NbWho+PD3r16gUA8PT0RLVq1TBmzBjY2Nigbdu2mDlzptIFqKioiPcVY59InsCVP1m0sbFBzZo1kZCQgJYtW2LRokUwMTGBhoYGzp07h1q1avFT/jLExMQEU6dOxYIFC3Dt2jXcu3cPly9fxpEjR3Dy5EmcPHkSFStWFLafPHmyiNEyQLmOUNWqVeHj44O4uDhMmjQJfn5+sLOz4wcrXzlbW1usWrXqveXyOnys9OXk5EBbW1s4rlq0aIGwsDD8+eefsLCwgLW1Nc6cOYO0tDSoqKhAW1sbOjo6IkfNjI2NMWXKFCxYsAAxMTGoWbMmZs2aBQC4dOkSnj17hpCQEBgaGiItLQ0GBgYiR8zkdHR0QERYu3YtVFVV0aZNG/j6+mLUqFGoXbs29PX1IZFIkJeXh0uXLgm1Srl9+W0q98P3FBt2RITc3FxMmjQJSUlJGDFiBPr06QMAyM3NRevWrTFq1Kj3ug6+fPkS3333XanHXt4o7qvg4GCEh4fj+vXr8PHxwYQJE4Sea4WFhXBzc4OZmRnWrl0LIuJGHmP/o7y8PGhqaiIjIwO+vr6oVasW9PX1ERkZCS0tLezfvx/W1tY4fvw49PX1xQ6XveP58+dYsGABLly4gP79+8PLywtAyfB0KysrcYNjAnlCKjo6Gvfv38fQoUOhoqKCvXv3Ijg4GBoaGpg7d67QayouLg516tSBtra2yJGzz8VDiMqOK1euYPTo0fDy8kLnzp2Fa9iPP/6IBw8eIDY2ltuRZZz8Gnfp0iX06NEDM2bMENYVFhYKw2QNDQ1FjLJ8IiIQ0QcfpBw7dgwBAQHQ0dHB9OnT0aJFC6SkpAjXO2NjYwwcOFCYzZmPw29XuXzMFh0djXnz5gGAMJQLKOn5VKFCBYwbNw66urpYsmQJhg8fjuDgYHTt2hUFBQVKXQflr+MbsNKhuK9GjhyJn376Cfr6+tiyZQsePHgg1D/R0NCAnp4eXrx4ARUVFT6BMfY/2rVrF4yNjXHs2DFUrFgRw4cPh7+/P8zNzREcHIxOnTrB1NQUV69exdKlS8UOl32AiYkJfHx80KJFC+zatQsLFiwAAFhZWaG4uFjk6BjwV5Ji79696NOnD65evYo7d+4AANzc3DBy5EgUFBRg5syZOH78OObOnYsOHTogNzdX5MjZl+CElPjkbcpXr16hadOmGDlyJAYPHoy5c+cCAKZMmQJ9fX1EREQA+GuIHyt75Ne45s2b4+DBg1i0aJGwTn5vwAkpcchnkAWAw4cP49q1a8K6Tp06YerUqcjOzsa8efNw/vx5GBsbw8/PD9OnT4enp6fSbM7s21Xuekrl5+dj3LhxuHDhAgYMGIApU6YAeH+Iyr1797B//37s2LEDurq6MDExwfbt27kApUgUnygq9pgKDQ1FcHAwzMzMsHz5cpibmyM/Px/t27dH3bp1sX79ejHDZuyr9G7R5Pv372PRokWIioqCs7Mzxo8fj/v378PPzw9hYWGwtrbGs2fPEBwcjFmzZnHDoQxLSUnB/Pnzce3aNbRv3x5z5swROySm4Pz58+jcuTNWrVr1wfoZJ06cwIoVKxAfHw8NDQ3s3r0bTZs2Lf1AGfuKya9tb9++hba2ttCuv3jxIiIjI7F161aYmZmhY8eOCA8Ph4ODA4KCgsQOm30CvsaVHV5eXsjOzsbGjRsBlEwg4ObmBgcHB0yePBn16tUTtj1y5Ah++ukntGrVCr/88osw2RgrP8pdUgooqeK/ePFiXLx4ET179sS0adMAlCQ7FLO5isUmFZfxDVfpmDNnDpo3b47OnTsD+HhiasOGDVizZg1SU1NhZ2eHihUrIiEhAVevXoWamhp3kWfsMygeWwUFBVBXVxfW7dy5E0eOHMGpU6fg4uKCrKws2NvbY9SoUUrb8XmybEtJScH06dPx9OlT7N69m4eflyGrV6/GmTNnEB4ejszMTMTExGDbtm3IysrC0KFD0bt3byQnJ+Ply5cwMDCAqamp2CEz9lWRtwmjoqIQEhKCzMxMaGhoYPny5ahTpw6ICK9fv8aMGTPw4sUL7NmzByoqKkhPT4euri63J78CfI0TX3Z2NgICArB//3506tRJ6EW/adMmhISEoG7duvDy8lKaKMDe3h5Pnz7FgAEDMH/+fLFCZyIpl0kp4K9M+uXLl99LTEmlUqSmpmLixIlwcXFB3759AfD4/9KUlpYGW1tb1K9fH97e3nB0dATw8cTUtm3bsGzZMqH7Z+/evSGVSvnmmLHPoHhMrVq1CmfOnAERwcLCAsuXLwcAPH36FDExMfDy8kJaWhoqV66MxMREGBkZiRk6+0ypqakAwPutDFC8ri1btgyTJ0/GwYMHsWbNGkilUlSqVAnZ2dm4desWLly4wENQGPsfHTx4EB4eHvD29kbt2rWxfv16XLlyBdevX4elpaVwHXz+/DmOHj2KZs2aKfXqYGUfX+PE9/LlS2zevBlbt25F+/btsXLlSgDAli1bsGbNGtja2sLLywv169fHq1evMG3aNDg6OsLDw4Mn8iiHym1SClBOTPXo0QPe3t4ASi5C7u7uSEtLQ2JiIic1Spm8gf7o0SP06tULhoaGmDJlCtq3b6+0HlC+iV6+fDmePn2KJUuWCPWn+KTG2OebPn06Nm7ciGHDhiE9PR3Hjx9HlSpVcPToUeGG+OnTp/Dz88OTJ09w5MgRHtLM2Gd6d5isnIeHB2JiYtChQwd4enrCwcEBycnJ6NChA8LDw/H999+LGDVjX5d3j6/s7Gz06NEDHTp0wLRp0/D06VM4ODigQ4cOSiUf+EE0Y19Ofvy8fPkSGzduxPbt2+Hk5IQVK1YAKElMhYSEQFNTE82bN0dcXBzy8vJw9uxZSCQSvocrh8p1UgpQTky5ublhyJAhcHd3R2pqKq5fv841pESg+H1fuXIFffv2Fbp5tm3bFsDHE1Py5XwyY+zLJCYmwsXFBUFBQcKY/gcPHsDNzQ2ampq4cOGCsG1OTg60tLQgkUj4PMnYZ5Bfq06dOoWIiAgUFxfDzMwM06dPBwAkJyejatWqwvbe3t44fvw4Tpw4wUNRGPsE79aNkrcLX7x4gWbNmuHYsWOoXLkybG1t0bVrVyEhtX37dvTo0QMVK1YU+RMw9vX50MOW9PR0bN68+b3EVGRkJCIjI4UeivLazZwQLp/K/V27sbExfHx80KxZM+zduxfW1tZISUkRElKKdaVY6ZB/31OmTEFwcDCkUimOHDmCGTNm4PTp0wAgnPAACAXqFZdzQoqxL5OZmYmsrCzY2NgAKGlgWFlZITQ0FH/++Sd2794NoCQZXKFCBeGY4/MkY59OIpEgIiICzs7OePnyJe7fv481a9bAzs4OqampqFq1KogIx44dw9ixYxESEoLNmzdzQoqxTySRSJCWlgZLS0uEhYUJbUUDAwPUr18fu3btQpMmTeDq6oo1a9YAKLl5joiIwJEjR0SOnrGvj7w2M1Ayo2Vubi5ycnJQpUoVDB48GAMGDMDvv/8OLy8vAICLiwtWrlyJM2fOYNeuXcJ9Nyekyie+c0dJYmrGjBmoXbs27O3tER8fLxwYPHRPHEFBQdi4cSNGjhyJw4cPIzY2FikpKfDz88OZM2cAKCemFE9gfDJj7MvZ2NhAS0sL+/btA/DX8WRmZgYtLS1kZmYCgFLil485xj5PamoqZs6cCX9/f+zcuROHDx/GqVOnIJPJ0K1bNwAlCeJr167h1q1bOHv2LGxtbcUNmrGvjFQqRbdu3TBgwAAcOHAAEokEhYWFsLa2RmBgIL7//nsEBQVBTU0NQElNt6SkJNjb24scOWNfF8UOAYsXL4a7uztat26N0aNH4+HDhzAyMhISU9HR0Zg0aRIAQENDAxoaGsI9Hd93l1+85/+fsbExVqxYAV1dXS6QXQbcvHkTbdu2hZ2dndCNMzo6Gq1atYKvry/mzJkDR0dHvhlm7H/07vBXDQ0NuLq64tChQzAxMUGfPn0AABUqVICenp7QeGeMfbmcnBy8efMGLVu2BFDSQ7hWrVrYuXMnnJycEBQUhFGjRmHEiBEYOXIk9PT0xA2Ysa/Au8N+DAwMsHDhQujo6KBnz57Yu3cvevbsCV9fXyQmJiItLQ3jx49HrVq1EBcXh3379uH06dMwNzcX8VMw9nV59eoV9PX1AQAzZszAxo0bERAQAJlMhpCQEHTr1g0RERGoUaMGBg8eDKlUiiVLlsDS0hK//PKL8D58T1e+cU8pBZUrVxYKZHNCShzFxcUASqaif/v2rbA8Ly8P1atXx4IFC3Dp0iX4+voiLi5OrDAZ+6pFR0dj3rx5ACCc84CSBkGFChUwbtw46OrqYsmSJRg+fDiCg4PRtWtXFBQUYPDgwSJGzti3wcTERHjYoqh69eowNzfH06dPAQD6+vqckGLsE8iHDr19+xavX78WlhsaGsLb2xtjxoyBm5sb9u7di8qVK2Pnzp1o164d4uPjERoaivz8fMTExHCPRMY+Q0REBCZMmAAAOHDgACIjI3Hw4EF4enrCyMgIiYmJyM/PR4cOHXD//n0YGRmhX79+WL58OUaPHi1y9Kws4czLB3A9otLzbkFyeV2aH3/8EZ07d8bmzZsxZMgQaGpqAijZN87OztDV1UWjRo1EiZmxr1l+fj7CwsJw4cIFaGhoYMqUKUqzVRIRbGxssHjxYuzfvx87duxAUlISTExMcOzYMaioqHBRc8b+i3evbe/2SFRTU8OPP/6I48ePo1atWujduzcAQFNTE999953QI5ELvjL2aaRSKe7evYvevXtDR0cHw4cPh7GxMTp27AgTExMsXboURAR3d3f89ttvcHd3x8KFCyGVSlFYWAgVFRV+IM3YZ8rIyMD27dvh4+ODatWqoVOnTvjhhx9w5MgReHp6IiAgAA0aNECvXr3QvXt3hIeHo06dOujXrx8AcHuSCcr97HtMPIqN9PDwcDx8+BC5ublwd3eHjY0NZs+ejUWLFiEwMBBubm6QSCQYNmwYnJychCJ5PMseY5/v2bNnWLx4MS5evIiePXti2rRpAP560iy/CVac6EFxGTfcGfvv/vzzT+zfvx/jxo0D8P716vbt25g+fTrS0tLQpk0btGrVClFRUdi2bRtiY2NRq1YtsUJn7Ksjk8ng6+uLhQsXQlNTE9bW1sjJyYG+vj6aNWuGIUOGAAAOHjwIf39/HD16FJ06deLEL2P/g/T0dPTs2RMtW7ZEQEAAUlJSoK+vD2dnZ7Rq1Qp+fn7Iy8tD+/btcfPmTTg6OiIiIoKPO/YeTkox0U2ZMgV79+6FjY0NNDU1hZlPmjRpgq1bt2LWrFkwNDSETCaDnp4e4uLieMpQxv5HKSkpmD9/Pi5fvvxeYkoqlSI1NRUTJ06Ei4sL+vbtC4B7bTD2qYqLi+Hj44OIiAgMGzYMU6ZMAQClHokSiQRJSUnYtm0bdu/eDVVVVejp6SE4OJiHEDH2BVJSUhAQEID79++jRo0aGDNmDHbu3Ik//vgDN27cgL6+PqysrBAXF4e0tDScPn0aDg4OYofN2Fdt8uTJCAsLw+3bt1GhQgU8fPgQrVq1wvr16+Hi4oL09HSMHTsWI0aMgKOjI3cmYB/ESSkmqrCwMIwfPx6HDh2CnZ0dDh06hO7du2P37t3CcIZbt27h7t27kMlkcHV1hYqKCvfWYOwfoJiY6tGjB7y9vQEAz58/h7u7O9LS0pCYmMjHGmNfIDk5GUuWLPmvPRJlMhmKi4uRl5cHAKhYsaJoMTP2tXv27BkWLFiA2NhYeHp6YtSoUQCAS5cu4dmzZwgJCUFycjISEhKQkJCA77//XuSIGfs6ye/FsrKy0KhRI3h4eGDBggXIzc2Fq6sr8vLy4OXlhaCgIMhkMkRHRyuVi2BMESelmKgCAwNx7949BAUFITw8HJ6enggMDMSIESOQlZWFnJwcmJiYKL2Gxx8z9s9RTEy5ublhyJAhcHd3R2pqKq5fvw41NTU+5hj7Qv+tR2JBQQEWLVoEExMTDB8+XORoGfs2PH/+XJgYp0ePHpgxY4awrrCwEDKZDFlZWTA0NBQxSsa+LgcPHkReXh46deoEXV1dACXXsoKCAkyYMAFJSUk4fPgwNDQ0cOjQIaxcuRJPnz6FpaUlIiMjoaamxgkp9lGclGKl5kMnotmzZyMxMRH9+vXDwIEDERAQIDzV2rRpE+Lj4xEQEAAtLS0xQmasXEhJSRGeLN++fRumpqaIj4+Hmpoa90pk7H/0sR6Jubm5mDx5MjZs2ID4+HjY2NiIHClj346PHXd8TWPs87148QKjRo3C3r170a5dO9jb22PGjBmQSqVQV1dHXFwcmjdvjg0bNsDT0xNAyUzqaWlpqFq1KiQSCR977G9xqpKVCsWEVGxsLJ4/fw4AaNmyJR4+fIi+ffti7ty5QkLqzZs3iIiIgIqKCiekGPuXGRsbY8aMGahduzbs7e05IcXYP8jY2Bg+Pj5o2rQp9u/fj4CAAMhkMvj4+GDr1q24ePEiJ6QY+4cpHneRkZGYPXs2APA1jbEvYGBggD179uDixYuoXbs2Nm7cCFtbW0ydOhW3bt1CkyZNMHbsWEREROD58+cgIqirq8PMzAwSiQQymYyPPfa3uKcU+9cpJqRmzpyJiIgILFy4EM7OzpBKpRgzZgwOHz4MLy8vdO/eHa9evcKsWbOQkpKCy5cvQ1VVlQssM1YKMjIyoKurC6lUygkpxv5h8p4bV69exevXr3H//n3ExMSgcePGYofG2DcrJSUF06dPx9OnT7F792589913YofE2FdFfg8m/7egoADZ2dmYO3cuLl++jCtXrsDLywsPHjxAYmIidu3ahQYNGogdNvvKcFKKlZpZs2YhJCQE27dvR9OmTaGnpwegpEbU6NGjcenSJfznP/9B06ZNoaOjg6NHj3I9G8ZEwGP+Gft3pKSkYMaMGYiJicGePXvQsGFDsUNi7JuXmpoKADAyMhI5Esa+foodBbKysrBjxw4cOHAAjx8/xt27dzFhwgQEBgaKHCX72nBSipWKBw8eoFu3bpg3bx569OiBV69e4dmzZzhy5AiaNWuGtm3bIiMjA9evX4eFhQUsLS25twZjjLFvTnp6OmQyGd8gM8YY+yq9O4Ll6dOnSE5OxtatW7Fq1Sq+d2OfjZNSrFQkJSXB1dUVgYGB0NTURFhYGC5fvoxXr16hYsWKmDJlCgYNGqT0Gu6twRhjjDHGGGOl43Puvz5WXqWwsBBqamr/dGjsG8Z3/OwfJ5PJ3ltWq1YtmJmZYdy4cejSpQsqVKiAhQsXIiEhAdra2khLS3vvNZyQYowxxhhjjLF/X1FRkXD/lZiYiOTkZGRkZAjr3+3L8rF6v5yQYp+L+9axf5Ridv348eMoKCgAALi4uCA6OhonT56Ejo4OmjVrJrxGQ0ODa0YxxhhjjDHGWClbsGAB2rZtC3t7ewCAt7c39uzZg+zsbHTu3BlDhgxBmzZtlAqeM/ZP4uF77B+jeJKaOHEitmzZAn19fSQnJ6Nt27ZYuHAhGjVqBAB48+YNXrx4gTFjxuDZs2e4cuUKjz9mjDHGGGOMsVJy6dIljBw5Eubm5pg3bx4yMzPRv39/bNy4EYmJiTh16hRevHiB2bNno2PHjgA+PmyPsS/FSSn2j1A8Od27dw/du3fHtm3bYGpqiqysLPTs2RNGRkZYu3Yt6tati40bN2LdunXQ09PDsWPHeJY9xhhjjDHGGCtlERERCAoKQqVKlVCtWjVUq1YNXl5eAICzZ89i9erVePr0KebOnYsOHTqIGyz7JnFSiv2jAgMDcenSJWhpaWHLli0ASmpDpaamomnTpmjXrh1CQ0Mhk8kQERGBHj16QEVFhWfZY4wxxhhjjLFSonj/FRYWhi1btuDKlSsYP348Zs6cKWx39uxZrFmzBs+ePcO0adPg6uoqVsjsG8WVpNk/Jjs7G8+fP0dUVBTu3bsHqVQKqVSKvLw8GBkZITAwEFFRUXj06BGkUinc3NygoqKC4uJiTkgxxhhjjDHGWCkgIqX7r969e2P48OGwtrbG7t27cfnyZWGdg4MDxo0bBw0NDURGRooRLvvGcVKKfTF5Jzv5vzo6Ovjll18wadIkXLhwAatXrwYAaGpqAijpMaWnp4cKFSoovQ8P2WOMMcYYY4yxf59i2ZUtW7Zg8uTJAIBevXph6tSpMDY2hr+/P+Li4oTXtGrVCsuWLUNQUJAoMbNvG3dPYV9EcZa9nJwcqKqqQkNDAxYWFhgyZAjy8/MxYcIE5Ofno1evXlBRUcGGDRtgYmICAwMDkaNnjDHGGGOMsfJF8R7u/PnziI6OxoEDB2BsbIzJkyejV69eKC4uRkhICPz8/ODn54cmTZoAABo2bPjeezD2T+CaUuyzKZ6IVqxYgaNHj0Imk6FmzZpYt24dACA5ORlr167F4sWLUaFCBQwePBh37tzBgQMHoKmpySczxhhjjDHGGBPB1KlTERsbiypVqiA2NhaFhYUYMWIE/Pz8AAB79uzBpk2b8Pr1a2zevBl16tQRN2D2TeOeUuyzyZNJ06dPR2hoKMaPHw89PT34+vri2bNnCA8PR9WqVTF69Ghoampi5cqVMDMzw6pVqwAA+fn50NDQEPMjMMYYY4wxxli5oDjLeXh4OEJCQnD06FE0a9YMycnJWLlyJXbt2gWpVIpZs2bB3d0dubm5uHr1KmrVqiVy9Oxbx11V2Bc5ePAgDh48iH379sHb2xumpqbIzc3FiRMn4OjoiKKiIpiZmWHQoEEYPXo05s2bh02bNgEAJ6QYY4wxxhhj7F82dOhQ5OXlKdXwvX//PqysrPDDDz9ARUUF1apVw7hx42Bvb4/ly5djyZIlAICBAwciMDAQUqkUMplMrI/AygFOSrEvUlBQgH79+qFFixY4cuQIPD09sXjxYkRGRuLSpUtwd3dHYWEhLCwsMHr0aEyYMAHDhw9HaGio2KEzxhhjjDHG2Dft6tWryMnJeW9SKQsLC+Tl5eHmzZtKyzw9PVFYWIj169dj4cKFAEompCIiLrvC/lX8fxf7Ij/++CP69++PN2/ewN/fHxMmTMDo0aNRp04dWFlZ4cCBAxgzZgwAwMTEBCNGjIC/vz9atGghcuSMMcYYY4wx9m2ztbXFzp07oaamhk2bNiE7OxsAULNmTeTm5mLz5s1ITk4WttfW1kaXLl3Qq1cvHD58GElJSQAgzNTH2L+FC52zT6JYmFxxGtE7d+6gc+fO2LdvHxo1aoSUlBRMnToV48aNQ6NGjZQy84pjmRljjDHGGGOM/fMePXoES0tL4ed27dqhUqVKOHfuHLS1tbFz506MHDkS/fv3h5OTE+rUqYPJkyfD2toaw4YNQ+PGjbFv3z706NFD1M/BygfuKcU+Kjo6GvPmzQMApbHEitlyIyMjFBYWYuHChTh79iwGDBiAZ8+eoXHjxlBRUUFxcbGwLSekGGOMMcYYY+zfc/PmTVhZWWHLli0AADMzM2zYsAEaGhpwcHBAdnY2+vXrh02bNiExMREjR46Eq6sr0tLSEBgYiFq1aqFBgwbQ1dUV+ZOw8oJ7SrEPys/Px7hx43DhwgUMGDAAU6ZMAfDhHlP79++Hl5cX1NTUYGJigujoaKipqSltyxhjjDHGGGPs35WdnQ1/f3+sWLEC69evx+DBg1FUVISzZ89i6tSpICKcOXMGOjo6SE5ORk5ODt6+fYuGDRtCIpFg6tSpCA8PR0xMDExNTcX+OKwc4KQU+6hnz55h8eLFuHjxInr27Ilp06YBwHvJpry8PBQUFODVq1eoVq0apFIpioqKoKqqKlbojDHGGGOMMVYuZWVlYdWqVZg9ezZ27dqFPn36KCWmAODMmTPQ1tYWXnPhwgUEBgYiJiYGUVFRsLW1FSl6Vt5wNxb2UaampvD29kbTpk0RERGBgIAAAMpD+VJSUjBs2DAcO3YMlpaWwjpOSDHGGGOMMcZY6SkqKoJMJoOuri58fX1RrVo19O3bF9u2bYOqqiocHBywePFiqKiooG7dusjLyxNeK5+w6uTJk5yQYqWKe0qx/yolJQXz58/H5cuX0aNHD3h7ewMAnj9/Dnd3d6SlpSExMZETUYwxxhhjjDFWiqKjo3HhwgXMnDlTabm7uzuSkpLQunVrrFu3Dlu2bMGgQYNQVFSEEydOIDw8HCEhIUp1fxUntGKstHAWgf1XxsbG8PHxwfz587F//36oqKhgyJAh6NevHzIyMnDz5k2oqqry7HqMMcYYY4wxVkry8/MRFhaGCxcuQE1NTSi34ubmhqSkJBw+fBgmJiaoXLkyhg4dColEgoEDB6Jjx47o0qULAOUZ0jkhxcTAPaXYJ0tJScGCBQsQGxuL27dvw9TUFPHx8VBTU+MaUowxxhhjjDFWyuR1gC9dugQPDw+cO3cOd+7cwb59+2BtbQ0AePv2LRYvXgx/f38cPnxYSEgxVhZwUop9lpSUFEybNg3p6ek4cOAAJ6QYY4wxxhhjTETPnz/HggULcPjwYWRlZeHGjRuoWrWq0n1adnY2du/ejcGDB/O9GytTOCnFPltGRgZ0dXV5lj3GGGOMMcYYKwNSU1OxYMECnDt3Dh4eHpg8eTIAfLDECt/DsbKEk1Lsi8lkMkilPIEjY4wxxhhjjIlNcYKqnj17CjWm+L6NlWWclGKMMcYYY4wxxr4B8jrAcXFxcHR0xLx588QOibG/xelSxhhjjDHGGGPsG2BsbIwZM2bA2toaaWlp4D4orKzjnlKMMcYYY4wxxtg35NWrV9DT04NUKgURQSKRiB0SYx/ESSnGGGOMMcYYY+wbxPWkWFnHSSnGGGOMMcYYY4wxVuo4ZcoYY4wxxhhjjDHGSh0npRhjjDHGGGOMMcZYqeOkFGOMMcYYY4wxxhgrdZyUYowxxhhjjDHGGGOljpNSjDHGGGOMMcYYY6zUcVKKMcYYY4wxxhhjjJU6TkoxxhhjjDHGGGOMsVLHSSnGGGOMfRNCQ0MhkUiE/zQ1NWFqaopOnTph1apVePPmjdgh/s8OHTqENm3awNDQEBUqVICVlRV69+6NqKgosUMrdefPn4efnx8yMzPFDoUxxhhjX4iTUowxxhj7psydOxfbt29HUFAQfvnlFwCAl5cX6tevjxs3bogc3ZdbunQpunXrBolEgunTp2P58uVwc3PD3bt3sXv3brHDK3Xnz5/HnDlzOCnFGGOMfcVUxQ6AMcYYY+yf1KVLF9jZ2Qm/T58+HSdPnoSLiwu6deuGW7duQUtLS8QIP4yIkJeX98HYioqK4O/vjw4dOuD48ePvrU9LSyuNEBljjDHG/lHcU4oxxhhj37x27drB19cXjx8/xo4dO5TWnTx5Eq1bt4a2tjb09PTQvXt33Lp1S2kbPz8/SCQS3Lt3D4MHD4aenh50dXXh6emJnJwcpW3lCSRra2toaGjA0tISM2bMQH5+vtJ2lpaWcHFxwbFjx2BnZwctLS2sX7/+g/G/ePECr1+/RsuWLT+43tDQUOn3/Px8zJ49GzVq1ICGhgbMzc0xderU92LIzc3FuHHjYGBggIoVK6Jbt25ITk6GRCKBn5/fe58/KSkJ/fv3h66uLqpUqQJfX18QEZ48eYLu3bujUqVKMDY2RmBg4HsxfmpMEokEY8eOxf79+1GvXj1oaGigbt26SkMU/fz8MGXKFABA9erVhSGbjx49+uD3wxhjjLGyiZNSjDHGGCsXBgwYAABKPY1+//13dOrUCWlpafDz88PEiRNx/vx5tGzZ8oMJjt69e+PNmzdYuHAhevfujdDQUMyZM0dpm2HDhmHWrFlo3Lgxli9fjjZt2mDhwoXw8PB47/3u3LmDvn37okOHDli5ciVsbW0/GLuhoSG0tLRw6NAhvHr16m8/p0wmQ7du3bB06VK4urpi9erV6NGjB5YvX44+ffoobTt48GCsXr0azs7OCAgIgJaWFrp27frR9+7Tpw9kMhkWLVqE5s2bY968eVixYgU6dOiAqlWrIiAgADVq1MDkyZNx9uzZL4oJAGJiYjB69Gh4eHhg8eLFyMvLg5ubG16+fAkA6NWrF/r27QsAWL58ObZv347t27ejSpUqf/vdMMYYY6yMIcYYY4yxb8CWLVsIAF2+fPmj2+jq6lKjRo2E321tbcnQ0JBevnwpLIuPjyepVEoDBw4Uls2ePZsA0JAhQ5Ter2fPnvTdd98Jv1+/fp0A0LBhw5S2mzx5MgGgkydPCsssLCwIAEVFRX3S55s1axYBIG1tberSpQvNnz+f4uLi3ttu+/btJJVK6Y8//lBaHhwcTADo3LlzREQUFxdHAMjLy0tpu8GDBxMAmj179nuff8SIEcKyoqIiMjMzI4lEQosWLRKWZ2RkkJaWFg0aNOizYyIiAkDq6up07949YVl8fDwBoNWrVwvLlixZQgDo4cOHf/OtMcYYY6ws455SjDHGGCs3dHR0hFn4nj9/juvXr2Pw4MHQ19cXtmnQoAE6dOiAI0eOvPf6kSNHKv3eunVrvHz5Eq9fvwYA4TUTJ05U2m7SpEkAgMOHDystr169Ojp16vRJsc+ZMwe//vorGjVqhGPHjsHHxwdNmjRB48aNlYYb7tmzBzY2NqhTpw5evHgh/NeuXTsAwKlTpwBAGA43evRopb8jLw7/IcOGDRN+VlFRgZ2dHYgIQ4cOFZbr6emhdu3aePDgwWfHJOfk5ARra2vh9wYNGqBSpUpK78kYY4yxrx8XOmeMMcZYuZGdnS3UX3r8+DEAoHbt2u9tZ2Njg2PHjuHt27fQ1tYWllerVk1pu8qVKwMAMjIyUKlSJTx+/BhSqRQ1atRQ2s7Y2Bh6enrC35SrXr36Z8Xft29f9O3bF69fv8alS5cQGhqKX3/9Fa6urkhISICmpibu3r2LW7dufXQom7woujzWd2N4N3ZF735+XV1daGpqwsDA4L3l8qF2AD45po/9HaDku87IyPhobIwxxhj7+nBSijHGGGPlwtOnT5GVlfW3SZf/RkVF5YPLiUjpd4lE8knv96WzAFaqVAkdOnRAhw4doKamhq1bt+LSpUto06YNZDIZ6tevj2XLln3wtebm5l/0N4EPf/5P+U4+N6ZP/Z4ZY4wx9nXjpBRjjDHGyoXt27cDgDBczsLCAkBJsfF33b59GwYGBkq9pD6FhYUFZDIZ7t69CxsbG2F5amoqMjMzhb/5T7Kzs8PWrVvx/PlzAIC1tTXi4+PRvn37v02OyWN9+PAhatasKSy/d+/ePx7jp8b0Of6p92GMMcaYeLimFGOMMca+eSdPnoS/vz+qV6+Ofv36AQBMTExga2uLrVu3IjMzU9g2ISEBx48fh7Oz82f/HflrVqxYobRc3kPo72a2+zs5OTm4cOHCB9cdPXoUwF/DEHv37o3k5GRs2LDhvW1zc3Px9u1bAH8l59atW6e0zerVq78oxr/zqTF9DnnCUHHfMcYYY+zrwj2lGGOMMfZNOXr0KG7fvo2ioiKkpqbi5MmTOHHiBCwsLHDw4EFoamoK2y5ZsgRdunRBixYtMHToUOTm5mL16tXQ1dWFn5/fZ//thg0bYtCgQQgJCUFmZibatGmD2NhYbN26FT169ICjo+MXfaacnBzY29vjhx9+QOfOnWFubo7MzEzs378ff/zxB3r06IFGjRoBAAYMGICwsDCMHDkSp06dQsuWLVFcXIzbt28jLCwMx44dg52dHZo0aQI3NzesWLECL1++xA8//IAzZ84gKSkJwD/bE+lTY/ocTZo0AQD4+PjAw8MDampqcHV1/ezebYwxxhgTDyelGGOMMfZNmTVrFgBAXV0d+vr6qF+/PlasWAFPT09UrFhRaVsnJydERUVh9uzZmDVrFtTU1NCmTRsEBAR8dhFyuY0bN8LKygqhoaGIiIiAsbExpk+fjtmzZ3/xZ9LT08OGDRtw+PBhbNmyBSkpKVBRUUHt2rWxZMkSjBs3TthWKpVi//79WL58ObZt24aIiAhUqFABVlZWGD9+PGrVqiVsu23bNhgbG2PXrl2IiIiAk5MTfvvtN9SuXVspefe/+pyYPlXTpk3h7++P4OBgREVFCUMROSnFGGOMfT0kxBUjGWOMMcbY/7t+/ToaNWqEHTt2CEMdGWOMMcb+DVxTijHGGGOsnMrNzX1v2YoVKyCVSuHg4CBCRIwxxhgrT3j4HmOMMcZYObV48WLExcXB0dERqqqqOHr0KI4ePYoRI0bA3Nxc7PAYY4wx9o3j4XuMMcYYY+XUiRMnMGfOHCQmJiI7OxvVqlXDgAED4OPjA1VVfnbJGGOMsX8XJ6UYY4wxxhhjjDHGWKnjmlKMMcYYY4wxxhhjrNRxUooxxhhjjDHGGGOMlTpOSjHGGGOMMcYYY4yxUsdJKcYYY4wxxhhjjDFW6jgpxRhjjDHGGGOMMcZKHSelGGOMMcYYY4wxxlip46QUY4wxxhhjjDHGGCt1nJRijDHGGGOMMcYYY6WOk1KMMcYYY4wxxhhjrNT9H9/D2HycGDnXAAAAAElFTkSuQmCC\n"
          },
          "metadata": {}
        }
      ]
    },
    {
      "cell_type": "markdown",
      "source": [
        "**How are the different categories of donors engaged?**"
      ],
      "metadata": {
        "id": "nlgGgKU_NCul"
      },
      "id": "nlgGgKU_NCul"
    },
    {
      "cell_type": "code",
      "source": [
        "engagements_outcomes = engagement_history.merge(donor_full_summary[['DonorID', 'Segment']], on='DonorID', how='left')\n",
        "\n",
        "# Create a countplot showing outcomes across segments\n",
        "plt.figure(figsize=(12, 6))\n",
        "sns.countplot(data=engagements_outcomes, x='EngagementOutcome', hue='Segment', palette='husl')\n",
        "plt.title('Engagement Outcomes by Donor Segment')\n",
        "plt.xlabel('Engagement Outcome')\n",
        "plt.ylabel('Number of Engagements')\n",
        "plt.xticks(rotation=0)\n",
        "plt.legend(title='Segment', bbox_to_anchor=(1.05, 1), loc='upper left')\n",
        "plt.tight_layout()\n",
        "plt.show()"
      ],
      "metadata": {
        "colab": {
          "base_uri": "https://localhost:8080/",
          "height": 316
        },
        "id": "ik4so3zWOg3K",
        "outputId": "1257fd88-c56c-491c-b1f5-3a201eeeacc9"
      },
      "id": "ik4so3zWOg3K",
      "execution_count": 170,
      "outputs": [
        {
          "output_type": "display_data",
          "data": {
            "text/plain": [
              "<Figure size 1200x600 with 1 Axes>"
            ],
            "image/png": "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\n"
          },
          "metadata": {}
        }
      ]
    },
    {
      "cell_type": "markdown",
      "source": [
        "## Modeling"
      ],
      "metadata": {
        "id": "N8HwRW1lOu24"
      },
      "id": "N8HwRW1lOu24"
    },
    {
      "cell_type": "markdown",
      "source": [
        "## Model Evaluation"
      ],
      "metadata": {
        "id": "t9nLEjsZOwpf"
      },
      "id": "t9nLEjsZOwpf"
    },
    {
      "cell_type": "markdown",
      "source": [
        "## Recommendations"
      ],
      "metadata": {
        "id": "-UfIayCKUKzq"
      },
      "id": "-UfIayCKUKzq"
    },
    {
      "cell_type": "markdown",
      "source": [
        "## Contact information"
      ],
      "metadata": {
        "id": "9eO42qsOt47b"
      },
      "id": "9eO42qsOt47b"
    },
    {
      "cell_type": "markdown",
      "source": [
        "Bellow: The Contact Information Of the Two Data scientist in charge of the project."
      ],
      "metadata": {
        "id": "8ZbkcWTuulf6"
      },
      "id": "8ZbkcWTuulf6"
    },
    {
      "cell_type": "markdown",
      "source": [
        "- First Name: Haender Michael\n",
        "\n",
        "- Last Name: Jean Louis\n",
        "\n",
        "- Email: michaelhaenderjeanlouis@gmail.com\n",
        "\n",
        "- Phone Number: +509 41 75 0264\n",
        "\n",
        "- LinkedIn: https://www.linkedin.com/in/michael-haender-jean-louis-4b7320316?utm_source=share&utm_campaign=share_via&utm_content=profile&utm_medium=ios_app\n"
      ],
      "metadata": {
        "id": "KhRLz8kMt1fp"
      },
      "id": "KhRLz8kMt1fp"
    },
    {
      "cell_type": "markdown",
      "source": [
        "- First Name:\n",
        "- Last Name :\n",
        "- Enail\n",
        "- Phone Number:\n",
        "- LinkedIn\n"
      ],
      "metadata": {
        "id": "EeRTdqUTt66w"
      },
      "id": "EeRTdqUTt66w"
    },
    {
      "cell_type": "markdown",
      "source": [
        "For further inquiries, feedback, or collaboration on this analysis, feel free to reach out."
      ],
      "metadata": {
        "id": "GX46csIwufn0"
      },
      "id": "GX46csIwufn0"
    }
  ],
  "metadata": {
    "kernelspec": {
      "display_name": "Python [conda env:base] *",
      "language": "python",
      "name": "conda-base-py"
    },
    "language_info": {
      "codemirror_mode": {
        "name": "ipython",
        "version": 3
      },
      "file_extension": ".py",
      "mimetype": "text/x-python",
      "name": "python",
      "nbconvert_exporter": "python",
      "pygments_lexer": "ipython3",
      "version": "3.12.7"
    },
    "colab": {
      "provenance": []
    }
  },
  "nbformat": 4,
  "nbformat_minor": 5
}
>>>>>>> ca0131f75a0e5a028bc4129cc77505ffe85d9ccb
